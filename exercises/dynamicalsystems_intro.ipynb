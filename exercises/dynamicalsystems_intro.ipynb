{
 "cells": [
  {
   "cell_type": "markdown",
   "metadata": {},
   "source": [
    "# Exercises - DynamicalSystems.jl intro"
   ]
  },
  {
   "cell_type": "markdown",
   "metadata": {},
   "source": [
    "## Plot a chaotic attractor\n",
    "\n",
    "Consider the Roessler continuous time dynamical system:\n",
    "$$\n",
    "\\begin{aligned}\n",
    "\\dot{x} &= -y-z \\\\\n",
    "\\dot{y} &= x+ay \\\\\n",
    "\\dot{z} &= b + z(x-c)\n",
    "\\end{aligned}\n",
    "$$\n",
    "\n",
    "\n",
    "and consider two initial conditions _set_ to:\n",
    "\n",
    "```julia\n",
    "u0s = [\n",
    "    [-1.25, -0.72, -0.1], \n",
    "    [0.72, 1.28, 0.21]\n",
    "]\n",
    "```\n",
    "\n",
    "Use the `interactive_trajectory_timeseries` GUI app to explore this dynamical system with these two initial conditions.\n",
    "\n",
    "Allow the system parameters to range from $a \\in (0, 1), b \\in (0, 1), c \\in (0, 10)$.\n",
    "Define a `parameter_sliders` dictionary with these ranges to enable changing parameters in the GUI app.\n",
    "\n",
    "Explore various combinations of parameters, until you find a combination where the system is _multistable_: each of the two initial conditions goes to a different attractor.\n",
    "\n",
    "_Hint: reset the time-evolution after you change parameters by clicking the \"reset\" button, to ensure that the system state starts from the provided initial conditions._"
   ]
  },
  {
   "cell_type": "markdown",
   "metadata": {},
   "source": [
    "## Chaotic and not chaotic parametric regimes\n",
    "\n",
    "Continue from the above exercise with the Roessler system and estimate its **Maximum Lyapunov Exponent (MLE)** using the function `lyapunov`. Keep $b = 0.2$ and vary the parameters $a \\in (0.1, 0.3), c \\in (1, 10)$ to produce a heatmap of the MLE versus these two parameters.\n",
    "\n",
    "Then, identify parameter values where the Roessler system is chaotic, i.e., it has positive Lyapunov exponent. What is the fraction of parameters that yield positive Lyapunov exponents?\n",
    "\n",
    "_Hint: use the keyword `Ttr` in `lyapunov` to evolve the system for a transient amount of time before initializing the estimation of the Lyapunov exponent._"
   ]
  },
  {
   "cell_type": "markdown",
   "metadata": {},
   "source": [
    "## Ikeda map fractal dimension"
   ]
  },
  {
   "cell_type": "markdown",
   "metadata": {},
   "source": [
    "Define and simulate the discrete time Ikeda map:\n",
    "$$\n",
    "\\begin{aligned}\n",
    "t &= c - \\frac{d}{1 + x_n^2 + y_n^2} \\\\\n",
    "x_{n+1} &= a + b(x_n \\cos(t) - y_n\\sin(t)) \\\\\n",
    "y_{n+1} &= b(x_n\\sin(t) + y_n \\cos(t))\n",
    "\\end{aligned}\n",
    "$$\n",
    "with initial condition `u = ones(2)` and parameters `p = [6, 0.9, 3.1, 6] = a, b, c, d`. For these initial parameters the system generates an absolutely stunning attractor that has two seemingly separated components!\n",
    "\n",
    "Simulate the attractor by evolving a trajectory of the system, which will give you a state space set `A`. Scatter plot the two columns of `A`. Then calculate its fractal dimension using the `grassberger_proccacia_dim` function. This function provides an _automated_ algorithm to estimate a fractal dimension. In a realistic application scenario, you should not use the automated function and instead examine careful the steps the automated function does. But for now we use the automated stuff!\n",
    "\n",
    "Then process the state space set `A` containing the attractor so that you can generate two new state space sets: one with all points with x coordinate less than 2.5, and one with x more than 2.5. Compute the fractal dimension for the two subsets. Is any set more \"fractal\" than the other (i.e., it has higher fractal dimension)?"
   ]
  },
  {
   "cell_type": "markdown",
   "metadata": {},
   "source": [
    "## Poincare map of a tristable system\n",
    "\n",
    "The construct `PoincareMap` can turn any continuous time dynamical system into a discrete time version: its so called _Poincare mapping_. Consider the \"Thomas cyclical\" continuous time system:\n",
    "\n",
    "$$\n",
    "\\begin{aligned}\n",
    "\\dot{x} &= \\sin(y) - bx \\\\\n",
    "\\dot{y} &= \\sin(z) - by \\\\\n",
    "\\dot{z} &= \\sin(x) - bz\n",
    "\\end{aligned}\n",
    "$$\n",
    "with parameter $b= 0.17$ initially, and use `rand(3)` for the initial conditions.\n",
    "\n",
    "Transform it into a Poincare map by using as hyperplane the one that \"cuts\" the x-y plane when the z axis is 0: `pmap = PoincareMap(thomas, (3, 0.0))`. This `pmap` is functionaly identical to a discrete time dynamical system such as the Ikeda map of the previous exercise. Obtain a trajectory of it and confirm that the trajectory converges either to a fixed point or a periodic orbit.\n",
    "\n",
    "Then, evolve many random initial conditions (via `rand(3)`), and scatter plot their Poincare map. Confirm that all initial conditions go to one of three possible attractors.\n",
    "\n",
    "Repeat the above by changing the $b$ parameter via `set_parmaeter!`. Produce three pictures at three parameters: $b=0.16, 0.17, 0.18$."
   ]
  }
 ],
 "metadata": {
  "kernelspec": {
   "display_name": "Julia 1.10.4",
   "language": "julia",
   "name": "julia-1.10"
  },
  "language_info": {
   "file_extension": ".jl",
   "mimetype": "application/julia",
   "name": "julia",
   "version": "1.10.4"
  }
 },
 "nbformat": 4,
 "nbformat_minor": 2
}
