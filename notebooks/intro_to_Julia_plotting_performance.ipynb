{
 "cells": [
  {
   "cell_type": "markdown",
   "metadata": {},
   "source": [
    "This lecture is using exactly the same material as the first block of the [\"Julia Zero2Hero\" workshop](https://www.youtube.com/watch?v=Fi7Pf2NveH0). The notebook can be found online here:\n",
    "\n",
    "https://github.com/Datseris/Zero2Hero-JuliaWorkshop/blob/main/1-JuliaIntro.ipynb \n",
    "\n",
    "The solutions to the exercises of the first notebook are available in the same GitHub repo:\n",
    "\n",
    "https://github.com/Datseris/Zero2Hero-JuliaWorkshop/blob/main/solutions_1.jl "
   ]
  }
 ],
 "metadata": {
  "kernelspec": {
   "display_name": "Julia 1.9.1",
   "language": "julia",
   "name": "julia-1.9"
  },
  "language_info": {
   "file_extension": ".jl",
   "mimetype": "application/julia",
   "name": "julia",
   "version": "1.9.1"
  }
 },
 "nbformat": 4,
 "nbformat_minor": 2
}
