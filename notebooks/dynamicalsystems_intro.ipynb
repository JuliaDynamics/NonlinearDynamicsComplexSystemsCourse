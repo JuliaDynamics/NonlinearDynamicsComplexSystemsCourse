{
 "cells": [
  {
   "attachments": {},
   "cell_type": "markdown",
   "metadata": {},
   "source": [
    "# Introduction: DynamicalSystems.jl"
   ]
  },
  {
   "attachments": {},
   "cell_type": "markdown",
   "metadata": {},
   "source": [
    "This notebook serves as an introduction to the DynamicalSystems.jl software library for nonlinear dynamics and nonlinear timeseries analysis. In short, this notebook:\n",
    "\n",
    "- describes the library\n",
    "- provides an overview of its contents\n",
    "- gives a short tutorial on how to use it within circa 20 minutes\n",
    "- shows how to use an interactive GUI window that allows evolving a dynamical system and changing some of its parameters during the live evolution"
   ]
  },
  {
   "attachments": {},
   "cell_type": "markdown",
   "metadata": {},
   "source": [
    "**Versions:** Please ensure you have the following packages installed, with these versions or newer:"
   ]
  },
  {
   "cell_type": "code",
   "execution_count": 1,
   "metadata": {},
   "outputs": [
    {
     "name": "stderr",
     "output_type": "stream",
     "text": [
      "\u001b[32m\u001b[1m  Activating\u001b[22m\u001b[39m project at `c:\\Users\\gd419\\OneDrive - University of Exeter\\Teaching\\NonlinearDynamicsComplexSystemsCourses`\n"
     ]
    },
    {
     "name": "stdout",
     "output_type": "stream",
     "text": [
      "\u001b[32m\u001b[1mStatus\u001b[22m\u001b[39m `C:\\Users\\gd419\\OneDrive - University of Exeter\\Teaching\\NonlinearDynamicsComplexSystemsCourses\\Manifest.toml`\n",
      "  \u001b[90m[13f3f980] \u001b[39mCairoMakie v0.10.11\n",
      "  \u001b[90m[61744808] \u001b[39mDynamicalSystems v3.2.3\n",
      "  \u001b[90m[e9467ef8] \u001b[39mGLMakie v0.8.11\n",
      "  \u001b[90m[1dea7af3] \u001b[39mOrdinaryDiffEq v6.58.0\n"
     ]
    }
   ],
   "source": [
    "import Pkg\n",
    "Pkg.activate(dirname(@__DIR__))\n",
    "Pkg.status([\"DynamicalSystems\", \"CairoMakie\", \"GLMakie\", \"OrdinaryDiffEq\", \"BenchmarkTools\"]; mode = Pkg.PKGMODE_MANIFEST)"
   ]
  },
  {
   "cell_type": "code",
   "execution_count": 2,
   "metadata": {},
   "outputs": [
    {
     "data": {
      "text/plain": [
       "v\"1.9.1\""
      ]
     },
     "metadata": {},
     "output_type": "display_data"
    }
   ],
   "source": [
    "VERSION # the Julia version"
   ]
  },
  {
   "attachments": {},
   "cell_type": "markdown",
   "metadata": {},
   "source": [
    "Quick theme change for plotting in zoomed-in Jupyter notebooks:"
   ]
  },
  {
   "cell_type": "code",
   "execution_count": 3,
   "metadata": {},
   "outputs": [],
   "source": [
    "using CairoMakie\n",
    "update_theme!(resolution = (500, 300), fontsize = 16)"
   ]
  },
  {
   "attachments": {},
   "cell_type": "markdown",
   "metadata": {},
   "source": [
    "# DynamicalSystems.jl overarching tutorial"
   ]
  },
  {
   "cell_type": "code",
   "execution_count": 3,
   "metadata": {},
   "outputs": [
    {
     "data": {
      "text/latex": [
       "\\begin{figure}\n",
       "\\centering\n",
       "\\includegraphics{https://i.imgur.com/nFQFdB0.gif}\n",
       "\\caption{DynamicalSystems.jl logo: The Double Pendulum}\n",
       "\\end{figure}\n",
       "\n",
       "\n",
       "\\href{https://juliadynamics.github.io/DynamicalSystemsDocs.jl/dynamicalsystems/dev/}{\\begin{figure}\n",
       "\\centering\n",
       "\\includegraphics{https://img.shields.io/badge/docs-online-blue.svg}\n",
       "\\caption{}\n",
       "\\end{figure}\n",
       "} \\href{https://github.com/JuliaDynamics/DynamicalSystems.jl/actions}{\\begin{figure}\n",
       "\\centering\n",
       "\\includegraphics{https://github.com/juliadynamics/DynamicalSystems.jl/workflows/CI/badge.svg}\n",
       "\\caption{DocBuild}\n",
       "\\end{figure}\n",
       "} \\href{https://doi.org/10.21105/joss.00598}{\\begin{figure}\n",
       "\\centering\n",
       "\\includegraphics{http://joss.theoj.org/papers/10.21105/joss.00598/status.svg}\n",
       "\\caption{DOI}\n",
       "\\end{figure}\n",
       "} \\href{https://link.springer.com/book/10.1007/978-3-030-91032-7}{\\begin{figure}\n",
       "\\centering\n",
       "\\includegraphics{https://img.shields.io/badge/Textbook-10.1007%2F978--3--030--91032--7-purple}\n",
       "\\caption{Textbook}\n",
       "\\end{figure}\n",
       "} \\href{https://pkgs.genieframework.com?packages=DynamicalSystems}{\\begin{figure}\n",
       "\\centering\n",
       "\\includegraphics{https://shields.io/endpoint?url=https://pkgs.genieframework.com/api/v1/badge/DynamicalSystems}\n",
       "\\caption{Package Downloads}\n",
       "\\end{figure}\n",
       "}\n",
       "\n",
       "\\textbf{DynamicalSystems.jl} is an \\href{https://dsweb.siam.org/The-Magazine/Article/winners-of-the-dsweb-2018-software-contest}{award-winning} Julia software library for nonlinear dynamics and nonlinear timeseries analysis.\n",
       "\n",
       "To install \\textbf{DynamicalSystems.jl}, run \\texttt{import Pkg; Pkg.add(\"DynamicalSystems\")}. To learn how to use it and see its contents visit the documentation, which you can either find \\href{https://juliadynamics.github.io/DynamicalSystems.jl/dev/}{online} or build locally by running the \\texttt{docs/make.jl} file.\n",
       "\n",
       "\\textbf{DynamicalSystems.jl} is part of \\href{https://juliadynamics.github.io/JuliaDynamics/}{JuliaDynamics}, an organization dedicated to creating high quality scientific software.\n",
       "\n",
       "\\subsection{Highlights}\n",
       "Aspects of \\textbf{DynamicalSystems.jl} that make it stand out among other codebases for nonlinear dynamics or nonlinear timeseries analysis are:\n",
       "\n",
       "\\begin{itemize}\n",
       "\\item \\textbf{Exceptional documentation}. All implemented algorithms provide a high-level scientific description of their functionality in their documentation string as well as references to scientific papers. The documentation features hundreds of tutorials and examples ranging from introductory to expert usage.\n",
       "\n",
       "\n",
       "\\item \\textbf{Accessible source code}. One of the main priorities of the library is that the source code of (almost) all implementations is small, simple, easy to understand and modify. This increases confidence, reduces bugs, and allows users to become developers without unnecessary effort.\n",
       "\n",
       "\n",
       "\\item \\textbf{Open source community project}. Built from the ground up entirely on GitHub, \\textbf{DynamicalSystems.jl} is 100\\% open source and built by community contributions. Anyone can be a developer of the library. Everyone is welcomed.\n",
       "\n",
       "\n",
       "\\item \\textbf{Extensive content}. It aims to cover the entire field of nonlinear dynamics. It has functionality for complexity measures, delay embeddings, stability and bifurcation analysis, chaos, surrogate testing, recurrence quantification analysis, and much more. Furthermore, all algorithms are \"general\" and work for any dynamical system applicable. Missing functionality that falls under nonlinear dynamics is welcomed to be part of the library!\n",
       "\n",
       "\n",
       "\\item \\textbf{Well tested}. All implemented functionality is extensively tested. Each time any change in the code base is done, the extensive test suite is run and checked before merging the change in.\n",
       "\n",
       "\n",
       "\\item \\textbf{Extendable}. \\textbf{DynamicalSystems.jl} is a living, evolving project. New contributions can become part of the library and be accessed by all users in the next release. Most importantly, all parts of the library follow professional standards in software design and implement extendable interfaces so that it is easy to contribute new functionality.\n",
       "\n",
       "\n",
       "\\item \\textbf{Active development}. Since the start of the project (May 2017) there has been  activity every month: new features, bugfixes, and the developer team answers users questions on Discourse/Slack.\n",
       "\n",
       "\n",
       "\\item \\textbf{Performant}. Written entirely in Julia, heavily optimized and parallelized, and taking advantage of some of the best packages within the language, \\textbf{DynamicalSystems.jl} is \\emph{really fast}.\n",
       "\n",
       "\\end{itemize}\n",
       "\\subsection{Goals}\n",
       "The primary goal of \\textbf{DynamicalSystems.jl} is to be a library in the literal sense: where people go to learn something (here in particular for nonlinear dynamics). That is why the main priority is that the documentation is detailed and references articles and why the source code is written as clearly as possible, so that it is examinable by any user.\n",
       "\n",
       "The second goal is to fill the missing gap of high quality general purpose software for nonlinear dynamics which can be easily extended with new functionality. The purpose of this is to make the field of nonlinear dynamics accessible and reproducible.\n",
       "\n",
       "The third goal is to fundamentally change the perception of the role of code in both scientific education as well as research. It is rarely the case that real, \\emph{runnable} code is shown in the classroom, because it is often long and messy. This is especially hurtful for nonlinear dynamics, a field where computer-assisted exploration is critical. And published scientific work in this field fares even worse, with the overwhelming majority of published research not sharing the code used to create the paper. This makes reproducing these papers difficult, while some times straight-out impossible. \\textbf{DynamicalSystems.jl} can change this situation, because it is high level (requires writing little code to get lots of results) while offering extensive and well-tested functionality.\n",
       "\n"
      ],
      "text/markdown": [
       "![DynamicalSystems.jl logo: The Double Pendulum](https://i.imgur.com/nFQFdB0.gif)\n",
       "\n",
       "[![](https://img.shields.io/badge/docs-online-blue.svg)](https://juliadynamics.github.io/DynamicalSystemsDocs.jl/dynamicalsystems/dev/) [![DocBuild](https://github.com/juliadynamics/DynamicalSystems.jl/workflows/CI/badge.svg)](https://github.com/JuliaDynamics/DynamicalSystems.jl/actions) [![DOI](http://joss.theoj.org/papers/10.21105/joss.00598/status.svg)](https://doi.org/10.21105/joss.00598) [![Textbook](https://img.shields.io/badge/Textbook-10.1007%2F978--3--030--91032--7-purple)](https://link.springer.com/book/10.1007/978-3-030-91032-7) [![Package Downloads](https://shields.io/endpoint?url=https://pkgs.genieframework.com/api/v1/badge/DynamicalSystems)](https://pkgs.genieframework.com?packages=DynamicalSystems)\n",
       "\n",
       "**DynamicalSystems.jl** is an [award-winning](https://dsweb.siam.org/The-Magazine/Article/winners-of-the-dsweb-2018-software-contest) Julia software library for nonlinear dynamics and nonlinear timeseries analysis.\n",
       "\n",
       "To install **DynamicalSystems.jl**, run `import Pkg; Pkg.add(\"DynamicalSystems\")`. To learn how to use it and see its contents visit the documentation, which you can either find [online](https://juliadynamics.github.io/DynamicalSystems.jl/dev/) or build locally by running the `docs/make.jl` file.\n",
       "\n",
       "**DynamicalSystems.jl** is part of [JuliaDynamics](https://juliadynamics.github.io/JuliaDynamics/), an organization dedicated to creating high quality scientific software.\n",
       "\n",
       "## Highlights\n",
       "\n",
       "Aspects of **DynamicalSystems.jl** that make it stand out among other codebases for nonlinear dynamics or nonlinear timeseries analysis are:\n",
       "\n",
       "  * **Exceptional documentation**. All implemented algorithms provide a high-level scientific description of their functionality in their documentation string as well as references to scientific papers. The documentation features hundreds of tutorials and examples ranging from introductory to expert usage.\n",
       "  * **Accessible source code**. One of the main priorities of the library is that the source code of (almost) all implementations is small, simple, easy to understand and modify. This increases confidence, reduces bugs, and allows users to become developers without unnecessary effort.\n",
       "  * **Open source community project**. Built from the ground up entirely on GitHub, **DynamicalSystems.jl** is 100% open source and built by community contributions. Anyone can be a developer of the library. Everyone is welcomed.\n",
       "  * **Extensive content**. It aims to cover the entire field of nonlinear dynamics. It has functionality for complexity measures, delay embeddings, stability and bifurcation analysis, chaos, surrogate testing, recurrence quantification analysis, and much more. Furthermore, all algorithms are \"general\" and work for any dynamical system applicable. Missing functionality that falls under nonlinear dynamics is welcomed to be part of the library!\n",
       "  * **Well tested**. All implemented functionality is extensively tested. Each time any change in the code base is done, the extensive test suite is run and checked before merging the change in.\n",
       "  * **Extendable**. **DynamicalSystems.jl** is a living, evolving project. New contributions can become part of the library and be accessed by all users in the next release. Most importantly, all parts of the library follow professional standards in software design and implement extendable interfaces so that it is easy to contribute new functionality.\n",
       "  * **Active development**. Since the start of the project (May 2017) there has been  activity every month: new features, bugfixes, and the developer team answers users questions on Discourse/Slack.\n",
       "  * **Performant**. Written entirely in Julia, heavily optimized and parallelized, and taking advantage of some of the best packages within the language, **DynamicalSystems.jl** is *really fast*.\n",
       "\n",
       "## Goals\n",
       "\n",
       "The primary goal of **DynamicalSystems.jl** is to be a library in the literal sense: where people go to learn something (here in particular for nonlinear dynamics). That is why the main priority is that the documentation is detailed and references articles and why the source code is written as clearly as possible, so that it is examinable by any user.\n",
       "\n",
       "The second goal is to fill the missing gap of high quality general purpose software for nonlinear dynamics which can be easily extended with new functionality. The purpose of this is to make the field of nonlinear dynamics accessible and reproducible.\n",
       "\n",
       "The third goal is to fundamentally change the perception of the role of code in both scientific education as well as research. It is rarely the case that real, *runnable* code is shown in the classroom, because it is often long and messy. This is especially hurtful for nonlinear dynamics, a field where computer-assisted exploration is critical. And published scientific work in this field fares even worse, with the overwhelming majority of published research not sharing the code used to create the paper. This makes reproducing these papers difficult, while some times straight-out impossible. **DynamicalSystems.jl** can change this situation, because it is high level (requires writing little code to get lots of results) while offering extensive and well-tested functionality.\n"
      ],
      "text/plain": [
       "  (Image: DynamicalSystems.jl logo: The Double Pendulum)\n",
       "\n",
       "  (Image: )\n",
       "  (https://juliadynamics.github.io/DynamicalSystemsDocs.jl/dynamicalsystems/dev/)\n",
       "  (Image: DocBuild)\n",
       "  (https://github.com/JuliaDynamics/DynamicalSystems.jl/actions) (Image: DOI)\n",
       "  (https://doi.org/10.21105/joss.00598) (Image: Textbook)\n",
       "  (https://link.springer.com/book/10.1007/978-3-030-91032-7) (Image: Package\n",
       "  Downloads) (https://pkgs.genieframework.com?packages=DynamicalSystems)\n",
       "\n",
       "  \u001b[1mDynamicalSystems.jl\u001b[22m is an award-winning\n",
       "  (https://dsweb.siam.org/The-Magazine/Article/winners-of-the-dsweb-2018-software-contest)\n",
       "  Julia software library for nonlinear dynamics and nonlinear timeseries\n",
       "  analysis.\n",
       "\n",
       "  To install \u001b[1mDynamicalSystems.jl\u001b[22m, run \u001b[36mimport Pkg; Pkg.add(\"DynamicalSystems\")\u001b[39m.\n",
       "  To learn how to use it and see its contents visit the documentation, which\n",
       "  you can either find online\n",
       "  (https://juliadynamics.github.io/DynamicalSystems.jl/dev/) or build locally\n",
       "  by running the \u001b[36mdocs/make.jl\u001b[39m file.\n",
       "\n",
       "  \u001b[1mDynamicalSystems.jl\u001b[22m is part of JuliaDynamics\n",
       "  (https://juliadynamics.github.io/JuliaDynamics/), an organization dedicated\n",
       "  to creating high quality scientific software.\n",
       "\n",
       "\u001b[1m  Highlights\u001b[22m\n",
       "\u001b[1m  ============\u001b[22m\n",
       "\n",
       "  Aspects of \u001b[1mDynamicalSystems.jl\u001b[22m that make it stand out among other codebases\n",
       "  for nonlinear dynamics or nonlinear timeseries analysis are:\n",
       "\n",
       "    •  \u001b[1mExceptional documentation\u001b[22m. All implemented algorithms provide a\n",
       "       high-level scientific description of their functionality in their\n",
       "       documentation string as well as references to scientific papers.\n",
       "       The documentation features hundreds of tutorials and examples\n",
       "       ranging from introductory to expert usage.\n",
       "\n",
       "    •  \u001b[1mAccessible source code\u001b[22m. One of the main priorities of the library\n",
       "       is that the source code of (almost) all implementations is small,\n",
       "       simple, easy to understand and modify. This increases confidence,\n",
       "       reduces bugs, and allows users to become developers without\n",
       "       unnecessary effort.\n",
       "\n",
       "    •  \u001b[1mOpen source community project\u001b[22m. Built from the ground up entirely\n",
       "       on GitHub, \u001b[1mDynamicalSystems.jl\u001b[22m is 100% open source and built by\n",
       "       community contributions. Anyone can be a developer of the library.\n",
       "       Everyone is welcomed.\n",
       "\n",
       "    •  \u001b[1mExtensive content\u001b[22m. It aims to cover the entire field of nonlinear\n",
       "       dynamics. It has functionality for complexity measures, delay\n",
       "       embeddings, stability and bifurcation analysis, chaos, surrogate\n",
       "       testing, recurrence quantification analysis, and much more.\n",
       "       Furthermore, all algorithms are \"general\" and work for any\n",
       "       dynamical system applicable. Missing functionality that falls\n",
       "       under nonlinear dynamics is welcomed to be part of the library!\n",
       "\n",
       "    •  \u001b[1mWell tested\u001b[22m. All implemented functionality is extensively tested.\n",
       "       Each time any change in the code base is done, the extensive test\n",
       "       suite is run and checked before merging the change in.\n",
       "\n",
       "    •  \u001b[1mExtendable\u001b[22m. \u001b[1mDynamicalSystems.jl\u001b[22m is a living, evolving project. New\n",
       "       contributions can become part of the library and be accessed by\n",
       "       all users in the next release. Most importantly, all parts of the\n",
       "       library follow professional standards in software design and\n",
       "       implement extendable interfaces so that it is easy to contribute\n",
       "       new functionality.\n",
       "\n",
       "    •  \u001b[1mActive development\u001b[22m. Since the start of the project (May 2017)\n",
       "       there has been activity every month: new features, bugfixes, and\n",
       "       the developer team answers users questions on Discourse/Slack.\n",
       "\n",
       "    •  \u001b[1mPerformant\u001b[22m. Written entirely in Julia, heavily optimized and\n",
       "       parallelized, and taking advantage of some of the best packages\n",
       "       within the language, \u001b[1mDynamicalSystems.jl\u001b[22m is \u001b[4mreally fast\u001b[24m.\n",
       "\n",
       "\u001b[1m  Goals\u001b[22m\n",
       "\u001b[1m  =======\u001b[22m\n",
       "\n",
       "  The primary goal of \u001b[1mDynamicalSystems.jl\u001b[22m is to be a library in the literal\n",
       "  sense: where people go to learn something (here in particular for nonlinear\n",
       "  dynamics). That is why the main priority is that the documentation is\n",
       "  detailed and references articles and why the source code is written as\n",
       "  clearly as possible, so that it is examinable by any user.\n",
       "\n",
       "  The second goal is to fill the missing gap of high quality general purpose\n",
       "  software for nonlinear dynamics which can be easily extended with new\n",
       "  functionality. The purpose of this is to make the field of nonlinear\n",
       "  dynamics accessible and reproducible.\n",
       "\n",
       "  The third goal is to fundamentally change the perception of the role of code\n",
       "  in both scientific education as well as research. It is rarely the case that\n",
       "  real, \u001b[4mrunnable\u001b[24m code is shown in the classroom, because it is often long and\n",
       "  messy. This is especially hurtful for nonlinear dynamics, a field where\n",
       "  computer-assisted exploration is critical. And published scientific work in\n",
       "  this field fares even worse, with the overwhelming majority of published\n",
       "  research not sharing the code used to create the paper. This makes\n",
       "  reproducing these papers difficult, while some times straight-out\n",
       "  impossible. \u001b[1mDynamicalSystems.jl\u001b[22m can change this situation, because it is\n",
       "  high level (requires writing little code to get lots of results) while\n",
       "  offering extensive and well-tested functionality."
      ]
     },
     "metadata": {},
     "output_type": "display_data"
    }
   ],
   "source": [
    "using DynamicalSystems\n",
    "@doc DynamicalSystems"
   ]
  },
  {
   "attachments": {},
   "cell_type": "markdown",
   "metadata": {},
   "source": [
    "The section that follows is a verbatim copy of the online [overarching tutorial for **DynamicalSystems.jl**](https://juliadynamics.github.io/DynamicalSystems.jl/latest/tutorial/). It has two goals: \n",
    "\n",
    "1. To teach you \"the ropes\" of DynamicalSystems.jl in about 20 minutes.\n",
    "2. To give you an idea of all the subpackages that go into DynamicalSystems.jl. This can be a bit overwhelming depending on your familiarity with nonlinear dynamics, but do not worry if this is so. Followup lectures go in more depth, and explain in greater length, the subpackages."
   ]
  },
  {
   "attachments": {},
   "cell_type": "markdown",
   "metadata": {},
   "source": [
    "\n",
    "## Core components\n",
    "\n",
    "The individual packages that compose `DynamicalSystems` interact flawlessly with each other because of the following two components:\n",
    "\n",
    "1. The `StateSpaceSet`, which represents numerical data. They can be observed or measured from experiments, sampled trajectories of dynamical systems, or just unordered sets in a state space. A `StateSpaceSet` is a container of equally-sized points, representing multivariate timeseries or multivariate datasets. Timeseries, which are univariate sets, are represented by the `AbstractVector{<:Real}` Julia base type.\n",
    "2. The `DynamicalSystem`, which is the abstract representation of a dynamical system with a known dynamic evolution rule. `DynamicalSystem` defines an extendable interface, but typically one uses concrete implementations such as `DeterministicIteratedMap` or `CoupledODEs`.\n"
   ]
  },
  {
   "attachments": {},
   "cell_type": "markdown",
   "metadata": {},
   "source": [
    "\n",
    "# Making dynamical systems\n",
    "\n",
    "In the majority of cases, to make a dynamical system one needs three things:\n",
    "\n",
    "1. The dynamic rule `f`: A Julia function that provides the instructions of how to evolve the dynamical system in time.\n",
    "2. The state `u`: An array-like container that contains the variables of the dynamical system and also defines the starting state of the system.\n",
    "3. The parameters `p`: An arbitrary container that parameterizes `f`.\n",
    "\n",
    "For most concrete implementations of `DynamicalSystem` there are two ways of defining `f, u`.\n",
    "The distinction is done on whether `f` is defined as an in-place (iip) function or out-of-place (oop) function.\n",
    "\n",
    "* **oop** : `f` **must** be in the form `f(u, p, t) -> out`\n",
    "    which means that given a state `u::SVector{<:Real}` and some parameter container\n",
    "    `p` it returns the output of `f` as an `SVector{<:Real}` (static vector).\n",
    "* **iip** : `f` **must** be in the form `f!(out, u, p, t)`\n",
    "    which means that given a state `u::AbstractArray{<:Real}` and some parameter container `p`,\n",
    "    it writes in-place the output of `f` in `out::AbstractArray{<:Real}`.\n",
    "    The function **must** return `nothing` as a final statement.\n",
    "\n",
    "`t` stands for current time in both cases.\n",
    "**iip** is suggested for systems with high dimension and **oop** for small.\n",
    "The break-even point is between 10 to 100 dimensions but should be benchmarked\n",
    "on a case-by-case basis as it depends on the complexity of `f`.\n",
    "\n",
    "### Example: Henon map\n",
    "Let's make the Henon map, defined as\n",
    "$$\n",
    "\\begin{aligned}\n",
    "x_{n+1} &= 1 - ax^2_n+y_n \\\\\n",
    "y_{n+1} & = bx_n\n",
    "\\end{aligned}\n",
    "$$\n",
    "with parameters $a = 1.4, b = 0.3$.\n",
    "\n",
    "First, we define the dynamic rule as a standard Julia function. Since the dynamical system is only two-dimensional, we should use the _out-of-place_ form that returns an `SVector` with the next state:\n"
   ]
  },
  {
   "cell_type": "code",
   "execution_count": 4,
   "metadata": {},
   "outputs": [
    {
     "data": {
      "text/plain": [
       "henon_rule (generic function with 1 method)"
      ]
     },
     "metadata": {},
     "output_type": "display_data"
    }
   ],
   "source": [
    "using DynamicalSystems\n",
    "\n",
    "function henon_rule(u, p, n) # here `n` is \"time\", but we don't use it.\n",
    "    x, y = u # system state\n",
    "    a, b = p # system parameters\n",
    "    xn = 1.0 - a*x^2 + y\n",
    "    yn = b*x\n",
    "    return SVector(xn, yn)\n",
    "end"
   ]
  },
  {
   "attachments": {},
   "cell_type": "markdown",
   "metadata": {},
   "source": [
    "Then, we define initial state and parameters"
   ]
  },
  {
   "cell_type": "code",
   "execution_count": 6,
   "metadata": {},
   "outputs": [
    {
     "data": {
      "text/plain": [
       "2-element Vector{Float64}:\n",
       " 1.4\n",
       " 0.3"
      ]
     },
     "metadata": {},
     "output_type": "display_data"
    }
   ],
   "source": [
    "u0 = [0.2, 0.3]\n",
    "p0 = [1.4, 0.3]"
   ]
  },
  {
   "attachments": {},
   "cell_type": "markdown",
   "metadata": {},
   "source": [
    "Lastly, we give these three to the `DeterministicIteratedMap`:"
   ]
  },
  {
   "cell_type": "code",
   "execution_count": 7,
   "metadata": {},
   "outputs": [
    {
     "data": {
      "text/plain": [
       "2-dimensional DeterministicIteratedMap\n",
       " deterministic: true\n",
       " discrete time: true\n",
       " in-place:      false\n",
       " dynamic rule:  henon_rule\n",
       " parameters:    [1.4, 0.3]\n",
       " time:          0\n",
       " state:         [0.2, 0.3]\n"
      ]
     },
     "metadata": {},
     "output_type": "display_data"
    }
   ],
   "source": [
    "henon = DeterministicIteratedMap(henon_rule, u0, p0)"
   ]
  },
  {
   "attachments": {},
   "cell_type": "markdown",
   "metadata": {},
   "source": [
    "`henon` is a `DynamicalSystem`, one of the two core structures of the library.\n",
    "`DynamicalSystem`s can evolved interactively, and queried, using the interface defined by `DynamicalSystem` (which will be discussed in a more advanced tutorial). The simplest thing you can do with a `DynamicalSystem` is to get its trajectory:"
   ]
  },
  {
   "cell_type": "code",
   "execution_count": 8,
   "metadata": {},
   "outputs": [
    {
     "data": {
      "text/plain": [
       "(2-dimensional StateSpaceSet{Float64} with 10001 points, 0:1:10000)"
      ]
     },
     "metadata": {},
     "output_type": "display_data"
    }
   ],
   "source": [
    "total_time = 10_000\n",
    "X, t = trajectory(henon, total_time)"
   ]
  },
  {
   "cell_type": "code",
   "execution_count": 9,
   "metadata": {},
   "outputs": [
    {
     "data": {
      "text/plain": [
       "2-dimensional StateSpaceSet{Float64} with 10001 points\n",
       "  0.2        0.3\n",
       "  1.244      0.06\n",
       " -1.10655    0.3732\n",
       " -0.341035  -0.331965\n",
       "  0.505208  -0.102311\n",
       "  0.540361   0.151562\n",
       "  0.742777   0.162108\n",
       "  0.389703   0.222833\n",
       "  1.01022    0.116911\n",
       " -0.311842   0.303065\n",
       "  ⋮         \n",
       " -0.582534   0.328346\n",
       "  0.853262  -0.17476\n",
       " -0.194038   0.255978\n",
       "  1.20327   -0.0582113\n",
       " -1.08521    0.36098\n",
       " -0.287758  -0.325562\n",
       "  0.558512  -0.0863275\n",
       "  0.476963   0.167554\n",
       "  0.849062   0.143089"
      ]
     },
     "metadata": {},
     "output_type": "display_data"
    }
   ],
   "source": [
    "X"
   ]
  },
  {
   "attachments": {},
   "cell_type": "markdown",
   "metadata": {},
   "source": [
    "`X` is a `StateSpaceSet`, the second of the core structures of the library. We'll see below how, and where, to use a `StateSpaceset`, but for now let's just do a scatter plot"
   ]
  },
  {
   "cell_type": "code",
   "execution_count": 10,
   "metadata": {},
   "outputs": [
    {
     "data": {
      "image/png": "[encoded data removed]"
     },
     "metadata": {},
     "output_type": "display_data"
    }
   ],
   "source": [
    "using CairoMakie\n",
    "scatter(X[:, 1], X[:, 2]; markersize = 3)"
   ]
  },
  {
   "attachments": {},
   "cell_type": "markdown",
   "metadata": {},
   "source": [
    "\n",
    "### Example: Lorenz96\n",
    "\n",
    "Let's also make another dynamical system, the Lorenz96 model:\n",
    "$$\n",
    "\\frac{dx_i}{dt} = (x_{i+1}-x_{i-2})x_{i-1} - x_i + F\n",
    "$$\n",
    "for $i \\in \\{1, \\ldots, N\\}$ and $N+j=j$.\n",
    "\n",
    "Here, instead of a discrete time map we have $N$ coupled ordinary differential equations. However, creating the dynamical system works out just like above, but using `CoupledODEs` instead of `DeterministicIteratedMap`.\n",
    "\n",
    "First, we make the dynamic rule function. Since this dynamical system can be arbitrarily high-dimensional, we prefer to use the _in-place_ form for `f`, overwriting in place the rate of change in a pre-allocated container."
   ]
  },
  {
   "cell_type": "code",
   "execution_count": 5,
   "metadata": {},
   "outputs": [
    {
     "data": {
      "text/plain": [
       "lorenz96_rule! (generic function with 1 method)"
      ]
     },
     "metadata": {},
     "output_type": "display_data"
    }
   ],
   "source": [
    "function lorenz96_rule!(du, u, p, t)\n",
    "    F = p[1]; N = length(u)\n",
    "    # 3 edge cases\n",
    "    du[1] = (u[2] - u[N - 1]) * u[N] - u[1] + F\n",
    "    du[2] = (u[3] - u[N]) * u[1] - u[2] + F\n",
    "    du[N] = (u[1] - u[N - 2]) * u[N - 1] - u[N] + F\n",
    "    # then the general case\n",
    "    for n in 3:(N - 1)\n",
    "        du[n] = (u[n + 1] - u[n - 2]) * u[n - 1] - u[n] + F\n",
    "    end\n",
    "    return nothing # always `return nothing` for in-place form!\n",
    "end"
   ]
  },
  {
   "attachments": {},
   "cell_type": "markdown",
   "metadata": {},
   "source": [
    "then, like before, we define an initial state and parameters, and initialize the system"
   ]
  },
  {
   "cell_type": "code",
   "execution_count": 8,
   "metadata": {},
   "outputs": [
    {
     "data": {
      "text/plain": [
       "6-dimensional CoupledODEs\n",
       " deterministic: true\n",
       " discrete time: false\n",
       " in-place:      true\n",
       " dynamic rule:  lorenz96_rule!\n",
       " ODE solver:    Tsit5\n",
       " ODE kwargs:    (abstol = 1.0e-6, reltol = 1.0e-6)\n",
       " parameters:    [24.0]\n",
       " time:          0.0\n",
       " state:         [0.1, 0.28, 0.46, 0.64, 0.82, 1.0]\n"
      ]
     },
     "metadata": {},
     "output_type": "display_data"
    }
   ],
   "source": [
    "N = 6\n",
    "u0 = range(0.1, 1; length = N)\n",
    "p0 = [24.0]\n",
    "lorenz96 = CoupledODEs(lorenz96_rule!, u0, p0)"
   ]
  },
  {
   "attachments": {},
   "cell_type": "markdown",
   "metadata": {},
   "source": [
    "and, again like before, we may obtain a trajectory the same way\n"
   ]
  },
  {
   "cell_type": "code",
   "execution_count": 13,
   "metadata": {},
   "outputs": [
    {
     "data": {
      "text/plain": [
       "6-dimensional StateSpaceSet{Float64} with 626 points\n",
       " 15.8855    19.5112    7.3668    13.2459    6.79653   2.37278\n",
       " 16.8209    20.8966    6.11778   11.5885    6.14336   3.29582\n",
       " 18.1219    21.3415    3.72112   10.339     6.24503   4.49973\n",
       " 19.7163    20.217     0.467733   9.99447   7.21475   6.05166\n",
       " 21.2618    16.9184   -2.89403   10.5053    9.22228   8.07065\n",
       " 21.9258    11.1997   -5.43479   11.0319   12.4349   10.7038\n",
       " 20.2099     3.69898  -6.4271    10.4324   16.6115   13.9645\n",
       " 14.3808    -3.53315  -5.8574     8.38245  20.8655   17.1785\n",
       "  4.34713   -7.44291  -5.01403    5.66361  24.1937   18.4256\n",
       " -6.50515   -6.31337  -5.2126     2.78556  26.0853   15.7733\n",
       "  ⋮                                                   ⋮\n",
       "  5.8074    -8.93493  10.8488     7.10775   2.21914   8.99899\n",
       "  4.2223    -8.11724  10.5332     9.74335   2.37474   9.13796\n",
       "  2.76746   -7.40948   9.65881   12.0779    2.58649   9.06597\n",
       "  1.4447    -6.78048   8.39965   14.081     2.98246   8.75623\n",
       "  0.251809  -6.18269   6.90034   15.7596    3.64177   8.13542\n",
       " -0.786769  -5.57529   5.29061   17.1245    4.55341   7.09185\n",
       " -1.59454   -4.94463   3.69489   18.177     5.59252   5.52572\n",
       " -2.04406   -4.31423   2.22662   18.9158    6.53395   3.42853\n",
       " -2.00364   -3.72769   0.970502  19.3561    7.11775   0.949054"
      ]
     },
     "metadata": {},
     "output_type": "display_data"
    }
   ],
   "source": [
    "total_time = 12.5\n",
    "sampling_time = 0.02\n",
    "Y, t = trajectory(lorenz96, total_time; Ttr = 2.2, Δt = sampling_time)\n",
    "Y"
   ]
  },
  {
   "attachments": {},
   "cell_type": "markdown",
   "metadata": {},
   "source": [
    "We can't scatterplot something 6-dimensional but we can visualize all timeseries\n"
   ]
  },
  {
   "cell_type": "code",
   "execution_count": 14,
   "metadata": {},
   "outputs": [
    {
     "data": {
      "image/png": "[encoded data removed]"
     },
     "metadata": {},
     "output_type": "display_data"
    }
   ],
   "source": [
    "fig = Figure()\n",
    "ax = Axis(fig[1,1]; xlabel = \"time\", ylabel = \"variable\")\n",
    "for var in columns(Y)\n",
    "    lines!(ax, t, var)\n",
    "end\n",
    "fig"
   ]
  },
  {
   "attachments": {},
   "cell_type": "markdown",
   "metadata": {},
   "source": [
    "\n",
    "### ODE solving & choosing a solver\n",
    "\n",
    "Continuous time dynamical systems are evolved through DifferentialEquations.jl using the `OrdinaryDiffEq` module.\n",
    "When initializing a `CoupledODEs` you can tune the solver properties to your heart's content using any of the [100s of ODE solvers](https://diffeq.sciml.ai/latest/solvers/ode_solve/) and any of the [common solver options](https://diffeq.sciml.ai/latest/basics/common_solver_opts/). For example:\n"
   ]
  },
  {
   "cell_type": "code",
   "execution_count": 9,
   "metadata": {},
   "outputs": [
    {
     "data": {
      "text/plain": [
       "6-dimensional CoupledODEs\n",
       " deterministic: true\n",
       " discrete time: false\n",
       " in-place:      true\n",
       " dynamic rule:  lorenz96_rule!\n",
       " ODE solver:    Vern9\n",
       " ODE kwargs:    (abstol = 1.0e-9, reltol = 1.0e-9)\n",
       " parameters:    [24.0]\n",
       " time:          0.0\n",
       " state:         [0.1, 0.28, 0.46, 0.64, 0.82, 1.0]\n"
      ]
     },
     "metadata": {},
     "output_type": "display_data"
    }
   ],
   "source": [
    "using OrdinaryDiffEq # accessing the ODE solvers\n",
    "diffeq_precise = (alg = Vern9(), abstol = 1e-9, reltol = 1e-9)\n",
    "lorenz96_vern = CoupledODEs(lorenz96_rule!, u0, p0; diffeq = diffeq_precise)"
   ]
  },
  {
   "cell_type": "code",
   "execution_count": 16,
   "metadata": {},
   "outputs": [
    {
     "data": {
      "text/plain": [
       "6-element SVector{6, Float64} with indices SOneTo(6):\n",
       " 21.90191127612278\n",
       " 18.233510999163723\n",
       " 14.589395859813145\n",
       " -1.5914358581751\n",
       " -6.128985559405487\n",
       "  8.376204598375525"
      ]
     },
     "metadata": {},
     "output_type": "display_data"
    }
   ],
   "source": [
    "Y, t = trajectory(lorenz96_vern, total_time; Ttr = 2.2, Δt = sampling_time)\n",
    "Y[end]"
   ]
  },
  {
   "cell_type": "markdown",
   "metadata": {},
   "source": [
    "The choice of the solver algorithm can have **huge impact on the performance and stability of the ODE integration!**"
   ]
  },
  {
   "cell_type": "markdown",
   "metadata": {},
   "source": [
    "### Higher accuracy, higher order\n",
    "\n",
    "The solver `Tsit5` (the default solver) is most performant when medium-high error tolerances are requested. When we require very small errors, choosing a different solver can be more accurate. This can be especially impactful for chaotic dynamical systems. Let's first expliclty ask for a given accuracy when solving the ODE by passing the keywords `abstol, reltol` (for absolute and relative tolerance respectively):\n"
   ]
  },
  {
   "cell_type": "code",
   "execution_count": 10,
   "metadata": {},
   "outputs": [
    {
     "name": "stdout",
     "output_type": "stream",
     "text": [
      "  1.483 s (0 allocations: 0 bytes)\n"
     ]
    },
    {
     "name": "stdout",
     "output_type": "stream",
     "text": [
      "  4.422 ms (0 allocations: 0 bytes)\n"
     ]
    }
   ],
   "source": [
    "using BenchmarkTools: @btime\n",
    "using OrdinaryDiffEq: BS3 # equivalent of odeint23\n",
    "\n",
    "for alg in (BS3(), Vern9())\n",
    "    diffeq = (; alg, abstol = 1e-12, reltol = 1e-12)\n",
    "    lorenz96 = CoupledODEs(lorenz96_rule!, u0, p0; diffeq)\n",
    "    @btime step!($lorenz96, 100.0)\n",
    "end"
   ]
  },
  {
   "cell_type": "markdown",
   "metadata": {},
   "source": [
    "### Stiff problems\n",
    "\n",
    "A \"stiff\" ODE problem is one that can be numerically unstable unless the step size (or equivalently, the step error tolerances) are extremely small. There are several situations where a problem may be come \"stiff\":\n",
    "\n",
    "- The derivative values can get very large for some state values.\n",
    "- There is a large _timescale separation_ between the dynamics of the variables\n",
    "- There is a large _speed separation_ between different state space regions\n",
    "\n",
    "One must be aware whether this is possible for their system and choose a solver that is better suited to tackle stiff problems. If not, a solution may diverge and the ODE integrator will throw an error or a warning.\n",
    "\n",
    "Many of the problems in DifferentialEquations.jl are suitable for dealing with stiff problems. We can create a stiff problem by using the well known Van der Pol  oscillator _with a timescale separation_:\n",
    "\n",
    "$$\n",
    "\\begin{aligned}\n",
    "\\dot{x} & = y \\\\\n",
    "\\dot{y} /  \\mu &= (1-x^2)y - x\n",
    "\\end{aligned}\n",
    "$$\n",
    "\n",
    "with $\\mu$ being the timescale of the $y$ variable in units of the timescale of the $x$ variable. For very large values of $\\mu$ this problem becomes stiff."
   ]
  },
  {
   "cell_type": "code",
   "execution_count": 11,
   "metadata": {},
   "outputs": [
    {
     "name": "stdout",
     "output_type": "stream",
     "text": [
      "  7.132 s (0 allocations: 0 bytes)\n"
     ]
    },
    {
     "name": "stdout",
     "output_type": "stream",
     "text": [
      "  1.472 s (17613864 allocations: 515.14 MiB)\n"
     ]
    }
   ],
   "source": [
    "function vanderpol_rule(u, μ, t)\n",
    "    x, y = u\n",
    "    dx = y\n",
    "    dy = μ*((1-x^2)*y - x)\n",
    "    return SVector(dx, dy)\n",
    "end\n",
    "\n",
    "μ = 1e6\n",
    "for alg in (Tsit5(), Rodas5P())\n",
    "    diffeq = (; alg, abstol = 1e-12, reltol = 1e-12, maxiters = typemax(Int))\n",
    "    vdp = CoupledODEs(vanderpol_rule, SVector(1.0, 1.0), μ; diffeq)\n",
    "    @btime step!($vdp, 100.0)\n",
    "end"
   ]
  },
  {
   "cell_type": "markdown",
   "metadata": {},
   "source": [
    "We see that the stiff solver `Rodas5P` is much faster than the default `Tsit5` when there is a large timescale separation. This happened because `Rodas5P` required much less steps to integrated the same total amount of time. In fact, there are cases where regular solvers will _fail_ to integrate the ODE if the problem is very stiff, e.g. in the [ROBER example](https://docs.sciml.ai/SciMLBenchmarksOutput/stable/StiffODE/ROBER/)."
   ]
  },
  {
   "attachments": {},
   "cell_type": "markdown",
   "metadata": {},
   "source": [
    "# Using `DynamicalSystem` instances"
   ]
  },
  {
   "attachments": {},
   "cell_type": "markdown",
   "metadata": {},
   "source": [
    "You may use the `DynamicalSystem` interface to develop algorithms that utilize dynamical systems with a known evolution rule. The two main packages of the library that do this are ChaosTools.jl and Attractors.jl. For example, you may want to compute the Lyapunov spectrum of the Lorenz96 system from above. This is as easy as calling the `lyapunovspectrum` function with `lorenz96`"
   ]
  },
  {
   "cell_type": "code",
   "execution_count": 19,
   "metadata": {},
   "outputs": [
    {
     "data": {
      "text/plain": [
       "6-dimensional CoupledODEs\n",
       " deterministic: true\n",
       " discrete time: false\n",
       " in-place:      true\n",
       " dynamic rule:  lorenz96_rule!\n",
       " ODE solver:    Tsit5\n",
       " ODE kwargs:    (abstol = 1.0e-6, reltol = 1.0e-6)\n",
       " parameters:    [24.0]\n",
       " time:          14.710810737376262\n",
       " state:         [-1.753056852918322, -3.4380749306288965, 0.3972507829867397, 19.484434620997174, 7.209748937694574, -0.44850309369562646]\n"
      ]
     },
     "metadata": {},
     "output_type": "display_data"
    }
   ],
   "source": [
    "lorenz96"
   ]
  },
  {
   "cell_type": "code",
   "execution_count": 20,
   "metadata": {},
   "outputs": [
    {
     "data": {
      "text/plain": [
       "6-element Vector{Float64}:\n",
       "  2.785784477374887\n",
       "  0.05438023190239223\n",
       " -0.048103108038384246\n",
       " -0.9775984507213235\n",
       " -1.9767558439119322\n",
       " -5.837704761887762"
      ]
     },
     "metadata": {},
     "output_type": "display_data"
    }
   ],
   "source": [
    "steps = 10_000\n",
    "lyapunovspectrum(lorenz96, steps)"
   ]
  },
  {
   "cell_type": "markdown",
   "metadata": {},
   "source": [
    "As expected, there is at least one positive Lyapunov exponent (because the system is chaotic) and at least one zero Lyapunov exponent, because the system is continuous time."
   ]
  },
  {
   "cell_type": "code",
   "execution_count": 21,
   "metadata": {},
   "outputs": [
    {
     "data": {
      "text/plain": [
       "2-dimensional DeterministicIteratedMap\n",
       " deterministic: true\n",
       " discrete time: true\n",
       " in-place:      false\n",
       " dynamic rule:  henon_rule\n",
       " parameters:    [1.4, 0.3]\n",
       " time:          10000\n",
       " state:         [0.8490622425588493, 0.14308891934161724]\n"
      ]
     },
     "metadata": {},
     "output_type": "display_data"
    }
   ],
   "source": [
    "henon"
   ]
  },
  {
   "cell_type": "code",
   "execution_count": 22,
   "metadata": {},
   "outputs": [
    {
     "data": {
      "text/plain": [
       "2-element Vector{Float64}:\n",
       "  0.4167659070649148\n",
       " -1.6207387113908505"
      ]
     },
     "metadata": {},
     "output_type": "display_data"
    }
   ],
   "source": [
    "lyapunovspectrum(henon, steps)"
   ]
  },
  {
   "attachments": {},
   "cell_type": "markdown",
   "metadata": {},
   "source": [
    "Alternatively, you may want to estimate the basins of attraction of a multistable dynamical system. The Henon map is \"multistable\" in the sense that some initial conditions diverge to infinity, and some others converge to a chaotic attractor. Computing these basins of attraction is simple with Attractors.jl, and would work as follows:"
   ]
  },
  {
   "cell_type": "code",
   "execution_count": 23,
   "metadata": {},
   "outputs": [
    {
     "data": {
      "text/plain": [
       "201×201 Matrix{Int64}:\n",
       " -1  -1  -1  -1  -1  -1  -1  -1  -1  …  -1  -1  -1  -1  -1  -1  -1  -1  -1\n",
       " -1  -1  -1  -1  -1  -1  -1  -1  -1     -1  -1  -1  -1  -1  -1  -1  -1  -1\n",
       " -1  -1  -1  -1  -1  -1  -1  -1  -1     -1  -1  -1  -1  -1  -1  -1  -1  -1\n",
       " -1  -1  -1  -1  -1  -1  -1  -1  -1     -1  -1  -1  -1  -1  -1  -1  -1  -1\n",
       " -1  -1  -1  -1  -1  -1  -1  -1  -1     -1  -1  -1  -1  -1  -1  -1  -1  -1\n",
       " -1  -1  -1  -1  -1  -1  -1  -1  -1  …  -1  -1  -1  -1  -1  -1  -1  -1  -1\n",
       " -1  -1  -1  -1  -1  -1  -1  -1  -1     -1  -1  -1  -1  -1  -1  -1  -1  -1\n",
       " -1  -1  -1  -1  -1  -1  -1  -1  -1     -1  -1  -1  -1  -1  -1  -1  -1  -1\n",
       " -1  -1  -1  -1  -1  -1  -1  -1  -1     -1  -1  -1  -1  -1  -1  -1  -1  -1\n",
       " -1  -1  -1  -1  -1  -1  -1  -1  -1     -1  -1  -1  -1  -1  -1  -1  -1  -1\n",
       "  ⋮                   ⋮              ⋱               ⋮                   ⋮\n",
       " -1  -1  -1  -1  -1  -1  -1  -1  -1     -1  -1  -1  -1  -1  -1  -1  -1  -1\n",
       " -1  -1  -1  -1  -1  -1  -1  -1  -1     -1  -1  -1  -1  -1  -1  -1  -1  -1\n",
       " -1  -1  -1  -1  -1  -1  -1  -1  -1     -1  -1  -1  -1  -1  -1  -1  -1  -1\n",
       " -1  -1  -1  -1  -1  -1  -1  -1  -1  …  -1  -1  -1  -1  -1  -1  -1  -1  -1\n",
       " -1  -1  -1  -1  -1  -1  -1  -1  -1     -1  -1  -1  -1  -1  -1  -1  -1  -1\n",
       " -1  -1  -1  -1  -1  -1  -1  -1  -1     -1  -1  -1  -1  -1  -1  -1  -1  -1\n",
       " -1  -1  -1  -1  -1  -1  -1  -1  -1     -1  -1  -1  -1  -1  -1  -1  -1  -1\n",
       " -1  -1  -1  -1  -1  -1  -1  -1  -1     -1  -1  -1  -1  -1  -1  -1  -1  -1\n",
       " -1  -1  -1  -1  -1  -1  -1  -1  -1  …  -1  -1  -1  -1  -1  -1  -1  -1  -1"
      ]
     },
     "metadata": {},
     "output_type": "display_data"
    }
   ],
   "source": [
    "# define a state space grid to compute the basins on:\n",
    "xg = yg = range(-2, 2; length = 201)\n",
    "# find attractors using recurrences in state space:\n",
    "grid = (xg, yg)\n",
    "mapper = AttractorsViaRecurrences(henon, grid; sparse = false)\n",
    "# compute the full basins of attraction over a given grid\n",
    "basins, attractors = basins_of_attraction(mapper; show_progress = false)\n",
    "basins"
   ]
  },
  {
   "cell_type": "code",
   "execution_count": 24,
   "metadata": {},
   "outputs": [
    {
     "data": {
      "text/plain": [
       "Dict{Int64, StateSpaceSet{2, Float64}} with 1 entry:\n",
       "  1 => 2-dimensional StateSpaceSet{Float64} with 416 points"
      ]
     },
     "metadata": {},
     "output_type": "display_data"
    }
   ],
   "source": [
    "attractors"
   ]
  },
  {
   "cell_type": "code",
   "execution_count": 25,
   "metadata": {},
   "outputs": [
    {
     "data": {
      "image/png": "[encoded data removed]"
     },
     "metadata": {},
     "output_type": "display_data"
    }
   ],
   "source": [
    "fig, ax = heatmap(xg, yg, basins)\n",
    "x, y = columns(X) # attractor of Henon map\n",
    "scatter!(ax, x, y; color = \"black\", markersize = 3)\n",
    "fig"
   ]
  },
  {
   "attachments": {},
   "cell_type": "markdown",
   "metadata": {},
   "source": [
    "# `StateSpaceSet`s and Nonlinear Timeseries Analysis"
   ]
  },
  {
   "cell_type": "markdown",
   "metadata": {},
   "source": [
    "Let's recall that the output of the `trajectory` function is a `StateSpaceSet`:\n"
   ]
  },
  {
   "cell_type": "code",
   "execution_count": 26,
   "metadata": {},
   "outputs": [
    {
     "data": {
      "text/plain": [
       "2-dimensional StateSpaceSet{Float64} with 10001 points\n",
       "  0.2        0.3\n",
       "  1.244      0.06\n",
       " -1.10655    0.3732\n",
       " -0.341035  -0.331965\n",
       "  0.505208  -0.102311\n",
       "  0.540361   0.151562\n",
       "  0.742777   0.162108\n",
       "  0.389703   0.222833\n",
       "  1.01022    0.116911\n",
       " -0.311842   0.303065\n",
       "  ⋮         \n",
       " -0.582534   0.328346\n",
       "  0.853262  -0.17476\n",
       " -0.194038   0.255978\n",
       "  1.20327   -0.0582113\n",
       " -1.08521    0.36098\n",
       " -0.287758  -0.325562\n",
       "  0.558512  -0.0863275\n",
       "  0.476963   0.167554\n",
       "  0.849062   0.143089"
      ]
     },
     "metadata": {},
     "output_type": "display_data"
    }
   ],
   "source": [
    "X # trajectory of Henon map"
   ]
  },
  {
   "cell_type": "markdown",
   "metadata": {},
   "source": [
    "It is printed like a matrix where each column is the timeseries of each dynamic variable. In reality, it is a vector of statically sized vectors (for performance reasons). When indexed with 1 index, it behaves like a vector of vectors\n"
   ]
  },
  {
   "cell_type": "code",
   "execution_count": 27,
   "metadata": {},
   "outputs": [
    {
     "data": {
      "text/plain": [
       "2-element SVector{2, Float64} with indices SOneTo(2):\n",
       " 0.2\n",
       " 0.3"
      ]
     },
     "metadata": {},
     "output_type": "display_data"
    }
   ],
   "source": [
    "X[1]"
   ]
  },
  {
   "cell_type": "code",
   "execution_count": 28,
   "metadata": {},
   "outputs": [
    {
     "data": {
      "text/plain": [
       "2-dimensional StateSpaceSet{Float64} with 4 points\n",
       "  1.244      0.06\n",
       " -1.10655    0.3732\n",
       " -0.341035  -0.331965\n",
       "  0.505208  -0.102311"
      ]
     },
     "metadata": {},
     "output_type": "display_data"
    }
   ],
   "source": [
    "X[2:5]"
   ]
  },
  {
   "cell_type": "markdown",
   "metadata": {},
   "source": [
    "When indexed with two indices, it behaves like a matrix\n"
   ]
  },
  {
   "cell_type": "code",
   "execution_count": 29,
   "metadata": {},
   "outputs": [
    {
     "data": {
      "text/plain": [
       "4-element Vector{Float64}:\n",
       "  0.06\n",
       "  0.3732\n",
       " -0.3319651199999999\n",
       " -0.10231059085086688"
      ]
     },
     "metadata": {},
     "output_type": "display_data"
    }
   ],
   "source": [
    "X[2:5, 2]"
   ]
  },
  {
   "cell_type": "markdown",
   "metadata": {},
   "source": [
    "When iterated, it iterates over the contained points"
   ]
  },
  {
   "cell_type": "code",
   "execution_count": 30,
   "metadata": {},
   "outputs": [
    {
     "name": "stdout",
     "output_type": "stream",
     "text": [
      "point = [0.2, 0.3]\n",
      "point = [1.244, 0.06]\n",
      "point = [-1.1065503999999997, 0.3732]\n",
      "point = [-0.34103530283622296, -0.3319651199999999]\n",
      "point = [0.5052077711071681, -0.10231059085086688]\n",
      "point = [0.5403605603672313, 0.1515623313321504]\n"
     ]
    }
   ],
   "source": [
    "for (i, point) in enumerate(X)\n",
    "    @show point\n",
    "    i > 5 && break\n",
    "end"
   ]
  },
  {
   "cell_type": "code",
   "execution_count": 31,
   "metadata": {},
   "outputs": [
    {
     "data": {
      "text/plain": [
       "10001-element Vector{Float64}:\n",
       "  0.5\n",
       "  1.304\n",
       " -0.7333503999999997\n",
       " -0.6730004228362229\n",
       "  0.40289718025630117\n",
       "  0.6919228916993818\n",
       "  0.9048851501617762\n",
       "  0.6125365596336813\n",
       "  1.1271278272148746\n",
       " -0.008777065619615998\n",
       "  ⋮\n",
       " -0.2541879392427324\n",
       "  0.678501271515278\n",
       "  0.061940665344374896\n",
       "  1.145056192451011\n",
       " -0.7242249528790483\n",
       " -0.6133198017049188\n",
       "  0.47218423998951875\n",
       "  0.6445165778497133\n",
       "  0.9921511619004666"
      ]
     },
     "metadata": {},
     "output_type": "display_data"
    }
   ],
   "source": [
    "map(point -> point[1] + point[2], X)"
   ]
  },
  {
   "cell_type": "markdown",
   "metadata": {},
   "source": [
    "The columns of the set are obtained with the convenience `columns` function"
   ]
  },
  {
   "cell_type": "code",
   "execution_count": 32,
   "metadata": {},
   "outputs": [
    {
     "data": {
      "text/plain": [
       "(\"10001-element Vector{Float64}\", \"10001-element Vector{Float64}\")"
      ]
     },
     "metadata": {},
     "output_type": "display_data"
    }
   ],
   "source": [
    "x, y = columns(X)\n",
    "summary.((x, y))"
   ]
  },
  {
   "cell_type": "markdown",
   "metadata": {},
   "source": [
    "Alright, where would you use a `StateSpaceSet`?\n",
    "\n",
    "You could use library package ComplexityMeasures.jl to obtain the entropy, or other complexity measures, of a given set. Below, we obtain the entropy of the natural density of the chaotic attractor by partitioning into a histogram of approximately `50` bins per dimension:"
   ]
  },
  {
   "cell_type": "code",
   "execution_count": 33,
   "metadata": {},
   "outputs": [
    {
     "data": {
      "text/plain": [
       "7.825799208736613"
      ]
     },
     "metadata": {},
     "output_type": "display_data"
    }
   ],
   "source": [
    "prob_est = ValueHistogram(50)\n",
    "entropy(prob_est, X)"
   ]
  },
  {
   "cell_type": "markdown",
   "metadata": {},
   "source": [
    "Or, if you have a single timeseries, you can compute other complexity measures such as the permutation entropy"
   ]
  },
  {
   "cell_type": "code",
   "execution_count": 34,
   "metadata": {},
   "outputs": [
    {
     "data": {
      "text/plain": [
       "3.15987571159201"
      ]
     },
     "metadata": {},
     "output_type": "display_data"
    }
   ],
   "source": [
    "x = X[:, 1] # timeseries\n",
    "pe = entropy_permutation(x; m = 4) # order-4 p.e."
   ]
  },
  {
   "attachments": {},
   "cell_type": "markdown",
   "metadata": {},
   "source": [
    "Alternatively, you could use the library package FractalDimensions.jl to get the fractal dimensions of the set, using e.g., the Grassberger-Procaccia algorithm"
   ]
  },
  {
   "cell_type": "code",
   "execution_count": 35,
   "metadata": {},
   "outputs": [
    {
     "data": {
      "text/plain": [
       "1.2232922815092426"
      ]
     },
     "metadata": {},
     "output_type": "display_data"
    }
   ],
   "source": [
    "grassberger_proccacia_dim(X; show_progress = false)"
   ]
  },
  {
   "attachments": {},
   "cell_type": "markdown",
   "metadata": {},
   "source": [
    "Or, with the RecurrenceAnalysis.jl library package you could obtain a recurrence matrix of a `StateSpaceSet`:"
   ]
  },
  {
   "cell_type": "code",
   "execution_count": 36,
   "metadata": {},
   "outputs": [
    {
     "data": {
      "image/png": "[encoded data removed]"
     },
     "metadata": {},
     "output_type": "display_data"
    }
   ],
   "source": [
    "R = RecurrenceMatrix(Y, 7.0)\n",
    "Rg = grayscale(R)\n",
    "rr = recurrencerate(R)\n",
    "heatmap(Rg; colormap = :grays,\n",
    "    axis = (title = \"recurrence rate = $(rr)\", aspect = 1,)\n",
    ")"
   ]
  },
  {
   "attachments": {},
   "cell_type": "markdown",
   "metadata": {},
   "source": [
    "A `trajectory` of a known dynamical system is one way to obtain a `StateSpaceSet`. However, another common way is via a delay coordinates embedding of a measured/observed timeseries. This is the functionality provided by the library package DelayEmbeddings.jl. \n",
    "\n",
    "For example, we could use the function `optimal_separated_de` that provides an algorithm to create an optimized delay coordinates embedding of a timeseries"
   ]
  },
  {
   "cell_type": "code",
   "execution_count": 37,
   "metadata": {},
   "outputs": [
    {
     "name": "stdout",
     "output_type": "stream",
     "text": [
      "Algorithm stopped due to convergence of E₁-statistic. Valid embedding achieved ✓.\n"
     ]
    },
    {
     "data": {
      "text/plain": [
       "6-dimensional StateSpaceSet{Float64} with 596 points\n",
       " 15.8887     20.1992   -15.1915      2.87991   -10.9815      2.42838\n",
       " 16.8246     14.3614   -11.7755     -0.219967   -9.09056    -2.55429\n",
       " 18.1259      4.32543   -6.84527    -4.20175    -5.38437    -7.35052\n",
       " 19.7197     -6.51644   -1.61817    -7.79791    -0.448634  -10.1483\n",
       " 21.2633    -13.7803     2.34884   -10.2255      3.77238   -10.5318\n",
       " 21.9228    -16.2554     3.92902   -11.2903      5.00481    -8.92236\n",
       " 20.1992    -15.1915     2.87991   -10.9815      2.42838    -6.13215\n",
       " 14.3614    -11.7755    -0.219967   -9.09056    -2.55429    -3.06834\n",
       "  4.32543    -6.84527   -4.20175    -5.38437    -7.35052    -0.525076\n",
       " -6.51644    -1.61817   -7.79791    -0.448634  -10.1483      1.08311\n",
       "  ⋮                                                          ⋮\n",
       "  0.787483   13.1943    23.3024     19.8852     16.7553     10.787\n",
       "  2.34926    15.5469    23.4897     19.036      16.3663      9.32502\n",
       "  4.17602    17.7664    23.2237     18.332      15.7988      8.32323\n",
       "  6.22955    19.7508    22.6098     17.7881     14.9649      8.05811\n",
       "  8.45877    21.3955    21.7702     17.3826     13.8143      8.6906\n",
       " 10.8038     22.6019    20.8256     17.0635     12.3737     10.3827\n",
       " 13.1943     23.3024    19.8852     16.7553     10.787      13.3524\n",
       " 15.5469     23.4897    19.036      16.3663      9.32502    17.4877\n",
       " 17.7664     23.2237    18.332      15.7988      8.32323    21.9019"
      ]
     },
     "metadata": {},
     "output_type": "display_data"
    }
   ],
   "source": [
    "w = Y[:, 1] # first variable of Lorenz96\n",
    "𝒟, τ, e = optimal_separated_de(w)\n",
    "𝒟"
   ]
  },
  {
   "attachments": {},
   "cell_type": "markdown",
   "metadata": {},
   "source": [
    "and compare"
   ]
  },
  {
   "cell_type": "code",
   "execution_count": 38,
   "metadata": {},
   "outputs": [
    {
     "data": {
      "image/png": "[encoded data removed]"
     },
     "metadata": {},
     "output_type": "display_data"
    }
   ],
   "source": [
    "fig = Figure()\n",
    "axs = [Axis3(fig[1,i]) for i in 1:2]\n",
    "for (S, ax) in zip((Y, 𝒟), axs)\n",
    "    lines!(ax, S[:, 1], S[:, 2], S[:, 3])\n",
    "end\n",
    "fig"
   ]
  },
  {
   "attachments": {},
   "cell_type": "markdown",
   "metadata": {},
   "source": [
    "Since `𝒟` is just another state space set, we could be using any of the above analysis pipelines on it just as easily. \n",
    "\n",
    "Typically, nonlinear timeseries analysis is done in conjuction with the TimeseriesSurrogates.jl library package. It allows you to generate new timeseries from a given timeseries, that preserve some properties of the original timeseries but are otherwise randomized. For example"
   ]
  },
  {
   "cell_type": "code",
   "execution_count": 39,
   "metadata": {},
   "outputs": [
    {
     "data": {
      "image/png": "[encoded data removed]"
     },
     "metadata": {},
     "output_type": "display_data"
    }
   ],
   "source": [
    "w = Y[:, 1] # first timeseries of the Lorenz96 system\n",
    "method =  RelativePartialRandomization(0.5)\n",
    "s = surrogate(w, method)\n",
    "fig, = lines(w; axis = (ylabel = \"signal\",))\n",
    "lines(fig[2,1], s; axis = (ylabel = \"surrogate\",))\n",
    "fig"
   ]
  },
  {
   "cell_type": "code",
   "execution_count": 40,
   "metadata": {},
   "outputs": [],
   "source": [
    "using CairoMakie\n",
    "CairoMakie.activate!()"
   ]
  },
  {
   "attachments": {},
   "cell_type": "markdown",
   "metadata": {},
   "source": [
    "# Interactive GUI windows for dynamical systems"
   ]
  },
  {
   "attachments": {},
   "cell_type": "markdown",
   "metadata": {},
   "source": [
    "DynamicalSystems.jl provides some interactive applications for studying dynamical systems. These come into scope once using `DynamicalSystems` along with a Makie backend. The most useful of this applications is `interactive_trajectory`: it allows interactively evolving a dynamical system, and interactively changing its parameters. It is straightforward to use, and in principle we need three inputs:\n",
    "\n",
    "1. A dynamical system instance\n",
    "2. (optional) A set of initial states to evolve from\n",
    "3. (optional) A set of parameters whose values we would like to control interactively\n",
    "\n",
    "For this example, let's use the famous Lorenz-63 system:\n",
    "\n",
    "$$\n",
    "\\begin{aligned}\n",
    "\\dot{X} &= \\sigma(Y-X) \\\\\n",
    "\\dot{Y} &= -XZ + \\rho X -Y \\\\\n",
    "\\dot{Z} &= XY - \\beta Z\n",
    "\\end{aligned}\n",
    "$$"
   ]
  },
  {
   "cell_type": "code",
   "execution_count": 41,
   "metadata": {},
   "outputs": [
    {
     "data": {
      "text/plain": [
       "3-dimensional CoupledODEs\n",
       " deterministic: true\n",
       " discrete time: false\n",
       " in-place:      false\n",
       " dynamic rule:  lorenz_rule\n",
       " ODE solver:    Tsit5\n",
       " ODE kwargs:    (abstol = 1.0e-6, reltol = 1.0e-6)\n",
       " parameters:    [10.0, 28.0, 2.6666666666666665]\n",
       " time:          0.0\n",
       " state:         [10.0, 0.0, 15.0]\n"
      ]
     },
     "metadata": {},
     "output_type": "display_data"
    }
   ],
   "source": [
    "using DynamicalSystems\n",
    "\n",
    "@inbounds function lorenz_rule(u, p, t)\n",
    "    du1 = p[1]*(u[2]-u[1])\n",
    "    du2 = u[1]*(p[2]-u[3]) - u[2]\n",
    "    du3 = u[1]*u[2] - p[3]*u[3]\n",
    "    return SVector{3}(du1, du2, du3)\n",
    "end\n",
    "\n",
    "u0 = [10.0, 0.0, 15.0]\n",
    "σ = 10.0; ρ = 28.0; β = 8/3\n",
    "p0 = [σ, ρ, β]\n",
    "lorenz = CoupledODEs(lorenz_rule, u0, p0)"
   ]
  },
  {
   "attachments": {},
   "cell_type": "markdown",
   "metadata": {},
   "source": [
    "The initial conditions can be somewhat arbitrary, and if not given, `initial_state(ds)` is used."
   ]
  },
  {
   "cell_type": "code",
   "execution_count": 42,
   "metadata": {},
   "outputs": [
    {
     "data": {
      "text/plain": [
       "4-element Vector{Vector{Float64}}:\n",
       " [10.0, 0.0, 15.0]\n",
       " [9.0, -1.0, 14.0]\n",
       " [0.0, 10.0, 15.0]\n",
       " [-2.0, -2.0, 0.1]"
      ]
     },
     "metadata": {},
     "output_type": "display_data"
    }
   ],
   "source": [
    "u0s = [u0, u0 .- ones(3), [0.0, 10.0, 15.0], [-2.0, -2.0, 0.1]]"
   ]
  },
  {
   "attachments": {},
   "cell_type": "markdown",
   "metadata": {},
   "source": [
    "To specify what parameters we would like to change during the time evolution, we must provide a dictionary that maps the parameter _keys_ (same keys as those given to `set_parameter!`) to _ranges of possible values_ for each parameter. In the current example, we would like to be able to change all three parameters:"
   ]
  },
  {
   "cell_type": "code",
   "execution_count": 43,
   "metadata": {},
   "outputs": [
    {
     "data": {
      "text/plain": [
       "Dict{Int64, String} with 3 entries:\n",
       "  2 => \"ρ\"\n",
       "  3 => \"β\"\n",
       "  1 => \"σ\""
      ]
     },
     "metadata": {},
     "output_type": "display_data"
    }
   ],
   "source": [
    "parameter_sliders = Dict(\n",
    "    1 => 1:0.1:30,\n",
    "    2 => 10:0.1:50,\n",
    "    3 => 1:0.01:10.0,\n",
    ")\n",
    "\n",
    "# We can also provide a dictionary mapping keys to names\n",
    "parameter_names = Dict(1 => \"σ\", 2 => \"ρ\", 3 => \"β\")"
   ]
  },
  {
   "attachments": {},
   "cell_type": "markdown",
   "metadata": {},
   "source": [
    "These three ingredients can now be given to `interactive_trajectory`. To bring the function into scope, we load `GLMakie`, and we also set `GLMakie` to its non-inline mode, so that an interactive window can pop up that we can click and drag sliders:"
   ]
  },
  {
   "cell_type": "code",
   "execution_count": 44,
   "metadata": {},
   "outputs": [],
   "source": [
    "using GLMakie\n",
    "GLMakie.activate!(inline = false)\n",
    "\n",
    "fig, dsobs = interactive_trajectory(lorenz, u0s;\n",
    "    parameter_sliders, parameter_names\n",
    ")\n",
    "\n",
    "nothing"
   ]
  },
  {
   "attachments": {},
   "cell_type": "markdown",
   "metadata": {},
   "source": [
    "The function returned two things, the figure (that we have to call `display` on to actually launch the interactive window), and a \"dynamical system observable\" object, which allows creating custom interactive applications, but is too advanced for current lecture."
   ]
  },
  {
   "cell_type": "code",
   "execution_count": 45,
   "metadata": {},
   "outputs": [
    {
     "data": {
      "text/plain": [
       "GLMakie.Screen(...)"
      ]
     },
     "metadata": {},
     "output_type": "display_data"
    }
   ],
   "source": [
    "display(fig)"
   ]
  },
  {
   "attachments": {},
   "cell_type": "markdown",
   "metadata": {},
   "source": [
    "And now we can play around with this window!"
   ]
  },
  {
   "attachments": {},
   "cell_type": "markdown",
   "metadata": {},
   "source": [
    "# Exercises - DynamicalSystems.jl intro"
   ]
  },
  {
   "attachments": {},
   "cell_type": "markdown",
   "metadata": {},
   "source": [
    "## Chaotic and not chaotic parametric regimes"
   ]
  },
  {
   "attachments": {},
   "cell_type": "markdown",
   "metadata": {},
   "source": [
    "Consider the Roessler continuous time dynamical system:\n",
    "$$\n",
    "\n",
    "\\begin{align}\n",
    "\\dot{x} &= -y-z \\\\\n",
    "\\dot{y} &= x+ay \\\\\n",
    "\\dot{z} &= b + z(x-c)\n",
    "\\end{align}\n",
    "$$\n",
    "\n",
    "with initial parameters `p = [0.2, 0.2, 3.0] = a, b, c`. Use `u0 = [1, -2, 0.1]` as the initial condition always. \n",
    "\n",
    "Initialize a `DynamicalSystem` for the Roessler system. Then, vary the parameters $a \\in (0, 1), c \\in (0. 10)$ to produce a heatmap of the maximum Lyapunov exponent values versus the two parameters. Identify parameter values where the Roessler system is chaotic, i.e., it has positive Lyapunov exponent.\n",
    "\n",
    "_Hint: use the keyword `Ttr` in `lyapunov` to evolve the system for a transient amount of time before initializing the estimation of the Lyapunov exponent._"
   ]
  },
  {
   "attachments": {},
   "cell_type": "markdown",
   "metadata": {},
   "source": [
    "## Ikeda map fractal dimension"
   ]
  },
  {
   "attachments": {},
   "cell_type": "markdown",
   "metadata": {},
   "source": [
    "Define and simulate the discrete time Ikeda map:\n",
    "$$\n",
    "\\begin{aligned}\n",
    "t &= c - \\frac{d}{1 + x_n^2 + y_n^2} \\\\\n",
    "x_{n+1} &= a + b(x_n \\cos(t) - y_n\\sin(t)) \\\\\n",
    "y_{n+1} &= b(x_n\\sin(t) + y_n \\cos(t))\n",
    "\\end{aligned}\n",
    "$$\n",
    "with initial condition `u = ones(2)` and parameters `p = [6, 0.9, 3.1, 6] = a, b, c, d`. For these initial parameters the system generates an absolutely stunning attractor that has two seemingly separated components!\n",
    "\n",
    "Simulate the attractor by evolving a trajectory of the system, which will give you a state space set `A`. Scatter plot the two columns of `A`. Then calculate its fractal dimension using the `grassberger_proccacia_dim` function. This function provides an _automated_ algorithm to estimate a fractal dimension. In a realistic application scenario, you should not use the automated function and instead examine careful the steps the automated function does. But for now we use the automated stuff!\n",
    "\n",
    "Then process the state space set `A` containing the attractor so that you can generate two new state space sets: one with all points with x coordinate less than 2.5, and one with x more than 2.5. Compute the fractal dimension for the two subsets. Is any set more \"fractal\" than the other (i.e., it has higher fractal dimension)?"
   ]
  },
  {
   "cell_type": "markdown",
   "metadata": {},
   "source": [
    "## Live exploration of a dynamical system"
   ]
  },
  {
   "cell_type": "markdown",
   "metadata": {},
   "source": [
    "Consider the Roessler dynamical system\n",
    "$$\n",
    "\\begin{aligned}\n",
    "\\dot{x} &= -y-z \\\\\n",
    "\\dot{y} &= x+ay \\\\\n",
    "\\dot{z} &= b + z(x-c)\n",
    "\\end{aligned}\n",
    "$$\n",
    "\n",
    "and consider two initial conditions _set_ to:\n",
    "```julia\n",
    "u0s = [\n",
    "    [-1.25, -0.72, -0.1], \n",
    "    [0.72, 1.28, 0.21]\n",
    "]\n",
    "```\n",
    "\n",
    "Use the interactive timeevolution GUI app to explore this dynamical system. \n",
    "Allow the system parameters to range from $a \\in (0, 1), b \\in (0, 1), c \\in (0, 10)$. Explore various combinations of parameters, until you find a combination where the system is _multistable_: each of the two initial conditions goes to a different attractor.\n",
    "\n",
    "_Hint: reset the time-evolution after you change parameters, to ensure that the system state starts from the provided initial conditions._"
   ]
  }
 ],
 "metadata": {
  "kernelspec": {
   "display_name": "Julia 1.9.1",
   "language": "julia",
   "name": "julia-1.9"
  },
  "language_info": {
   "file_extension": ".jl",
   "mimetype": "application/julia",
   "name": "julia",
   "version": "1.9.1"
  },
  "orig_nbformat": 4
 },
 "nbformat": 4,
 "nbformat_minor": 2
}
