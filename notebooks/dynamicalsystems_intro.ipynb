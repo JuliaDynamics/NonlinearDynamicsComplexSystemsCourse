{
 "cells": [
  {
   "cell_type": "markdown",
   "metadata": {},
   "source": [
    "# Overarching tutorial for DynamicalSystems.jl"
   ]
  },
  {
   "cell_type": "markdown",
   "metadata": {},
   "source": [
    "This page serves as a short but to-the-point introduction to the **DynamicalSystems.jl** library. It outlines the core components, and how they establish an interface that is used by the rest of the library. It also provides a couple of usage examples to connect the various packages of the library together."
   ]
  },
  {
   "cell_type": "markdown",
   "metadata": {},
   "source": [
    "Going through this tutorial should take you about 20 minutes."
   ]
  },
  {
   "cell_type": "markdown",
   "metadata": {},
   "source": [
    "## Installation"
   ]
  },
  {
   "cell_type": "markdown",
   "metadata": {},
   "source": [
    "To install **DynamicalSystems.jl**, simply do:\n",
    "```julia\n",
    "using Pkg; Pkg.add(\"DynamicalSystems\")\n",
    "```"
   ]
  },
  {
   "cell_type": "markdown",
   "metadata": {},
   "source": [
    "This installs several packages for the Julia language, that are all exported under a common name. To use them, simply do:\n",
    "```julia\n",
    "using DynamicalSystems\n",
    "```\n",
    "in your Julia session."
   ]
  },
  {
   "cell_type": "markdown",
   "metadata": {},
   "source": [
    "### Package versions used"
   ]
  },
  {
   "cell_type": "code",
   "execution_count": null,
   "metadata": {},
   "outputs": [],
   "source": [
    "import Pkg"
   ]
  },
  {
   "cell_type": "markdown",
   "metadata": {},
   "source": [
    "Activate an environment in the folder containing the notebook"
   ]
  },
  {
   "cell_type": "code",
   "execution_count": null,
   "metadata": {},
   "outputs": [],
   "source": [
    "Pkg.activate(dirname(@__DIR__))\n",
    "Pkg.add([\"DynamicalSystems\", \"CairoMakie\", \"GLMakie\", \"OrdinaryDiffEq\", \"BenchmarkTools\"])\n",
    "Pkg.status([\"DynamicalSystems\", \"CairoMakie\", \"GLMakie\", \"OrdinaryDiffEq\", \"BenchmarkTools\"]; mode = Pkg.PKGMODE_MANIFEST)"
   ]
  },
  {
   "cell_type": "markdown",
   "metadata": {},
   "source": [
    "## DynamicalSystems.jl summary"
   ]
  },
  {
   "cell_type": "code",
   "execution_count": null,
   "metadata": {},
   "outputs": [],
   "source": [
    "using DynamicalSystems\n",
    "@docs DynamicalSystems"
   ]
  },
  {
   "cell_type": "markdown",
   "metadata": {},
   "source": [
    "## Core components"
   ]
  },
  {
   "cell_type": "markdown",
   "metadata": {},
   "source": [
    "The individual packages that compose `DynamicalSystems` interact flawlessly with each other because of the following two components:"
   ]
  },
  {
   "cell_type": "markdown",
   "metadata": {},
   "source": [
    "1. The `StateSpaceSet`, which represents numerical data. They can be observed or measured from experiments, sampled trajectories of dynamical systems, or just unordered sets in a state space. A `StateSpaceSet` is a container of equally-sized points, representing multivariate timeseries or multivariate datasets. Timeseries, which are univariate sets, are represented by the `AbstractVector{<:Real}` Julia base type.\n",
    "2. The `DynamicalSystem`, which is the abstract representation of a dynamical system with a known dynamic evolution rule. `DynamicalSystem` defines an extendable interface, but typically one uses existing implementations such as `DeterministicIteratedMap` or `CoupledODEs`."
   ]
  },
  {
   "cell_type": "markdown",
   "metadata": {},
   "source": [
    "## Making dynamical systems"
   ]
  },
  {
   "cell_type": "markdown",
   "metadata": {},
   "source": [
    "In the majority of cases, to make a dynamical system one needs three things:"
   ]
  },
  {
   "cell_type": "markdown",
   "metadata": {},
   "source": [
    "1. The dynamic rule `f`: A Julia function that provides the instructions of how to evolve the dynamical system in time.\n",
    "2. The state `u`: An array-like container that contains the variables of the dynamical system and also defines the starting state of the system.\n",
    "3. The parameters `p`: An arbitrary container that parameterizes `f`."
   ]
  },
  {
   "cell_type": "markdown",
   "metadata": {},
   "source": [
    "For most concrete implementations of `DynamicalSystem` there are two ways of defining `f, u`.\n",
    "The distinction is done on whether `f` is defined as an in-place (iip) function or out-of-place (oop) function."
   ]
  },
  {
   "cell_type": "markdown",
   "metadata": {},
   "source": [
    "* **oop** : `f` **must** be in the form `f(u, p, t) -> out`\n",
    "    which means that given a state `u::SVector{<:Real}` and some parameter container\n",
    "    `p` it returns the output of `f` as an `SVector{<:Real}` (static vector).\n",
    "* **iip** : `f` **must** be in the form `f!(out, u, p, t)`\n",
    "    which means that given a state `u::AbstractArray{<:Real}` and some parameter container `p`,\n",
    "    it writes in-place the output of `f` in `out::AbstractArray{<:Real}`.\n",
    "    The function **must** return `nothing` as a final statement."
   ]
  },
  {
   "cell_type": "markdown",
   "metadata": {},
   "source": [
    "`t` stands for current time in both cases.\n",
    "**iip** is suggested for systems with high dimension and **oop** for small.\n",
    "The break-even point is between 10 to 100 dimensions but should be benchmarked\n",
    "on a case-by-case basis as it depends on the complexity of `f`."
   ]
  },
  {
   "cell_type": "markdown",
   "metadata": {},
   "source": [
    "!!! note \"Autonomous vs non-autonomous systems\"\n",
    "    Whether the dynamical system is autonomous (`f` doesn't depend on time) or not, it is still necessary to include `t` as an argument to `f`. Some algorithms utilize this information, some do not, but we prefer to keep a consistent interface either way."
   ]
  },
  {
   "cell_type": "markdown",
   "metadata": {},
   "source": [
    "### Example: Henon map"
   ]
  },
  {
   "cell_type": "markdown",
   "metadata": {},
   "source": [
    "Let's make the Henon map, defined as\n",
    "$$\n",
    "\\begin{aligned}\n",
    "x_{n+1} &= 1 - ax^2_n+y_n \\\\\n",
    "y_{n+1} & = bx_n\n",
    "\\end{aligned}\n",
    "$$\n",
    "with parameters $a = 1.4, b = 0.3$."
   ]
  },
  {
   "cell_type": "markdown",
   "metadata": {},
   "source": [
    "First, we define the dynamic rule as a standard Julia function. Since the dynamical system is only two-dimensional, we should use the _out-of-place_ form that returns an `SVector` with the next state:"
   ]
  },
  {
   "cell_type": "code",
   "execution_count": null,
   "metadata": {},
   "outputs": [],
   "source": [
    "using DynamicalSystems\n",
    "\n",
    "function henon_rule(u, p, n) # here `n` is \"time\", but we don't use it.\n",
    "    x, y = u # system state\n",
    "    a, b = p # system parameters\n",
    "    xn = 1.0 - a*x^2 + y\n",
    "    yn = b*x\n",
    "    return SVector(xn, yn)\n",
    "end"
   ]
  },
  {
   "cell_type": "markdown",
   "metadata": {},
   "source": [
    "Then, we define initial state and parameters"
   ]
  },
  {
   "cell_type": "code",
   "execution_count": null,
   "metadata": {},
   "outputs": [],
   "source": [
    "u0 = [0.2, 0.3]\n",
    "p0 = [1.4, 0.3]"
   ]
  },
  {
   "cell_type": "markdown",
   "metadata": {},
   "source": [
    "Lastly, we give these three to the `DeterministicIteratedMap`:"
   ]
  },
  {
   "cell_type": "code",
   "execution_count": null,
   "metadata": {},
   "outputs": [],
   "source": [
    "henon = DeterministicIteratedMap(henon_rule, u0, p0)"
   ]
  },
  {
   "cell_type": "markdown",
   "metadata": {},
   "source": [
    "`henon` is a `DynamicalSystem`, one of the two core structures of the library.\n",
    "They can evolved interactively, and queried, using the interface defined by `DynamicalSystem`. The simplest thing you can do with a `DynamicalSystem` is to get its trajectory:"
   ]
  },
  {
   "cell_type": "code",
   "execution_count": null,
   "metadata": {},
   "outputs": [],
   "source": [
    "total_time = 10_000\n",
    "X, t = trajectory(henon, total_time)\n",
    "X"
   ]
  },
  {
   "cell_type": "markdown",
   "metadata": {},
   "source": [
    "`X` is a `StateSpaceSet`, the second of the core structures of the library. We'll see below how, and where, to use a `StateSpaceset`, but for now let's just do a scatter plot"
   ]
  },
  {
   "cell_type": "code",
   "execution_count": null,
   "metadata": {},
   "outputs": [],
   "source": [
    "using CairoMakie\n",
    "scatter(X[:, 1], X[:, 2])"
   ]
  },
  {
   "cell_type": "markdown",
   "metadata": {},
   "source": [
    "### Example: Lorenz96"
   ]
  },
  {
   "cell_type": "markdown",
   "metadata": {},
   "source": [
    "Let's also make another dynamical system, the Lorenz96 model:\n",
    "$$\n",
    "\\frac{dx_i}{dt} = (x_{i+1}-x_{i-2})x_{i-1} - x_i + F\n",
    "$$\n",
    "for $i \\in \\{1, \\ldots, N\\}$ and $N+j=j$."
   ]
  },
  {
   "cell_type": "markdown",
   "metadata": {},
   "source": [
    "Here, instead of a discrete time map we have $N$ coupled ordinary differential equations. However, creating the dynamical system works out just like above, but using `CoupledODEs` instead of `DeterministicIteratedMap`."
   ]
  },
  {
   "cell_type": "markdown",
   "metadata": {},
   "source": [
    "First, we make the dynamic rule function. Since this dynamical system can be arbitrarily high-dimensional, we prefer to use the _in-place_ form for `f`, overwriting in place the rate of change in a pre-allocated container. It is [customary](https://docs.julialang.org/en/v1/manual/style-guide/#bang-convention) to append the name of functions that modify their arguments in-place with a bang (`!`)."
   ]
  },
  {
   "cell_type": "code",
   "execution_count": null,
   "metadata": {},
   "outputs": [],
   "source": [
    "function lorenz96_rule!(du, u, p, t)\n",
    "    F = p[1]; N = length(u)\n",
    "    # 3 edge cases\n",
    "    du[1] = (u[2] - u[N - 1]) * u[N] - u[1] + F\n",
    "    du[2] = (u[3] - u[N]) * u[1] - u[2] + F\n",
    "    du[N] = (u[1] - u[N - 2]) * u[N - 1] - u[N] + F\n",
    "    # then the general case\n",
    "    for n in 3:(N - 1)\n",
    "        du[n] = (u[n + 1] - u[n - 2]) * u[n - 1] - u[n] + F\n",
    "    end\n",
    "    return nothing # always `return nothing` for in-place form!\n",
    "end"
   ]
  },
  {
   "cell_type": "markdown",
   "metadata": {},
   "source": [
    "then, like before, we define an initial state and parameters, and initialize the system"
   ]
  },
  {
   "cell_type": "code",
   "execution_count": null,
   "metadata": {},
   "outputs": [],
   "source": [
    "N = 6\n",
    "u0 = range(0.1, 1; length = N)\n",
    "p0 = [8.0]\n",
    "lorenz96 = CoupledODEs(lorenz96_rule!, u0, p0)"
   ]
  },
  {
   "cell_type": "markdown",
   "metadata": {},
   "source": [
    "and, again like before, we may obtain a trajectory the same way"
   ]
  },
  {
   "cell_type": "code",
   "execution_count": null,
   "metadata": {},
   "outputs": [],
   "source": [
    "total_time = 12.5\n",
    "sampling_time = 0.02\n",
    "Y, t = trajectory(lorenz96, total_time; Ttr = 2.2, Δt = sampling_time)\n",
    "Y"
   ]
  },
  {
   "cell_type": "markdown",
   "metadata": {},
   "source": [
    "We can't scatterplot something 6-dimensional but we can visualize all timeseries"
   ]
  },
  {
   "cell_type": "code",
   "execution_count": null,
   "metadata": {},
   "outputs": [],
   "source": [
    "fig = Figure()\n",
    "ax = Axis(fig[1, 1]; xlabel = \"time\", ylabel = \"variable\")\n",
    "for var in columns(Y)\n",
    "    lines!(ax, t, var)\n",
    "end\n",
    "fig"
   ]
  },
  {
   "cell_type": "markdown",
   "metadata": {},
   "source": [
    "### ODE solving and choosing solver"
   ]
  },
  {
   "cell_type": "markdown",
   "metadata": {},
   "source": [
    "Continuous time dynamical systems are evolved through DifferentialEquations.jl.\n",
    "In this sense, the above `trajectory` function is a simplified version of `DifferentialEquations.solve`.\n",
    "If you only care about evolving a dynamical system forwards in time, you are probably better off using\n",
    "DifferentialEquations.jl directly. DynamicalSystems.jl can be used to do many other things that either occur during\n",
    "the time evolution or after it, see the section below on using dynamical systems."
   ]
  },
  {
   "cell_type": "markdown",
   "metadata": {},
   "source": [
    "When initializing a `CoupledODEs` you can tune the solver properties to your heart's\n",
    "content using any of the [ODE solvers](https://diffeq.sciml.ai/latest/solvers/ode_solve/)\n",
    "and any of the [common solver options](https://diffeq.sciml.ai/latest/basics/common_solver_opts/).\n",
    "For example:"
   ]
  },
  {
   "cell_type": "code",
   "execution_count": null,
   "metadata": {},
   "outputs": [],
   "source": [
    "using OrdinaryDiffEq # accessing the ODE solvers\n",
    "diffeq = (alg = Vern9(), abstol = 1e-9, reltol = 1e-9)\n",
    "lorenz96_vern = ContinuousDynamicalSystem(lorenz96_rule!, u0, p0; diffeq)"
   ]
  },
  {
   "cell_type": "code",
   "execution_count": null,
   "metadata": {},
   "outputs": [],
   "source": [
    "Y, t = trajectory(lorenz96_vern, total_time; Ttr = 2.2, Δt = sampling_time)\n",
    "Y[end]"
   ]
  },
  {
   "cell_type": "markdown",
   "metadata": {},
   "source": [
    "The choice of the solver algorithm can have **huge impact on the performance and stability of the ODE integration!**\n",
    "We will showcase this with two simple examples"
   ]
  },
  {
   "cell_type": "markdown",
   "metadata": {},
   "source": [
    "#### Higher accuracy, higher order"
   ]
  },
  {
   "cell_type": "markdown",
   "metadata": {},
   "source": [
    "The solver `Tsit5` (the default solver) is most performant when medium-high error\n",
    "tolerances are requested. When we require very small errors, choosing a different solver\n",
    "can be more accurate. This can be especially impactful for chaotic dynamical systems.\n",
    "Let's first expliclty ask for a given accuracy when solving the ODE by passing the\n",
    "keywords `abstol, reltol` (for absolute and relative tolerance respectively),\n",
    "and compare performance to a naive solver one would use:"
   ]
  },
  {
   "cell_type": "code",
   "execution_count": null,
   "metadata": {},
   "outputs": [],
   "source": [
    "using BenchmarkTools: @btime\n",
    "using OrdinaryDiffEq: BS3 # equivalent of odeint23\n",
    "\n",
    "for alg in (BS3(), Vern9())\n",
    "    diffeq = (; alg, abstol = 1e-12, reltol = 1e-12)\n",
    "    lorenz96 = CoupledODEs(lorenz96_rule!, u0, p0; diffeq)\n",
    "    @btime step!($lorenz96, 100.0) # evolve for 100 time units\n",
    "end"
   ]
  },
  {
   "cell_type": "markdown",
   "metadata": {},
   "source": [
    "The performance difference is dramatic!"
   ]
  },
  {
   "cell_type": "markdown",
   "metadata": {},
   "source": [
    "#### Stiff problems"
   ]
  },
  {
   "cell_type": "markdown",
   "metadata": {},
   "source": [
    "A \"stiff\" ODE problem is one that can be numerically unstable unless the step size (or equivalently, the step error tolerances) are extremely small. There are several situations where a problem may be come \"stiff\":"
   ]
  },
  {
   "cell_type": "markdown",
   "metadata": {},
   "source": [
    "- The derivative values can get very large for some state values.\n",
    "- There is a large _timescale separation_ between the dynamics of the variables\n",
    "- There is a large _speed separation_ between different state space regions"
   ]
  },
  {
   "cell_type": "markdown",
   "metadata": {},
   "source": [
    "One must be aware whether this is possible for their system and choose a solver that is better suited to tackle stiff problems. If not, a solution may diverge and the ODE integrator will throw an error or a warning."
   ]
  },
  {
   "cell_type": "markdown",
   "metadata": {},
   "source": [
    "Many of the problems in DifferentialEquations.jl are suitable for dealing with stiff problems. We can create a stiff problem by using the well known Van der Pol  oscillator _with a timescale separation_:"
   ]
  },
  {
   "cell_type": "markdown",
   "metadata": {},
   "source": [
    "$$\n",
    "\\begin{aligned}\n",
    "\\dot{x} & = y \\\\\n",
    "\\dot{y} /  \\mu &= (1-x^2)y - x\n",
    "\\end{aligned}\n",
    "$$"
   ]
  },
  {
   "cell_type": "markdown",
   "metadata": {},
   "source": [
    "with $\\mu$ being the timescale of the $y$ variable in units of the timescale of the $x$ variable. For very large values of $\\mu$ this problem becomes stiff."
   ]
  },
  {
   "cell_type": "markdown",
   "metadata": {},
   "source": [
    "Let's compare"
   ]
  },
  {
   "cell_type": "code",
   "execution_count": null,
   "metadata": {},
   "outputs": [],
   "source": [
    "function vanderpol_rule(u, μ, t)\n",
    "    x, y = u\n",
    "    dx = y\n",
    "    dy = μ*((1-x^2)*y - x)\n",
    "    return SVector(dx, dy)\n",
    "end\n",
    "\n",
    "μ = 1e6\n",
    "\n",
    "for alg in (Tsit5(), Rodas5P()) # default vs specialized solver\n",
    "    diffeq = (; alg, abstol = 1e-12, reltol = 1e-12, maxiters = typemax(Int))\n",
    "    vdp = CoupledODEs(vanderpol_rule, SVector(1.0, 1.0), μ; diffeq)\n",
    "    @btime step!($vdp, 100.0)\n",
    "end"
   ]
  },
  {
   "cell_type": "markdown",
   "metadata": {},
   "source": [
    "We see that the stiff solver `Rodas5P` is much faster than the default `Tsit5` when there is a large timescale separation. This happened because `Rodas5P` required much less steps to integrated the same total amount of time. In fact, there are cases where regular solvers will _fail_ to integrate the ODE if the problem is very stiff, e.g. in the [ROBER example](https://docs.sciml.ai/SciMLBenchmarksOutput/stable/StiffODE/ROBER/)."
   ]
  },
  {
   "cell_type": "markdown",
   "metadata": {},
   "source": [
    "So using an appropriate solver really does matter!\n",
    "For more information on choosing solvers consult the DifferentialEquations.jl documentation."
   ]
  },
  {
   "cell_type": "markdown",
   "metadata": {},
   "source": [
    "## Using dynamical systems"
   ]
  },
  {
   "cell_type": "markdown",
   "metadata": {},
   "source": [
    "You may use the `DynamicalSystem` interface to develop algorithms that utilize dynamical systems with a known evolution rule. The two main packages of the library that do this are `ChaosTools` and `Attractors`. For example, you may want to compute the Lyapunov spectrum of the Lorenz96 system from above. This is as easy as calling the `lyapunovspectrum` function with `lorenz96`"
   ]
  },
  {
   "cell_type": "code",
   "execution_count": null,
   "metadata": {},
   "outputs": [],
   "source": [
    "steps = 10_000\n",
    "lyapunovspectrum(lorenz96, steps)"
   ]
  },
  {
   "cell_type": "markdown",
   "metadata": {},
   "source": [
    "As expected, there is at least one positive Lyapunov exponent, because the system is chaotic, and at least one zero Lyapunov exponent, because the system is continuous time."
   ]
  },
  {
   "cell_type": "markdown",
   "metadata": {},
   "source": [
    "Alternatively, you may want to estimate the basins of attraction of a multistable dynamical system. The Henon map is \"multistable\" in the sense that some initial conditions diverge to infinity, and some others converge to a chaotic attractor. Computing these basins of attraction is simple with `Attractors`, and would work as follows:"
   ]
  },
  {
   "cell_type": "code",
   "execution_count": null,
   "metadata": {},
   "outputs": [],
   "source": [
    "# define a state space grid to compute the basins on:\n",
    "xg = yg = range(-2, 2; length = 201)\n",
    "# find attractors using recurrences in state space:\n",
    "mapper = AttractorsViaRecurrences(henon, (xg, yg); sparse = false)\n",
    "# compute the full basins of attraction:\n",
    "basins, attractors = basins_of_attraction(mapper; show_progress = false)"
   ]
  },
  {
   "cell_type": "markdown",
   "metadata": {},
   "source": [
    "Let's visualize the result"
   ]
  },
  {
   "cell_type": "code",
   "execution_count": null,
   "metadata": {},
   "outputs": [],
   "source": [
    "heatmap_basins_attractors((xg, yg), basins, attractors)"
   ]
  },
  {
   "cell_type": "markdown",
   "metadata": {},
   "source": [
    "One last thing to highlight in this short overview are the interactive GUI apps one\n",
    "can launch to examine a `DynamicalSystem`. The simplest is `interactive_trajectory_timeseries`.\n",
    "To actually make it interactive one needs to enable GLMakie.jl as a backend:"
   ]
  },
  {
   "cell_type": "markdown",
   "metadata": {},
   "source": [
    "```julia\n",
    "import GLMakie\n",
    "GLMakie.activate!()\n",
    "```"
   ]
  },
  {
   "cell_type": "markdown",
   "metadata": {},
   "source": [
    "and then launch the app:"
   ]
  },
  {
   "cell_type": "code",
   "execution_count": null,
   "metadata": {},
   "outputs": [],
   "source": [
    "u0s = [10rand(5) for _ in 1:3]\n",
    "parameter_sliders = Dict(1 => 0:0.01:32)\n",
    "\n",
    "fig, dsobs = interactive_trajectory_timeseries(\n",
    "    lorenz96, [1, 2, 3, 4, 5], u0s;\n",
    "    Δt = 0.02, parameter_sliders\n",
    ")\n",
    "step!(dsobs, 500) # hide\n",
    "fig"
   ]
  },
  {
   "cell_type": "markdown",
   "metadata": {},
   "source": [
    "### Developing new algorithms"
   ]
  },
  {
   "cell_type": "markdown",
   "metadata": {},
   "source": [
    "You could also be using a `DynamicalSystem` instance directly to build your own algorithm if it isn't already implemented (and then later contribute it so it _is_ implemented ;) ). A dynamical system can be evolved forwards in time using `step!`:"
   ]
  },
  {
   "cell_type": "code",
   "execution_count": null,
   "metadata": {},
   "outputs": [],
   "source": [
    "henon"
   ]
  },
  {
   "cell_type": "markdown",
   "metadata": {},
   "source": [
    "Notice how the time is not 0, because `henon` has already been stepped when we called the function `basins_of_attraction` with it. We can step it more:"
   ]
  },
  {
   "cell_type": "code",
   "execution_count": null,
   "metadata": {},
   "outputs": [],
   "source": [
    "step!(henon)"
   ]
  },
  {
   "cell_type": "code",
   "execution_count": null,
   "metadata": {},
   "outputs": [],
   "source": [
    "step!(henon, 2)"
   ]
  },
  {
   "cell_type": "markdown",
   "metadata": {},
   "source": [
    "For more information on how to directly use `DynamicalSystem` instances, see the documentation of `DynamicalSystemsBase`."
   ]
  },
  {
   "cell_type": "markdown",
   "metadata": {},
   "source": [
    "## State space sets"
   ]
  },
  {
   "cell_type": "markdown",
   "metadata": {},
   "source": [
    "Let's recall that the output of the `trajectory` function is a `StateSpaceSet`:"
   ]
  },
  {
   "cell_type": "code",
   "execution_count": null,
   "metadata": {},
   "outputs": [],
   "source": [
    "X"
   ]
  },
  {
   "cell_type": "markdown",
   "metadata": {},
   "source": [
    "It is printed like a matrix where each column is the timeseries of each dynamic variable. In reality, it is a vector of statically sized vectors (for performance reasons). When indexed with 1 index, it behaves like a vector of vectors"
   ]
  },
  {
   "cell_type": "code",
   "execution_count": null,
   "metadata": {},
   "outputs": [],
   "source": [
    "X[1]"
   ]
  },
  {
   "cell_type": "code",
   "execution_count": null,
   "metadata": {},
   "outputs": [],
   "source": [
    "X[2:5]"
   ]
  },
  {
   "cell_type": "markdown",
   "metadata": {},
   "source": [
    "When indexed with two indices, it behaves like a matrix"
   ]
  },
  {
   "cell_type": "code",
   "execution_count": null,
   "metadata": {},
   "outputs": [],
   "source": [
    "X[7:13, 2] # 2nd column"
   ]
  },
  {
   "cell_type": "markdown",
   "metadata": {},
   "source": [
    "When iterated, it iterates over the contained points"
   ]
  },
  {
   "cell_type": "code",
   "execution_count": null,
   "metadata": {},
   "outputs": [],
   "source": [
    "for (i, point) in enumerate(X)\n",
    "    @show point\n",
    "    i > 5 && break\n",
    "end"
   ]
  },
  {
   "cell_type": "code",
   "execution_count": null,
   "metadata": {},
   "outputs": [],
   "source": [
    "map(point -> point[1] + 1/(point[2]+0.1), X)"
   ]
  },
  {
   "cell_type": "markdown",
   "metadata": {},
   "source": [
    "The columns of the set are obtained with the convenience `columns` function"
   ]
  },
  {
   "cell_type": "code",
   "execution_count": null,
   "metadata": {},
   "outputs": [],
   "source": [
    "x, y = columns(X)\n",
    "summary.((x, y))"
   ]
  },
  {
   "cell_type": "markdown",
   "metadata": {},
   "source": [
    "## Using state space sets"
   ]
  },
  {
   "cell_type": "markdown",
   "metadata": {},
   "source": [
    "Several packages of the library deal with `StateSpaceSets`."
   ]
  },
  {
   "cell_type": "markdown",
   "metadata": {},
   "source": [
    "You could use `ComplexityMeasures` to obtain the entropy, or other complexity measures, of a given set. Below, we obtain the entropy of the natural density of the chaotic attractor by partitioning into a histogram of approximately `50` bins per dimension:"
   ]
  },
  {
   "cell_type": "code",
   "execution_count": null,
   "metadata": {},
   "outputs": [],
   "source": [
    "prob_est = ValueHistogram(50)\n",
    "entropy(prob_est, X)"
   ]
  },
  {
   "cell_type": "markdown",
   "metadata": {},
   "source": [
    "Or, obtain the permutation and sample entropies of the two columns of `X`:"
   ]
  },
  {
   "cell_type": "code",
   "execution_count": null,
   "metadata": {},
   "outputs": [],
   "source": [
    "pex = entropy_permutation(x; m = 4)\n",
    "sey = entropy_sample(y; m = 2)\n",
    "pex, sey"
   ]
  },
  {
   "cell_type": "markdown",
   "metadata": {},
   "source": [
    "Alternatively, you could use `FractalDimensions` to get the fractal dimensions of the chaotic attractor of the henon map using the Grassberger-Procaccia algorithm:"
   ]
  },
  {
   "cell_type": "code",
   "execution_count": null,
   "metadata": {},
   "outputs": [],
   "source": [
    "grassberger_proccacia_dim(X)"
   ]
  },
  {
   "cell_type": "markdown",
   "metadata": {},
   "source": [
    "Or, you could obtain a recurrence matrix of a state space set with `RecurrenceAnalysis`"
   ]
  },
  {
   "cell_type": "code",
   "execution_count": null,
   "metadata": {},
   "outputs": [],
   "source": [
    "R = RecurrenceMatrix(Y, 8.0)\n",
    "Rg = grayscale(R)\n",
    "rr = recurrencerate(R)\n",
    "heatmap(Rg; colormap = :grays,\n",
    "    axis = (title = \"recurrence rate = $(round(rr; digits = 3))\", aspect = 1)\n",
    ")"
   ]
  },
  {
   "cell_type": "markdown",
   "metadata": {},
   "source": [
    "## More nonlinear timeseries analysis"
   ]
  },
  {
   "cell_type": "markdown",
   "metadata": {},
   "source": [
    "A `trajectory` of a known dynamical system is one way to obtain a `StateSpaceSet`. However, another common way is via a delay coordinates embedding of a measured/observed timeseries. For example, we could use `optimal_separated_de` from `DelayEmbeddings` to create an optimized delay coordinates embedding of a timeseries"
   ]
  },
  {
   "cell_type": "code",
   "execution_count": null,
   "metadata": {},
   "outputs": [],
   "source": [
    "w = Y[:, 1] # first variable of Lorenz96\n",
    "𝒟, τ, e = optimal_separated_de(w)\n",
    "𝒟"
   ]
  },
  {
   "cell_type": "markdown",
   "metadata": {},
   "source": [
    "and compare"
   ]
  },
  {
   "cell_type": "code",
   "execution_count": null,
   "metadata": {},
   "outputs": [],
   "source": [
    "fig = Figure()\n",
    "axs = [Axis3(fig[1, i]) for i in 1:2]\n",
    "for (S, ax) in zip((Y, 𝒟), axs)\n",
    "    lines!(ax, S[:, 1], S[:, 2], S[:, 3])\n",
    "end\n",
    "fig"
   ]
  },
  {
   "cell_type": "markdown",
   "metadata": {},
   "source": [
    "Since `𝒟` is just another state space set, we could be using any of the above analysis pipelines on it just as easily."
   ]
  },
  {
   "cell_type": "markdown",
   "metadata": {},
   "source": [
    "The last package to mention here is `TimeseriesSurrogates`, which ties with all other observed/measured data analysis by providing a framework for confidence/hypothesis testing. For example, if we had a measured timeseries but we were not sure whether it represents a deterministic system with structure in the state space, or mostly noise, we could do a surrogate test. For this, we use `surrogenerator` and `RandomFourier` from `TimeseriesSurrogates`, and the `generalized_dim` from `FractalDimensions` (because it performs better in noisy sets)"
   ]
  },
  {
   "cell_type": "code",
   "execution_count": null,
   "metadata": {},
   "outputs": [],
   "source": [
    "x # Henon map timeseries\n",
    "# contaminate with noise\n",
    "using Random: Xoshiro\n",
    "rng = Xoshiro(1234)\n",
    "x .+= randn(rng, length(x))/100\n",
    "# compute noise-contaminated fractal dim.\n",
    "Δ_orig = generalized_dim(embed(x, 2, 1))"
   ]
  },
  {
   "cell_type": "markdown",
   "metadata": {},
   "source": [
    "And we do the surrogate test"
   ]
  },
  {
   "cell_type": "code",
   "execution_count": null,
   "metadata": {},
   "outputs": [],
   "source": [
    "surrogate_method = RandomFourier()\n",
    "sgen = surrogenerator(x, surrogate_method, rng)\n",
    "Δ_surr = map(1:1000) do i\n",
    "    s = sgen()\n",
    "    generalized_dim(embed(s, 2, 1))\n",
    "end"
   ]
  },
  {
   "cell_type": "markdown",
   "metadata": {},
   "source": [
    "and visualize the test result"
   ]
  },
  {
   "cell_type": "code",
   "execution_count": null,
   "metadata": {},
   "outputs": [],
   "source": [
    "fig, ax = hist(Δ_surr)\n",
    "vlines!(ax, Δ_orig)\n",
    "fig"
   ]
  },
  {
   "cell_type": "markdown",
   "metadata": {},
   "source": [
    "since the real value is outside the distribution we have confidence the data are not pure noise."
   ]
  },
  {
   "cell_type": "markdown",
   "metadata": {},
   "source": [
    "## Integration with ModelingToolkit.jl"
   ]
  },
  {
   "cell_type": "markdown",
   "metadata": {},
   "source": [
    "DynamicalSystems.jl understands when a model has been generated via [ModelingToolkit.jl](https://docs.sciml.ai/ModelingToolkit/stable/). The symbolic variables used in ModelingToolkit.jl can be used to access the state or parameters of the dynamical system."
   ]
  },
  {
   "cell_type": "markdown",
   "metadata": {},
   "source": [
    "To access this functionality, the `DynamicalSystem` must be created from a `DEProblem` of the SciML ecosystem, and the `DEProblem` itself must be created from a ModelingToolkit.jl model."
   ]
  },
  {
   "cell_type": "markdown",
   "metadata": {},
   "source": [
    "!!! note \"ProcessBasedModelling.jl\"\n",
    "    ProcessBasedModelling.jl is an extension to ModelingToolkit.jl for creating\n",
    "    models from a set of equations. It has been designed to be useful for scenarios\n",
    "    applicable to a typical nonlinear dynamics analysis workflow,\n",
    "    and provides better error messages during system construction than MTK.\n",
    "    Have a look [at its docs](https://juliadynamics.github.io/ProcessBasedModelling.jl/stable/)!"
   ]
  },
  {
   "cell_type": "markdown",
   "metadata": {},
   "source": [
    "Let's create a the Roessler system as an MTK model:"
   ]
  },
  {
   "cell_type": "code",
   "execution_count": null,
   "metadata": {},
   "outputs": [],
   "source": [
    "using ModelingToolkit\n",
    "\n",
    "@variables t # use unitless time\n",
    "D = Differential(t)\n",
    "@mtkmodel Roessler begin\n",
    "    @parameters begin\n",
    "        a = 0.2\n",
    "        b = 0.2\n",
    "        c = 5.7\n",
    "    end\n",
    "    @variables begin\n",
    "        x(t) = 1.0\n",
    "        y(t) = 0.0\n",
    "        z(t) = 0.0\n",
    "        nlt(t) # nonlinear term\n",
    "    end\n",
    "    @equations begin\n",
    "        D(x) ~ -y -z\n",
    "        D(y) ~ x + a*y\n",
    "        D(z) ~ b + nlt\n",
    "        nlt ~ z*(x - c)\n",
    "    end\n",
    "end\n",
    "\n",
    "@mtkbuild model = Roessler()"
   ]
  },
  {
   "cell_type": "markdown",
   "metadata": {},
   "source": [
    "this model can then be made into an `ODEProblem`:"
   ]
  },
  {
   "cell_type": "code",
   "execution_count": null,
   "metadata": {},
   "outputs": [],
   "source": [
    "prob = ODEProblem(model)"
   ]
  },
  {
   "cell_type": "markdown",
   "metadata": {},
   "source": [
    "(notice that because we specified initial values for all parameters and variables during the model creation  we do need to provide additional initial values)"
   ]
  },
  {
   "cell_type": "markdown",
   "metadata": {},
   "source": [
    "Now, this problem can be made into a `CoupledODEs`:"
   ]
  },
  {
   "cell_type": "code",
   "execution_count": null,
   "metadata": {},
   "outputs": [],
   "source": [
    "roessler = CoupledODEs(prob)"
   ]
  },
  {
   "cell_type": "markdown",
   "metadata": {},
   "source": [
    "This dynamical system instance can be used in the rest of the library like anything else. Additionally, you can \"observe\" referenced symbolic variables:"
   ]
  },
  {
   "cell_type": "code",
   "execution_count": null,
   "metadata": {},
   "outputs": [],
   "source": [
    "observe_state(roessler, model.x)"
   ]
  },
  {
   "cell_type": "code",
   "execution_count": null,
   "metadata": {},
   "outputs": [],
   "source": [
    "observe_state(roessler, :nlt) # can use `Symbol`s as well"
   ]
  },
  {
   "cell_type": "markdown",
   "metadata": {},
   "source": [
    "These observables can also be used in the GUI visualization `interactive_trajectory_timeseries`."
   ]
  },
  {
   "cell_type": "markdown",
   "metadata": {},
   "source": [
    "You can also symbolically alter parameters"
   ]
  },
  {
   "cell_type": "code",
   "execution_count": null,
   "metadata": {},
   "outputs": [],
   "source": [
    "current_parameter(roessler, :c)"
   ]
  },
  {
   "cell_type": "code",
   "execution_count": null,
   "metadata": {},
   "outputs": [],
   "source": [
    "set_parameter!(roessler, :c, 5.0)"
   ]
  },
  {
   "cell_type": "code",
   "execution_count": null,
   "metadata": {},
   "outputs": [],
   "source": [
    "current_parameter(roessler, :c)"
   ]
  },
  {
   "cell_type": "markdown",
   "metadata": {},
   "source": [
    "This symbolic indexing can be given anywhere in the ecosystem where you would be altering the parameters."
   ]
  }
 ],
 "metadata": {
  "kernelspec": {
   "display_name": "Julia 1.10.4",
   "language": "julia",
   "name": "julia-1.10"
  },
  "language_info": {
   "file_extension": ".jl",
   "mimetype": "application/julia",
   "name": "julia",
   "version": "1.10.4"
  }
 },
 "nbformat": 4,
 "nbformat_minor": 3
}
