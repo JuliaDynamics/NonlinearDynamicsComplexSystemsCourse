{
 "cells": [
  {
   "cell_type": "markdown",
   "id": "8bdcac9a",
   "metadata": {},
   "source": [
    "# Agent-Based Modelling tutorial block\n",
    "\n",
    "Notebook created by [Alejandra Ramirez](https://github.com/MA-Ramirez)\n",
    "\n",
    "## Agent-based modelling\n",
    "\n",
    "Simulation where autonomous agents react to their environment and interact with each other given a predefined set of rules. \n",
    "\n",
    "These rules are formulated based on explicit statements rather than mathematical equations (such as: “If condition X is fulfilled, do action Y, and then perform operation Z on all nearby agents”).\n",
    "                                    *Datseris & Parlitz. (2022)*\n",
    "\n",
    "**Advantages**\n",
    "* It captures emergent phenomena from agent interactions\n",
    "* Provides natural/intuitive description of the system\n",
    "* Flexible, very easy to change the rules of the simulation\n",
    "\n",
    "## [Agents.jl](https://juliadynamics.github.io/Agents.jl/stable/)\n",
    "Julia framework for agent-based modelling.\n",
    "\n",
    "Simple to learn and use, yet extendable, focusing on fast and scalable model creation and evolution.\n",
    "\n",
    "It allows you to focus on the composition of the ABM and not on the implementation details.\n",
    "\n",
    "To set up an ABM simulation in Agents.jl, a user only needs to follow these steps:\n",
    "\n",
    "1. **Choose** the kind of **space** that the agents will live in.\n",
    "\n",
    "2. **Define** the **agent type** (or types, for mixed models) of the ABM.\n",
    "\n",
    "3. **Define** the **model** within an Agents.jl simulation by using its universal structure `AgentBasedModel`.\n",
    "\n",
    "4. Provide the **time evolution functions** of the ABM.\n",
    "\n",
    "5. **Visualize** the model and animate its time evolution.\n",
    "\n",
    "6. **Collect data**.\n",
    "\n",
    "\n",
    "In this tutorial block we will model the predator-prey dynamics typically described by the Lokta-Volterra equations.\n",
    "\n",
    "## Predator-prey dynamics\n",
    "\n",
    "It describes the dynamics of biological systems in which two species interact, one as a predator and the other as a prey. \n",
    "\n",
    "### Lokta-Volterra equations\n",
    "Typically, the Lokta-Volterra equations are used to model the dynamics, which consist on a pair of first-order nonlinear differential equations.\n",
    "\n",
    "$$\\frac{dx}{dt} = \\alpha x - \\beta xy$$\n",
    "$$\\frac{dy}{dt} = \\delta xy - \\gamma y $$\n",
    "\n",
    "* x is the amount of prey (rabbits) 🐇\n",
    "* y is the amount of predator (foxes) 🦊\n",
    "* $dx/dt$ and $dy/dt$ are the instantaneous growth rates of the populations\n",
    "* $\\alpha$, $\\beta$, $\\gamma$ and $\\delta$ are positive real parameters that describe the interaction between species\n",
    "\n",
    "#### Prey dynamics 🐇\n",
    "* The prey exhibits an exponential growth without being subject to predation $\\alpha x$. 🐇🐇\n",
    "* The rate of predation is proportional to the rate at which the predators and prey meet $- \\beta xy$. 🐇🦊☠️\n",
    "\n",
    "🐇 The rate of change of the prey's population is proportional to its size, minus the rate at which it is preyed upon. \n",
    "\n",
    "#### Predator dynamics 🦊\n",
    "* The growth of the population is proportional to the predation of the prey $\\delta xy$. 🦊🐇🍽\n",
    "* There is an exponential decay in the abscence of prey. The loss rate of the predators can be due to natural death or emigration $- \\gamma y $. 🦊☠️\n",
    "\n",
    "🦊 The rate of change of the predator's population depends on the rate at which it consumes the prey, minus its intrinsic death rate.\n",
    "\n",
    "**We will simulate the population dynamics of two species (predator 🦊 and prey 🐇) who live in a common ecosystem and compete over limited resources 🌱.**\n",
    "*As implemented in the [examples of the Agents.jl](https://juliadynamics.github.io/Agents.jl/stable/examples/predator_prey/)*\n",
    "\n",
    "### Definition of the predator-prey model\n",
    "\n",
    "* The environment is a 2D grid.\n",
    "* It contains Foxes 🦊 (agent type), Rabbits 🐇 (agent type) and Grass 🌱 (spatial property).\n",
    "* Foxes 🦊 **---** eat **--->** Rabbits 🐇 **---** eat **--->** Grass 🌱\n",
    "\n",
    "The population will oscillate over time if the correct balance is achieved. If there is no balance, a population may become extinct.\n",
    "\n",
    "* The **Grass** 🌱 is the **spatial property**. It is a replenishing resource that occupies every position in the grid space.\n",
    "    - `fully_grown`: the grass can only be consumed if it is fully-grown. It is represent by a `boolean`.\n",
    "    - `regrowth_time`: once the grass has been consumed, it replenishes after a given amount of time.\n",
    "    - `countdown`: tracks the delay between being consumed and the regrowth time. ?\n",
    "\n",
    "* **Foxes** 🦊 and **Rabbits** 🐇 are **agent types** that have identical properties, but different behaviours.\n",
    "    - `energy`: represents an animal current energy level. If the energy drops below 0, the agent will die.\n",
    "    - `delta_energy`: controls how much energy is acquired after consuming a food source.\n",
    "    - `reproduction_prob`: reproduction probability. In this model individuals reproduce asexually *(assumption)*.\n",
    "    \n",
    "### Set up of the ABM simulation\n",
    "0. Load the packages that we will be using"
   ]
  },
  {
   "cell_type": "code",
   "execution_count": 1,
   "id": "7e1af093",
   "metadata": {},
   "outputs": [
    {
     "data": {
      "text/plain": [
       "v\"5.6.5\""
      ]
     },
     "execution_count": 1,
     "metadata": {},
     "output_type": "execute_result"
    }
   ],
   "source": [
    "using PkgVersion, Agents, Random\n",
    "\n",
    "PkgVersion.Version(Agents)"
   ]
  },
  {
   "cell_type": "markdown",
   "id": "af449634",
   "metadata": {},
   "source": [
    "1. **Choose** the kind of **space** that the agents will live in.\n",
    "\n",
    "* The environment is a 2D grid.\n",
    "\n",
    "`Agents.GridSpace`represents a grid with dimensionality `dims`. The keyword argument `periodic` denotes if the grid should be periodic on its ends (if the an agent goes through the boundary it will re-appear in the opposite side of the grid with the same properties).\n",
    "\n",
    "Agents live in a 2D grid with a Chebyshev metric (there are 8 neighbours around each grid point - typical grid setting)."
   ]
  },
  {
   "cell_type": "code",
   "execution_count": 2,
   "id": "2f741fb1",
   "metadata": {},
   "outputs": [
    {
     "data": {
      "text/plain": [
       "GridSpace with size (20, 20), metric=chebyshev, periodic=true"
      ]
     },
     "execution_count": 2,
     "metadata": {},
     "output_type": "execute_result"
    }
   ],
   "source": [
    "dims = (20, 20)\n",
    "space = GridSpace(dims, periodic = true)"
   ]
  },
  {
   "cell_type": "markdown",
   "id": "60c972f1",
   "metadata": {},
   "source": [
    "* The **Grass** 🌱 is the **spatial property**. It is a replenishing resource that occupies every position in the grid space.\n",
    "    - `fully_grown`: the grass can only be consumed if it is fully-grown. It is represent by a `boolean`.\n",
    "    - `regrowth_time`: once the grass has been consumed, it replenishes after a given amount of time. (This is a static parameter).\n",
    "    - `countdown`: tracks the delay between being consumed and the regrowth time."
   ]
  },
  {
   "cell_type": "code",
   "execution_count": 3,
   "id": "29c96e9c",
   "metadata": {},
   "outputs": [
    {
     "data": {
      "text/plain": [
       "(fully_grown = Bool[0 0 … 0 0; 0 0 … 0 0; … ; 0 0 … 0 0; 0 0 … 0 0], regrowth_time = 30, countdown = [0 0 … 0 0; 0 0 … 0 0; … ; 0 0 … 0 0; 0 0 … 0 0])"
      ]
     },
     "execution_count": 3,
     "metadata": {},
     "output_type": "execute_result"
    }
   ],
   "source": [
    "# The properties of the Grass will be added as additional model level properties.\n",
    "#`properties` contains the grass as 2 arrays: whether it is fully grown and the countdown to regrow.\n",
    "# It also have regrowth_time as a static parameter.\n",
    "\n",
    "regrowth_time = 30\n",
    "\n",
    "properties = (\n",
    "    fully_grown = falses(dims),\n",
    "    regrowth_time = regrowth_time,\n",
    "    countdown = zeros(Int, dims),\n",
    ")"
   ]
  },
  {
   "cell_type": "markdown",
   "id": "93175494",
   "metadata": {},
   "source": [
    "2. **Define** the **agent type** (or types, for mixed models) of the ABM. 🦊🐇\n",
    "\n",
    "* **Foxes** 🦊 and **Rabbits** 🐇 are **agent types** that have identical properties, but different behaviours.\n",
    "    - `energy`: represents an animal current energy level. If the energy drops below 0, the agent will die.\n",
    "    - `delta_energy`: controls how much energy is acquired after consuming a food source.\n",
    "    - `reproduction_prob`: reproduction probability. In this model individuals reproduce asexually *(assumption)*.\n",
    "\n",
    "An agent type is a standard Julia `mutable struct`. It can be created manually, but typically you'd want to use`@agent`. The types must contain some mandatory fields, which is ensured by using `@agent`. The remaining fields of the agent type are up to user's choice.\n",
    "\n",
    "The mandatory fields are `id::Int` (which assings a unique identification to each agent) and `pos` (it informs about the position of the agent in the space). You should never directly manipulate the mandatory fields.\n",
    "\n",
    "We want for our agents to live in a 2D grid, so we will use the minimal agent struct `GridAgent{D}`. - It has an additional `pos::NTuple{D,Int}` (tuple type that contains D elements of type Int)."
   ]
  },
  {
   "cell_type": "code",
   "execution_count": 4,
   "id": "4b15702b",
   "metadata": {},
   "outputs": [],
   "source": [
    "@agent Fox GridAgent{2} begin\n",
    "    energy::Float64\n",
    "    delta_energy::Float64\n",
    "    reproduction_prob::Float64\n",
    "end\n",
    "\n",
    "@agent Rabbit GridAgent{2} begin\n",
    "    energy::Float64\n",
    "    delta_energy::Float64\n",
    "    reproduction_prob::Float64\n",
    "end"
   ]
  },
  {
   "cell_type": "markdown",
   "id": "d1e871a5",
   "metadata": {},
   "source": [
    "3. **Define** the **model** within an Agents.jl simulation by using its universal structure `AgentBasedModel`.\n",
    "\n",
    "`AgentBasedModel(AgentType [, space]; properties, kwargs...) → model`\n",
    "\n",
    "It creates an agent-based model for the given agent type(s) and space.\n",
    "\n",
    "The agents are stored in a dictionary that maps unique ids (integers) to agents. Use `model[id]` to get the agent with the given `id`.\n",
    "\n",
    "`properties`: additional model-level properties that can be accesed as `model.properties`.\n",
    "\n",
    "`scheduler`: it decides the activation order of the agents.\n",
    "\n",
    "`rng`: It stores the random number generation. It is used in all calls to random functions of the model.\n",
    "\n",
    "*Note on random number generation:*\n",
    "\n",
    "Most pseudo-random number generators (PRNGs) are built on algorithms involving some recursive method starting from a base value determined by an input called the \"seed\". \n",
    "\n",
    "The default PRNG in most statistical software is the Mersenne Twister algorithm.\n",
    "In this particular algorithm, there is a recurrence relation where the input seed establishes the initial set of vectors.\n",
    "The series of pseudo-random numbers generated by the algorithm is fixed by setting a seed. To set seeds in the generation of random numbers makes our code reproducible."
   ]
  },
  {
   "cell_type": "code",
   "execution_count": 5,
   "id": "8fa56d34",
   "metadata": {},
   "outputs": [
    {
     "data": {
      "text/plain": [
       "AgentBasedModel with 0 agents of type Union{Fox, Rabbit}\n",
       " space: GridSpace with size (20, 20), metric=chebyshev, periodic=true\n",
       " scheduler: randomly\n",
       " properties: fully_grown, regrowth_time, countdown"
      ]
     },
     "execution_count": 5,
     "metadata": {},
     "output_type": "execute_result"
    }
   ],
   "source": [
    "seed = 23182\n",
    "rng = MersenneTwister(seed)\n",
    "\n",
    "model = AgentBasedModel(Union{Rabbit,Fox}, space; properties, rng, scheduler = Schedulers.randomly, warn = false)"
   ]
  },
  {
   "cell_type": "code",
   "execution_count": 6,
   "id": "5d37d7a3",
   "metadata": {},
   "outputs": [
    {
     "data": {
      "text/plain": [
       "AgentBasedModel with 150 agents of type Union{Fox, Rabbit}\n",
       " space: GridSpace with size (20, 20), metric=chebyshev, periodic=true\n",
       " scheduler: randomly\n",
       " properties: fully_grown, regrowth_time, countdown"
      ]
     },
     "execution_count": 6,
     "metadata": {},
     "output_type": "execute_result"
    }
   ],
   "source": [
    "# We now have to populate the model with agents.\n",
    "# We define a function that will initialize the model and populate it.\n",
    "\n",
    "function initialize_model(; \n",
    "    #KEYWORD ARGUMENTS\n",
    "    n_rabbits = 100,\n",
    "    n_foxes = 50,\n",
    "    #space\n",
    "    dims = (20,20),\n",
    "    regrowth_time = 30,\n",
    "    #agents\n",
    "    delta_energy_rabbit = 4,\n",
    "    delta_energy_fox = 20,\n",
    "    prob_rabbit_reproduce = 0.04,\n",
    "    prob_fox_reproduce = 0.05,\n",
    "    #prng\n",
    "    seed = 23182,\n",
    "    )\n",
    "    \n",
    "    rng = MersenneTwister(seed)\n",
    "    \n",
    "    #space\n",
    "    space = GridSpace(dims, periodic = true)\n",
    "    properties = (\n",
    "        fully_grown = falses(dims),\n",
    "        regrowth_time = regrowth_time,\n",
    "        countdown = zeros(Int, dims),\n",
    "    )\n",
    "    \n",
    "    #model \n",
    "    model = ABM(Union{Rabbit,Fox}, space; \n",
    "        properties, rng, scheduler = Schedulers.randomly, warn = false\n",
    "    )\n",
    "    \n",
    "    #Add agents to the model\n",
    "    for _ in 1:n_rabbits\n",
    "        energy = rand(model.rng, 1:(delta_energy_rabbit*2)) - 1\n",
    "        add_agent!(Rabbit, model, energy, delta_energy_rabbit, prob_rabbit_reproduce)\n",
    "    end   \n",
    "    for _ in 1:n_foxes\n",
    "        energy = rand(model.rng, 1:(delta_energy_fox*2)) - 1\n",
    "        add_agent!(Fox, model, energy, delta_energy_fox, prob_fox_reproduce)\n",
    "    end\n",
    "    \n",
    "    #Add grass to the 2D grid with a random initial growth value\n",
    "    #positions(model) runs an iterator over all positions of a model with a discrete space.\n",
    "    for p in positions(model)\n",
    "        # define\n",
    "        fully_grown = rand(model.rng, Bool)\n",
    "        countdown = fully_grown ? regrowth_time : rand(model.rng, 1:regrowth_time) - 1\n",
    "        \n",
    "        #set\n",
    "        # slurping (...) is used to pass the position as if they were multiple positions\n",
    "        model.fully_grown[p...] = fully_grown\n",
    "        model.countdown[p...] = countdown\n",
    "        \n",
    "    end\n",
    "    return model\n",
    "end\n",
    "\n",
    "foxrabbitgrass = initialize_model()"
   ]
  },
  {
   "cell_type": "markdown",
   "id": "3639427b",
   "metadata": {},
   "source": [
    "4. Provide the **time evolution functions** of the ABM.\n",
    "\n",
    "We will now define the behaviour/interactions of 🐇,🦊 and 🌱.\n",
    "\n",
    "**Behaviour of the 🐇 and 🦊**.\n",
    "The behaviour of both agent types is similar.\n",
    "* Both move to a random adjacent position with the `walk!` function.\n",
    "* Both lose 1 energy unit by moving to an adjacent position.\n",
    "* Both consume a food source if available.\n",
    "* If the energy level of an agent is below zero, it dies. Otherwise, it lives and reproduce with some probability.\n",
    "\n",
    "In Agents.jl, an agent-based model should be accompanied with at least one (and at most two) stepping functions.\n",
    "\n",
    "An *agent step function* is required by default. It defines what happens to an agent when it activates.\n",
    "- It must accept two arguments: 1. an agent instance 2. a model instance\n",
    "- Our `agent_step!`function is called `rabbitwolf_step!` and it is dispatched to the appropriate agent type via Julia's Multiple Dispatch system.\n",
    "\n",
    "A *model step function* can be also needed sometimes. It changes all agents at once, or changes a model property.\n",
    "- It must accept one argument: 1. the model\n",
    "\n",
    "\n",
    "*Note*\n",
    "\n",
    "We will use the following Agents.jl function to define the time evolution:\n",
    "* `walk!(agent, rand, model)`: moves the agents in the grid. The function invokes a random walk by providing the `rand` function, when refering to the direction in which the agent moves. `ifempty` will check that the target position is unoccupied and only move if that's true. (Foxes can move into a position where there is a rabbit, in order to eat it.)\n",
    "* `kill_agent!(agent, model)`: removes an agent from the model."
   ]
  },
  {
   "cell_type": "code",
   "execution_count": 7,
   "id": "9da0d695",
   "metadata": {},
   "outputs": [
    {
     "data": {
      "text/plain": [
       "rabbitfox_step! (generic function with 2 methods)"
      ]
     },
     "execution_count": 7,
     "metadata": {},
     "output_type": "execute_result"
    }
   ],
   "source": [
    "function rabbitfox_step!(rabbit::Rabbit, model)\n",
    "    #Both move to a random adjacent position with the walk! function\n",
    "    walk!(rabbit, rand, model)\n",
    "    #Both lose 1 energy unit by moving to an adjacent position\n",
    "    rabbit.energy -= 1\n",
    "    \n",
    "    #If the energy level of an agent is below zero, it dies\n",
    "    if rabbit.energy < 0\n",
    "        kill_agent!(rabbit, model)\n",
    "        return\n",
    "    end\n",
    "    #Both consume a food source if available.\n",
    "    eat!(rabbit, model)\n",
    "    \n",
    "    #Otherwise, it lives and reproduce with some probability.\n",
    "    if rand(model.rng) <= rabbit.reproduction_prob\n",
    "        reproduce!(rabbit, model)\n",
    "    end  \n",
    "end\n",
    "\n",
    "function rabbitfox_step!(fox::Fox, model)\n",
    "    #move\n",
    "    walk!(fox, rand, model; ifempty=false)\n",
    "    fox.energy -= 1\n",
    "    \n",
    "    #die\n",
    "    if fox.energy < 0\n",
    "        kill_agent!(fox, model)\n",
    "        return\n",
    "    end\n",
    "    \n",
    "    #eat\n",
    "    #If there is any rabbit on the same grid position, it is dinner time!\n",
    "    dinner = first_rabbit_in_position(fox.pos, model)\n",
    "    if !isnothing(dinner)\n",
    "        eat!(fox, dinner, model)\n",
    "    end\n",
    "    \n",
    "    #reproduce\n",
    "    if rand(model.rng) <= fox.reproduction_prob\n",
    "        reproduce!(fox, model)\n",
    "    end    \n",
    "end"
   ]
  },
  {
   "cell_type": "code",
   "execution_count": 8,
   "id": "9f53aca1",
   "metadata": {},
   "outputs": [
    {
     "data": {
      "text/plain": [
       "first_rabbit_in_position (generic function with 1 method)"
      ]
     },
     "execution_count": 8,
     "metadata": {},
     "output_type": "execute_result"
    }
   ],
   "source": [
    "#If there is any rabbit on the same grid position, it is dinner time!\n",
    "function first_rabbit_in_position(pos, model)\n",
    "    #return the ids of agents in the position corresponding to position\n",
    "    ids = ids_in_position(pos, model)\n",
    "    #finds the first agent type Rabbit in the list of agents that are in the position \n",
    "    j = findfirst(id -> model[id] isa Rabbit, ids)\n",
    "    \n",
    "    #if there is no Rabbit in the position, it returns nothing\n",
    "    if isnothing(j)\n",
    "        return nothing\n",
    "    #if there is a Rabbit in the position, it returns that agent (type Rabbit)\n",
    "    else\n",
    "        return model[ids[j]]::Rabbit\n",
    "    end\n",
    "end"
   ]
  },
  {
   "cell_type": "markdown",
   "id": "01fefab6",
   "metadata": {},
   "source": [
    "We will now define the `eat!` functions. Rabbits and foxes have separate `eat!`functions.\n",
    "\n",
    "Foxes 🦊 **---** eat **--->** Rabbits 🐇 **---** eat **--->** Grass 🌱\n",
    "\n",
    "* If a fox 🦊 eats a rabbit 🐇, the rabbit dies and the fox acquires additional energy.\n",
    "* If a rabbit 🐇 eats grass 🌱, the rabbit will acquire additional energy and the grass will not be available for consumption until regrowth time has elapsed."
   ]
  },
  {
   "cell_type": "code",
   "execution_count": 9,
   "id": "c673cd5b",
   "metadata": {},
   "outputs": [
    {
     "data": {
      "text/plain": [
       "eat! (generic function with 2 methods)"
      ]
     },
     "execution_count": 9,
     "metadata": {},
     "output_type": "execute_result"
    }
   ],
   "source": [
    "function eat!(fox::Fox, rabbit::Rabbit, model)\n",
    "    kill_agent!(rabbit, model)\n",
    "    fox.energy += fox.delta_energy\n",
    "    return\n",
    "end\n",
    "\n",
    "function eat!(rabbit::Rabbit, model)\n",
    "    if model.fully_grown[rabbit.pos...]\n",
    "        rabbit.energy += rabbit.delta_energy\n",
    "        model.fully_grown[rabbit.pos...] = false\n",
    "    end\n",
    "    return\n",
    "end"
   ]
  },
  {
   "cell_type": "markdown",
   "id": "7e4ed740",
   "metadata": {},
   "source": [
    "We will now define the `reproduce!` function. Rabbits and foxes share the same `reproduce!`function.\n",
    "\n",
    "* Reproduction has a cost of $\\frac{1}{2}$ the current energy level of the parent. \n",
    "* The offspring is an exact copy of the parent, with exception of `id`.\n",
    "\n",
    "*Agent.jl functions that we will use:*\n",
    "* `nextid(model)`: return a valid `id` for creating a new agent with it.\n",
    "* `add_agent_pos!(agent, model)`: add the agent to the `model`at the agent's own position.\n",
    "\n",
    "*To create the offpsring we will take advantage of generic programming*\n",
    "* Generic programming allows the code to apply to as many situations as possible without requiring any changes to the original code itself.\n",
    "* Parameterized types: whenever we annotate an argument as a type that is not defined yet or does not exist, we have the capability of using a parameter to determine that type. `{parameter}`\n",
    "* `where` is used to denote what type, or sub-type is passed through the function. This allows us to create a dispatch, to direct the function based on what sort of type is passed."
   ]
  },
  {
   "cell_type": "code",
   "execution_count": 10,
   "id": "ea79c99f",
   "metadata": {},
   "outputs": [
    {
     "data": {
      "text/plain": [
       "reproduce! (generic function with 1 method)"
      ]
     },
     "execution_count": 10,
     "metadata": {},
     "output_type": "execute_result"
    }
   ],
   "source": [
    "function reproduce!(agent::A, model) where {A}\n",
    "    agent.energy /= 2\n",
    "    \n",
    "    id = nextid(model)\n",
    "    offspring = A(id, agent.pos, agent.energy, agent.reproduction_prob, agent.delta_energy)\n",
    "    add_agent_pos!(offspring, model)\n",
    "    \n",
    "    return\n",
    "end"
   ]
  },
  {
   "cell_type": "markdown",
   "id": "9ca40ec6",
   "metadata": {},
   "source": [
    "**Behaviour of the 🌱**\n",
    "* If it is fully grown, it is consumable. Otherwise, it cannot be consumed until it regrows after a delay specified by `regrowth_time`.\n",
    "* Note: the countdown goes from regrowth_time to 0, when it is 0 it is fully_grown (and the countdown is reset again for when it is eaten).\n",
    "* The dynamics of the grass is our `model_step!` function.\n",
    "\n",
    "* Julia uses bounds checking to ensure program safety when accessing arrays. You may wish to skip these bounds checks to improve runtime performance in some cases. `@inbounds` macro tells the compiler to skip such bounds checks within the given block."
   ]
  },
  {
   "cell_type": "code",
   "execution_count": 11,
   "id": "b6255104",
   "metadata": {},
   "outputs": [
    {
     "data": {
      "text/plain": [
       "grass_step! (generic function with 1 method)"
      ]
     },
     "execution_count": 11,
     "metadata": {},
     "output_type": "execute_result"
    }
   ],
   "source": [
    "function grass_step!(model)\n",
    "    @inbounds for p in positions(model)\n",
    "        \n",
    "        if !(model.fully_grown[p...])\n",
    "            if model.countdown[p...] <= 0\n",
    "                model.fully_grown[p...] = true\n",
    "                model.countdown[p...] = model.regrowth_time\n",
    "            else\n",
    "                model.countdown[p...] -=1\n",
    "            end\n",
    "        end\n",
    "        \n",
    "    end\n",
    "end"
   ]
  },
  {
   "cell_type": "markdown",
   "id": "b33828b0",
   "metadata": {},
   "source": [
    "We will now **Run the model**"
   ]
  },
  {
   "cell_type": "code",
   "execution_count": 12,
   "id": "97a8159f",
   "metadata": {},
   "outputs": [
    {
     "data": {
      "text/plain": [
       "count_grass (generic function with 1 method)"
      ]
     },
     "execution_count": 12,
     "metadata": {},
     "output_type": "execute_result"
    }
   ],
   "source": [
    "rabbit(a) = a isa Rabbit\n",
    "fox(a) = a isa Fox\n",
    "count_grass(model) = count(model.fully_grown)"
   ]
  },
  {
   "cell_type": "code",
   "execution_count": 13,
   "id": "f46cea16",
   "metadata": {},
   "outputs": [
    {
     "data": {
      "text/plain": [
       "(\u001b[1m1001×3 DataFrame\u001b[0m\n",
       "\u001b[1m  Row \u001b[0m│\u001b[1m step  \u001b[0m\u001b[1m count_rabbit \u001b[0m\u001b[1m count_fox \u001b[0m\n",
       "\u001b[1m      \u001b[0m│\u001b[90m Int64 \u001b[0m\u001b[90m Int64        \u001b[0m\u001b[90m Int64     \u001b[0m\n",
       "──────┼────────────────────────────────\n",
       "    1 │     0           100         50\n",
       "    2 │     1            83         52\n",
       "    3 │     2            75         54\n",
       "    4 │     3            67         56\n",
       "    5 │     4            59         66\n",
       "    6 │     5            50         80\n",
       "    7 │     6            35         88\n",
       "    8 │     7            30         91\n",
       "    9 │     8            27         94\n",
       "   10 │     9            26         97\n",
       "   11 │    10            21         96\n",
       "  ⋮   │   ⋮         ⋮            ⋮\n",
       "  992 │   991            23          0\n",
       "  993 │   992            25          0\n",
       "  994 │   993            20          0\n",
       "  995 │   994            23          0\n",
       "  996 │   995            29          0\n",
       "  997 │   996            35          0\n",
       "  998 │   997            34          0\n",
       "  999 │   998            26          0\n",
       " 1000 │   999            22          0\n",
       " 1001 │  1000            23          0\n",
       "\u001b[36m                       980 rows omitted\u001b[0m, \u001b[1m1001×2 DataFrame\u001b[0m\n",
       "\u001b[1m  Row \u001b[0m│\u001b[1m step  \u001b[0m\u001b[1m count_grass \u001b[0m\n",
       "\u001b[1m      \u001b[0m│\u001b[90m Int64 \u001b[0m\u001b[90m Int64       \u001b[0m\n",
       "──────┼────────────────────\n",
       "    1 │     0          203\n",
       "    2 │     1          165\n",
       "    3 │     2          142\n",
       "    4 │     3          139\n",
       "    5 │     4          134\n",
       "    6 │     5          123\n",
       "    7 │     6          122\n",
       "    8 │     7          124\n",
       "    9 │     8          129\n",
       "   10 │     9          136\n",
       "   11 │    10          139\n",
       "  ⋮   │   ⋮         ⋮\n",
       "  992 │   991          228\n",
       "  993 │   992          234\n",
       "  994 │   993          236\n",
       "  995 │   994          240\n",
       "  996 │   995          242\n",
       "  997 │   996          240\n",
       "  998 │   997          240\n",
       "  999 │   998          240\n",
       " 1000 │   999          237\n",
       " 1001 │  1000          234\n",
       "\u001b[36m           980 rows omitted\u001b[0m)"
      ]
     },
     "execution_count": 13,
     "metadata": {},
     "output_type": "execute_result"
    }
   ],
   "source": [
    "rabbitfoxgrass = initialize_model()\n",
    "steps = 1000\n",
    "adata = [(rabbit, count), (fox, count)]\n",
    "mdata = [count_grass]\n",
    "adf, mdf = run!(rabbitfoxgrass, rabbitfox_step!, grass_step!, steps; adata, mdata)"
   ]
  },
  {
   "cell_type": "code",
   "execution_count": null,
   "id": "33bd3b92",
   "metadata": {},
   "outputs": [],
   "source": []
  }
 ],
 "metadata": {
  "kernelspec": {
   "display_name": "Julia 1.7.0",
   "language": "julia",
   "name": "julia-1.7"
  },
  "language_info": {
   "file_extension": ".jl",
   "mimetype": "application/julia",
   "name": "julia",
   "version": "1.7.0"
  }
 },
 "nbformat": 4,
 "nbformat_minor": 5
}
