{
 "cells": [
  {
   "cell_type": "markdown",
   "id": "3982a7c8",
   "metadata": {},
   "source": [
    "# Introduction: Agents.jl basics"
   ]
  },
  {
   "cell_type": "markdown",
   "id": "32c878b0",
   "metadata": {},
   "source": [
    "This course introduces the [Agents.jl](https://juliadynamics.github.io/Agents.jl/stable/) Julia package for agent based modelling. The notebook is created by [Alejandra Ramirez](https://github.com/MA-Ramirez)\n",
    "and George Datseris.\n",
    "\n",
    "Agent based modelling are simulations where autonomous agents react to their environment and interact with each other given a predefined set of rules. \n",
    "These rules are formulated based on explicit statements rather than mathematical equations (such as: “If condition X is fulfilled, do action Y, and then perform operation Z on all nearby agents”).\n",
    "\n",
    "_from Datseris & Parlitz. (2022)_"
   ]
  },
  {
   "cell_type": "markdown",
   "id": "a46ed482",
   "metadata": {},
   "source": [
    "**Versions**: please ensure you have these packages installed with these or later versions:"
   ]
  },
  {
   "cell_type": "code",
   "execution_count": 1,
   "id": "b02b9f1c",
   "metadata": {},
   "outputs": [
    {
     "name": "stdout",
     "output_type": "stream",
     "text": [
      "\u001b[32m\u001b[1mStatus\u001b[22m\u001b[39m `~/.julia/environments/v1.8/Project.toml`\n",
      " \u001b[90m [46ada45e] \u001b[39mAgents v5.8.0\n",
      " \u001b[90m [13f3f980] \u001b[39mCairoMakie v0.10.2\n",
      " \u001b[90m [e9467ef8] \u001b[39mGLMakie v0.8.2\n",
      " \u001b[90m [ec714cd0] \u001b[39mInteractiveDynamics v0.22.1\n"
     ]
    }
   ],
   "source": [
    "import Pkg\n",
    "Pkg.status([\"Agents\", \"CairoMakie\", \"GLMakie\", \"InteractiveDynamics\"])"
   ]
  },
  {
   "cell_type": "markdown",
   "id": "e67e6bc1",
   "metadata": {},
   "source": [
    "# Super-brief intro to Types in Julia"
   ]
  },
  {
   "cell_type": "markdown",
   "id": "36fa1248",
   "metadata": {},
   "source": [
    "(Composite) Types in Julia is how you make your own data structures. They are made with the following syntax:"
   ]
  },
  {
   "cell_type": "code",
   "execution_count": 2,
   "id": "81f1bfc2",
   "metadata": {},
   "outputs": [],
   "source": [
    "mutable struct MyDataStructure\n",
    "    a::Int # explicitly annotate the type of field `a`\n",
    "    b      # do not annotate any type for field `b`\n",
    "end"
   ]
  },
  {
   "cell_type": "markdown",
   "id": "c47f37f5",
   "metadata": {},
   "source": [
    "To initialize such a type, you call its name as a function with inputs the fields of the type (in order they were defined)"
   ]
  },
  {
   "cell_type": "code",
   "execution_count": 3,
   "id": "86e11397",
   "metadata": {},
   "outputs": [
    {
     "data": {
      "text/plain": [
       "MyDataStructure(1, \"test\")"
      ]
     },
     "metadata": {},
     "output_type": "display_data"
    }
   ],
   "source": [
    "mystruct = MyDataStructure(1, \"test\")"
   ]
  },
  {
   "cell_type": "markdown",
   "id": "81609da0",
   "metadata": {},
   "source": [
    "Using such user-defined composite types is very similar to object oriented languages. You retrieve the contained fields with the `type.fieldname` syntax, like so:"
   ]
  },
  {
   "cell_type": "code",
   "execution_count": 4,
   "id": "df49b187",
   "metadata": {},
   "outputs": [
    {
     "data": {
      "text/plain": [
       "1"
      ]
     },
     "metadata": {},
     "output_type": "display_data"
    }
   ],
   "source": [
    "mystruct.a"
   ]
  },
  {
   "cell_type": "code",
   "execution_count": 5,
   "id": "496355fb",
   "metadata": {},
   "outputs": [
    {
     "data": {
      "text/plain": [
       "\"test\""
      ]
     },
     "metadata": {},
     "output_type": "display_data"
    }
   ],
   "source": [
    "mystruct.b"
   ]
  },
  {
   "cell_type": "markdown",
   "id": "cf32a402",
   "metadata": {},
   "source": [
    "_(We need this super basic introduction to using user-defined structures, because agents in Agents.jl are user-defined structures just like the one above)_"
   ]
  },
  {
   "cell_type": "markdown",
   "id": "8bdcac9a",
   "metadata": {},
   "source": [
    "# Agents.jl: basic modelling\n",
    "\n",
    "In this block we will go through a basic tutorial for Agents.jl. Another basic introduction can be found [online based on the Schelling model](https://juliadynamics.github.io/Agents.jl/stable/examples/schelling/).\n",
    "\n",
    "To set up an ABM simulation in Agents.jl, a user only needs to follow these steps:\n",
    "\n",
    "1. **Choose** in what kind of **space** the agents will live in, for example a graph, a grid, etc. [Several spaces are provided by Agents.jl](https://juliadynamics.github.io/Agents.jl/stable/api/#Available-spaces-1) and can be initialized immediately.\n",
    "2. **Define** the **agent type** (or types, for mixed models) that will populate the ABM. Agent types are standard Julia `mutable struct`s. They can be created manually, but typically you'd want to use [`@agent`](https://juliadynamics.github.io/Agents.jl/stable/tutorial/#.-The-agent-type(s)-1). The types must contain some mandatory fields, which is ensured by using `@agent`. The remaining fields of the agent type are up to user's choice.\n",
    "3. The created agent type, the chosen space, optional additional model level properties, and other simulation tuning properties like schedulers or random number generators, are given to [`AgentBasedModel`](https://juliadynamics.github.io/Agents.jl/stable/tutorial/#Agents.AgentBasedModel). This instance **defines the model** within an Agents.jl simulation.\n",
    "4. Provide functions that govern the **time evolution of the ABM**. A user can provide an agent-stepping function, that acts on each agent one by one, and/or a model-stepping function, that steps the entire model as a whole. These functions are standard Julia functions that take advantage of the [Agents.jl API](https://juliadynamics.github.io/Agents.jl/stable/api/). Once these functions are created, they are simply passed to [`step!`](https://juliadynamics.github.io/Agents.jl/stable/tutorial/#.-Evolving-the-model-1) to evolve the model.\n",
    "5. _(Optional)_ [**Visualize the model and animate its time evolution**.](https://juliadynamics.github.io/Agents.jl/stable/agents_visualizations/) This can help checking that the model behaves as expected and there aren't any mistakes, or can be used in making figures for a paper/presentation.\n",
    "6. **Collect data**. To do this, specify which data should be collected, by providing one standard Julia `Vector` of data-to-collect for agents, for example `[:mood, :wealth]`, and another one for the model. The agent data names are given as the keyword `adata` and the model as keyword `mdata` to the function [`run!`](https://juliadynamics.github.io/Agents.jl/stable/tutorial/#Agents.run!). This function outputs collected data in the form of a `DataFrame`."
   ]
  },
  {
   "cell_type": "markdown",
   "id": "3ac8e860",
   "metadata": {},
   "source": [
    "## Predator-prey dynamics\n",
    "\n",
    "We will now apply the tutorial on a predator-prey agent based model dynamics typically described by the Lokta-Volterra equations.\n",
    "\n",
    "It describes the dynamics of biological systems in which two species interact, one as a predator and the other as a prey. Its rules are:\n",
    "\n",
    "* The environment is a 2D grid.\n",
    "* It contains Foxes 🦊, Rabbits 🐇 and Grass 🌱 (spatial property).\n",
    "* 🦊 **---** eat **--->** 🐇 **---** eat **--->** 🌱\n",
    "* Eating a food source provides energy to the agent.\n",
    "* 🦊, 🐇 reproduce asexually with a given probability. When they reproduce, they half their energy, and then create an offspring with identical properties.\n",
    "* 🌱 constantly regrows.\n",
    "* 🦊, 🐇 perform random walks until they end up in a cell that has a food source (which they then eat).\n",
    "\n",
    "The population will oscillate over time if the correct balance is achieved. If there is no balance, a population may become extinct.\n",
    "\n",
    "In the following we will build this model in stages of increasing complexity!"
   ]
  },
  {
   "cell_type": "markdown",
   "id": "69556b9a",
   "metadata": {},
   "source": [
    "## Rabbits hopping around"
   ]
  },
  {
   "cell_type": "markdown",
   "id": "5c115fca",
   "metadata": {},
   "source": [
    "The first steps in any simulation with Agents.jl is to decide the space and the agent types. \n",
    "\n",
    "### 1. Choose the space \n",
    "\n",
    "The space is a grid space so we define"
   ]
  },
  {
   "cell_type": "code",
   "execution_count": 6,
   "id": "a25b2a0d",
   "metadata": {},
   "outputs": [
    {
     "data": {
      "text/plain": [
       "GridSpace with size (25, 25), metric=chebyshev, periodic=true"
      ]
     },
     "metadata": {},
     "output_type": "display_data"
    }
   ],
   "source": [
    "using Agents\n",
    "\n",
    "space = GridSpace((25, 25))"
   ]
  },
  {
   "cell_type": "markdown",
   "id": "ff9a99b1",
   "metadata": {},
   "source": [
    "### 2. Define the agent type\n",
    "\n",
    "We'll now make an agent type for the 🐇. Actually, 🦊 and 🐇 have identical properties: \n",
    "\n",
    "- `energy`: represents an animal current energy level. If the energy drops below 0, the agent will die. Agents lose energy at each step of the simulation.\n",
    "- `Δenergy`: controls how much energy is acquired after consuming a food source.\n",
    "- `reproduction_prob`: reproduction probability. In this model individuals reproduce asexually *(assumption)*.\n",
    "\n",
    "In addition to these properties, all agents must have an ID and a position property. This is made easy with the `@agent` macro, inheriting from the `GridAgent{2}`, the minimal agent that can be used in 2D grid space."
   ]
  },
  {
   "cell_type": "code",
   "execution_count": 7,
   "id": "7e1af093",
   "metadata": {},
   "outputs": [],
   "source": [
    "@agent Rabbit GridAgent{2} begin\n",
    "    energy::Float64\n",
    "    Δenergy::Float64\n",
    "    reproduction_prob::Float64\n",
    "end"
   ]
  },
  {
   "cell_type": "markdown",
   "id": "775b0e4e",
   "metadata": {},
   "source": [
    "This created a standard Julia composite type called `Rabbit` with the following properties:"
   ]
  },
  {
   "cell_type": "code",
   "execution_count": 8,
   "id": "c0e0af04",
   "metadata": {},
   "outputs": [
    {
     "name": "stdout",
     "output_type": "stream",
     "text": [
      "id::"
     ]
    },
    {
     "name": "stdout",
     "output_type": "stream",
     "text": [
      "Int64\n",
      "pos::Tuple{Int64, Int64}\n",
      "energy::Float64\n",
      "Δenergy::Float64\n",
      "reproduction_prob::Float64\n"
     ]
    }
   ],
   "source": [
    "for (name, type) in zip(fieldnames(Rabbit), fieldtypes(Rabbit))\n",
    "    println(name, \"::\", type)\n",
    "end"
   ]
  },
  {
   "cell_type": "markdown",
   "id": "d604d2ef",
   "metadata": {},
   "source": [
    "### 3. Define the model\n",
    "\n",
    "Okay, now that we have the space and the agent type, we just plug them into `AgentBasedModel`:"
   ]
  },
  {
   "cell_type": "code",
   "execution_count": 9,
   "id": "758aa84b",
   "metadata": {},
   "outputs": [
    {
     "data": {
      "text/plain": [
       "StandardABM with 0 agents of type Rabbit\n",
       " space: GridSpace with size (25, 25), metric=chebyshev, periodic=true\n",
       " scheduler: fastest"
      ]
     },
     "metadata": {},
     "output_type": "display_data"
    }
   ],
   "source": [
    "model = AgentBasedModel(Rabbit, space)"
   ]
  },
  {
   "cell_type": "markdown",
   "id": "bf98af29",
   "metadata": {},
   "source": [
    "#### 3.1 Populate the model with agents\n",
    "\n",
    "Alright! Perfect! But we need to also actually add some agents to this model! This is done with `add_agent!`. The simplest possible way to do this is by utilizing the automation offered by `add_agent!`: we can specify the extra properties of the agents, and then an agent is created with a correct ID and is added to a random position. For example:"
   ]
  },
  {
   "cell_type": "code",
   "execution_count": 10,
   "id": "b0c28547",
   "metadata": {},
   "outputs": [
    {
     "data": {
      "text/plain": [
       "Rabbit(1, (5, 12), 10.0, 0.1, 0.1)"
      ]
     },
     "metadata": {},
     "output_type": "display_data"
    }
   ],
   "source": [
    "energy = 10.0\n",
    "Δenergy = 0.1\n",
    "reproduction_prob = 0.1\n",
    "rabbit = add_agent!(model, energy, Δenergy, reproduction_prob)"
   ]
  },
  {
   "cell_type": "markdown",
   "id": "cecc0a7c",
   "metadata": {},
   "source": [
    "This created, added to the model, and returned, a new agent. Notice that the agent is a normal instance of the `Rabbit` composite type we defined above! We can access its fields like any other composite type, by doing `.fieldname`, e.g.:"
   ]
  },
  {
   "cell_type": "code",
   "execution_count": 11,
   "id": "5b1022ca",
   "metadata": {},
   "outputs": [
    {
     "data": {
      "text/plain": [
       "(5, 12)"
      ]
     },
     "metadata": {},
     "output_type": "display_data"
    }
   ],
   "source": [
    "rabbit.pos"
   ]
  },
  {
   "cell_type": "code",
   "execution_count": 12,
   "id": "b5024636",
   "metadata": {},
   "outputs": [
    {
     "data": {
      "text/plain": [
       "10.0"
      ]
     },
     "metadata": {},
     "output_type": "display_data"
    }
   ],
   "source": [
    "rabbit.energy"
   ]
  },
  {
   "cell_type": "markdown",
   "id": "45b10e2b",
   "metadata": {},
   "source": [
    "Alright, so far so good!\n",
    "\n",
    "It is always good practice to make the model using a function that accepts keyword arguments so let's do this, and in this function make a loop that creates the agents"
   ]
  },
  {
   "cell_type": "code",
   "execution_count": 13,
   "id": "32cd8bf7",
   "metadata": {},
   "outputs": [
    {
     "data": {
      "text/plain": [
       "StandardABM with 100 agents of type Rabbit\n",
       " space: GridSpace with size (20, 20), metric=chebyshev, periodic=true\n",
       " scheduler: fastest"
      ]
     },
     "metadata": {},
     "output_type": "display_data"
    }
   ],
   "source": [
    "using Random: Xoshiro # reproducibility\n",
    "\n",
    "function init_rabbits(; \n",
    "        total_agents = 100, \n",
    "        griddims = (20, 20),\n",
    "        energy = 10.0, \n",
    "        Δenergy = 5.0, \n",
    "        reproduction_prob = 0.1,\n",
    "        seed = 1234,\n",
    "    )\n",
    "    \n",
    "    space = GridSpace(griddims)\n",
    "    \n",
    "    rng = Xoshiro(seed)\n",
    "    \n",
    "    model = AgentBasedModel(Rabbit, space; rng)\n",
    "    \n",
    "    for n in 1:total_agents\n",
    "        add_agent!(model, energy, Δenergy, reproduction_prob)\n",
    "    end\n",
    "    return model\n",
    "end\n",
    "\n",
    "model = init_rabbits()"
   ]
  },
  {
   "cell_type": "markdown",
   "id": "7051d309",
   "metadata": {},
   "source": [
    "There was one more thing we did: we initialized a dedicated **random number generator** (RNG) that we added to the model. This establishes reproducibility of our model, as this RNG will be used in all functions that involve randomness. We can also use this RNG ourselves:"
   ]
  },
  {
   "cell_type": "code",
   "execution_count": 14,
   "id": "f215cb5e",
   "metadata": {},
   "outputs": [
    {
     "data": {
      "text/plain": [
       "0"
      ]
     },
     "metadata": {},
     "output_type": "display_data"
    }
   ],
   "source": [
    "rng = abmrng(model)\n",
    "rand(rng, [0, 1])"
   ]
  },
  {
   "cell_type": "markdown",
   "id": "9f99af35",
   "metadata": {},
   "source": [
    "### 4. Time evolution of the ABM\n",
    "\n",
    "Anyways, we now have a model with agents! The next step is to create the stepping (time evolution) rules! We only have an agent stepping function for now, which will random walk the agent, make it lose energy, and kill it if its energy drops below zero."
   ]
  },
  {
   "cell_type": "code",
   "execution_count": 15,
   "id": "04eb0412",
   "metadata": {},
   "outputs": [
    {
     "data": {
      "text/plain": [
       "rabbit_step! (generic function with 1 method)"
      ]
     },
     "metadata": {},
     "output_type": "display_data"
    }
   ],
   "source": [
    "function rabbit_step!(rabbit, model)\n",
    "    randomwalk!(rabbit, model, 1; ifempty = false) # radius 1\n",
    "    rabbit.energy -= 1 # lose 1 energy per step\n",
    "    if rabbit.energy ≤ 0\n",
    "        kill_agent!(rabbit, model)\n",
    "    end\n",
    "end"
   ]
  },
  {
   "cell_type": "markdown",
   "id": "85d4db21",
   "metadata": {},
   "source": [
    "Now, we can evolve the model for one or more steps. In each step, the model will iterate through its agents and call this function on them. We evolve the model using `step!`:"
   ]
  },
  {
   "cell_type": "code",
   "execution_count": 16,
   "id": "5916fe7b",
   "metadata": {},
   "outputs": [
    {
     "data": {
      "text/plain": [
       "StandardABM with 100 agents of type Rabbit\n",
       " space: GridSpace with size (20, 20), metric=chebyshev, periodic=true\n",
       " scheduler: fastest"
      ]
     },
     "metadata": {},
     "output_type": "display_data"
    }
   ],
   "source": [
    "step!(model, rabbit_step!)\n",
    "model"
   ]
  },
  {
   "cell_type": "markdown",
   "id": "33eb35c8",
   "metadata": {},
   "source": [
    "Or step for many steps:"
   ]
  },
  {
   "cell_type": "code",
   "execution_count": 17,
   "id": "ff89e39a",
   "metadata": {},
   "outputs": [
    {
     "data": {
      "text/plain": [
       "StandardABM with 0 agents of type Rabbit\n",
       " space: GridSpace with size (20, 20), metric=chebyshev, periodic=true\n",
       " scheduler: fastest"
      ]
     },
     "metadata": {},
     "output_type": "display_data"
    }
   ],
   "source": [
    "step!(model, rabbit_step!, 10_000)\n",
    "model"
   ]
  },
  {
   "cell_type": "markdown",
   "id": "e5994737",
   "metadata": {},
   "source": [
    "### 5. Visualize the model and animate its time evolution\n",
    "\n",
    "Alright, things seem to work. All rabbits die, since they eat no food but loose energy. But let's also visualize the model! To do so it is very easy! We choose a color/size/marker for the agents and call `abmplot`!"
   ]
  },
  {
   "cell_type": "code",
   "execution_count": 18,
   "id": "d0b4ee6f",
   "metadata": {},
   "outputs": [],
   "source": [
    "using InteractiveDynamics # where plotting comes from\n",
    "\n",
    "using GLMakie # this allows videos and interactive apps\n",
    "model = init_rabbits() # refresh model\n",
    "rabbitcolor(a) = :orange\n",
    "rabbitmarker(a) = :circle\n",
    "fig, = abmplot(model; ac = rabbitcolor, am = rabbitmarker)\n",
    "fig"
   ]
  },
  {
   "cell_type": "markdown",
   "id": "340b8d54",
   "metadata": {},
   "source": [
    "giving the stepping functions to the `abmplot` function will allow use to interactive evolve the model!"
   ]
  },
  {
   "cell_type": "code",
   "execution_count": 19,
   "id": "9edb95ec",
   "metadata": {},
   "outputs": [],
   "source": [
    "fig, = abmplot(model; \n",
    "    ac = rabbitcolor, am = rabbitmarker,\n",
    "    agent_step! = rabbit_step!,    \n",
    ")\n",
    "\n",
    "fig"
   ]
  },
  {
   "cell_type": "markdown",
   "id": "a5a4bec2",
   "metadata": {},
   "source": [
    "## Spring time! (grass dynamics, reproduction dynamics)\n",
    "\n",
    "Let's now add the grass dynamics, which will introduce more complexity to the model by\n",
    "\n",
    "- Adding model properties that are spatial fields\n",
    "- Accessing model properties\n",
    "- Adding a model step function\n",
    "- Allowing rabbits to generate more rabbits once they have enough energy\n",
    "\n",
    "To do this, we first modify the model creation function to add two properties for grass: one that checks if it is fully grown (`Bool`) and a countdown to regrowth (`Int`). They are spatial fields because each cell has its own grass counter!\n",
    "\n",
    "### 1. Choose the space and 2. Define the agent type\n",
    "Done\n",
    "### 3. Define the model"
   ]
  },
  {
   "cell_type": "code",
   "execution_count": 20,
   "id": "74cd1650",
   "metadata": {},
   "outputs": [
    {
     "data": {
      "text/plain": [
       "StandardABM with 100 agents of type Rabbit\n",
       " space: GridSpace with size (20, 20), metric=chebyshev, periodic=true\n",
       " scheduler: fastest\n",
       " properties: fully_grown, countdown, regrowth_time"
      ]
     },
     "metadata": {},
     "output_type": "display_data"
    }
   ],
   "source": [
    "function init_rabbits_grass(; \n",
    "        # Rabbit properties:\n",
    "        energy = 10.0, Δenergy = 5.0, reproduction_prob = 0.1,\n",
    "        # Grass properties:\n",
    "        griddims = (20, 20), regrowth_time = 10,\n",
    "        # General:\n",
    "        seed = 1234, total_agents = 100, \n",
    "    )\n",
    "    \n",
    "    space = GridSpace(griddims)\n",
    "    \n",
    "    rng = Xoshiro(seed)\n",
    "    \n",
    "    # Initialize grass properties\n",
    "    properties = (\n",
    "        fully_grown = falses(griddims),\n",
    "        countdown = rand(rng, 1:regrowth_time, griddims),\n",
    "        regrowth_time = regrowth_time,\n",
    "    )\n",
    "    \n",
    "    model = AgentBasedModel(Rabbit, space; rng, properties)\n",
    "    \n",
    "    for n in 1:total_agents\n",
    "        add_agent!(model, energy, Δenergy, reproduction_prob)\n",
    "    end\n",
    "    return model\n",
    "end\n",
    "\n",
    "model = init_rabbits_grass()"
   ]
  },
  {
   "cell_type": "markdown",
   "id": "2989a9c2",
   "metadata": {},
   "source": [
    "### 4. Time evolution of the ABM\n",
    "\n",
    "The grass dynamics are governed by a _model stepping function_ that accepts a single argument (the model) and it evolves the model by one step. Here, this function is about the grass dynamics"
   ]
  },
  {
   "cell_type": "code",
   "execution_count": 21,
   "id": "f1735d8c",
   "metadata": {},
   "outputs": [
    {
     "data": {
      "text/plain": [
       "grass_step! (generic function with 1 method)"
      ]
     },
     "metadata": {},
     "output_type": "display_data"
    }
   ],
   "source": [
    "function grass_step!(model)\n",
    "    # iterate over all positions (cells) in the model\n",
    "    # they are 2-tuples of integers\n",
    "    for p in positions(model)\n",
    "        if !model.fully_grown[p[1], p[2]]\n",
    "            model.countdown[p[1], p[2]] -=1\n",
    "            if model.countdown[p[1], p[2]] ≤ 0\n",
    "                model.fully_grown[p[1], p[2]] = true\n",
    "                model.countdown[p[1], p[2]] = model.regrowth_time\n",
    "            end\n",
    "        end\n",
    "    end\n",
    "end"
   ]
  },
  {
   "cell_type": "markdown",
   "id": "7e03a210",
   "metadata": {},
   "source": [
    "We utilized a nice feature of Agents.jl above: model properties can be accessed with the `.property` syntax, as if they were fields of the model type (they aren't, but Julia allows such nice things ;) )."
   ]
  },
  {
   "cell_type": "markdown",
   "id": "db18a538",
   "metadata": {},
   "source": [
    "We also modify the rabbit dynamics to eat and generate offsprings"
   ]
  },
  {
   "cell_type": "code",
   "execution_count": 22,
   "id": "48b008eb",
   "metadata": {},
   "outputs": [
    {
     "data": {
      "text/plain": [
       "reproduce! (generic function with 1 method)"
      ]
     },
     "metadata": {},
     "output_type": "display_data"
    }
   ],
   "source": [
    "function rabbit_step!(rabbit, model)\n",
    "    randomwalk!(rabbit, model, 1; ifempty = false) # radius 1\n",
    "    rabbit.energy -= 1 # lose 1 energy per step\n",
    "    \n",
    "    if rabbit.energy ≤ 0\n",
    "        kill_agent!(rabbit, model)\n",
    "    end\n",
    "    # consume a food source if available.\n",
    "    eat_grass!(rabbit, model)\n",
    "    \n",
    "    # otherwise, it lives and reproduces with some probability.\n",
    "    if rand(abmrng(model)) ≤ rabbit.reproduction_prob\n",
    "        reproduce!(rabbit, model)\n",
    "    end\n",
    "end\n",
    "\n",
    "function eat_grass!(rabbit, model)\n",
    "    # if grass is grown, eat it to gain energy\n",
    "    if model.fully_grown[rabbit.pos[1], rabbit.pos[2]]\n",
    "        rabbit.energy += rabbit.Δenergy\n",
    "        model.fully_grown[rabbit.pos[1], rabbit.pos[2]] = false\n",
    "        model.countdown[rabbit.pos[1], rabbit.pos[2]] = model.regrowth_time\n",
    "    end\n",
    "    \n",
    "    return\n",
    "end\n",
    "\n",
    "function reproduce!(agent, model)\n",
    "    agent.energy /= 2\n",
    "    #Create and add agent at the position agent.pos\n",
    "    add_agent!(agent.pos, model, agent.energy, agent.reproduction_prob, agent.Δenergy)\n",
    "    return\n",
    "end"
   ]
  },
  {
   "cell_type": "markdown",
   "id": "0353d841",
   "metadata": {},
   "source": [
    "Alright, so we have now can do:"
   ]
  },
  {
   "cell_type": "code",
   "execution_count": 23,
   "id": "eb89671a",
   "metadata": {},
   "outputs": [
    {
     "data": {
      "text/plain": [
       "StandardABM with 100 agents of type Rabbit\n",
       " space: GridSpace with size (20, 20), metric=chebyshev, periodic=true\n",
       " scheduler: fastest\n",
       " properties: fully_grown, countdown, regrowth_time"
      ]
     },
     "metadata": {},
     "output_type": "display_data"
    }
   ],
   "source": [
    "model = init_rabbits_grass()"
   ]
  },
  {
   "cell_type": "code",
   "execution_count": 24,
   "id": "3e54440e",
   "metadata": {},
   "outputs": [
    {
     "data": {
      "text/plain": [
       "StandardABM with 123 agents of type Rabbit\n",
       " space: GridSpace with size (20, 20), metric=chebyshev, periodic=true\n",
       " scheduler: fastest\n",
       " properties: fully_grown, countdown, regrowth_time"
      ]
     },
     "metadata": {},
     "output_type": "display_data"
    }
   ],
   "source": [
    "step!(model, rabbit_step!, grass_step!, 100)\n",
    "model"
   ]
  },
  {
   "cell_type": "markdown",
   "id": "26494056",
   "metadata": {},
   "source": [
    "### 5. Visualize the model and animate its time evolution\n",
    "\n",
    "Agents seem to reduce in numbers. Let's visualize again to see how the model behaves. We can learn do one more thing during visualization: visualize a spatial property as a heatmap. This is as easy as choosing the `heatarray` argument to be a model property, or a function of the model, like so:"
   ]
  },
  {
   "cell_type": "code",
   "execution_count": 25,
   "id": "314ed5b3",
   "metadata": {},
   "outputs": [],
   "source": [
    "model = init_rabbits_grass()\n",
    "\n",
    "grasscolor(model) = 1 .- (model.countdown ./ model.regrowth_time)\n",
    "heatkwargs = (colormap = [:tan4, :green], colorrange = (0,1))\n",
    "\n",
    "plotkwargs = (;\n",
    "    ac = \"white\",\n",
    "    as = 25,\n",
    "    #additional keyword arguments propagated to the scatter! call.\n",
    "    scatterkwargs = (strokewidth = 1.0, strokecolor = :black),\n",
    "    heatarray = grasscolor,\n",
    "    heatkwargs = heatkwargs,\n",
    ")\n",
    "\n",
    "fig, = abmplot(model; \n",
    "    agent_step! = rabbit_step!, model_step! = grass_step!,\n",
    "    plotkwargs...,\n",
    ")\n",
    "\n",
    "fig"
   ]
  },
  {
   "cell_type": "markdown",
   "id": "f698a0da",
   "metadata": {},
   "source": [
    "# Agents.jl: advanced modelling"
   ]
  },
  {
   "cell_type": "markdown",
   "id": "d5dec9a1",
   "metadata": {},
   "source": [
    "## Hungry hungry foxes!\n",
    "\n",
    "Let's now add foxes into the model, which will introduce even more complexity to the model by\n",
    "\n",
    "- Adding another agent \"type\" (not really, see below)\n",
    "- Adding neighboring agent searches\n",
    "- Adding two different agent stepping functions depending on the agent \"type\"\n",
    "- Agent-dependent plotting of agents"
   ]
  },
  {
   "cell_type": "markdown",
   "id": "e6110ec3",
   "metadata": {},
   "source": [
    "### 1. Choose the space \n",
    "Done\n",
    "\n",
    "### 2. Define the agent type\n",
    "\n",
    "Rabbits and foxes have indentical _property types_, even if they have different _values_ for the properties. Normally, we would have to make different agent types for the rabbits and the foxes, but here we can cheat the system by doing:"
   ]
  },
  {
   "cell_type": "code",
   "execution_count": 33,
   "id": "4ebe9a1d",
   "metadata": {},
   "outputs": [],
   "source": [
    "@agent Animal GridAgent{2} begin\n",
    "    type::Symbol # either `:Rabbit` or `:Fox`\n",
    "    energy::Float64\n",
    "    Δenergy::Float64\n",
    "    reproduction_prob::Float64\n",
    "end"
   ]
  },
  {
   "cell_type": "markdown",
   "id": "d01d0fc2",
   "metadata": {},
   "source": [
    "### 3. Define the model\n",
    "\n",
    "Okay, now let's make a function that creates a model that has both rabbits and foxes!"
   ]
  },
  {
   "cell_type": "code",
   "execution_count": 34,
   "id": "77d4b241",
   "metadata": {},
   "outputs": [
    {
     "data": {
      "text/plain": [
       "StandardABM with 70 agents of type Animal\n",
       " space: GridSpace with size (20, 20), metric=chebyshev, periodic=true\n",
       " scheduler: Agents.Schedulers.ByProperty{var\"#21#22\"}\n",
       " properties: fully_grown, countdown, regrowth_time"
      ]
     },
     "metadata": {},
     "output_type": "display_data"
    }
   ],
   "source": [
    "function init_foxes_rabbits_grass(; \n",
    "        # Rabbit properties:\n",
    "        total_rabbits = 60, \n",
    "        rabbit_energy = 10.0, rabbit_Δenergy = 5.0, rabbit_r_prob = 0.30,\n",
    "        # Fox properties:\n",
    "        total_foxes = 10,\n",
    "        fox_energy = 60.0, fox_Δenergy = 30.0, fox_r_prob = 0.06,\n",
    "        # Grass properties:\n",
    "        griddims = (20, 20), regrowth_time = 10,\n",
    "        # General:\n",
    "        seed = 1234, total_agents = 100, \n",
    "    )\n",
    "    space = GridSpace(griddims)\n",
    "    rng = Xoshiro(seed)\n",
    "    \n",
    "    # Initialize grass properties\n",
    "    properties = (\n",
    "        fully_grown = falses(griddims),\n",
    "        countdown = rand(rng, 1:regrowth_time, griddims),\n",
    "        regrowth_time = regrowth_time,\n",
    "    )\n",
    "\n",
    "    # Use a scheduler that makes rabbits act first\n",
    "    scheduler = Schedulers.ByProperty(animal -> animal.type == :Rabbit ? 1 : 0)\n",
    "    model = AgentBasedModel(Animal, space; rng, properties, scheduler)\n",
    "\n",
    "    for n in 1:total_rabbits\n",
    "        add_agent!(model, :Rabbit, rabbit_energy, rabbit_Δenergy, rabbit_r_prob)\n",
    "    end\n",
    "    for n in 1:total_foxes\n",
    "        add_agent!(model, :Fox, fox_energy, fox_Δenergy, fox_r_prob)\n",
    "    end\n",
    "    return model\n",
    "end\n",
    "\n",
    "model = init_foxes_rabbits_grass()"
   ]
  },
  {
   "cell_type": "markdown",
   "id": "3217b3ae",
   "metadata": {},
   "source": [
    "Notice that we also for the first time changed the model _scheduler_, which schedules which agents act first."
   ]
  },
  {
   "cell_type": "markdown",
   "id": "a41faefb",
   "metadata": {},
   "source": [
    "### 4. Time evolution of the ABM\n",
    "We'll differentiate between foxes and rabbits on the basis of the animal type. This means that we reform the agent stepping function into:"
   ]
  },
  {
   "cell_type": "code",
   "execution_count": 35,
   "id": "99e3d39c",
   "metadata": {},
   "outputs": [
    {
     "data": {
      "text/plain": [
       "animal_step! (generic function with 1 method)"
      ]
     },
     "metadata": {},
     "output_type": "display_data"
    }
   ],
   "source": [
    "function animal_step!(animal, model)\n",
    "    if animal.type == :Rabbit\n",
    "        rabbit_step!(animal, model)\n",
    "    elseif animal.type == :Fox\n",
    "        fox_step!(animal, model)\n",
    "    end\n",
    "end"
   ]
  },
  {
   "cell_type": "markdown",
   "id": "92f95da3",
   "metadata": {},
   "source": [
    "and we reuse the `rabbit_step!` function from above, but we define a new function for foxes. Foxes are agile and adept hunters of rabbits and therefore, unlike rabbits, they can look for food in a neighborhood around them instead of only the position they are at. We achieve this using the `nearby_agents` function:"
   ]
  },
  {
   "cell_type": "code",
   "execution_count": 36,
   "id": "8440d082",
   "metadata": {},
   "outputs": [
    {
     "data": {
      "text/plain": [
       "eat_rabbit! (generic function with 1 method)"
      ]
     },
     "metadata": {},
     "output_type": "display_data"
    }
   ],
   "source": [
    "function fox_step!(fox, model)\n",
    "    # move\n",
    "    randomwalk!(fox, model, 1; ifempty=false)\n",
    "    # die\n",
    "    fox.energy -= 1\n",
    "    if fox.energy < 0\n",
    "        kill_agent!(fox, model)\n",
    "        return\n",
    "    end\n",
    "    # eat \n",
    "    eat_rabbit!(fox, model)\n",
    "    # reproduce\n",
    "    if rand(abmrng(model)) <= fox.reproduction_prob\n",
    "        reproduce!(fox, model)\n",
    "    end\n",
    "    return nothing\n",
    "end\n",
    "\n",
    "function eat_rabbit!(fox, model)\n",
    "    # attempt to find a neary rabbit\n",
    "    for animal in nearby_agents(fox, model)\n",
    "        if animal.type == :Rabbit # found one!\n",
    "            kill_agent!(animal, model)\n",
    "            fox.energy += fox.Δenergy\n",
    "        end\n",
    "    end\n",
    "    return\n",
    "end            "
   ]
  },
  {
   "cell_type": "markdown",
   "id": "397a4a98",
   "metadata": {},
   "source": [
    "Don't forget to update the `reproduce!` function to take into account this new extra field `type`!"
   ]
  },
  {
   "cell_type": "code",
   "execution_count": 37,
   "id": "ae5dc70e",
   "metadata": {},
   "outputs": [
    {
     "data": {
      "text/plain": [
       "reproduce! (generic function with 1 method)"
      ]
     },
     "metadata": {},
     "output_type": "display_data"
    }
   ],
   "source": [
    "function reproduce!(agent, model)\n",
    "    agent.energy /= 2\n",
    "    #Create and add agent at the position agent.pos\n",
    "    add_agent!(agent.pos, model, agent.type, agent.energy, agent.reproduction_prob, agent.Δenergy)\n",
    "    return\n",
    "end"
   ]
  },
  {
   "cell_type": "code",
   "execution_count": 38,
   "id": "70430e1c",
   "metadata": {},
   "outputs": [
    {
     "data": {
      "text/plain": [
       "StandardABM with 71 agents of type Animal\n",
       " space: GridSpace with size (20, 20), metric=chebyshev, periodic=true\n",
       " scheduler: Agents.Schedulers.ByProperty{var\"#21#22\"}\n",
       " properties: fully_grown, countdown, regrowth_time"
      ]
     },
     "metadata": {},
     "output_type": "display_data"
    }
   ],
   "source": [
    "model = init_foxes_rabbits_grass()\n",
    "step!(model, animal_step!, grass_step!)\n",
    "model"
   ]
  },
  {
   "cell_type": "markdown",
   "id": "edbbab44",
   "metadata": {},
   "source": [
    "### 5. Visualize the model and animate its time evolution\n",
    "\n",
    "Let's now visualize the time evolution for this model, using a different color and marker for rabbits and foxes"
   ]
  },
  {
   "cell_type": "code",
   "execution_count": 39,
   "id": "b2e832eb",
   "metadata": {},
   "outputs": [],
   "source": [
    "model = init_foxes_rabbits_grass()\n",
    "\n",
    "animalcolor(animal) = animal.type == :Rabbit ? \"white\" : \"orange\"\n",
    "animalmarker(animal) = animal.type == :Rabbit ? :circle : :utriangle\n",
    "animalsize(animal) =  animal.type == :Rabbit ? 20 : 30 \n",
    "\n",
    "plotkwargs = (;\n",
    "    ac = animalcolor,\n",
    "    am = animalmarker,\n",
    "    as = animalsize,\n",
    "    #additional keyword arguments propagated to the scatter! call.\n",
    "    scatterkwargs = (strokewidth = 1.0, strokecolor = :black),\n",
    "    heatarray = grasscolor,\n",
    "    heatkwargs = heatkwargs,\n",
    ")\n",
    "\n",
    "fig, = abmplot(model; \n",
    "    agent_step! = animal_step!, model_step! = grass_step!,\n",
    "    plotkwargs...,\n",
    ")\n",
    "\n",
    "fig"
   ]
  },
  {
   "cell_type": "markdown",
   "id": "bef11aaf",
   "metadata": {},
   "source": [
    "## 6. Collect data"
   ]
  },
  {
   "cell_type": "markdown",
   "id": "0000bb48",
   "metadata": {},
   "source": [
    "So far so good, but to do actual science one needs to collect data. Thankfully, Agents.jl has a stellar data collection infastructure.\n",
    "\n",
    "To collect data, we should specify the data we want to collect by providing one standard Julia `Vector` of data-to-collect for agents. Running the model and collecting data while the model runs is done with the `run!` function. The agent data names are given as the keyword `adata` and the model as keyword `mdata` to the function `run!`. This function outputs collected data in the form of a `DataFrame`.\n",
    "\n",
    "For example, let's set up a basic data collection that collects the number of foxes, rabbits, and the average amount of grass (proportion of fully grown). The grass is a model property, but the number of animals we could get in two ways: (1) by aggregating agent properties or (2) by looping over `allagents` of the model. We'll use (2) for now to keep things simple."
   ]
  },
  {
   "cell_type": "code",
   "execution_count": 33,
   "id": "a320c59c",
   "metadata": {},
   "outputs": [
    {
     "data": {
      "text/plain": [
       "3-element Vector{Function}:\n",
       " nfoxes (generic function with 1 method)\n",
       " nrabbits (generic function with 1 method)\n",
       " ngrass (generic function with 1 method)"
      ]
     },
     "execution_count": 33,
     "metadata": {},
     "output_type": "execute_result"
    }
   ],
   "source": [
    "nfoxes(model) = count(a -> a.type == :Fox, allagents(model))\n",
    "nrabbits(model) = count(a -> a.type == :Rabbit, allagents(model))\n",
    "ngrass(model) = count(model.fully_grown)\n",
    "\n",
    "# `mdata` is functions of model to output\n",
    "mdata = [nfoxes, nrabbits, ngrass]"
   ]
  },
  {
   "cell_type": "markdown",
   "id": "12d99a88",
   "metadata": {},
   "source": [
    "To actually collect these data we call `run!` with the amount of steps to step and collect data for"
   ]
  },
  {
   "cell_type": "code",
   "execution_count": 34,
   "id": "988bcf8b",
   "metadata": {},
   "outputs": [
    {
     "data": {
      "text/html": [
       "<div><div style = \"float: left;\"><span>101×4 DataFrame</span></div><div style = \"float: right;\"><span style = \"font-style: italic;\">76 rows omitted</span></div><div style = \"clear: both;\"></div></div><div class = \"data-frame\" style = \"overflow-x: scroll;\"><table class = \"data-frame\" style = \"margin-bottom: 6px;\"><thead><tr class = \"header\"><th class = \"rowNumber\" style = \"font-weight: bold; text-align: right;\">Row</th><th style = \"text-align: left;\">step</th><th style = \"text-align: left;\">nfoxes</th><th style = \"text-align: left;\">nrabbits</th><th style = \"text-align: left;\">ngrass</th></tr><tr class = \"subheader headerLastRow\"><th class = \"rowNumber\" style = \"font-weight: bold; text-align: right;\"></th><th title = \"Int64\" style = \"text-align: left;\">Int64</th><th title = \"Int64\" style = \"text-align: left;\">Int64</th><th title = \"Int64\" style = \"text-align: left;\">Int64</th><th title = \"Int64\" style = \"text-align: left;\">Int64</th></tr></thead><tbody><tr><td class = \"rowNumber\" style = \"font-weight: bold; text-align: right;\">1</td><td style = \"text-align: right;\">0</td><td style = \"text-align: right;\">10</td><td style = \"text-align: right;\">60</td><td style = \"text-align: right;\">0</td></tr><tr><td class = \"rowNumber\" style = \"font-weight: bold; text-align: right;\">2</td><td style = \"text-align: right;\">1</td><td style = \"text-align: right;\">10</td><td style = \"text-align: right;\">61</td><td style = \"text-align: right;\">34</td></tr><tr><td class = \"rowNumber\" style = \"font-weight: bold; text-align: right;\">3</td><td style = \"text-align: right;\">2</td><td style = \"text-align: right;\">10</td><td style = \"text-align: right;\">72</td><td style = \"text-align: right;\">75</td></tr><tr><td class = \"rowNumber\" style = \"font-weight: bold; text-align: right;\">4</td><td style = \"text-align: right;\">3</td><td style = \"text-align: right;\">10</td><td style = \"text-align: right;\">99</td><td style = \"text-align: right;\">101</td></tr><tr><td class = \"rowNumber\" style = \"font-weight: bold; text-align: right;\">5</td><td style = \"text-align: right;\">4</td><td style = \"text-align: right;\">10</td><td style = \"text-align: right;\">115</td><td style = \"text-align: right;\">123</td></tr><tr><td class = \"rowNumber\" style = \"font-weight: bold; text-align: right;\">6</td><td style = \"text-align: right;\">5</td><td style = \"text-align: right;\">10</td><td style = \"text-align: right;\">126</td><td style = \"text-align: right;\">147</td></tr><tr><td class = \"rowNumber\" style = \"font-weight: bold; text-align: right;\">7</td><td style = \"text-align: right;\">6</td><td style = \"text-align: right;\">11</td><td style = \"text-align: right;\">99</td><td style = \"text-align: right;\">167</td></tr><tr><td class = \"rowNumber\" style = \"font-weight: bold; text-align: right;\">8</td><td style = \"text-align: right;\">7</td><td style = \"text-align: right;\">12</td><td style = \"text-align: right;\">76</td><td style = \"text-align: right;\">180</td></tr><tr><td class = \"rowNumber\" style = \"font-weight: bold; text-align: right;\">9</td><td style = \"text-align: right;\">8</td><td style = \"text-align: right;\">14</td><td style = \"text-align: right;\">66</td><td style = \"text-align: right;\">204</td></tr><tr><td class = \"rowNumber\" style = \"font-weight: bold; text-align: right;\">10</td><td style = \"text-align: right;\">9</td><td style = \"text-align: right;\">16</td><td style = \"text-align: right;\">56</td><td style = \"text-align: right;\">224</td></tr><tr><td class = \"rowNumber\" style = \"font-weight: bold; text-align: right;\">11</td><td style = \"text-align: right;\">10</td><td style = \"text-align: right;\">19</td><td style = \"text-align: right;\">47</td><td style = \"text-align: right;\">241</td></tr><tr><td class = \"rowNumber\" style = \"font-weight: bold; text-align: right;\">12</td><td style = \"text-align: right;\">11</td><td style = \"text-align: right;\">26</td><td style = \"text-align: right;\">44</td><td style = \"text-align: right;\">230</td></tr><tr><td class = \"rowNumber\" style = \"font-weight: bold; text-align: right;\">13</td><td style = \"text-align: right;\">12</td><td style = \"text-align: right;\">27</td><td style = \"text-align: right;\">34</td><td style = \"text-align: right;\">226</td></tr><tr><td style = \"text-align: right;\">&vellip;</td><td style = \"text-align: right;\">&vellip;</td><td style = \"text-align: right;\">&vellip;</td><td style = \"text-align: right;\">&vellip;</td><td style = \"text-align: right;\">&vellip;</td></tr><tr><td class = \"rowNumber\" style = \"font-weight: bold; text-align: right;\">90</td><td style = \"text-align: right;\">89</td><td style = \"text-align: right;\">7</td><td style = \"text-align: right;\">0</td><td style = \"text-align: right;\">400</td></tr><tr><td class = \"rowNumber\" style = \"font-weight: bold; text-align: right;\">91</td><td style = \"text-align: right;\">90</td><td style = \"text-align: right;\">8</td><td style = \"text-align: right;\">0</td><td style = \"text-align: right;\">400</td></tr><tr><td class = \"rowNumber\" style = \"font-weight: bold; text-align: right;\">92</td><td style = \"text-align: right;\">91</td><td style = \"text-align: right;\">10</td><td style = \"text-align: right;\">0</td><td style = \"text-align: right;\">400</td></tr><tr><td class = \"rowNumber\" style = \"font-weight: bold; text-align: right;\">93</td><td style = \"text-align: right;\">92</td><td style = \"text-align: right;\">9</td><td style = \"text-align: right;\">0</td><td style = \"text-align: right;\">400</td></tr><tr><td class = \"rowNumber\" style = \"font-weight: bold; text-align: right;\">94</td><td style = \"text-align: right;\">93</td><td style = \"text-align: right;\">3</td><td style = \"text-align: right;\">0</td><td style = \"text-align: right;\">400</td></tr><tr><td class = \"rowNumber\" style = \"font-weight: bold; text-align: right;\">95</td><td style = \"text-align: right;\">94</td><td style = \"text-align: right;\">1</td><td style = \"text-align: right;\">0</td><td style = \"text-align: right;\">400</td></tr><tr><td class = \"rowNumber\" style = \"font-weight: bold; text-align: right;\">96</td><td style = \"text-align: right;\">95</td><td style = \"text-align: right;\">1</td><td style = \"text-align: right;\">0</td><td style = \"text-align: right;\">400</td></tr><tr><td class = \"rowNumber\" style = \"font-weight: bold; text-align: right;\">97</td><td style = \"text-align: right;\">96</td><td style = \"text-align: right;\">1</td><td style = \"text-align: right;\">0</td><td style = \"text-align: right;\">400</td></tr><tr><td class = \"rowNumber\" style = \"font-weight: bold; text-align: right;\">98</td><td style = \"text-align: right;\">97</td><td style = \"text-align: right;\">0</td><td style = \"text-align: right;\">0</td><td style = \"text-align: right;\">400</td></tr><tr><td class = \"rowNumber\" style = \"font-weight: bold; text-align: right;\">99</td><td style = \"text-align: right;\">98</td><td style = \"text-align: right;\">0</td><td style = \"text-align: right;\">0</td><td style = \"text-align: right;\">400</td></tr><tr><td class = \"rowNumber\" style = \"font-weight: bold; text-align: right;\">100</td><td style = \"text-align: right;\">99</td><td style = \"text-align: right;\">0</td><td style = \"text-align: right;\">0</td><td style = \"text-align: right;\">400</td></tr><tr><td class = \"rowNumber\" style = \"font-weight: bold; text-align: right;\">101</td><td style = \"text-align: right;\">100</td><td style = \"text-align: right;\">0</td><td style = \"text-align: right;\">0</td><td style = \"text-align: right;\">400</td></tr></tbody></table></div>"
      ],
      "text/latex": [
       "\\begin{tabular}{r|cccc}\n",
       "\t& step & nfoxes & nrabbits & ngrass\\\\\n",
       "\t\\hline\n",
       "\t& Int64 & Int64 & Int64 & Int64\\\\\n",
       "\t\\hline\n",
       "\t1 & 0 & 10 & 60 & 0 \\\\\n",
       "\t2 & 1 & 10 & 61 & 34 \\\\\n",
       "\t3 & 2 & 10 & 72 & 75 \\\\\n",
       "\t4 & 3 & 10 & 99 & 101 \\\\\n",
       "\t5 & 4 & 10 & 115 & 123 \\\\\n",
       "\t6 & 5 & 10 & 126 & 147 \\\\\n",
       "\t7 & 6 & 11 & 99 & 167 \\\\\n",
       "\t8 & 7 & 12 & 76 & 180 \\\\\n",
       "\t9 & 8 & 14 & 66 & 204 \\\\\n",
       "\t10 & 9 & 16 & 56 & 224 \\\\\n",
       "\t11 & 10 & 19 & 47 & 241 \\\\\n",
       "\t12 & 11 & 26 & 44 & 230 \\\\\n",
       "\t13 & 12 & 27 & 34 & 226 \\\\\n",
       "\t14 & 13 & 35 & 29 & 234 \\\\\n",
       "\t15 & 14 & 44 & 24 & 247 \\\\\n",
       "\t16 & 15 & 49 & 18 & 263 \\\\\n",
       "\t17 & 16 & 60 & 11 & 279 \\\\\n",
       "\t18 & 17 & 67 & 15 & 292 \\\\\n",
       "\t19 & 18 & 72 & 5 & 312 \\\\\n",
       "\t20 & 19 & 82 & 5 & 328 \\\\\n",
       "\t21 & 20 & 89 & 4 & 340 \\\\\n",
       "\t22 & 21 & 98 & 5 & 353 \\\\\n",
       "\t23 & 22 & 98 & 2 & 364 \\\\\n",
       "\t24 & 23 & 92 & 1 & 370 \\\\\n",
       "\t25 & 24 & 95 & 2 & 378 \\\\\n",
       "\t26 & 25 & 91 & 3 & 382 \\\\\n",
       "\t27 & 26 & 93 & 4 & 385 \\\\\n",
       "\t28 & 27 & 97 & 2 & 386 \\\\\n",
       "\t29 & 28 & 83 & 1 & 388 \\\\\n",
       "\t30 & 29 & 73 & 1 & 390 \\\\\n",
       "\t$\\dots$ & $\\dots$ & $\\dots$ & $\\dots$ & $\\dots$ \\\\\n",
       "\\end{tabular}\n"
      ],
      "text/plain": [
       "\u001b[1m101×4 DataFrame\u001b[0m\n",
       "\u001b[1m Row \u001b[0m│\u001b[1m step  \u001b[0m\u001b[1m nfoxes \u001b[0m\u001b[1m nrabbits \u001b[0m\u001b[1m ngrass \u001b[0m\n",
       "     │\u001b[90m Int64 \u001b[0m\u001b[90m Int64  \u001b[0m\u001b[90m Int64    \u001b[0m\u001b[90m Int64  \u001b[0m\n",
       "─────┼─────────────────────────────────\n",
       "   1 │     0      10        60       0\n",
       "   2 │     1      10        61      34\n",
       "   3 │     2      10        72      75\n",
       "   4 │     3      10        99     101\n",
       "   5 │     4      10       115     123\n",
       "   6 │     5      10       126     147\n",
       "   7 │     6      11        99     167\n",
       "   8 │     7      12        76     180\n",
       "   9 │     8      14        66     204\n",
       "  10 │     9      16        56     224\n",
       "  11 │    10      19        47     241\n",
       "  ⋮  │   ⋮      ⋮        ⋮        ⋮\n",
       "  92 │    91      10         0     400\n",
       "  93 │    92       9         0     400\n",
       "  94 │    93       3         0     400\n",
       "  95 │    94       1         0     400\n",
       "  96 │    95       1         0     400\n",
       "  97 │    96       1         0     400\n",
       "  98 │    97       0         0     400\n",
       "  99 │    98       0         0     400\n",
       " 100 │    99       0         0     400\n",
       " 101 │   100       0         0     400\n",
       "\u001b[36m                        80 rows omitted\u001b[0m"
      ]
     },
     "execution_count": 34,
     "metadata": {},
     "output_type": "execute_result"
    }
   ],
   "source": [
    "model = init_foxes_rabbits_grass()\n",
    "\n",
    "adf, mdf = run!(model, animal_step!, grass_step!, 100; mdata)\n",
    "mdf"
   ]
  },
  {
   "cell_type": "markdown",
   "id": "7df98515",
   "metadata": {},
   "source": [
    "This is a `DataFrame`, the standard Julia type used for tabular data and data analysis. DataFrames.jl is an absolutely incredible package, but it needs to be learned independently of this tutorial!\n",
    "\n",
    "In any case, let's wrap this `run!` call to a function that collects and then plots data!"
   ]
  },
  {
   "cell_type": "code",
   "execution_count": 35,
   "id": "e437401e",
   "metadata": {},
   "outputs": [
    {
     "data": {
      "image/png": "[encoded data removed]"
     },
     "execution_count": 35,
     "metadata": {},
     "output_type": "execute_result"
    }
   ],
   "source": [
    "function plot_population_timeseries(; kwargs...)\n",
    "    model = init_foxes_rabbits_grass(; kwargs...)\n",
    "    adf, mdf = run!(model, animal_step!, grass_step!, 100; mdata)\n",
    "\n",
    "    figure = Figure(resolution = (600, 400))\n",
    "    ax = figure[1, 1] = Axis(figure; xlabel = \"Step\", ylabel = \"Population\")\n",
    "\n",
    "    lines!(ax, mdf.step, mdf.nrabbits, color = :cornsilk4, label = \"rabbits\")\n",
    "    lines!(ax, mdf.step, mdf.nfoxes, color =  RGBAf(1.0, 0.76, 0.3), label = \"foxes\")\n",
    "    lines!(ax, mdf.step, mdf.ngrass, color = :green, label = \"grass\")\n",
    "    axislegend(ax)\n",
    "    figure\n",
    "end\n",
    "\n",
    "plot_population_timeseries()"
   ]
  },
  {
   "cell_type": "markdown",
   "id": "82d98eb3",
   "metadata": {},
   "source": [
    "# ~ Exercises ~"
   ]
  },
  {
   "cell_type": "markdown",
   "id": "8ba7a583",
   "metadata": {},
   "source": [
    "## 1. Exploring the rabbit fox model\n",
    "\n",
    "For some starting configurations the rabbit-fox model leads to partial or total species death. Continue from the above function `plot_population_timeseries` and play around with different keywords (starting parameters for the model). Record one set of parameters where both rabbits and foxes survive and oscillate around equilibrium values, on set of parameters where foxes die out but rabbits survive, and one set of parameters where both species become extinct."
   ]
  },
  {
   "cell_type": "markdown",
   "id": "ffbd8a49",
   "metadata": {},
   "source": [
    "## 2. Wright-Fisher model\n",
    "\n",
    "### Neutral model\n",
    "Create an agent-based model for the neutral Wright-Fisher model. This population genetics model describes the evolution of a fixed size population that undergoes genetic drift. \n",
    "\n",
    "* The model will have no spatial property (there is no need to define a space, because by default the space is `nothing`). Therefore, the agents are defined as `NoSpaceAgent` in the `@agent` macros.\n",
    "* The population is composed of `n` haploid individuals. The main property of each agent is `trait`, which will represent the fitness of the agent on a range from 0 to 1.\n",
    "* The agents will be activated randomly in the model. Therefore, we need to seed the simulation to make it reproducible. In addition, we would like for our model to be initialized with the property `population_size`, in order to freely modify the amount of individuals in the population.\n",
    "* At each generation, `n` offsprings replace the parents. This means that `n` offspring are sampled with replacement from the parent generation.\n",
    "* The objective of the simulation is to plot the evolution of the average trait over time.\n",
    "\n",
    "### Model with selection\n",
    "Create an agent-based model for the Wright-Fisher model with selection. This means that the model now samples individuals according to their trait values (we assume that the inviduals' fitness is correlated to their trait values).\n",
    "\n",
    "-----\n",
    "*Tip: use the function `sample!`from Agents.jl*\n",
    "\n",
    "`sample!(model::ABM, n [, weight]; kwargs...)`\n",
    "\n",
    "It replaces the agents of the model with a random sample of the current agents with size `n`.\n",
    "* `weight`: Symbol (agent field) or function (input agent output real number) to weight the sampling. This means that the higher the weight of the agent, the higher the probability that this agent will be chosen in the new sampling."
   ]
  },
  {
   "cell_type": "markdown",
   "id": "adbefad7",
   "metadata": {},
   "source": [
    "## 3. Spatial Rock-Paper-Scissors\n",
    "\n",
    "Create an agent-based model for the spatial rock-paper-scissors game.\n",
    "\n",
    "The agent-based model simulation describes the evolution of 3 competing strategies (\"Rock\", \"Paper\" and \"Scissors\") that interact through cyclic, nonhierarchical interactions.\n",
    "To be more precise, the interactions follow a Rock-Paper-Scissors construction:\n",
    "* Rock + Scissors --> Rock\n",
    "* Scissors + Paper --> Scissors\n",
    "* Paper + Rock --> Paper\n",
    "\n",
    "Agents interact with their nearest 4 neighbours through selection or reproduction, both of which reactions occur  at rates $\\sigma$ and $\\mu$.\n",
    "\n",
    "In addition, the model explores the effect of mobility on the diversity of the population via the exchange rate $\\epsilon$.\n",
    "\n",
    "* Selection reflects cyclic dominance: Rock --> Scissors --> Paper --> Rock\n",
    "* Reproduction of strategies is only allowed on empty neighbouring sites, to mimic a finite carrying capacity of the system\n",
    "* Mobility is represented via $\\epsilon$, this exchange rate represent the likelihood of agents to swap position with a neighbouring individual or hop onto an empty neighbouring site.\n",
    "\n",
    "![Spatial RPS instructions](SpatialRPS_instructions.png)\n",
    "\n",
    "Whether selection, reproduction or mobility occurs is computed according to the rates (probability = rate* number of agents).\n",
    "\n",
    "Explore the system's evolution for different exchange rate values.\n",
    "\n"
   ]
  },
  {
   "cell_type": "code",
   "execution_count": null,
   "id": "ced17cdc",
   "metadata": {},
   "outputs": [],
   "source": []
  }
 ],
 "metadata": {
  "kernelspec": {
   "display_name": "Julia 1.8.5",
   "language": "julia",
   "name": "julia-1.8"
  },
  "language_info": {
   "file_extension": ".jl",
   "mimetype": "application/julia",
   "name": "julia",
   "version": "1.8.5"
  }
 },
 "nbformat": 4,
 "nbformat_minor": 5
}
