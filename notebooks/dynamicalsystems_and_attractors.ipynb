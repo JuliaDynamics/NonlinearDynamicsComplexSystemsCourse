{
 "cells": [
  {
   "attachments": {},
   "cell_type": "markdown",
   "metadata": {},
   "source": [
    "# Introduction: Dynamical systems and their attractors"
   ]
  },
  {
   "attachments": {},
   "cell_type": "markdown",
   "metadata": {},
   "source": [
    "This notebook is separated into two blocks: the first is an introduction to DynamicalSystems.jl. The second is a deeper dive into one of its submodules, Attractors.jl."
   ]
  },
  {
   "attachments": {},
   "cell_type": "markdown",
   "metadata": {},
   "source": [
    "**Versions:** Please ensure you have the following packages installed, with these versions or newer:"
   ]
  },
  {
   "cell_type": "code",
   "execution_count": 1,
   "metadata": {},
   "outputs": [
    {
     "name": "stdout",
     "output_type": "stream",
     "text": [
      "\u001b[32m\u001b[1mStatus\u001b[22m\u001b[39m `C:\\Users\\gd419\\.julia\\environments\\v1.8\\Project.toml`\n",
      " \u001b[90m [f3fd9213] \u001b[39mAttractors v1.1.1 `C:\\Users\\gd419\\.julia\\dev\\Attractors`\n",
      " \u001b[90m [13f3f980] \u001b[39mCairoMakie v0.10.2\n",
      " \u001b[90m [61744808] \u001b[39mDynamicalSystems v3.0.0 `C:\\Users\\gd419\\.julia\\dev\\DynamicalSystems`"
     ]
    },
    {
     "name": "stdout",
     "output_type": "stream",
     "text": [
      "\n"
     ]
    }
   ],
   "source": [
    "import Pkg\n",
    "Pkg.status([\"DynamicalSystems\", \"Attractors\", \"CairoMakie\"])"
   ]
  },
  {
   "cell_type": "markdown",
   "metadata": {},
   "source": [
    "Quick theme change for plotting in zoomed-in Jupyter notebooks:"
   ]
  },
  {
   "cell_type": "code",
   "execution_count": 2,
   "metadata": {},
   "outputs": [],
   "source": [
    "using CairoMakie\n",
    "update_theme!(resolution = (500, 300), fontsize = 16)"
   ]
  },
  {
   "attachments": {},
   "cell_type": "markdown",
   "metadata": {},
   "source": [
    "# DynamicalSystems.jl"
   ]
  },
  {
   "attachments": {},
   "cell_type": "markdown",
   "metadata": {},
   "source": [
    "**DynamicalSystems.jl** is an [award-winning](https://dsweb.siam.org/The-Magazine/Article/winners-of-the-dsweb-2018-software-contest) Julia software library for nonlinear dynamics and nonlinear timeseries analysis. It is composed of several submodules/subpackages, most of which are exposed in higher detail throughout this course series.\n",
    "\n",
    "The list of contents of **DynamicalSystems.jl** is rather larger and is best seen [online](https://juliadynamics.github.io/DynamicalSystems.jl/latest/contents/).\n",
    "\n",
    "The section that follows is a verbatim copy of the online [overarching tutorial for **DynamicalSystems.jl**](https://juliadynamics.github.io/DynamicalSystems.jl/latest/tutorial/). It has two goals: \n",
    "\n",
    "1. To teach you \"the ropes\" of DynamicalSystems.jl in about 20 minutes.\n",
    "2. To give you an idea of all the subpackages that go into DynamicalSystems.jl. This can be a bit overwhelming depending on your familiarity with nonlinear dynamics, but do not worry if this is so. Followup tutorials go in more depth, and explain in greater length, the subpackages."
   ]
  },
  {
   "attachments": {},
   "cell_type": "markdown",
   "metadata": {},
   "source": [
    "\n",
    "## Core components\n",
    "\n",
    "The individual packages that compose `DynamicalSystems` interact flawlessly with each other because of the following two components:\n",
    "\n",
    "1. The `StateSpaceSet`, which represents numerical data. They can be observed or measured from experiments, sampled trajectories of dynamical systems, or just unordered sets in a state space. A `StateSpaceSet` is a container of equally-sized points, representing multivariate timeseries or multivariate datasets. Timeseries, which are univariate sets, are represented by the `AbstractVector{<:Real}` Julia base type.\n",
    "2. The `DynamicalSystem`, which is the abstract representation of a dynamical system with a known dynamic evolution rule. `DynamicalSystem` defines an extendable interface, but typically one uses concrete implementations such as `DeterministicIteratedMap` or `CoupledODEs`.\n"
   ]
  },
  {
   "attachments": {},
   "cell_type": "markdown",
   "metadata": {},
   "source": [
    "\n",
    "## Making dynamical systems\n",
    "\n",
    "In the majority of cases, to make a dynamical system one needs three things:\n",
    "\n",
    "1. The dynamic rule `f`: A Julia function that provides the instructions of how to evolve the dynamical system in time.\n",
    "2. The state `u`: An array-like container that contains the variables of the dynamical system and also defines the starting state of the system.\n",
    "3. The parameters `p`: An arbitrary container that parameterizes `f`.\n",
    "\n",
    "For most concrete implementations of `DynamicalSystem` there are two ways of defining `f, u`.\n",
    "The distinction is done on whether `f` is defined as an in-place (iip) function or out-of-place (oop) function.\n",
    "\n",
    "* **oop** : `f` **must** be in the form `f(u, p, t) -> out`\n",
    "    which means that given a state `u::SVector{<:Real}` and some parameter container\n",
    "    `p` it returns the output of `f` as an `SVector{<:Real}` (static vector).\n",
    "* **iip** : `f` **must** be in the form `f!(out, u, p, t)`\n",
    "    which means that given a state `u::AbstractArray{<:Real}` and some parameter container `p`,\n",
    "    it writes in-place the output of `f` in `out::AbstractArray{<:Real}`.\n",
    "    The function **must** return `nothing` as a final statement.\n",
    "\n",
    "`t` stands for current time in both cases.\n",
    "**iip** is suggested for systems with high dimension and **oop** for small.\n",
    "The break-even point is between 10 to 100 dimensions but should be benchmarked\n",
    "on a case-by-case basis as it depends on the complexity of `f`.\n",
    "\n",
    "### Example: Henon map\n",
    "Let's make the Henon map, defined as\n",
    "$$\n",
    "\\begin{aligned}\n",
    "x_{n+1} &= 1 - ax^2_n+y_n \\\\\n",
    "y_{n+1} & = bx_n\n",
    "\\end{aligned}\n",
    "$$\n",
    "with parameters $a = 1.4, b = 0.3$.\n",
    "\n",
    "First, we define the dynamic rule as a standard Julia function. Since the dynamical system is only two-dimensional, we should use the _out-of-place_ form that returns an `SVector` with the next state:\n"
   ]
  },
  {
   "cell_type": "code",
   "execution_count": 3,
   "metadata": {},
   "outputs": [
    {
     "name": "stderr",
     "output_type": "stream",
     "text": [
      "WARNING: redefinition of constant FT_LIB. This may fail, cause incorrect answers, or produce other errors.\n",
      "WARNING: redefinition of constant VALID_FONTPATHS. This may fail, cause incorrect answers, or produce other errors.\n",
      "WARNING: redefinition of constant FT_FONTS. This may fail, cause incorrect answers, or produce other errors.\n"
     ]
    },
    {
     "data": {
      "text/plain": [
       "henon_rule (generic function with 1 method)"
      ]
     },
     "metadata": {},
     "output_type": "display_data"
    }
   ],
   "source": [
    "using DynamicalSystems\n",
    "\n",
    "function henon_rule(u, p, n) # here `n` is \"time\", but we don't use it.\n",
    "    x, y = u # system state\n",
    "    a, b = p # system parameters\n",
    "    xn = 1.0 - a*x^2 + y\n",
    "    yn = b*x\n",
    "    return SVector(xn, yn)\n",
    "end"
   ]
  },
  {
   "attachments": {},
   "cell_type": "markdown",
   "metadata": {},
   "source": [
    "Then, we define initial state and parameters"
   ]
  },
  {
   "cell_type": "code",
   "execution_count": 4,
   "metadata": {},
   "outputs": [
    {
     "data": {
      "text/plain": [
       "2-element Vector{Float64}:\n",
       " 1.4\n",
       " 0.3"
      ]
     },
     "metadata": {},
     "output_type": "display_data"
    }
   ],
   "source": [
    "u0 = [0.2, 0.3]\n",
    "p0 = [1.4, 0.3]"
   ]
  },
  {
   "attachments": {},
   "cell_type": "markdown",
   "metadata": {},
   "source": [
    "Lastly, we give these three to the `DeterministicIteratedMap`:"
   ]
  },
  {
   "cell_type": "code",
   "execution_count": 5,
   "metadata": {},
   "outputs": [
    {
     "data": {
      "text/plain": [
       "2-dimensional DeterministicIteratedMap\n",
       " deterministic: true\n",
       " discrete time: true\n",
       " in-place:      false\n",
       " dynamic rule:  henon_rule\n",
       " parameters:    [1.4, 0.3]\n",
       " time:          0\n",
       " state:         [0.2, 0.3]\n"
      ]
     },
     "metadata": {},
     "output_type": "display_data"
    }
   ],
   "source": [
    "henon = DeterministicIteratedMap(henon_rule, u0, p0)"
   ]
  },
  {
   "attachments": {},
   "cell_type": "markdown",
   "metadata": {},
   "source": [
    "`henon` is a `DynamicalSystem`, one of the two core structures of the library.\n",
    "`DynamicalSystem`s can evolved interactively, and queried, using the interface defined by `DynamicalSystem` (which will be exposed in a more advanced tutorial). The simplest thing you can do with a `DynamicalSystem` is to get its trajectory:"
   ]
  },
  {
   "cell_type": "code",
   "execution_count": 6,
   "metadata": {},
   "outputs": [
    {
     "data": {
      "text/plain": [
       "(2-dimensional StateSpaceSet{Float64} with 10001 points, 0:1:10000)"
      ]
     },
     "metadata": {},
     "output_type": "display_data"
    }
   ],
   "source": [
    "total_time = 10_000\n",
    "X, t = trajectory(henon, total_time)"
   ]
  },
  {
   "cell_type": "code",
   "execution_count": 7,
   "metadata": {},
   "outputs": [
    {
     "data": {
      "text/plain": [
       "2-dimensional StateSpaceSet{Float64} with 10001 points\n",
       "  0.2        0.3\n",
       "  1.244      0.06\n",
       " -1.10655    0.3732\n",
       " -0.341035  -0.331965\n",
       "  0.505208  -0.102311\n",
       "  0.540361   0.151562\n",
       "  0.742777   0.162108\n",
       "  0.389703   0.222833\n",
       "  1.01022    0.116911\n",
       " -0.311842   0.303065\n",
       "  ⋮         \n",
       " -0.582534   0.328346\n",
       "  0.853262  -0.17476\n",
       " -0.194038   0.255978\n",
       "  1.20327   -0.0582113\n",
       " -1.08521    0.36098\n",
       " -0.287758  -0.325562\n",
       "  0.558512  -0.0863275\n",
       "  0.476963   0.167554\n",
       "  0.849062   0.143089"
      ]
     },
     "metadata": {},
     "output_type": "display_data"
    }
   ],
   "source": [
    "X"
   ]
  },
  {
   "attachments": {},
   "cell_type": "markdown",
   "metadata": {},
   "source": [
    "`X` is a `StateSpaceSet`, the second of the core structures of the library. We'll see below how, and where, to use a `StateSpaceset`, but for now let's just do a scatter plot"
   ]
  },
  {
   "cell_type": "code",
   "execution_count": 8,
   "metadata": {},
   "outputs": [
    {
     "data": {
      "image/png": "[encoded data removed]"
     },
     "metadata": {},
     "output_type": "display_data"
    }
   ],
   "source": [
    "using CairoMakie\n",
    "scatter(X[:, 1], X[:, 2])"
   ]
  },
  {
   "attachments": {},
   "cell_type": "markdown",
   "metadata": {},
   "source": [
    "\n",
    "### Example: Lorenz96\n",
    "\n",
    "Let's also make another dynamical system, the Lorenz96 model:\n",
    "$$\n",
    "\\frac{dx_i}{dt} = (x_{i+1}-x_{i-2})x_{i-1} - x_i + F\n",
    "$$\n",
    "for $i \\in \\{1, \\ldots, N\\}$ and $N+j=j$.\n",
    "\n",
    "Here, instead of a discrete time map we have $N$ coupled ordinary differential equations. However, creating the dynamical system works out just like above, but using `CoupledODEs` instead of `DeterministicIteratedMap`.\n",
    "\n",
    "First, we make the dynamic rule function. Since this dynamical system can be arbitrarily high-dimensional, we prefer to use the _in-place_ form for `f`, overwriting in place the rate of change in a pre-allocated container."
   ]
  },
  {
   "cell_type": "code",
   "execution_count": 9,
   "metadata": {},
   "outputs": [
    {
     "data": {
      "text/plain": [
       "lorenz96_rule (generic function with 1 method)"
      ]
     },
     "metadata": {},
     "output_type": "display_data"
    }
   ],
   "source": [
    "function lorenz96_rule(du, u, p, t)\n",
    "    F = p[1]; N = length(u)\n",
    "    # 3 edge cases\n",
    "    du[1] = (u[2] - u[N - 1]) * u[N] - u[1] + F\n",
    "    du[2] = (u[3] - u[N]) * u[1] - u[2] + F\n",
    "    du[N] = (u[1] - u[N - 2]) * u[N - 1] - u[N] + F\n",
    "    # then the general case\n",
    "    for n in 3:(N - 1)\n",
    "        du[n] = (u[n + 1] - u[n - 2]) * u[n - 1] - u[n] + F\n",
    "    end\n",
    "    return nothing # always `return nothing` for in-place form!\n",
    "end"
   ]
  },
  {
   "attachments": {},
   "cell_type": "markdown",
   "metadata": {},
   "source": [
    "then, like before, we define an initial state and parameters, and initialize the system"
   ]
  },
  {
   "cell_type": "code",
   "execution_count": 10,
   "metadata": {},
   "outputs": [
    {
     "data": {
      "text/plain": [
       "6-dimensional CoupledODEs\n",
       " deterministic: true\n",
       " discrete time: false\n",
       " in-place:      true\n",
       " dynamic rule:  lorenz96_rule\n",
       " ODE solver:    Tsit5\n",
       " ODE kwargs:    (abstol = 1.0e-6, reltol = 1.0e-6)\n",
       " parameters:    [8.0]\n",
       " time:          0.0\n",
       " state:         [0.1, 0.28, 0.46, 0.64, 0.82, 1.0]\n"
      ]
     },
     "metadata": {},
     "output_type": "display_data"
    }
   ],
   "source": [
    "N = 6\n",
    "u0 = range(0.1, 1; length = N)\n",
    "p0 = [8.0]\n",
    "lorenz96 = CoupledODEs(lorenz96_rule, u0, p0)"
   ]
  },
  {
   "attachments": {},
   "cell_type": "markdown",
   "metadata": {},
   "source": [
    "and, again like before, we may obtain a trajectory the same way\n"
   ]
  },
  {
   "cell_type": "code",
   "execution_count": 11,
   "metadata": {},
   "outputs": [
    {
     "data": {
      "text/plain": [
       "6-dimensional StateSpaceSet{Float64} with 626 points\n",
       "  3.15368   -4.40493  0.0311581  0.486735  1.89895   4.15167\n",
       "  2.71382   -4.39303  0.395019   0.66327   2.0652    4.32045\n",
       "  2.25088   -4.33682  0.693967   0.879701  2.2412    4.46619\n",
       "  1.7707    -4.24045  0.924523   1.12771   2.42882   4.58259\n",
       "  1.27983   -4.1073   1.08656    1.39809   2.62943   4.66318\n",
       "  0.785433  -3.94005  1.18319    1.6815    2.84384   4.70147\n",
       "  0.295361  -3.74095  1.2205     1.96908   3.07224   4.69114\n",
       " -0.181932  -3.51222  1.20719    2.25296   3.3139    4.62628\n",
       " -0.637491  -3.25665  1.154      2.5267    3.56698   4.50178\n",
       " -1.06206   -2.9781   1.07303    2.7856    3.82827   4.31366\n",
       "  ⋮                                                  ⋮\n",
       "  3.17245    2.3759   3.01796    7.27415   7.26007  -0.116002\n",
       "  3.29671    2.71146  3.32758    7.5693    6.75971  -0.537853\n",
       "  3.44096    3.09855  3.66908    7.82351   6.13876  -0.922775\n",
       "  3.58387    3.53999  4.04452    8.01418   5.39898  -1.25074\n",
       "  3.70359    4.03513  4.45448    8.1137    4.55005  -1.5042\n",
       "  3.78135    4.57879  4.89677    8.09013   3.61125  -1.66943\n",
       "  3.80523    5.16112  5.36441    7.90891   2.61262  -1.73822\n",
       "  3.77305    5.7684   5.84318    7.53627   1.59529  -1.71018\n",
       "  3.6934     6.38507  6.30923    6.94454   0.61023  -1.59518"
      ]
     },
     "metadata": {},
     "output_type": "display_data"
    }
   ],
   "source": [
    "total_time = 12.5\n",
    "sampling_time = 0.02\n",
    "Y, t = trajectory(lorenz96, total_time; Ttr = 2.2, Δt = sampling_time)\n",
    "Y"
   ]
  },
  {
   "attachments": {},
   "cell_type": "markdown",
   "metadata": {},
   "source": [
    "We can't scatterplot something 6-dimensional but we can visualize all timeseries\n"
   ]
  },
  {
   "cell_type": "code",
   "execution_count": 12,
   "metadata": {},
   "outputs": [
    {
     "data": {
      "image/png": "[encoded data removed]"
     },
     "metadata": {},
     "output_type": "display_data"
    }
   ],
   "source": [
    "fig = Figure()\n",
    "ax = Axis(fig[1,1]; xlabel = \"time\", ylabel = \"variable\")\n",
    "for var in columns(Y)\n",
    "    lines!(ax, t, var)\n",
    "end\n",
    "fig"
   ]
  },
  {
   "attachments": {},
   "cell_type": "markdown",
   "metadata": {},
   "source": [
    "\n",
    "### ODE solving\n",
    "\n",
    "Continuous time dynamical systems are evolved through DifferentialEquations.jl.\n",
    "When initializing a `CoupledODEs` you can tune the solver properties to your heart's content using any of the [ODE solvers](https://diffeq.sciml.ai/latest/solvers/ode_solve/) and any of the [common solver options](https://diffeq.sciml.ai/latest/basics/common_solver_opts/). For example:\n"
   ]
  },
  {
   "cell_type": "code",
   "execution_count": 13,
   "metadata": {},
   "outputs": [
    {
     "data": {
      "text/plain": [
       "6-dimensional CoupledODEs\n",
       " deterministic: true\n",
       " discrete time: false\n",
       " in-place:      true\n",
       " dynamic rule:  lorenz96_rule\n",
       " ODE solver:    Vern9\n",
       " ODE kwargs:    (abstol = 1.0e-9, reltol = 1.0e-9)\n",
       " parameters:    [8.0]\n",
       " time:          0.0\n",
       " state:         [0.1, 0.28, 0.46, 0.64, 0.82, 1.0]\n"
      ]
     },
     "metadata": {},
     "output_type": "display_data"
    }
   ],
   "source": [
    "using OrdinaryDiffEq # accessing the ODE solvers\n",
    "diffeq = (alg = Vern9(), abstol = 1e-9, reltol = 1e-9)\n",
    "lorenz96_vern = ContinuousDynamicalSystem(lorenz96_rule, u0, p0; diffeq)"
   ]
  },
  {
   "cell_type": "code",
   "execution_count": 14,
   "metadata": {},
   "outputs": [
    {
     "data": {
      "text/plain": [
       "6-element SVector{6, Float64} with indices SOneTo(6):\n",
       "  3.8390248122550252\n",
       "  6.1557095311542325\n",
       "  6.080625689025621\n",
       "  7.278588308988913\n",
       "  1.2582152212831657\n",
       " -1.5297062916833186"
      ]
     },
     "metadata": {},
     "output_type": "display_data"
    }
   ],
   "source": [
    "Y, t = trajectory(lorenz96_vern, total_time; Ttr = 2.2, Δt = sampling_time)\n",
    "Y[end]"
   ]
  },
  {
   "attachments": {},
   "cell_type": "markdown",
   "metadata": {},
   "source": [
    "## State space sets\n"
   ]
  },
  {
   "attachments": {},
   "cell_type": "markdown",
   "metadata": {},
   "source": [
    "Let's recall that the output of the `trajectory` function is a `StateSpaceSet`:\n"
   ]
  },
  {
   "cell_type": "code",
   "execution_count": 15,
   "metadata": {},
   "outputs": [
    {
     "data": {
      "text/plain": [
       "2-dimensional StateSpaceSet{Float64} with 10001 points\n",
       "  0.2        0.3\n",
       "  1.244      0.06\n",
       " -1.10655    0.3732\n",
       " -0.341035  -0.331965\n",
       "  0.505208  -0.102311\n",
       "  0.540361   0.151562\n",
       "  0.742777   0.162108\n",
       "  0.389703   0.222833\n",
       "  1.01022    0.116911\n",
       " -0.311842   0.303065\n",
       "  ⋮         \n",
       " -0.582534   0.328346\n",
       "  0.853262  -0.17476\n",
       " -0.194038   0.255978\n",
       "  1.20327   -0.0582113\n",
       " -1.08521    0.36098\n",
       " -0.287758  -0.325562\n",
       "  0.558512  -0.0863275\n",
       "  0.476963   0.167554\n",
       "  0.849062   0.143089"
      ]
     },
     "metadata": {},
     "output_type": "display_data"
    }
   ],
   "source": [
    "X"
   ]
  },
  {
   "attachments": {},
   "cell_type": "markdown",
   "metadata": {},
   "source": [
    "It is printed like a matrix where each column is the timeseries of each dynamic variable. In reality, it is a vector of statically sized vectors (for performance reasons). When indexed with 1 index, it behaves like a vector of vectors\n"
   ]
  },
  {
   "cell_type": "code",
   "execution_count": 16,
   "metadata": {},
   "outputs": [
    {
     "data": {
      "text/plain": [
       "2-element SVector{2, Float64} with indices SOneTo(2):\n",
       " 0.2\n",
       " 0.3"
      ]
     },
     "metadata": {},
     "output_type": "display_data"
    }
   ],
   "source": [
    "X[1]"
   ]
  },
  {
   "cell_type": "code",
   "execution_count": 17,
   "metadata": {},
   "outputs": [
    {
     "data": {
      "text/plain": [
       "2-dimensional StateSpaceSet{Float64} with 4 points\n",
       "  1.244      0.06\n",
       " -1.10655    0.3732\n",
       " -0.341035  -0.331965\n",
       "  0.505208  -0.102311"
      ]
     },
     "metadata": {},
     "output_type": "display_data"
    }
   ],
   "source": [
    "X[2:5]"
   ]
  },
  {
   "attachments": {},
   "cell_type": "markdown",
   "metadata": {},
   "source": [
    "When indexed with two indices, it behaves like a matrix\n"
   ]
  },
  {
   "cell_type": "code",
   "execution_count": 18,
   "metadata": {},
   "outputs": [
    {
     "data": {
      "text/plain": [
       "4-element Vector{Float64}:\n",
       "  0.06\n",
       "  0.3732\n",
       " -0.3319651199999999\n",
       " -0.10231059085086688"
      ]
     },
     "metadata": {},
     "output_type": "display_data"
    }
   ],
   "source": [
    "X[2:5, 2]"
   ]
  },
  {
   "attachments": {},
   "cell_type": "markdown",
   "metadata": {},
   "source": [
    "When iterated, it iterates over the contained points"
   ]
  },
  {
   "cell_type": "code",
   "execution_count": 19,
   "metadata": {},
   "outputs": [
    {
     "name": "stdout",
     "output_type": "stream",
     "text": [
      "point = [0.2, 0.3]\n",
      "point = [1.244, 0.06]\n",
      "point = [-1.1065503999999997, 0.3732]\n",
      "point = [-0.34103530283622296, -0.3319651199999999]\n",
      "point = [0.5052077711071681, -0.10231059085086688]\n",
      "point = [0.5403605603672313, 0.1515623313321504]\n"
     ]
    }
   ],
   "source": [
    "for (i, point) in enumerate(X)\n",
    "    @show point\n",
    "    i > 5 && break\n",
    "end"
   ]
  },
  {
   "cell_type": "code",
   "execution_count": 20,
   "metadata": {},
   "outputs": [
    {
     "data": {
      "text/plain": [
       "10001-element Vector{Float64}:\n",
       "  0.5\n",
       "  1.304\n",
       " -0.7333503999999997\n",
       " -0.6730004228362229\n",
       "  0.40289718025630117\n",
       "  0.6919228916993818\n",
       "  0.9048851501617762\n",
       "  0.6125365596336813\n",
       "  1.1271278272148746\n",
       " -0.008777065619615998\n",
       "  ⋮\n",
       " -0.2541879392427324\n",
       "  0.678501271515278\n",
       "  0.061940665344374896\n",
       "  1.145056192451011\n",
       " -0.7242249528790483\n",
       " -0.6133198017049188\n",
       "  0.47218423998951875\n",
       "  0.6445165778497133\n",
       "  0.9921511619004666"
      ]
     },
     "metadata": {},
     "output_type": "display_data"
    }
   ],
   "source": [
    "map(point -> point[1] + point[2], X)"
   ]
  },
  {
   "attachments": {},
   "cell_type": "markdown",
   "metadata": {},
   "source": [
    "The columns of the set are obtained with the convenience `columns` function"
   ]
  },
  {
   "cell_type": "code",
   "execution_count": 21,
   "metadata": {},
   "outputs": [
    {
     "data": {
      "text/plain": [
       "(\"10001-element Vector{Float64}\", \"10001-element Vector{Float64}\")"
      ]
     },
     "metadata": {},
     "output_type": "display_data"
    }
   ],
   "source": [
    "x, y = columns(X)\n",
    "summary.((x, y))"
   ]
  },
  {
   "attachments": {},
   "cell_type": "markdown",
   "metadata": {},
   "source": [
    "## Using dynamical systems\n"
   ]
  },
  {
   "attachments": {},
   "cell_type": "markdown",
   "metadata": {},
   "source": [
    "You may use the `DynamicalSystem` interface to develop algorithms that utilize dynamical systems with a known evolution rule. The two main packages of the library that do this are `ChaosTools` and `Attractors`. For example, you may want to compute the Lyapunov spectrum of the Lorenz96 system from above. This is as easy as calling the `lyapunovspectrum` function with `lorenz96`"
   ]
  },
  {
   "cell_type": "code",
   "execution_count": 22,
   "metadata": {},
   "outputs": [
    {
     "data": {
      "text/plain": [
       "6-element Vector{Float64}:\n",
       "  0.9578297436475176\n",
       "  0.0007190960153067711\n",
       " -0.1574913469515455\n",
       " -0.7575338861926553\n",
       " -1.4036253850303557\n",
       " -4.639894729260121"
      ]
     },
     "metadata": {},
     "output_type": "display_data"
    }
   ],
   "source": [
    "steps = 10_000\n",
    "lyapunovspectrum(lorenz96, steps)"
   ]
  },
  {
   "attachments": {},
   "cell_type": "markdown",
   "metadata": {},
   "source": [
    "As expected, there is at least one positive Lyapunov exponent (before the system is chaotic) and at least one zero Lyapunov exponent, because the system is continuous time.\n"
   ]
  },
  {
   "attachments": {},
   "cell_type": "markdown",
   "metadata": {},
   "source": [
    "Alternatively, you may want to estimate the basins of attraction of a multistable dynamical system. The Henon map is \"multistable\" in the sense that some initial conditions diverge to infinity, and some others converge to a chaotic attractor. Computing these basins of attraction is simple with [`Attractors`](@ref), and would work as follows:"
   ]
  },
  {
   "cell_type": "code",
   "execution_count": 23,
   "metadata": {},
   "outputs": [
    {
     "data": {
      "text/plain": [
       "(Int32[-1 -1 … -1 -1; -1 -1 … -1 -1; … ; -1 -1 … -1 -1; -1 -1 … -1 -1], Dict{Int32, StateSpaceSet{2, Float64}}(1 => 2-dimensional StateSpaceSet{Float64} with 511 points))"
      ]
     },
     "metadata": {},
     "output_type": "display_data"
    }
   ],
   "source": [
    "# define a state space grid to compute the basins on:\n",
    "xg = yg = range(-2, 2; length = 201)\n",
    "# find attractors using recurrences in state space:\n",
    "grid = (xg, yg)\n",
    "mapper = AttractorsViaRecurrences(henon, grid)\n",
    "# compute the full basins of attraction over a given grid\n",
    "basins, attractors = basins_of_attraction(mapper, grid; show_progress = false)"
   ]
  },
  {
   "cell_type": "code",
   "execution_count": 24,
   "metadata": {},
   "outputs": [
    {
     "data": {
      "image/png": "[encoded data removed]"
     },
     "metadata": {},
     "output_type": "display_data"
    }
   ],
   "source": [
    "fig, ax = heatmap(xg, yg, basins)\n",
    "x, y = columns(X) # attractor of Henon map\n",
    "scatter!(ax, x, y; color = \"black\")\n",
    "fig"
   ]
  },
  {
   "attachments": {},
   "cell_type": "markdown",
   "metadata": {},
   "source": [
    "## Using state space sets"
   ]
  },
  {
   "attachments": {},
   "cell_type": "markdown",
   "metadata": {},
   "source": [
    "Several packages of the library deal with `StateSpaceSets`.\n",
    "\n",
    "You could use `ComplexityMeasures` to obtain the entropy, or other complexity measures, of a given set. Below, we obtain the entropy of the natural density of the chaotic attractor by partitioning into a histogram of approximately `50` bins per dimension:\n"
   ]
  },
  {
   "cell_type": "code",
   "execution_count": 25,
   "metadata": {},
   "outputs": [
    {
     "data": {
      "text/plain": [
       "7.825799208736613"
      ]
     },
     "metadata": {},
     "output_type": "display_data"
    }
   ],
   "source": [
    "prob_est = ValueHistogram(50)\n",
    "entropy(prob_est, X)"
   ]
  },
  {
   "attachments": {},
   "cell_type": "markdown",
   "metadata": {},
   "source": [
    "Alternatively, you could use `FractalDimensions` to get the fractal dimensions of the chaotic attractor of the henon map using the Grassberger-Procaccia algorithm:\n"
   ]
  },
  {
   "cell_type": "code",
   "execution_count": 26,
   "metadata": {},
   "outputs": [
    {
     "data": {
      "text/plain": [
       "1.2222029831072245"
      ]
     },
     "metadata": {},
     "output_type": "display_data"
    }
   ],
   "source": [
    "grassberger_proccacia_dim(X)"
   ]
  },
  {
   "attachments": {},
   "cell_type": "markdown",
   "metadata": {},
   "source": [
    "Or, you could obtain a recurrence matrix of a state space set with `RecurrenceAnalysis`\n"
   ]
  },
  {
   "cell_type": "code",
   "execution_count": 27,
   "metadata": {},
   "outputs": [
    {
     "data": {
      "image/png": "[encoded data removed]"
     },
     "metadata": {},
     "output_type": "display_data"
    }
   ],
   "source": [
    "R = RecurrenceMatrix(Y, 8.0)\n",
    "Rg = grayscale(R)\n",
    "rr = recurrencerate(R)\n",
    "heatmap(Rg; colormap = :grays,\n",
    "    axis = (title = \"recurrence rate = $(rr)\", aspect = 1,)\n",
    ")"
   ]
  },
  {
   "attachments": {},
   "cell_type": "markdown",
   "metadata": {},
   "source": [
    "## More nonlinear timeseries analysis\n"
   ]
  },
  {
   "attachments": {},
   "cell_type": "markdown",
   "metadata": {},
   "source": [
    "A `trajectory` of a known dynamical system is one way to obtain a `StateSpaceSet`. However, another common way is via a delay coordinates embedding of a measured/observed timeseries. For example, we could use `optimal_traditional_de` from `DelayEmbeddings` to create an optimized delay coordinates embedding of a timeseries\n"
   ]
  },
  {
   "cell_type": "code",
   "execution_count": 28,
   "metadata": {},
   "outputs": [
    {
     "name": "stdout",
     "output_type": "stream",
     "text": [
      "Algorithm stopped due to convergence of E₁-statistic. Valid embedding achieved ✓."
     ]
    },
    {
     "name": "stdout",
     "output_type": "stream",
     "text": [
      "\n"
     ]
    },
    {
     "data": {
      "text/plain": [
       "5-dimensional StateSpaceSet{Float64} with 558 points\n",
       "  3.15369   -2.40036    1.60497   2.90499  5.72572\n",
       "  2.71384   -2.24811    1.55832   3.04987  5.6022\n",
       "  2.2509    -2.02902    1.50499   3.20633  5.38629\n",
       "  1.77073   -1.75077    1.45921   3.37699  5.07029\n",
       "  1.27986   -1.42354    1.43338   3.56316  4.65003\n",
       "  0.785468  -1.05974    1.43672   3.76473  4.12617\n",
       "  0.295399  -0.673567   1.47423   3.98019  3.50532\n",
       " -0.181891  -0.280351   1.54635   4.20677  2.80048\n",
       " -0.637447   0.104361   1.64932   4.44054  2.03084\n",
       " -1.06201    0.465767   1.77622   4.67654  1.22067\n",
       "  ⋮                                        \n",
       "  7.42111    9.27879   -1.23936   5.15945  3.25618\n",
       "  7.94615    9.22663   -1.64222   5.24344  3.34749\n",
       "  8.40503    9.13776   -1.81947   5.26339  3.46932\n",
       "  8.78703    8.99491   -1.77254   5.22631  3.60343\n",
       "  9.08701    8.77963   -1.51823   5.13887  3.72926\n",
       "  9.30562    8.47357   -1.08603   5.00759  3.82705\n",
       "  9.4488     8.06029   -0.514333  4.83928  3.88137\n",
       "  9.52679    7.52731    0.153637  4.6414   3.88458\n",
       "  9.55278    6.86845    0.873855  4.42248  3.83902"
      ]
     },
     "metadata": {},
     "output_type": "display_data"
    }
   ],
   "source": [
    "w = Y[:, 1] # first variable of Lorenz96\n",
    "𝒟, τ, e = optimal_traditional_de(w)\n",
    "𝒟"
   ]
  },
  {
   "attachments": {},
   "cell_type": "markdown",
   "metadata": {},
   "source": [
    "and compare"
   ]
  },
  {
   "cell_type": "code",
   "execution_count": 29,
   "metadata": {},
   "outputs": [
    {
     "data": {
      "image/png": "[encoded data removed]"
     },
     "metadata": {},
     "output_type": "display_data"
    }
   ],
   "source": [
    "fig = Figure()\n",
    "axs = [Axis3(fig[1,i]) for i in 1:2]\n",
    "for (S, ax) in zip((Y, 𝒟), axs)\n",
    "    lines!(ax, S[:, 1], S[:, 2], S[:, 3])\n",
    "end\n",
    "fig"
   ]
  },
  {
   "attachments": {},
   "cell_type": "markdown",
   "metadata": {},
   "source": [
    "Since `𝒟` is just another state space set, we could be using any of the above analysis pipelines on it just as easily.\n"
   ]
  },
  {
   "attachments": {},
   "cell_type": "markdown",
   "metadata": {},
   "source": [
    "The last package to mention here is `TimeseriesSurrogates`, which ties with all other observed/measured data analysis by providing a framework for confidence/hypothesis testing. For example, if we had a measured timeseries but we were not sure whether it represents a deterministic system with structure in the state space, or mostly noise, we could do a surrogate test. For this, we use `surrogenerator` and `RandomFourier` from `TimeseriesSurrogates`, and the `generalized_dim` from `FractalDimensions` (because it performs better in noisy sets)"
   ]
  },
  {
   "cell_type": "code",
   "execution_count": 30,
   "metadata": {},
   "outputs": [
    {
     "data": {
      "text/plain": [
       "1.4873315500970314"
      ]
     },
     "metadata": {},
     "output_type": "display_data"
    }
   ],
   "source": [
    "x = X[:, 1] # Henon map timeseries\n",
    "# contaminate with noise\n",
    "using Random: Xoshiro\n",
    "rng = Xoshiro(1234)\n",
    "x .+= randn(rng, length(x))/100\n",
    "# compute noise-contaminated fractal dim.\n",
    "Δ_orig = generalized_dim(embed(x, 2, 1))"
   ]
  },
  {
   "attachments": {},
   "cell_type": "markdown",
   "metadata": {},
   "source": [
    "And we do the surrogate test\n"
   ]
  },
  {
   "cell_type": "code",
   "execution_count": 31,
   "metadata": {},
   "outputs": [
    {
     "data": {
      "text/plain": [
       "1000-element Vector{Float64}:\n",
       " 1.8483283044765089\n",
       " 1.8347364454820754\n",
       " 1.832522225740645\n",
       " 1.8311371015124172\n",
       " 1.8400699637715539\n",
       " 1.8282574299508285\n",
       " 1.8505442061198538\n",
       " 1.8437855634903157\n",
       " 1.8586061152217301\n",
       " 1.8256984063339803\n",
       " ⋮\n",
       " 1.8494035487055334\n",
       " 1.8437314782284853\n",
       " 1.8380002927233743\n",
       " 1.805671112343997\n",
       " 1.8569755765275024\n",
       " 1.8270704567924079\n",
       " 1.825082366836505\n",
       " 1.8338303645425966\n",
       " 1.829128708062681"
      ]
     },
     "metadata": {},
     "output_type": "display_data"
    }
   ],
   "source": [
    "surrogate_method = RandomFourier()\n",
    "sgen = surrogenerator(x, surrogate_method, rng)\n",
    "\n",
    "Δ_surr = map(1:1000) do i\n",
    "    s = sgen()\n",
    "    generalized_dim(embed(s, 2, 1))\n",
    "end"
   ]
  },
  {
   "attachments": {},
   "cell_type": "markdown",
   "metadata": {},
   "source": [
    "and visualize the test result\n"
   ]
  },
  {
   "cell_type": "code",
   "execution_count": 32,
   "metadata": {},
   "outputs": [
    {
     "data": {
      "image/png": "[encoded data removed]"
     },
     "metadata": {},
     "output_type": "display_data"
    }
   ],
   "source": [
    "fig, ax = hist(Δ_surr)\n",
    "vlines!(ax, Δ_orig)\n",
    "fig"
   ]
  },
  {
   "attachments": {},
   "cell_type": "markdown",
   "metadata": {},
   "source": [
    "since the real value is outside the distribution we have confidence the data are not pure noise."
   ]
  },
  {
   "attachments": {},
   "cell_type": "markdown",
   "metadata": {},
   "source": [
    "# Exercises - DynamicalSystems.jl"
   ]
  },
  {
   "attachments": {},
   "cell_type": "markdown",
   "metadata": {},
   "source": [
    "## Timeseries of a multistable predator prey model"
   ]
  },
  {
   "attachments": {},
   "cell_type": "markdown",
   "metadata": {},
   "source": [
    "Consider the following (modified) form of the Rozenweig-MacArthur model for predator-prey dynamics:\n",
    "$$\n",
    "\n",
    "\\begin{align}\n",
    "\\frac{dN}{dt} & = rN\\left(1-\\frac{c}{r}N\\right)\\left(\\frac{N-\\mu}{N+\\nu}\\right) - A \\\\\n",
    "\\frac{dP}{dt} & = \\chi A - \\delta P \\\\\n",
    "A & = \\frac{\\alpha N P}{\\beta + N} \n",
    "\\end{align}\n",
    "$$\n",
    "\n",
    "with initial parameters `p = [1.7, 0.19, 0.03, 0.003, 800, 1.5, 0.004, 2.2] = r, c, μ, ν, α, β, χ, δ`. Use the following three initial conditions: \n",
    "```julia\n",
    "u1 = [5, 0.016]\n",
    "u2 = [5, 0.025]\n",
    "u3 = [15, 0.012]\n",
    "```\n",
    "For each, plot a lines plot of the timeseries of the first variable of the system using the `trajectory` function. Then, use the `set_parameter!` function to change the first parameter of the system (r) from 1.7 to 2.5. Repeat the same plot at the new parameter in a new axis below the previous one. Has the time evolution of any of the initial conditions changed fundamentally?"
   ]
  },
  {
   "attachments": {},
   "cell_type": "markdown",
   "metadata": {},
   "source": [
    "## Second exercise"
   ]
  },
  {
   "attachments": {},
   "cell_type": "markdown",
   "metadata": {},
   "source": [
    "Define and simulate the Ikeda map\n",
    "$$\n",
    "\\begin{aligned}\n",
    "t &= c - \\frac{d}{1 + x_n^2 + y_n^2} \\\\\n",
    "x_{n+1} &= a + b(x_n \\cos(t) - y\\sin(t)) \\\\\n",
    "y_{n+1} &= b(x_n\\sin(t) + y_n \\cos(t))\n",
    "\\end{aligned}\n",
    "$$\n",
    "with initial condition `u = ones(2)` and parameters `p = [a, b, c, d] = [6, 0.9, 3.1, 6]`. For these initial parameters the system generates and absolutely stunning attractor that has two seemingly separated components!\n",
    "\n",
    "Scatterplot the attractor, and then calculate its fractal dimension, using either the `generalized_dim` or the `grassberger_proccacia_dim` functions.\n",
    "\n",
    "Then manipulate the state space set containing the attractor so that you can generate two new state space sets: one with all points with x coordinate less than 2.5, and one with x more than 2.5. Compute the fractal dimension for the two subsets. Is any more \"fractal\" than the other?"
   ]
  },
  {
   "attachments": {},
   "cell_type": "markdown",
   "metadata": {},
   "source": [
    "# Attractors.jl"
   ]
  },
  {
   "attachments": {},
   "cell_type": "markdown",
   "metadata": {},
   "source": [
    "A Julia module for finding attractors of dynamical systems,\n",
    "their basins and their boundaries, fractal properties of the boundaries,\n",
    "as well as continuing attractors and their basins across parameters."
   ]
  },
  {
   "attachments": {},
   "cell_type": "markdown",
   "metadata": {},
   "source": [
    "## Finding attractors and their fractions"
   ]
  },
  {
   "attachments": {},
   "cell_type": "markdown",
   "metadata": {},
   "source": [
    "The bulk of the work in Attractors.jl is done by the `AttractorMapper` supertype, that maps initial conditions to attractors. This allows one to calculate the fractions of the basins of attraction of each attractor. (or if computationally feasible the full basins)\n",
    "\n",
    "The concrete subtypes that we'll cover here are:\n",
    "\n",
    "1. `AttractorsViaRecurrences` \n",
    "2. `AttractorsViaFeaturizing`"
   ]
  },
  {
   "attachments": {},
   "cell_type": "markdown",
   "metadata": {},
   "source": [
    "Let's start with the recurrences version. It implements the algorithm described in [Datseris & Wagemakers (2022), _Effortless estimation of basins of attraction_](https://doi.org/10.1063/5.0076568). \n",
    "\n",
    "Basic knowledge of the algorithm is useful for deciding the keyword arguments of `AttractorsViaRecurrences`, however, explaining this algorithm is not part of the lecture! Thankfully, the examples and exercsises have been designed to work well with the default settings.\n",
    "\n",
    "The only thing you need to know about the algorithm is the following: it uses recurrences in the state space to find the **actual** attractors of _any_ dynamical system. This is done by tesselating a finite region of the state space into finite-sized cells. Therefore, to initialize an `AttractorsViaRecurrences` we need two things:\n",
    "\n",
    "1. A dynamical system instance\n",
    "2. A grid that both decides the state space region of interest as well as defines its tesselation"
   ]
  },
  {
   "attachments": {},
   "cell_type": "markdown",
   "metadata": {},
   "source": [
    "We'll use this mapper to find attractors of the following dynamical system:\n",
    "$$\n",
    "\\begin{aligned}\n",
    "\\dot{x} &= \\sin(y) - bx\\\\\n",
    "\\dot{y} &= \\sin(z) - by\\\\\n",
    "\\dot{z} &= \\sin(x) - bz\n",
    "\\end{aligned}\n",
    "$$\n",
    "which, due to the symmetry of the equations of motion, any attractor has three symmetry versions (by cycling over the x, y, z coordinates). So this is a multistable dynamical system! \n",
    "\n",
    "For `b = 0.16` the system has three (symmetric) attracting limit cycles that can be found in the state space box spaning -3 to 3 in each dimension (we know this a-priori)."
   ]
  },
  {
   "attachments": {},
   "cell_type": "markdown",
   "metadata": {},
   "source": [
    "Let's define the dynamical system:"
   ]
  },
  {
   "cell_type": "code",
   "execution_count": 33,
   "metadata": {},
   "outputs": [
    {
     "data": {
      "text/plain": [
       "3-dimensional CoupledODEs\n",
       " deterministic: true\n",
       " discrete time: false\n",
       " in-place:      false\n",
       " dynamic rule:  thomas_rule\n",
       " ODE solver:    Tsit5\n",
       " ODE kwargs:    (abstol = 1.0e-6, reltol = 1.0e-6)\n",
       " parameters:    [0.16]\n",
       " time:          0.0\n",
       " state:         [1.0, 1.0, 1.0]\n"
      ]
     },
     "metadata": {},
     "output_type": "display_data"
    }
   ],
   "source": [
    "function thomas_rule(u, p, t)\n",
    "    x,y,z = u\n",
    "    b = p[1]\n",
    "    xdot = sin(y) - b*x\n",
    "    ydot = sin(z) - b*y\n",
    "    zdot = sin(x) - b*z\n",
    "    return SVector{3}(xdot, ydot, zdot)\n",
    "end\n",
    "\n",
    "thomas = CoupledODEs(thomas_rule, ones(3), [0.16])"
   ]
  },
  {
   "attachments": {},
   "cell_type": "markdown",
   "metadata": {},
   "source": [
    "Next, we need to define the state space grid. This is as easy as defining a range for each of the dimensions and putting them in a tuple:"
   ]
  },
  {
   "cell_type": "code",
   "execution_count": 34,
   "metadata": {},
   "outputs": [
    {
     "data": {
      "text/plain": [
       "(-6.0:0.12:6.0, -6.0:0.12:6.0, -6.0:0.12:6.0)"
      ]
     },
     "metadata": {},
     "output_type": "display_data"
    }
   ],
   "source": [
    "xg = yg = zg = range(-6.0, 6.0; length = 101)\n",
    "\n",
    "grid = (xg, yg, zg)"
   ]
  },
  {
   "attachments": {},
   "cell_type": "markdown",
   "metadata": {},
   "source": [
    "Now we use these two pieces of information to initialize the `AttractorMapper` we want:"
   ]
  },
  {
   "cell_type": "code",
   "execution_count": 35,
   "metadata": {},
   "outputs": [
    {
     "data": {
      "text/plain": [
       "AttractorsViaRecurrences\n",
       " rule f:      AttractorsViaRecurrences\n",
       " system:      CoupledODEs\n",
       " grid:        (-6.0:0.12:6.0, -6.0:0.12:6.0, -6.0:0.12:6.0)\n",
       " attractors:  Dict{Int32, StateSpaceSet{3, Float64}}()\n"
      ]
     },
     "metadata": {},
     "output_type": "display_data"
    }
   ],
   "source": [
    "mapper = AttractorsViaRecurrences(thomas, grid;\n",
    "    # increase some algorithm parameters so that\n",
    "    # accuracy is increased (system has intertwined limit\n",
    "    # cycles and this is hard to find)\n",
    "    mx_chk_loc_att = 1000, mx_chk_fnd_att = 1000,\n",
    ")"
   ]
  },
  {
   "attachments": {},
   "cell_type": "markdown",
   "metadata": {},
   "source": [
    "The main way to use an `AttractorMapper` is with the `basins_fractions` function. You give it the mapper, and initial conditions, and the function will map these initial conditions to attractors, collect their labels (i.e., which attractor they end up to), and return the fractions of basins of attraction, the labels, and the attractors found. \n",
    "\n",
    "Let's create a function that generates initial conditions on the fly using the existing `statespace_sampler` library function"
   ]
  },
  {
   "cell_type": "code",
   "execution_count": 36,
   "metadata": {},
   "outputs": [
    {
     "data": {
      "text/plain": [
       "3-element Vector{Float64}:\n",
       " -0.7820123675023387\n",
       " -2.631557890285925\n",
       "  2.862323073118784"
      ]
     },
     "metadata": {},
     "output_type": "display_data"
    }
   ],
   "source": [
    "sampler, = statespace_sampler(\n",
    "    min_bounds = minimum.(grid), max_bounds = maximum.(grid)\n",
    ")\n",
    "sampler()"
   ]
  },
  {
   "attachments": {},
   "cell_type": "markdown",
   "metadata": {},
   "source": [
    "And finally we give these two ingredients (the mapper and the sampler) to `basins_fractions`:"
   ]
  },
  {
   "cell_type": "code",
   "execution_count": 37,
   "metadata": {},
   "outputs": [
    {
     "data": {
      "text/plain": [
       "Dict{Int64, Float64} with 6 entries:\n",
       "  5 => 0.16\n",
       "  4 => 0.165\n",
       "  6 => 0.146\n",
       "  2 => 0.179\n",
       "  3 => 0.184\n",
       "  1 => 0.166"
      ]
     },
     "metadata": {},
     "output_type": "display_data"
    }
   ],
   "source": [
    "fractions = basins_fractions(\n",
    "    mapper, sampler; show_progress = false\n",
    ")\n",
    "fractions"
   ]
  },
  {
   "attachments": {},
   "cell_type": "markdown",
   "metadata": {},
   "source": [
    "As you can see, the function collected all unique attractor labels (attractors are always labelled using the positive integers). It created a dictionaries mapping the labels to the basins fractions.\n",
    "\n",
    "We can extract the attractors as a dictionary mapping the labels to attractors (`StateSpaceSet`s)"
   ]
  },
  {
   "cell_type": "code",
   "execution_count": 38,
   "metadata": {},
   "outputs": [
    {
     "data": {
      "text/plain": [
       "Dict{Int32, StateSpaceSet{3, Float64}} with 6 entries:\n",
       "  5 => 3-dimensional StateSpaceSet{Float64} with 137 points\n",
       "  4 => 3-dimensional StateSpaceSet{Float64} with 139 points\n",
       "  6 => 3-dimensional StateSpaceSet{Float64} with 137 points\n",
       "  2 => 3-dimensional StateSpaceSet{Float64} with 137 points\n",
       "  3 => 3-dimensional StateSpaceSet{Float64} with 137 points\n",
       "  1 => 3-dimensional StateSpaceSet{Float64} with 138 points"
      ]
     },
     "metadata": {},
     "output_type": "display_data"
    }
   ],
   "source": [
    "attractors = extract_attractors(mapper)"
   ]
  },
  {
   "attachments": {},
   "cell_type": "markdown",
   "metadata": {},
   "source": [
    "Let's visualize the attractors found!"
   ]
  },
  {
   "cell_type": "code",
   "execution_count": 39,
   "metadata": {},
   "outputs": [
    {
     "data": {
      "image/png": "[encoded data removed]"
     },
     "metadata": {},
     "output_type": "display_data"
    }
   ],
   "source": [
    "fig = Figure()\n",
    "ax = Axis3(fig[1,1])\n",
    "for (k, A) in attractors\n",
    "    x, y, z = columns(A)\n",
    "    scatter!(ax, x, y, z; markersize = 5)\n",
    "    X, t = trajectory(thomas, 50.0, A[1])\n",
    "    xt, yt, zt = columns(X)\n",
    "    lines!(ax, xt, yt, zt)\n",
    "end\n",
    "fig"
   ]
  },
  {
   "attachments": {},
   "cell_type": "markdown",
   "metadata": {},
   "source": [
    "## `AttractorsViaFeaturizing`"
   ]
  },
  {
   "attachments": {},
   "cell_type": "markdown",
   "metadata": {},
   "source": [
    "This is an alternative way to find \"attractors\", which works as follows:\n",
    "1. Initial conditions are evolved to generate trajectories\n",
    "2. Trajectories are mapped into \"features\": descriptive numbers of the trajectories that hopefully characterize different attractors differently. E.g., mean and std. of the first two  variables for a four-dimensional feature.\n",
    "3. Features are grouped with one of the three following ways:\n",
    "   1. `GroupViaClustering`\n",
    "   2. `GroupViaNearestFeature`\n",
    "   3. `GroupViaHistogram`\n",
    "4. The generated groups then correspond to unique \"attractors\".\n",
    "\n"
   ]
  },
  {
   "attachments": {},
   "cell_type": "markdown",
   "metadata": {},
   "source": [
    "It is not obvious what features would be good to separate the attractors of the previous example, which is why we recommend the recurrences method as the better method to use in those kinds of systems.\n",
    "\n",
    "In any case, here we have estimated in advance a featurizer that works well:"
   ]
  },
  {
   "cell_type": "code",
   "execution_count": 40,
   "metadata": {},
   "outputs": [
    {
     "data": {
      "text/plain": [
       "GroupViaClustering{String, Euclidean, typeof(mean)}(Euclidean(0.0), 10, true, \"silhouettes_optim\", 100, Statistics.mean, 0, false)"
      ]
     },
     "metadata": {},
     "output_type": "display_data"
    }
   ],
   "source": [
    "using Statistics: mean, std\n",
    "\n",
    "function featurizer(A, t) # take in attractor and time vector\n",
    "    x, y, z = columns(A)\n",
    "    mx = mean(x)\n",
    "    sx = std(y)\n",
    "    cz = std(y .- z)\n",
    "    return SVector(mx, sx, cz) # return feature\n",
    "end\n",
    "\n",
    "grouping_config = GroupViaClustering()"
   ]
  },
  {
   "attachments": {},
   "cell_type": "markdown",
   "metadata": {},
   "source": [
    "We also choose how to group features together. For simplicitly, we will use a black box clustering algorithm"
   ]
  },
  {
   "cell_type": "code",
   "execution_count": 41,
   "metadata": {},
   "outputs": [],
   "source": [
    "grouping_config = GroupViaClustering();"
   ]
  },
  {
   "attachments": {},
   "cell_type": "markdown",
   "metadata": {},
   "source": [
    "We now put everything together in `AttractorsViaFeaturizin` and get the fractions of the basins of attraction:"
   ]
  },
  {
   "cell_type": "code",
   "execution_count": 42,
   "metadata": {},
   "outputs": [
    {
     "data": {
      "text/plain": [
       "Dict{Int64, Float64} with 3 entries:\n",
       "  2 => 0.342\n",
       "  3 => 0.323\n",
       "  1 => 0.335"
      ]
     },
     "metadata": {},
     "output_type": "display_data"
    }
   ],
   "source": [
    "mapperf = AttractorsViaFeaturizing(\n",
    "    thomas, featurizer, grouping_config; \n",
    "    Ttr = 100.0, T = 50.0, Δt = 0.1\n",
    ")\n",
    "\n",
    "fs = basins_fractions(\n",
    "    mapperf, sampler; \n",
    "    show_progress = false\n",
    ")"
   ]
  },
  {
   "attachments": {},
   "cell_type": "markdown",
   "metadata": {},
   "source": [
    "## Continuation of attractors and their basins fractions"
   ]
  },
  {
   "attachments": {},
   "cell_type": "markdown",
   "metadata": {},
   "source": [
    "_Note: here we are talking about continuation of arbitrary attractors and their basins of attraction. This is NOT the traditional linearized bifurcation analysis and continuation of fixed points. To learn more about the differences, read our [comparison section online](https://juliadynamics.github.io/Attractors.jl/dev/continuation/#A-new-kind-of-continuation)!_"
   ]
  },
  {
   "attachments": {},
   "cell_type": "markdown",
   "metadata": {},
   "source": [
    "Continuation in the context of Attractors.jl is done using the `continuation` function, so let's read its documentation string.\n",
    "\n",
    "_Currently documentation display in VSCode Jupyter\n",
    "is bugged... So see it [online instead](https://juliadynamics.github.io/Attractors.jl/dev/continuation/#Continuation-API)._"
   ]
  },
  {
   "attachments": {},
   "cell_type": "markdown",
   "metadata": {},
   "source": [
    "Alright, let's now focus on one of two continuation methods, the recurrences based one. Applying this method to the Thomas system we used previously is not interesting, because due to symmetry the fractions are constantly 1/3. Instead, let's try to find, and continue, the attractors and the basins of attraction of the model from:\n",
    "\n",
    "> Synthetic multistability in mammalian cells, Zhu et al., Science 375 (2022), DOI: 10.1126/science.abg9765\n",
    ">\n",
    "> _An important goal for synthetic biology is to establish control systems that allow the direction of cells into multiple stable states, much like biological signaling systems do during organismal development. Zhu et al. devised a system that allows such control through designed zinc finger transcription factors that interact with one another through homo- and heterodimerization and can be regulated by small molecules that control dimerization and stability of the transcription factors (see the Perspective by Kunze and Khalil). Mathematical modeling allowed computational prediction of the system’s behavior, and introduction of three designed transcription factors in cultured mammalian cells allowed direction of the cells into seven distinct, stable states. Understanding such multistability is useful in synthetic biology and can help to determine its roles in development and disease processes._\n",
    "\n",
    " "
   ]
  },
  {
   "attachments": {},
   "cell_type": "markdown",
   "metadata": {},
   "source": [
    "$$\n",
    "\\dot{A_i} = \\alpha + \\beta \\frac{ B_i^n }{ 1 + B_i^n } - A_i, \\quad i = 1, \\ldots, N, \n",
    "$$\n",
    "\n",
    "with\n",
    "\n",
    "$$\n",
    "B_i = \\frac{2A_i^2}{ K_d + 4\\sum A_i  + \\sqrt{ K_d^2 + 8\\sum A_i + K_d } }\n",
    "$$\n",
    "\n",
    "Here we will use $N=3$ and parameters `α=4, β=20, n=1.5, Kd=80.0`. We are interested in the behavior of the model versions the `Kd` parameter. The state space tesselation will be from 0 to 100 for each dimension, divided into 100 cells."
   ]
  },
  {
   "cell_type": "code",
   "execution_count": 43,
   "metadata": {},
   "outputs": [
    {
     "data": {
      "text/plain": [
       "3-dimensional CoupledODEs\n",
       " deterministic: true\n",
       " discrete time: false\n",
       " in-place:      true\n",
       " dynamic rule:  cell_differentiation_rule!\n",
       " ODE solver:    Tsit5\n",
       " ODE kwargs:    (abstol = 1.0e-6, reltol = 1.0e-6)\n",
       " parameters:    [80.0, 4.0, 20.0, 1.5]\n",
       " time:          0.0\n",
       " state:         [0.009043931681138484, 0.36016547148745093, 0.8750365612694736]\n"
      ]
     },
     "metadata": {},
     "output_type": "display_data"
    }
   ],
   "source": [
    "# Define dynamical system\n",
    "function cell_differentiation(N = 3, u0 = rand(N); α=4, β=20, n=1.5, Kd=80.0)\n",
    "    p = [Kd, α, β, n]\n",
    "    ds = CoupledODEs(cell_differentiation_rule!, u0, p)\n",
    "    return ds\n",
    "end\n",
    "function cell_differentiation_rule!(du, u, p, t)\n",
    "    Kd, α, β, n = p\n",
    "    sum_u = sum(u)\n",
    "    @inbounds for i ∈ eachindex(du)\n",
    "        C = (2*u[i]^2) / (Kd + 4*sum_u + sqrt( Kd^2 + 8*sum_u*Kd )  )\n",
    "        du[i] = α + (β*C^n)/(1+C^n) - u[i]\n",
    "    end\n",
    "    return nothing\n",
    "end\n",
    "\n",
    "ds = cell_differentiation(3)"
   ]
  },
  {
   "attachments": {},
   "cell_type": "markdown",
   "metadata": {},
   "source": [
    "Let's create a `AttractorsViaRecurrences`, and check how many attractors are there in the defualt values"
   ]
  },
  {
   "cell_type": "code",
   "execution_count": 44,
   "metadata": {},
   "outputs": [
    {
     "data": {
      "text/plain": [
       "Dict{Int32, StateSpaceSet{3, Float64}} with 6 entries:\n",
       "  5 => 3-dimensional StateSpaceSet{Float64} with 1 points\n",
       "  4 => 3-dimensional StateSpaceSet{Float64} with 1 points\n",
       "  6 => 3-dimensional StateSpaceSet{Float64} with 1 points\n",
       "  2 => 3-dimensional StateSpaceSet{Float64} with 1 points\n",
       "  3 => 3-dimensional StateSpaceSet{Float64} with 1 points\n",
       "  1 => 3-dimensional StateSpaceSet{Float64} with 1 points"
      ]
     },
     "metadata": {},
     "output_type": "display_data"
    }
   ],
   "source": [
    "mapper_config = (;mx_chk_safety = Int(1e9))\n",
    "grid = ntuple(i -> range(0, 100, length=101), 3)\n",
    "\n",
    "sampler, = statespace_sampler(\n",
    "    min_bounds = minimum.(grid), max_bounds = maximum.(grid)\n",
    ")\n",
    "\n",
    "mapper = AttractorsViaRecurrences(\n",
    "    ds, grid; mapper_config...\n",
    ")\n",
    "\n",
    "fs = basins_fractions(mapper, sampler)\n",
    "attractors = extract_attractors(mapper)"
   ]
  },
  {
   "attachments": {},
   "cell_type": "markdown",
   "metadata": {},
   "source": [
    "Great! Since we have the attractor mapper already, the only thing we need to do to continue these attractors accross a parameter range is to initialize a `RecurrencesSeededContinuation` with the mapper, and give it to the `continuation` function!"
   ]
  },
  {
   "cell_type": "code",
   "execution_count": 45,
   "metadata": {},
   "outputs": [
    {
     "data": {
      "text/plain": [
       "101-element Vector{Dict{Int64, Float64}}:\n",
       " Dict(1 => 1.0)\n",
       " Dict(1 => 1.0)\n",
       " Dict(1 => 1.0)\n",
       " Dict(1 => 1.0)\n",
       " Dict(1 => 1.0)\n",
       " Dict(1 => 1.0)\n",
       " Dict(1 => 1.0)\n",
       " Dict(1 => 1.0)\n",
       " Dict(1 => 1.0)\n",
       " Dict(1 => 1.0)\n",
       " ⋮\n",
       " Dict(5 => 0.34579439252336447, 6 => 0.2616822429906542, 7 => 0.3364485981308411, 1 => 0.056074766355140186)\n",
       " Dict(5 => 0.25961538461538464, 6 => 0.33653846153846156, 7 => 0.38461538461538464, 1 => 0.019230769230769232)\n",
       " Dict(5 => 0.33653846153846156, 6 => 0.3269230769230769, 7 => 0.2980769230769231, 1 => 0.038461538461538464)\n",
       " Dict(5 => 0.38461538461538464, 6 => 0.3076923076923077, 7 => 0.2403846153846154, 1 => 0.0673076923076923)\n",
       " Dict(5 => 0.2692307692307692, 6 => 0.27884615384615385, 7 => 0.4230769230769231, 1 => 0.028846153846153848)\n",
       " Dict(5 => 0.2980769230769231, 6 => 0.3076923076923077, 7 => 0.2980769230769231, 1 => 0.09615384615384616)\n",
       " Dict(5 => 0.27884615384615385, 6 => 0.33653846153846156, 7 => 0.33653846153846156, 1 => 0.04807692307692308)\n",
       " Dict(5 => 0.3557692307692308, 6 => 0.28846153846153844, 7 => 0.25961538461538464, 1 => 0.09615384615384616)\n",
       " Dict(5 => 0.33653846153846156, 6 => 0.2403846153846154, 7 => 0.3269230769230769, 1 => 0.09615384615384616)"
      ]
     },
     "metadata": {},
     "output_type": "display_data"
    }
   ],
   "source": [
    "rsc = RecurrencesSeededContinuation(mapper; threshold = Inf)\n",
    "\n",
    "pidx = 1 # index of parameter to change (here Kd)\n",
    "prange = range(0, 100; length = 101) # parameter range to scan\n",
    "\n",
    "fractions_curves, attractors_info = continuation(\n",
    "    rsc, prange, pidx, sampler;\n",
    "    show_progress = false, samples_per_parameter = 100\n",
    ")\n",
    "fractions_curves"
   ]
  },
  {
   "attachments": {},
   "cell_type": "markdown",
   "metadata": {},
   "source": [
    "The above result is how the fractions of the attractors behave versus the $K_d$ parameter. As you can see, the number of attractors changes as the parameter changes...\n",
    "\n",
    "To visualize this result, we would have to write some code that loops through the dictionaries and collects the fractions and plots... Attractors.jl has some code that does it already, but we need to do a small hack to load the code:"
   ]
  },
  {
   "cell_type": "code",
   "execution_count": 46,
   "metadata": {},
   "outputs": [
    {
     "data": {
      "text/plain": [
       "basins_attractors_curves_plot (generic function with 2 methods)"
      ]
     },
     "metadata": {},
     "output_type": "display_data"
    }
   ],
   "source": [
    "include(\n",
    "    joinpath(pathof(Attractors), \"..\", \"..\", \"docs\", \"basins_plotting.jl\")\n",
    ")"
   ]
  },
  {
   "attachments": {},
   "cell_type": "markdown",
   "metadata": {},
   "source": [
    "In Julia versions 1.9 or later this hack won't be necessary; the code will be available as soon as you use Makie.jl (or its backends).\n",
    "\n",
    "Aaaanyways, let's now actually plot the results we found:"
   ]
  },
  {
   "cell_type": "code",
   "execution_count": 47,
   "metadata": {},
   "outputs": [
    {
     "data": {
      "image/png": "[encoded data removed]"
     },
     "metadata": {},
     "output_type": "display_data"
    }
   ],
   "source": [
    "# Decide how to plot attractors: go from attractor to real number\n",
    "attractor_to_real = A -> mean((x[1] + x[2])/2 for x in A)\n",
    "\n",
    "basins_attractors_curves_plot(fractions_curves, attractors_info, attractor_to_real, prange)"
   ]
  },
  {
   "attachments": {},
   "cell_type": "markdown",
   "metadata": {},
   "source": [
    "# Exercises - Attractors.jl"
   ]
  },
  {
   "attachments": {},
   "cell_type": "markdown",
   "metadata": {},
   "source": [
    "## Basins of attraction of the multistable predator prey model"
   ]
  },
  {
   "attachments": {},
   "cell_type": "markdown",
   "metadata": {},
   "source": [
    "Continue from the exercise of the previous block, where you have defined a `CoupledODE` representing a modified Rozenweig-MacArthur model. Consider the following two parameter values: `r1 = 1, r2 = 2`. For each parameter value, use the `AttractorViaRecurrences` and `basins_of_attraction` to compute, and plot, the basins of attraction. On top of the basins of attraction also scatterplot the returned attractors. \n",
    "\n",
    "For this exercise, use the following grid:\n",
    "\n",
    "```julia\n",
    "density = 201\n",
    "xg = range(0, 20; length = density)\n",
    "yg = range(0, 0.03; length = density)\n",
    "grid = (xg, yg)\n",
    "```\n",
    "\n",
    "and, very importantly, use a non-adaptive integrator when you define your `CoupledODEs`. E.g., do\n",
    "```julia\n",
    "using OrdinaryDiffEq: Tsit5\n",
    "diffeq = (alg = Tsit5(), adaptive = false, dt = 0.05)\n",
    "ds = CoupledODEs(predator_prey_rule, u0, p; diffeq)\n",
    "```\n",
    "This is because in some systems with limit cycles using an adaptive solver makes the solver step size commensurate with the limit cycle period, which leads to incorrect assignment of initial conditions to the limit cycle. To further increase accuracy of the algorithm, increase two of the parameters of `AttractorsViaRecurrences` that set how many cells to count until you declare you have an attractor. Use the following as a mapper:\n",
    "```julia\n",
    "mapper = AttractorsViaRecurrences(\n",
    "    ds, grid; mx_chk_fnd_att = 2000, mx_chk_loc_att = 4000\n",
    ")\n",
    "```\n"
   ]
  },
  {
   "attachments": {},
   "cell_type": "markdown",
   "metadata": {},
   "source": [
    "The exercise solution is a plot that looks like the one below:\n",
    "\n",
    "_Hint: If `A` is a `StateSpaceSet` (i.e., an attractor), then you can do `scatter!(ax, (vec(A))` to immediatelly scatterplot the attractor into an axis!_\n",
    "\n",
    "![makie_ex_fig_1.png](basins_ex_fig_1.png)"
   ]
  },
  {
   "attachments": {},
   "cell_type": "markdown",
   "metadata": {},
   "source": [
    "## Continuing the basins fractions"
   ]
  },
  {
   "attachments": {},
   "cell_type": "markdown",
   "metadata": {},
   "source": [
    "Continue from the previous exercise, and now use the `continuation` function to continue attractors and their fractions across the parameter range `r = 1` to `2`. Use the `statespace_sampler` function to generate random initial conditions in the `grid` you defined above. Plot the fractions of basins of attraction versus the parameter range, and the attractor value, using the following function to map attractors to real numbers:\n",
    "```julia\n",
    "using Statistics: mean\n",
    "attractor_to_real = A -> mean((x[1] + x[2])/2 for x in A)\n",
    "```\n",
    "\n",
    "The solution of the exercise should be that you have only two attractors and the fractions of their basins are approximately 50% all the time.\n",
    "\n",
    "This is weird, right? Focus on `r = 1`. In this case, in the first exercise, you found three attractors, all three being fixed points. Can you give a reasonable explanation of this discrepency, and why the third attractor was not found in the continuation case...?\n",
    "\n",
    "_hint: think of what kind of initial conditions are generated by the random sampling process, or by scanning the grid explicitly_"
   ]
  }
 ],
 "metadata": {
  "kernelspec": {
   "display_name": "Julia 1.8.5",
   "language": "julia",
   "name": "julia-1.8"
  },
  "language_info": {
   "file_extension": ".jl",
   "mimetype": "application/julia",
   "name": "julia",
   "version": "1.8.5"
  },
  "orig_nbformat": 4
 },
 "nbformat": 4,
 "nbformat_minor": 2
}
