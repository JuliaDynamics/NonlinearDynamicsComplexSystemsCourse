{
 "cells": [
  {
   "attachments": {},
   "cell_type": "markdown",
   "metadata": {},
   "source": [
    "# Introduction: Dynamical systems and their attractors"
   ]
  },
  {
   "attachments": {},
   "cell_type": "markdown",
   "metadata": {},
   "source": [
    "This notebook is separated into two blocks: the first is an introduction to DynamicalSystems.jl. The second is a deeper dive into one of its submodules, Attractors.jl."
   ]
  },
  {
   "attachments": {},
   "cell_type": "markdown",
   "metadata": {},
   "source": [
    "**Versions:** Please ensure you have the following packages installed, with these versions or newer:"
   ]
  },
  {
   "cell_type": "code",
   "execution_count": 2,
   "metadata": {},
   "outputs": [
    {
     "name": "stdout",
     "output_type": "stream",
     "text": [
      "\u001b[32m\u001b[1mStatus\u001b[22m\u001b[39m `C:\\Users\\gd419\\.julia\\environments\\v1.8\\Project.toml`\n",
      " \u001b[90m [f3fd9213] \u001b[39mAttractors v1.1.0 `C:\\Users\\gd419\\.julia\\dev\\Attractors`\n",
      " \u001b[90m [13f3f980] \u001b[39mCairoMakie v0.10.2\n",
      " \u001b[90m [61744808] \u001b[39mDynamicalSystems v3.0.0 `C:\\Users\\gd419\\.julia\\dev\\DynamicalSystems`\n"
     ]
    }
   ],
   "source": [
    "import Pkg\n",
    "Pkg.status([\"DynamicalSystems\", \"Attractors\", \"CairoMakie\"])"
   ]
  },
  {
   "cell_type": "markdown",
   "metadata": {},
   "source": [
    "Quick theme change for plotting in zoomed-in Jupyter notebooks:"
   ]
  },
  {
   "cell_type": "code",
   "execution_count": 3,
   "metadata": {},
   "outputs": [],
   "source": [
    "using CairoMakie\n",
    "update_theme!(resolution = (500, 300), fontsize = 16)"
   ]
  },
  {
   "attachments": {},
   "cell_type": "markdown",
   "metadata": {},
   "source": [
    "# DynamicalSystems.jl"
   ]
  },
  {
   "attachments": {},
   "cell_type": "markdown",
   "metadata": {},
   "source": [
    "**DynamicalSystems.jl** is an [award-winning](https://dsweb.siam.org/The-Magazine/Article/winners-of-the-dsweb-2018-software-contest) Julia software library for nonlinear dynamics and nonlinear timeseries analysis. It is composed of several submodules/subpackages, most of which are exposed in higher detail throughout this course series.\n",
    "\n",
    "The list of contents of **DynamicalSystems.jl** is rather larger and is best seen [online](https://juliadynamics.github.io/DynamicalSystems.jl/latest/contents/).\n",
    "\n",
    "The section that follows is a verbatim copy of the online [overarching tutorial for **DynamicalSystems.jl**](https://juliadynamics.github.io/DynamicalSystems.jl/latest/tutorial/). It has two goals: \n",
    "\n",
    "1. To teach you \"the ropes\" of DynamicalSystems.jl in about 20 minutes.\n",
    "2. To give you an idea of all the subpackages that go into DynamicalSystems.jl. This can be a bit overwhelming depending on your familiarity with nonlinear dynamics, but do not worry if this is so. Followup tutorials go in more depth, and explain in greater length, the subpackages."
   ]
  },
  {
   "attachments": {},
   "cell_type": "markdown",
   "metadata": {},
   "source": [
    "\n",
    "## Core components\n",
    "\n",
    "The individual packages that compose `DynamicalSystems` interact flawlessly with each other because of the following two components:\n",
    "\n",
    "1. The `StateSpaceSet`, which represents numerical data. They can be observed or measured from experiments, sampled trajectories of dynamical systems, or just unordered sets in a state space. A `StateSpaceSet` is a container of equally-sized points, representing multivariate timeseries or multivariate datasets. Timeseries, which are univariate sets, are represented by the `AbstractVector{<:Real}` Julia base type.\n",
    "2. The `DynamicalSystem`, which is the abstract representation of a dynamical system with a known dynamic evolution rule. `DynamicalSystem` defines an extendable interface, but typically one uses concrete implementations such as `DeterministicIteratedMap` or `CoupledODEs`.\n"
   ]
  },
  {
   "attachments": {},
   "cell_type": "markdown",
   "metadata": {},
   "source": [
    "\n",
    "## Making dynamical systems\n",
    "\n",
    "In the majority of cases, to make a dynamical system one needs three things:\n",
    "\n",
    "1. The dynamic rule `f`: A Julia function that provides the instructions of how to evolve the dynamical system in time.\n",
    "2. The state `u`: An array-like container that contains the variables of the dynamical system and also defines the starting state of the system.\n",
    "3. The parameters `p`: An arbitrary container that parameterizes `f`.\n",
    "\n",
    "For most concrete implementations of `DynamicalSystem` there are two ways of defining `f, u`.\n",
    "The distinction is done on whether `f` is defined as an in-place (iip) function or out-of-place (oop) function.\n",
    "\n",
    "* **oop** : `f` **must** be in the form `f(u, p, t) -> out`\n",
    "    which means that given a state `u::SVector{<:Real}` and some parameter container\n",
    "    `p` it returns the output of `f` as an `SVector{<:Real}` (static vector).\n",
    "* **iip** : `f` **must** be in the form `f!(out, u, p, t)`\n",
    "    which means that given a state `u::AbstractArray{<:Real}` and some parameter container `p`,\n",
    "    it writes in-place the output of `f` in `out::AbstractArray{<:Real}`.\n",
    "    The function **must** return `nothing` as a final statement.\n",
    "\n",
    "`t` stands for current time in both cases.\n",
    "**iip** is suggested for systems with high dimension and **oop** for small.\n",
    "The break-even point is between 10 to 100 dimensions but should be benchmarked\n",
    "on a case-by-case basis as it depends on the complexity of `f`.\n",
    "\n",
    "### Example: Henon map\n",
    "Let's make the Henon map, defined as\n",
    "$$\n",
    "\\begin{aligned}\n",
    "x_{n+1} &= 1 - ax^2_n+y_n \\\n",
    "y_{n+1} & = bx_n\n",
    "\\end{aligned}\n",
    "$$\n",
    "with parameters $a = 1.4, b = 0.3$.\n",
    "\n",
    "First, we define the dynamic rule as a standard Julia function. Since the dynamical system is only two-dimensional, we should use the _out-of-place_ form that returns an `SVector` with the next state:\n"
   ]
  },
  {
   "cell_type": "code",
   "execution_count": 4,
   "metadata": {},
   "outputs": [
    {
     "name": "stderr",
     "output_type": "stream",
     "text": [
      "WARNING: redefinition of constant FT_LIB. This may fail, cause incorrect answers, or produce other errors.\n",
      "WARNING: redefinition of constant VALID_FONTPATHS. This may fail, cause incorrect answers, or produce other errors.\n",
      "WARNING: redefinition of constant FT_FONTS. This may fail, cause incorrect answers, or produce other errors.\n"
     ]
    },
    {
     "data": {
      "text/plain": [
       "henon_rule (generic function with 1 method)"
      ]
     },
     "metadata": {},
     "output_type": "display_data"
    }
   ],
   "source": [
    "using DynamicalSystems\n",
    "\n",
    "function henon_rule(u, p, n) # here `n` is \"time\", but we don't use it.\n",
    "    x, y = u # system state\n",
    "    a, b = p # system parameters\n",
    "    xn = 1.0 - a*x^2 + y\n",
    "    yn = b*x\n",
    "    return SVector(xn, yn)\n",
    "end"
   ]
  },
  {
   "attachments": {},
   "cell_type": "markdown",
   "metadata": {},
   "source": [
    "Then, we define initial state and parameters"
   ]
  },
  {
   "cell_type": "code",
   "execution_count": 5,
   "metadata": {},
   "outputs": [
    {
     "data": {
      "text/plain": [
       "2-element Vector{Float64}:\n",
       " 1.4\n",
       " 0.3"
      ]
     },
     "metadata": {},
     "output_type": "display_data"
    }
   ],
   "source": [
    "u0 = [0.2, 0.3]\n",
    "p0 = [1.4, 0.3]"
   ]
  },
  {
   "attachments": {},
   "cell_type": "markdown",
   "metadata": {},
   "source": [
    "Lastly, we give these three to the `DeterministicIteratedMap`:"
   ]
  },
  {
   "cell_type": "code",
   "execution_count": 6,
   "metadata": {},
   "outputs": [
    {
     "data": {
      "text/plain": [
       "2-dimensional DeterministicIteratedMap\n",
       " deterministic: true\n",
       " discrete time: true\n",
       " in-place:      false\n",
       " dynamic rule:  henon_rule\n",
       " parameters:    [1.4, 0.3]\n",
       " time:          0\n",
       " state:         [0.2, 0.3]\n"
      ]
     },
     "metadata": {},
     "output_type": "display_data"
    }
   ],
   "source": [
    "henon = DeterministicIteratedMap(henon_rule, u0, p0)"
   ]
  },
  {
   "attachments": {},
   "cell_type": "markdown",
   "metadata": {},
   "source": [
    "`henon` is a `DynamicalSystem`, one of the two core structures of the library.\n",
    "`DynamicalSystem`s can evolved interactively, and queried, using the interface defined by `DynamicalSystem` (which will be exposed in a more advanced tutorial). The simplest thing you can do with a `DynamicalSystem` is to get its trajectory:"
   ]
  },
  {
   "cell_type": "code",
   "execution_count": 7,
   "metadata": {},
   "outputs": [
    {
     "data": {
      "text/plain": [
       "(2-dimensional StateSpaceSet{Float64} with 10001 points, 0:1:10000)"
      ]
     },
     "metadata": {},
     "output_type": "display_data"
    }
   ],
   "source": [
    "total_time = 10_000\n",
    "X, t = trajectory(henon, total_time)"
   ]
  },
  {
   "cell_type": "code",
   "execution_count": 8,
   "metadata": {},
   "outputs": [
    {
     "data": {
      "text/plain": [
       "2-dimensional StateSpaceSet{Float64} with 10001 points\n",
       "  0.2        0.3\n",
       "  1.244      0.06\n",
       " -1.10655    0.3732\n",
       " -0.341035  -0.331965\n",
       "  0.505208  -0.102311\n",
       "  0.540361   0.151562\n",
       "  0.742777   0.162108\n",
       "  0.389703   0.222833\n",
       "  1.01022    0.116911\n",
       " -0.311842   0.303065\n",
       "  ⋮         \n",
       " -0.582534   0.328346\n",
       "  0.853262  -0.17476\n",
       " -0.194038   0.255978\n",
       "  1.20327   -0.0582113\n",
       " -1.08521    0.36098\n",
       " -0.287758  -0.325562\n",
       "  0.558512  -0.0863275\n",
       "  0.476963   0.167554\n",
       "  0.849062   0.143089"
      ]
     },
     "metadata": {},
     "output_type": "display_data"
    }
   ],
   "source": [
    "X"
   ]
  },
  {
   "attachments": {},
   "cell_type": "markdown",
   "metadata": {},
   "source": [
    "`X` is a `StateSpaceSet`, the second of the core structures of the library. We'll see below how, and where, to use a `StateSpaceset`, but for now let's just do a scatter plot"
   ]
  },
  {
   "cell_type": "code",
   "execution_count": 9,
   "metadata": {},
   "outputs": [
    {
     "data": {
      "image/png": "[encoded data removed]"
     },
     "metadata": {},
     "output_type": "display_data"
    }
   ],
   "source": [
    "using CairoMakie\n",
    "scatter(X[:, 1], X[:, 2])"
   ]
  },
  {
   "attachments": {},
   "cell_type": "markdown",
   "metadata": {},
   "source": [
    "\n",
    "### Example: Lorenz96\n",
    "\n",
    "Let's also make another dynamical system, the Lorenz96 model:\n",
    "$$\n",
    "\\frac{dx_i}{dt} = (x_{i+1}-x_{i-2})x_{i-1} - x_i + F\n",
    "$$\n",
    "for $i \\in \\{1, \\ldots, N\\}$ and $N+j=j$.\n",
    "\n",
    "Here, instead of a discrete time map we have $N$ coupled ordinary differential equations. However, creating the dynamical system works out just like above, but using `CoupledODEs` instead of `DeterministicIteratedMap`.\n",
    "\n",
    "First, we make the dynamic rule function. Since this dynamical system can be arbitrarily high-dimensional, we prefer to use the _in-place_ form for `f`, overwriting in place the rate of change in a pre-allocated container."
   ]
  },
  {
   "cell_type": "code",
   "execution_count": 10,
   "metadata": {},
   "outputs": [
    {
     "data": {
      "text/plain": [
       "lorenz96_rule (generic function with 1 method)"
      ]
     },
     "metadata": {},
     "output_type": "display_data"
    }
   ],
   "source": [
    "function lorenz96_rule(du, u, p, t)\n",
    "    F = p[1]; N = length(u)\n",
    "    # 3 edge cases\n",
    "    du[1] = (u[2] - u[N - 1]) * u[N] - u[1] + F\n",
    "    du[2] = (u[3] - u[N]) * u[1] - u[2] + F\n",
    "    du[N] = (u[1] - u[N - 2]) * u[N - 1] - u[N] + F\n",
    "    # then the general case\n",
    "    for n in 3:(N - 1)\n",
    "        du[n] = (u[n + 1] - u[n - 2]) * u[n - 1] - u[n] + F\n",
    "    end\n",
    "    return nothing # always `return nothing` for in-place form!\n",
    "end"
   ]
  },
  {
   "attachments": {},
   "cell_type": "markdown",
   "metadata": {},
   "source": [
    "then, like before, we define an initial state and parameters, and initialize the system"
   ]
  },
  {
   "cell_type": "code",
   "execution_count": 11,
   "metadata": {},
   "outputs": [
    {
     "data": {
      "text/plain": [
       "6-dimensional CoupledODEs\n",
       " deterministic: true\n",
       " discrete time: false\n",
       " in-place:      true\n",
       " dynamic rule:  lorenz96_rule\n",
       " ODE solver:    Tsit5\n",
       " ODE kwargs:    (abstol = 1.0e-6, reltol = 1.0e-6)\n",
       " parameters:    [8.0]\n",
       " time:          0.0\n",
       " state:         [0.1, 0.28, 0.46, 0.64, 0.82, 1.0]\n"
      ]
     },
     "metadata": {},
     "output_type": "display_data"
    }
   ],
   "source": [
    "N = 6\n",
    "u0 = range(0.1, 1; length = N)\n",
    "p0 = [8.0]\n",
    "lorenz96 = CoupledODEs(lorenz96_rule, u0, p0)"
   ]
  },
  {
   "attachments": {},
   "cell_type": "markdown",
   "metadata": {},
   "source": [
    "and, again like before, we may obtain a trajectory the same way\n"
   ]
  },
  {
   "cell_type": "code",
   "execution_count": 12,
   "metadata": {},
   "outputs": [
    {
     "data": {
      "text/plain": [
       "6-dimensional StateSpaceSet{Float64} with 626 points\n",
       "  3.15368   -4.40493  0.0311581  0.486735  1.89895   4.15167\n",
       "  2.71382   -4.39303  0.395019   0.66327   2.0652    4.32045\n",
       "  2.25088   -4.33682  0.693967   0.879701  2.2412    4.46619\n",
       "  1.7707    -4.24045  0.924523   1.12771   2.42882   4.58259\n",
       "  1.27983   -4.1073   1.08656    1.39809   2.62943   4.66318\n",
       "  0.785433  -3.94005  1.18319    1.6815    2.84384   4.70147\n",
       "  0.295361  -3.74095  1.2205     1.96908   3.07224   4.69114\n",
       " -0.181932  -3.51222  1.20719    2.25296   3.3139    4.62628\n",
       " -0.637491  -3.25665  1.154      2.5267    3.56698   4.50178\n",
       " -1.06206   -2.9781   1.07303    2.7856    3.82827   4.31366\n",
       "  ⋮                                                  ⋮\n",
       "  3.17245    2.3759   3.01796    7.27415   7.26007  -0.116002\n",
       "  3.29671    2.71146  3.32758    7.5693    6.75971  -0.537853\n",
       "  3.44096    3.09855  3.66908    7.82351   6.13876  -0.922775\n",
       "  3.58387    3.53999  4.04452    8.01418   5.39898  -1.25074\n",
       "  3.70359    4.03513  4.45448    8.1137    4.55005  -1.5042\n",
       "  3.78135    4.57879  4.89677    8.09013   3.61125  -1.66943\n",
       "  3.80523    5.16112  5.36441    7.90891   2.61262  -1.73822\n",
       "  3.77305    5.7684   5.84318    7.53627   1.59529  -1.71018\n",
       "  3.6934     6.38507  6.30923    6.94454   0.61023  -1.59518"
      ]
     },
     "metadata": {},
     "output_type": "display_data"
    }
   ],
   "source": [
    "total_time = 12.5\n",
    "sampling_time = 0.02\n",
    "Y, t = trajectory(lorenz96, total_time; Ttr = 2.2, Δt = sampling_time)\n",
    "Y"
   ]
  },
  {
   "attachments": {},
   "cell_type": "markdown",
   "metadata": {},
   "source": [
    "We can't scatterplot something 6-dimensional but we can visualize all timeseries\n"
   ]
  },
  {
   "cell_type": "code",
   "execution_count": 13,
   "metadata": {},
   "outputs": [
    {
     "data": {
      "image/png": "[encoded data removed]"
     },
     "metadata": {},
     "output_type": "display_data"
    }
   ],
   "source": [
    "fig = Figure()\n",
    "ax = Axis(fig[1,1]; xlabel = \"time\", ylabel = \"variable\")\n",
    "for var in columns(Y)\n",
    "    lines!(ax, t, var)\n",
    "end\n",
    "fig"
   ]
  },
  {
   "attachments": {},
   "cell_type": "markdown",
   "metadata": {},
   "source": [
    "\n",
    "### ODE solving\n",
    "\n",
    "Continuous time dynamical systems are evolved through DifferentialEquations.jl.\n",
    "When initializing a `CoupledODEs` you can tune the solver properties to your heart's content using any of the [ODE solvers](https://diffeq.sciml.ai/latest/solvers/ode_solve/) and any of the [common solver options](https://diffeq.sciml.ai/latest/basics/common_solver_opts/). For example:\n"
   ]
  },
  {
   "cell_type": "code",
   "execution_count": 14,
   "metadata": {},
   "outputs": [
    {
     "data": {
      "text/plain": [
       "6-dimensional CoupledODEs\n",
       " deterministic: true\n",
       " discrete time: false\n",
       " in-place:      true\n",
       " dynamic rule:  lorenz96_rule\n",
       " ODE solver:    Vern9\n",
       " ODE kwargs:    (abstol = 1.0e-9, reltol = 1.0e-9)\n",
       " parameters:    [8.0]\n",
       " time:          0.0\n",
       " state:         [0.1, 0.28, 0.46, 0.64, 0.82, 1.0]\n"
      ]
     },
     "metadata": {},
     "output_type": "display_data"
    }
   ],
   "source": [
    "using OrdinaryDiffEq # accessing the ODE solvers\n",
    "diffeq = (alg = Vern9(), abstol = 1e-9, reltol = 1e-9)\n",
    "lorenz96_vern = ContinuousDynamicalSystem(lorenz96_rule, u0, p0; diffeq)"
   ]
  },
  {
   "cell_type": "code",
   "execution_count": 15,
   "metadata": {},
   "outputs": [
    {
     "data": {
      "text/plain": [
       "6-element SVector{6, Float64} with indices SOneTo(6):\n",
       "  3.8390248122550252\n",
       "  6.1557095311542325\n",
       "  6.080625689025621\n",
       "  7.278588308988913\n",
       "  1.2582152212831657\n",
       " -1.5297062916833186"
      ]
     },
     "metadata": {},
     "output_type": "display_data"
    }
   ],
   "source": [
    "Y, t = trajectory(lorenz96_vern, total_time; Ttr = 2.2, Δt = sampling_time)\n",
    "Y[end]"
   ]
  },
  {
   "attachments": {},
   "cell_type": "markdown",
   "metadata": {},
   "source": [
    "## State space sets\n"
   ]
  },
  {
   "attachments": {},
   "cell_type": "markdown",
   "metadata": {},
   "source": [
    "Let's recall that the output of the `trajectory` function is a `StateSpaceSet`:\n"
   ]
  },
  {
   "cell_type": "code",
   "execution_count": 16,
   "metadata": {},
   "outputs": [
    {
     "data": {
      "text/plain": [
       "2-dimensional StateSpaceSet{Float64} with 10001 points\n",
       "  0.2        0.3\n",
       "  1.244      0.06\n",
       " -1.10655    0.3732\n",
       " -0.341035  -0.331965\n",
       "  0.505208  -0.102311\n",
       "  0.540361   0.151562\n",
       "  0.742777   0.162108\n",
       "  0.389703   0.222833\n",
       "  1.01022    0.116911\n",
       " -0.311842   0.303065\n",
       "  ⋮         \n",
       " -0.582534   0.328346\n",
       "  0.853262  -0.17476\n",
       " -0.194038   0.255978\n",
       "  1.20327   -0.0582113\n",
       " -1.08521    0.36098\n",
       " -0.287758  -0.325562\n",
       "  0.558512  -0.0863275\n",
       "  0.476963   0.167554\n",
       "  0.849062   0.143089"
      ]
     },
     "metadata": {},
     "output_type": "display_data"
    }
   ],
   "source": [
    "X"
   ]
  },
  {
   "attachments": {},
   "cell_type": "markdown",
   "metadata": {},
   "source": [
    "It is printed like a matrix where each column is the timeseries of each dynamic variable. In reality, it is a vector of statically sized vectors (for performance reasons). When indexed with 1 index, it behaves like a vector of vectors\n"
   ]
  },
  {
   "cell_type": "code",
   "execution_count": 17,
   "metadata": {},
   "outputs": [
    {
     "data": {
      "text/plain": [
       "2-element SVector{2, Float64} with indices SOneTo(2):\n",
       " 0.2\n",
       " 0.3"
      ]
     },
     "metadata": {},
     "output_type": "display_data"
    }
   ],
   "source": [
    "X[1]"
   ]
  },
  {
   "cell_type": "code",
   "execution_count": 18,
   "metadata": {},
   "outputs": [
    {
     "data": {
      "text/plain": [
       "2-dimensional StateSpaceSet{Float64} with 4 points\n",
       "  1.244      0.06\n",
       " -1.10655    0.3732\n",
       " -0.341035  -0.331965\n",
       "  0.505208  -0.102311"
      ]
     },
     "metadata": {},
     "output_type": "display_data"
    }
   ],
   "source": [
    "X[2:5]"
   ]
  },
  {
   "attachments": {},
   "cell_type": "markdown",
   "metadata": {},
   "source": [
    "When indexed with two indices, it behaves like a matrix\n"
   ]
  },
  {
   "cell_type": "code",
   "execution_count": 19,
   "metadata": {},
   "outputs": [
    {
     "data": {
      "text/plain": [
       "4-element Vector{Float64}:\n",
       "  0.06\n",
       "  0.3732\n",
       " -0.3319651199999999\n",
       " -0.10231059085086688"
      ]
     },
     "metadata": {},
     "output_type": "display_data"
    }
   ],
   "source": [
    "X[2:5, 2]"
   ]
  },
  {
   "attachments": {},
   "cell_type": "markdown",
   "metadata": {},
   "source": [
    "When iterated, it iterates over the contained points"
   ]
  },
  {
   "cell_type": "code",
   "execution_count": 20,
   "metadata": {},
   "outputs": [
    {
     "name": "stdout",
     "output_type": "stream",
     "text": [
      "point = [0.2, 0.3]\n",
      "point = [1.244, 0.06]\n",
      "point = [-1.1065503999999997, 0.3732]\n",
      "point = [-0.34103530283622296, -0.3319651199999999]\n",
      "point = [0.5052077711071681, -0.10231059085086688]\n",
      "point = [0.5403605603672313, 0.1515623313321504]"
     ]
    },
    {
     "name": "stdout",
     "output_type": "stream",
     "text": [
      "\n"
     ]
    }
   ],
   "source": [
    "for (i, point) in enumerate(X)\n",
    "    @show point\n",
    "    i > 5 && break\n",
    "end"
   ]
  },
  {
   "cell_type": "code",
   "execution_count": 21,
   "metadata": {},
   "outputs": [
    {
     "data": {
      "text/plain": [
       "10001-element Vector{Float64}:\n",
       "  0.5\n",
       "  1.304\n",
       " -0.7333503999999997\n",
       " -0.6730004228362229\n",
       "  0.40289718025630117\n",
       "  0.6919228916993818\n",
       "  0.9048851501617762\n",
       "  0.6125365596336813\n",
       "  1.1271278272148746\n",
       " -0.008777065619615998\n",
       "  ⋮\n",
       " -0.2541879392427324\n",
       "  0.678501271515278\n",
       "  0.061940665344374896\n",
       "  1.145056192451011\n",
       " -0.7242249528790483\n",
       " -0.6133198017049188\n",
       "  0.47218423998951875\n",
       "  0.6445165778497133\n",
       "  0.9921511619004666"
      ]
     },
     "metadata": {},
     "output_type": "display_data"
    }
   ],
   "source": [
    "map(point -> point[1] + point[2], X)"
   ]
  },
  {
   "attachments": {},
   "cell_type": "markdown",
   "metadata": {},
   "source": [
    "The columns of the set are obtained with the convenience `columns` function"
   ]
  },
  {
   "cell_type": "code",
   "execution_count": 22,
   "metadata": {},
   "outputs": [
    {
     "data": {
      "text/plain": [
       "(\"10001-element Vector{Float64}\", \"10001-element Vector{Float64}\")"
      ]
     },
     "metadata": {},
     "output_type": "display_data"
    }
   ],
   "source": [
    "x, y = columns(X)\n",
    "summary.((x, y))"
   ]
  },
  {
   "attachments": {},
   "cell_type": "markdown",
   "metadata": {},
   "source": [
    "## Using dynamical systems\n"
   ]
  },
  {
   "attachments": {},
   "cell_type": "markdown",
   "metadata": {},
   "source": [
    "You may use the `DynamicalSystem` interface to develop algorithms that utilize dynamical systems with a known evolution rule. The two main packages of the library that do this are `ChaosTools` and `Attractors`. For example, you may want to compute the Lyapunov spectrum of the Lorenz96 system from above. This is as easy as calling the `lyapunovspectrum` function with `lorenz96`"
   ]
  },
  {
   "cell_type": "code",
   "execution_count": 23,
   "metadata": {},
   "outputs": [
    {
     "data": {
      "text/plain": [
       "6-element Vector{Float64}:\n",
       "  0.9578297436475176\n",
       "  0.0007190960153067711\n",
       " -0.1574913469515455\n",
       " -0.7575338861926553\n",
       " -1.4036253850303557\n",
       " -4.639894729260121"
      ]
     },
     "metadata": {},
     "output_type": "display_data"
    }
   ],
   "source": [
    "steps = 10_000\n",
    "lyapunovspectrum(lorenz96, steps)"
   ]
  },
  {
   "attachments": {},
   "cell_type": "markdown",
   "metadata": {},
   "source": [
    "As expected, there is at least one positive Lyapunov exponent (before the system is chaotic) and at least one zero Lyapunov exponent, because the system is continuous time.\n"
   ]
  },
  {
   "attachments": {},
   "cell_type": "markdown",
   "metadata": {},
   "source": [
    "Alternatively, you may want to estimate the basins of attraction of a multistable dynamical system. The Henon map is \"multistable\" in the sense that some initial conditions diverge to infinity, and some others converge to a chaotic attractor. Computing these basins of attraction is simple with [`Attractors`](@ref), and would work as follows:"
   ]
  },
  {
   "cell_type": "code",
   "execution_count": 24,
   "metadata": {},
   "outputs": [
    {
     "data": {
      "text/plain": [
       "(Int32[-1 -1 … -1 -1; -1 -1 … -1 -1; … ; -1 -1 … -1 -1; -1 -1 … -1 -1], Dict{Int32, StateSpaceSet{2, Float64}}(1 => 2-dimensional StateSpaceSet{Float64} with 511 points))"
      ]
     },
     "metadata": {},
     "output_type": "display_data"
    }
   ],
   "source": [
    "# define a state space grid to compute the basins on:\n",
    "xg = yg = range(-2, 2; length = 201)\n",
    "# find attractors using recurrences in state space:\n",
    "mapper = AttractorsViaRecurrences(henon, (xg, yg); sparse = false)\n",
    "# compute the full basins of attraction:\n",
    "basins, attractors = basins_of_attraction(mapper; show_progress = false)"
   ]
  },
  {
   "cell_type": "code",
   "execution_count": 25,
   "metadata": {},
   "outputs": [
    {
     "data": {
      "image/png": "[encoded data removed]"
     },
     "metadata": {},
     "output_type": "display_data"
    }
   ],
   "source": [
    "fig, ax = heatmap(xg, yg, basins)\n",
    "x, y = columns(X) # attractor of Henon map\n",
    "scatter!(ax, x, y; color = \"black\")\n",
    "fig"
   ]
  },
  {
   "attachments": {},
   "cell_type": "markdown",
   "metadata": {},
   "source": [
    "## Using state space sets"
   ]
  },
  {
   "attachments": {},
   "cell_type": "markdown",
   "metadata": {},
   "source": [
    "Several packages of the library deal with `StateSpaceSets`.\n",
    "\n",
    "You could use `ComplexityMeasures` to obtain the entropy, or other complexity measures, of a given set. Below, we obtain the entropy of the natural density of the chaotic attractor by partitioning into a histogram of approximately `50` bins per dimension:\n"
   ]
  },
  {
   "cell_type": "code",
   "execution_count": 26,
   "metadata": {},
   "outputs": [
    {
     "data": {
      "text/plain": [
       "7.825799208736613"
      ]
     },
     "metadata": {},
     "output_type": "display_data"
    }
   ],
   "source": [
    "prob_est = ValueHistogram(50)\n",
    "entropy(prob_est, X)"
   ]
  },
  {
   "attachments": {},
   "cell_type": "markdown",
   "metadata": {},
   "source": [
    "Alternatively, you could use `FractalDimensions` to get the fractal dimensions of the chaotic attractor of the henon map using the Grassberger-Procaccia algorithm:\n"
   ]
  },
  {
   "cell_type": "code",
   "execution_count": 27,
   "metadata": {},
   "outputs": [
    {
     "data": {
      "text/plain": [
       "1.2222029831072245"
      ]
     },
     "metadata": {},
     "output_type": "display_data"
    }
   ],
   "source": [
    "grassberger_proccacia_dim(X)"
   ]
  },
  {
   "attachments": {},
   "cell_type": "markdown",
   "metadata": {},
   "source": [
    "Or, you could obtain a recurrence matrix of a state space set with `RecurrenceAnalysis`\n"
   ]
  },
  {
   "cell_type": "code",
   "execution_count": 28,
   "metadata": {},
   "outputs": [
    {
     "data": {
      "image/png": "[encoded data removed]"
     },
     "metadata": {},
     "output_type": "display_data"
    }
   ],
   "source": [
    "R = RecurrenceMatrix(Y, 8.0)\n",
    "Rg = grayscale(R)\n",
    "rr = recurrencerate(R)\n",
    "heatmap(Rg; colormap = :grays,\n",
    "    axis = (title = \"recurrence rate = $(rr)\", aspect = 1,)\n",
    ")"
   ]
  },
  {
   "attachments": {},
   "cell_type": "markdown",
   "metadata": {},
   "source": [
    "## More nonlinear timeseries analysis\n"
   ]
  },
  {
   "attachments": {},
   "cell_type": "markdown",
   "metadata": {},
   "source": [
    "A `trajectory` of a known dynamical system is one way to obtain a `StateSpaceSet`. However, another common way is via a delay coordinates embedding of a measured/observed timeseries. For example, we could use `optimal_traditional_de` from `DelayEmbeddings` to create an optimized delay coordinates embedding of a timeseries\n"
   ]
  },
  {
   "cell_type": "code",
   "execution_count": 29,
   "metadata": {},
   "outputs": [
    {
     "name": "stdout",
     "output_type": "stream",
     "text": [
      "Algorithm stopped due to convergence of E₁-statistic. Valid embedding achieved ✓.\n"
     ]
    },
    {
     "data": {
      "text/plain": [
       "5-dimensional StateSpaceSet{Float64} with 558 points\n",
       "  3.15369   -2.40036    1.60497   2.90499  5.72572\n",
       "  2.71384   -2.24811    1.55832   3.04987  5.6022\n",
       "  2.2509    -2.02902    1.50499   3.20633  5.38629\n",
       "  1.77073   -1.75077    1.45921   3.37699  5.07029\n",
       "  1.27986   -1.42354    1.43338   3.56316  4.65003\n",
       "  0.785468  -1.05974    1.43672   3.76473  4.12617\n",
       "  0.295399  -0.673567   1.47423   3.98019  3.50532\n",
       " -0.181891  -0.280351   1.54635   4.20677  2.80048\n",
       " -0.637447   0.104361   1.64932   4.44054  2.03084\n",
       " -1.06201    0.465767   1.77622   4.67654  1.22067\n",
       "  ⋮                                        \n",
       "  7.42111    9.27879   -1.23936   5.15945  3.25618\n",
       "  7.94615    9.22663   -1.64222   5.24344  3.34749\n",
       "  8.40503    9.13776   -1.81947   5.26339  3.46932\n",
       "  8.78703    8.99491   -1.77254   5.22631  3.60343\n",
       "  9.08701    8.77963   -1.51823   5.13887  3.72926\n",
       "  9.30562    8.47357   -1.08603   5.00759  3.82705\n",
       "  9.4488     8.06029   -0.514333  4.83928  3.88137\n",
       "  9.52679    7.52731    0.153637  4.6414   3.88458\n",
       "  9.55278    6.86845    0.873855  4.42248  3.83902"
      ]
     },
     "metadata": {},
     "output_type": "display_data"
    }
   ],
   "source": [
    "w = Y[:, 1] # first variable of Lorenz96\n",
    "𝒟, τ, e = optimal_traditional_de(w)\n",
    "𝒟"
   ]
  },
  {
   "attachments": {},
   "cell_type": "markdown",
   "metadata": {},
   "source": [
    "and compare"
   ]
  },
  {
   "cell_type": "code",
   "execution_count": 30,
   "metadata": {},
   "outputs": [
    {
     "data": {
      "image/png": "[encoded data removed]"
     },
     "metadata": {},
     "output_type": "display_data"
    }
   ],
   "source": [
    "fig = Figure()\n",
    "axs = [Axis3(fig[1,i]) for i in 1:2]\n",
    "for (S, ax) in zip((Y, 𝒟), axs)\n",
    "    lines!(ax, S[:, 1], S[:, 2], S[:, 3])\n",
    "end\n",
    "fig"
   ]
  },
  {
   "attachments": {},
   "cell_type": "markdown",
   "metadata": {},
   "source": [
    "Since `𝒟` is just another state space set, we could be using any of the above analysis pipelines on it just as easily.\n"
   ]
  },
  {
   "attachments": {},
   "cell_type": "markdown",
   "metadata": {},
   "source": [
    "The last package to mention here is `TimeseriesSurrogates`, which ties with all other observed/measured data analysis by providing a framework for confidence/hypothesis testing. For example, if we had a measured timeseries but we were not sure whether it represents a deterministic system with structure in the state space, or mostly noise, we could do a surrogate test. For this, we use `surrogenerator` and `RandomFourier` from `TimeseriesSurrogates`, and the `generalized_dim` from `FractalDimensions` (because it performs better in noisy sets)"
   ]
  },
  {
   "cell_type": "code",
   "execution_count": 31,
   "metadata": {},
   "outputs": [
    {
     "data": {
      "text/plain": [
       "1.4873315500970314"
      ]
     },
     "metadata": {},
     "output_type": "display_data"
    }
   ],
   "source": [
    "x = X[:, 1] # Henon map timeseries\n",
    "# contaminate with noise\n",
    "using Random: Xoshiro\n",
    "rng = Xoshiro(1234)\n",
    "x .+= randn(rng, length(x))/100\n",
    "# compute noise-contaminated fractal dim.\n",
    "Δ_orig = generalized_dim(embed(x, 2, 1))"
   ]
  },
  {
   "attachments": {},
   "cell_type": "markdown",
   "metadata": {},
   "source": [
    "And we do the surrogate test\n"
   ]
  },
  {
   "cell_type": "code",
   "execution_count": 32,
   "metadata": {},
   "outputs": [
    {
     "data": {
      "text/plain": [
       "1000-element Vector{Float64}:\n",
       " 1.8483283044765089\n",
       " 1.8347364454820754\n",
       " 1.832522225740645\n",
       " 1.8311371015124172\n",
       " 1.8400699637715539\n",
       " 1.8282574299508285\n",
       " 1.8505442061198538\n",
       " 1.8437855634903157\n",
       " 1.8586061152217301\n",
       " 1.8256984063339803\n",
       " ⋮\n",
       " 1.8494035487055334\n",
       " 1.8437314782284853\n",
       " 1.8380002927233743\n",
       " 1.805671112343997\n",
       " 1.8569755765275024\n",
       " 1.8270704567924079\n",
       " 1.825082366836505\n",
       " 1.8338303645425966\n",
       " 1.829128708062681"
      ]
     },
     "metadata": {},
     "output_type": "display_data"
    }
   ],
   "source": [
    "surrogate_method = RandomFourier()\n",
    "sgen = surrogenerator(x, surrogate_method, rng)\n",
    "\n",
    "Δ_surr = map(1:1000) do i\n",
    "    s = sgen()\n",
    "    generalized_dim(embed(s, 2, 1))\n",
    "end"
   ]
  },
  {
   "attachments": {},
   "cell_type": "markdown",
   "metadata": {},
   "source": [
    "and visualize the test result\n"
   ]
  },
  {
   "cell_type": "code",
   "execution_count": 33,
   "metadata": {},
   "outputs": [
    {
     "data": {
      "image/png": "[encoded data removed]"
     },
     "metadata": {},
     "output_type": "display_data"
    }
   ],
   "source": [
    "fig, ax = hist(Δ_surr)\n",
    "vlines!(ax, Δ_orig)\n",
    "fig"
   ]
  },
  {
   "attachments": {},
   "cell_type": "markdown",
   "metadata": {},
   "source": [
    "since the real value is outside the distribution we have confidence the data are not pure noise."
   ]
  },
  {
   "attachments": {},
   "cell_type": "markdown",
   "metadata": {},
   "source": [
    "# Exercises - dynamical systems"
   ]
  },
  {
   "attachments": {},
   "cell_type": "markdown",
   "metadata": {},
   "source": [
    "## Timeseries of a multistable predator prey model"
   ]
  },
  {
   "attachments": {},
   "cell_type": "markdown",
   "metadata": {},
   "source": [
    "Consider the following (modified) form of the Rozenweig-MacArthur model for predator-prey dynamics:\n",
    "$$\n",
    "\n",
    "\\begin{align}\n",
    "\\frac{dN}{dt} & = rN\\left(1-\\frac{c}{r}N\\right)\\left(\\frac{N-\\mu}{N+\\nu}\\right) - A \\\\\n",
    "\\frac{dP}{dt} & = \\chi A - \\delta P \\\\\n",
    "A & = \\frac{\\alpha N P}{\\beta + N} \n",
    "\\end{align}\n",
    "$$\n",
    "\n",
    "with initial parameters `p = [1.7, 0.19, 0.03, 0.003, 800, 1.5, 0.004, 2.2] = r, c, μ, ν, α, β, χ, δ`. Use the following three initial conditions: \n",
    "```julia\n",
    "u1 = [5, 0.016]\n",
    "u2 = [5, 0.025]\n",
    "u3 = [15, 0.012]\n",
    "```\n",
    "For each, plot a lines plot of the timeseries of the first variable of the system using the `trajectory` function. Then, use the `set_parameter!` function to change the first parameter of the system (r) from 1.7 to 2.5. Repeat the same plot at the new parameter in a new axis below the previous one. Has the time evolution of any of the initial conditions changed fundamentally?"
   ]
  },
  {
   "attachments": {},
   "cell_type": "markdown",
   "metadata": {},
   "source": [
    "## Second exercise"
   ]
  },
  {
   "attachments": {},
   "cell_type": "markdown",
   "metadata": {},
   "source": [
    "Define and simulate the Ikeda map\n",
    "$$\n",
    "\\begin{aligned}\n",
    "t &= c - \\frac{d}{1 + x_n^2 + y_n^2} \\\\\n",
    "x_{n+1} &= a + b(x_n \\cos(t) - y\\sin(t)) \\\\\n",
    "y_{n+1} &= b(x_n\\sin(t) + y_n \\cos(t))\n",
    "\\end{aligned}\n",
    "$$\n",
    "with initial condition `u = ones(2)` and parameters `p = [a, b, c, d] = [6, 0.9, 3.1, 6]`. For these initial parameters the system generates and absolutely stunning attractor that has two seemingly separated components!\n",
    "\n",
    "Scatterplot the attractor, and then calculate its fractal dimension, using either the `generalized_dim` or the `grassberger_proccacia_dim` functions.\n",
    "\n",
    "Then manipulate the state space set containing the attractor so that you can generate two new state space sets: one with all points with x coordinate less than 2.5, and one with x more than 2.5. Compute the fractal dimension for the two subsets. Is any more \"fractal\" than the other?"
   ]
  },
  {
   "attachments": {},
   "cell_type": "markdown",
   "metadata": {},
   "source": [
    "# Attractors.jl"
   ]
  },
  {
   "attachments": {},
   "cell_type": "markdown",
   "metadata": {},
   "source": [
    "A Julia module for finding attractors of dynamical systems,\n",
    "their basins and their boundaries, fractal properties of the boundaries,\n",
    "as well as continuing attractors and their basins across parameters."
   ]
  },
  {
   "attachments": {},
   "cell_type": "markdown",
   "metadata": {},
   "source": [
    "## Finding attractors and their fractions"
   ]
  },
  {
   "attachments": {},
   "cell_type": "markdown",
   "metadata": {},
   "source": [
    "The bulk of the work in Attractors.jl is done by the `AttractorMapper` supertype, that maps initial conditions to attractors. This allows one to calculate the fractions of the basins of attraction of each attractor. (or if computationally feasible the full basins)\n",
    "\n",
    "The concrete subtypes that we'll cover here are:\n",
    "\n",
    "1. `AttractorsViaRecurrences` \n",
    "2. `AttractorsViaFeaturizing`"
   ]
  },
  {
   "attachments": {},
   "cell_type": "markdown",
   "metadata": {},
   "source": [
    "Let's start with the recurrences version. It implements the algorithm described in [Datseris & Wagemakers (2022), _Effortless estimation of basins of attraction_](https://doi.org/10.1063/5.0076568). \n",
    "\n",
    "Basic knowledge of the algorithm is useful for deciding the keyword arguments of `AttractorsViaRecurrences`, however, explaining this algorithm is not part of the lecture! Thankfully, the examples and exercsises have been designed to work well with the default settings.\n",
    "\n",
    "The only thing you need to know about the algorithm is the following: it uses recurrences in the state space to find the **actual** attractors of _any_ dynamical system. This is done by tesselating a finite region of the state space into finite-sized cells. Therefore, to initialize an `AttractorsViaRecurrences` we need two things:\n",
    "\n",
    "1. A dynamical system instance\n",
    "2. A grid that both decides the state space region of interest as well as defines its tesselation"
   ]
  },
  {
   "attachments": {},
   "cell_type": "markdown",
   "metadata": {},
   "source": [
    "We'll use this mapper to find attractors of the following dynamical system:\n",
    "$$\n",
    "\\begin{aligned}\n",
    "\\dot{x} &= \\sin(y) - bx\\\\\n",
    "\\dot{y} &= \\sin(z) - by\\\\\n",
    "\\dot{z} &= \\sin(x) - bz\n",
    "\\end{aligned}\n",
    "$$\n",
    "which, due to the symmetry of the equations of motion, any attractor has three symmetry versions (by cycling over the x, y, z coordinates). So this is a multistable dynamical system! \n",
    "\n",
    "For `b = 0.16` the system has three (symmetric) attracting limit cycles that can be found in the state space box spaning -3 to 3 in each dimension (we know this a-priori)."
   ]
  },
  {
   "attachments": {},
   "cell_type": "markdown",
   "metadata": {},
   "source": [
    "Let's define the dynamical system:"
   ]
  },
  {
   "cell_type": "code",
   "execution_count": 34,
   "metadata": {},
   "outputs": [
    {
     "data": {
      "text/plain": [
       "3-dimensional CoupledODEs\n",
       " deterministic: true\n",
       " discrete time: false\n",
       " in-place:      false\n",
       " dynamic rule:  thomas_rule\n",
       " ODE solver:    Tsit5\n",
       " ODE kwargs:    (abstol = 1.0e-6, reltol = 1.0e-6)\n",
       " parameters:    [0.16]\n",
       " time:          0.0\n",
       " state:         [1.0, 1.0, 1.0]\n"
      ]
     },
     "metadata": {},
     "output_type": "display_data"
    }
   ],
   "source": [
    "function thomas_rule(u, p, t)\n",
    "    x,y,z = u\n",
    "    b = p[1]\n",
    "    xdot = sin(y) - b*x\n",
    "    ydot = sin(z) - b*y\n",
    "    zdot = sin(x) - b*z\n",
    "    return SVector{3}(xdot, ydot, zdot)\n",
    "end\n",
    "\n",
    "thomas = CoupledODEs(thomas_rule, ones(3), [0.16])"
   ]
  },
  {
   "attachments": {},
   "cell_type": "markdown",
   "metadata": {},
   "source": [
    "Next, we need to define the state space grid. This is as easy as defining a range for each of the dimensions and putting them in a tuple:"
   ]
  },
  {
   "cell_type": "code",
   "execution_count": 35,
   "metadata": {},
   "outputs": [
    {
     "data": {
      "text/plain": [
       "(-6.0:0.12:6.0, -6.0:0.12:6.0, -6.0:0.12:6.0)"
      ]
     },
     "metadata": {},
     "output_type": "display_data"
    }
   ],
   "source": [
    "xg = yg = zg = range(-6.0, 6.0; length = 101)\n",
    "\n",
    "grid = (xg, yg, zg)"
   ]
  },
  {
   "attachments": {},
   "cell_type": "markdown",
   "metadata": {},
   "source": [
    "Now we use these two pieces of information to initialize the `AttractorMapper` we want:"
   ]
  },
  {
   "cell_type": "code",
   "execution_count": 55,
   "metadata": {},
   "outputs": [
    {
     "data": {
      "text/plain": [
       "AttractorsViaRecurrences\n",
       " rule f:      AttractorsViaRecurrences\n",
       " system:      CoupledODEs\n",
       " grid:        (-6.0:0.12:6.0, -6.0:0.12:6.0, -6.0:0.12:6.0)\n",
       " attractors:  Dict{Int32, StateSpaceSet{3, Float64}}()\n"
      ]
     },
     "metadata": {},
     "output_type": "display_data"
    }
   ],
   "source": [
    "mapper = AttractorsViaRecurrences(thomas, grid;\n",
    "    # increase some algorithm parameters so that\n",
    "    # accuracy is increased (system has intertwined limit\n",
    "    # cycles and this is hard to find)\n",
    "    mx_chk_loc_att = 1000, mx_chk_fnd_att = 1000,\n",
    ")"
   ]
  },
  {
   "attachments": {},
   "cell_type": "markdown",
   "metadata": {},
   "source": [
    "The main way to use an `AttractorMapper` is with the `basins_fractions` function. You give it the mapper, and initial conditions, and the function will map these initial conditions to attractors, collect their labels (i.e., which attractor they end up to), and return the fractions of basins of attraction, the labels, and the attractors found. \n",
    "\n",
    "Let's create a function that generates initial conditions on the fly using the existing `statespace_sampler` library function"
   ]
  },
  {
   "cell_type": "code",
   "execution_count": 56,
   "metadata": {},
   "outputs": [
    {
     "data": {
      "text/plain": [
       "3-element Vector{Float64}:\n",
       " -2.3612969211838264\n",
       "  4.396790177632983\n",
       "  1.3189012811166698"
      ]
     },
     "metadata": {},
     "output_type": "display_data"
    }
   ],
   "source": [
    "sampler, = statespace_sampler(\n",
    "    min_bounds = minimum.(grid), max_bounds = maximum.(grid)\n",
    ")\n",
    "sampler()"
   ]
  },
  {
   "attachments": {},
   "cell_type": "markdown",
   "metadata": {},
   "source": [
    "And finally we give these two ingredients (the mapper and the sampler) to `basins_fractions`:"
   ]
  },
  {
   "cell_type": "code",
   "execution_count": 57,
   "metadata": {},
   "outputs": [
    {
     "data": {
      "text/plain": [
       "Dict{Int64, Float64} with 3 entries:\n",
       "  2 => 0.332\n",
       "  3 => 0.313\n",
       "  1 => 0.355"
      ]
     },
     "metadata": {},
     "output_type": "display_data"
    }
   ],
   "source": [
    "fractions = basins_fractions(\n",
    "    mapper, sampler; show_progress = false\n",
    ")\n",
    "fractions"
   ]
  },
  {
   "attachments": {},
   "cell_type": "markdown",
   "metadata": {},
   "source": [
    "As you can see, the function collected all unique attractor labels (attractors are always labelled using the positive integers). It created a dictionaries mapping the labels to the basins fractions.\n",
    "\n",
    "We can extract the attractors as a dictionary mapping the labels to attractors (`StateSpaceSet`s)"
   ]
  },
  {
   "cell_type": "code",
   "execution_count": 58,
   "metadata": {},
   "outputs": [
    {
     "data": {
      "text/plain": [
       "Dict{Int32, StateSpaceSet{3, Float64}} with 3 entries:\n",
       "  2 => 3-dimensional StateSpaceSet{Float64} with 162 points\n",
       "  3 => 3-dimensional StateSpaceSet{Float64} with 161 points\n",
       "  1 => 3-dimensional StateSpaceSet{Float64} with 162 points"
      ]
     },
     "metadata": {},
     "output_type": "display_data"
    }
   ],
   "source": [
    "attractors = extract_attractors(mapper)"
   ]
  },
  {
   "attachments": {},
   "cell_type": "markdown",
   "metadata": {},
   "source": [
    "Let's visualize the attractors found!"
   ]
  },
  {
   "cell_type": "code",
   "execution_count": 61,
   "metadata": {},
   "outputs": [
    {
     "data": {
      "image/png": "[encoded data removed]"
     },
     "metadata": {},
     "output_type": "display_data"
    }
   ],
   "source": [
    "fig = Figure()\n",
    "ax = Axis3(fig[1,1])\n",
    "for (k, A) in attractors\n",
    "    x, y, z = columns(A)\n",
    "    scatter!(ax, x, y, z; markersize = 5)\n",
    "    X, t = trajectory(thomas, 100.0, A[1])\n",
    "    xt, yt, zt = columns(X)\n",
    "    lines!(ax, xt, yt, zt)\n",
    "end\n",
    "fig"
   ]
  },
  {
   "cell_type": "code",
   "execution_count": null,
   "metadata": {},
   "outputs": [],
   "source": []
  }
 ],
 "metadata": {
  "kernelspec": {
   "display_name": "Julia 1.8.5",
   "language": "julia",
   "name": "julia-1.8"
  },
  "language_info": {
   "file_extension": ".jl",
   "mimetype": "application/julia",
   "name": "julia",
   "version": "1.8.5"
  },
  "orig_nbformat": 4
 },
 "nbformat": 4,
 "nbformat_minor": 2
}
