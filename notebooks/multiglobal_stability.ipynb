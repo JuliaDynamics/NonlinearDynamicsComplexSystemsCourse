{
 "cells": [
  {
   "cell_type": "markdown",
   "metadata": {},
   "source": [
    "# Attractors.jl Tutorial"
   ]
  },
  {
   "cell_type": "markdown",
   "metadata": {},
   "source": [
    "`Attractors` is a component of the **DynamicalSystems.jl** library.\n",
    "This tutorial will walk you through its main functionality.\n",
    "That is, given a `DynamicalSystem` instance, find all its attractors and their basins\n",
    "of attraction. Then,\n",
    "continue these attractors, and their stability properties, across a parameter value.\n",
    "It also offers various functions that compute nonlocal stability properties for an\n",
    "attractor, any of which can be used in the continuation to quantify stability."
   ]
  },
  {
   "cell_type": "markdown",
   "metadata": {},
   "source": [
    "Besides this main functionality, there are plenty of other stuff,\n",
    "like for example `edgestate` or `basins_fractal_dimension`,\n",
    "but we won't cover anything else in this introductory tutorial.\n",
    "See the examples page instead."
   ]
  },
  {
   "cell_type": "markdown",
   "metadata": {},
   "source": [
    "### Package versions used"
   ]
  },
  {
   "cell_type": "code",
   "execution_count": null,
   "metadata": {},
   "outputs": [],
   "source": [
    "import Pkg"
   ]
  },
  {
   "cell_type": "markdown",
   "metadata": {},
   "source": [
    "Activate an environment in the folder containing the notebook"
   ]
  },
  {
   "cell_type": "code",
   "execution_count": null,
   "metadata": {},
   "outputs": [],
   "source": [
    "Pkg.activate(dirname(@__DIR__))\n",
    "Pkg.add([\"DynamicalSystems\", \"CairoMakie\", \"GLMakie\", \"OrdinaryDiffEq\", \"BenchmarkTools\"])\n",
    "Pkg.status([\"Attractors\", \"CairoMakie\", \"OrdinaryDiffEq\"])"
   ]
  },
  {
   "cell_type": "markdown",
   "metadata": {},
   "source": [
    "## Attractors.jl summary"
   ]
  },
  {
   "cell_type": "code",
   "execution_count": null,
   "metadata": {},
   "outputs": [],
   "source": [
    "using Attractors # re-exported by `DynamicalSystems`\n",
    "@doc Attractors"
   ]
  },
  {
   "cell_type": "markdown",
   "metadata": {},
   "source": [
    "## Input: a `DynamicalSystem`"
   ]
  },
  {
   "cell_type": "markdown",
   "metadata": {},
   "source": [
    "The key input for most functionality of Attractors.jl is an instance of\n",
    "a `DynamicalSystem`. If you don't know how to make\n",
    "a `DynamicalSystem`, you need to consult the main tutorial of the\n",
    "[DynamicalSystems.jl library](https://juliadynamics.github.io/DynamicalSystemsDocs.jl/dynamicalsystems/stable/tutorial/).\n",
    "For this tutorial we will use a modified Lorenz-like system with equations"
   ]
  },
  {
   "cell_type": "markdown",
   "metadata": {},
   "source": [
    "$$\n",
    "\\begin{align*}\n",
    "\\dot{x} & = y - x \\\\\n",
    "\\dot{y}  &= -x*z + b*|z| \\\\\n",
    "\\dot{z}  &= x*y - a \\\\\n",
    "\\end{align*}\n",
    "$$"
   ]
  },
  {
   "cell_type": "markdown",
   "metadata": {},
   "source": [
    "which we define in code as"
   ]
  },
  {
   "cell_type": "code",
   "execution_count": null,
   "metadata": {},
   "outputs": [],
   "source": [
    "using Attractors # part of `DynamicalSystems`, so it re-exports functionality for making them!\n",
    "using OrdinaryDiffEq # for accessing advanced ODE Solvers\n",
    "\n",
    "function modified_lorenz_rule(u, p, t)\n",
    "    x, y, z = u; a, b = p\n",
    "    dx = y - x\n",
    "    dy = - x*z + b*abs(z)\n",
    "    dz = x*y - a\n",
    "    return SVector(dx, dy, dz)\n",
    "end\n",
    "\n",
    "p0 = [5.0, 0.1] # parameters\n",
    "u0 = [-4.0, 5, 0] # state\n",
    "diffeq = (alg = Vern9(), abstol = 1e-9, reltol = 1e-9, dt = 0.01) # solver options\n",
    "ds = CoupledODEs(modified_lorenz_rule, u0, p0; diffeq)"
   ]
  },
  {
   "cell_type": "markdown",
   "metadata": {},
   "source": [
    "## Finding attractors"
   ]
  },
  {
   "cell_type": "markdown",
   "metadata": {},
   "source": [
    "There are two major methods for finding attractors in dynamical systems.\n",
    "Explanation of how they work is in their respective docs."
   ]
  },
  {
   "cell_type": "markdown",
   "metadata": {},
   "source": [
    "1. `AttractorsViaRecurrences`.\n",
    "2. `AttractorsViaFeaturizing`."
   ]
  },
  {
   "cell_type": "markdown",
   "metadata": {},
   "source": [
    "You can consult [Datseris2023](@cite) for a comparison between the two."
   ]
  },
  {
   "cell_type": "markdown",
   "metadata": {},
   "source": [
    "As far as the user is concerned, both algorithms are part of the same interface,\n",
    "and can be used in the same way. The interface is extendable as well,\n",
    "and works as follows."
   ]
  },
  {
   "cell_type": "markdown",
   "metadata": {},
   "source": [
    "First, we create an instance of such an \"attractor finding algorithm\",\n",
    "which we call `AttractorMapper`. For example, `AttractorsViaRecurrences`\n",
    "requires a tesselated grid of the state space to search for attractors in.\n",
    "It also allows the user to tune some meta parameters, but in our example\n",
    "they are already tuned for the dynamical system at hand. So we initialize"
   ]
  },
  {
   "cell_type": "code",
   "execution_count": null,
   "metadata": {},
   "outputs": [],
   "source": [
    "grid = (\n",
    "    range(-10.0, 10.0; length = 150), # x\n",
    "    range(-15.0, 15.0; length = 150), # y\n",
    "    range(-15.0, 15.0; length = 150), # z\n",
    ")\n",
    "\n",
    "mapper = AttractorsViaRecurrences(ds, grid;\n",
    "    consecutive_recurrences = 1000, attractor_locate_steps = 1000,\n",
    "    consecutive_lost_steps = 100,\n",
    ")"
   ]
  },
  {
   "cell_type": "markdown",
   "metadata": {},
   "source": [
    "This `mapper` can map any initial condition to the corresponding\n",
    "attractor ID, for example"
   ]
  },
  {
   "cell_type": "code",
   "execution_count": null,
   "metadata": {},
   "outputs": [],
   "source": [
    "mapper([-4.0, 5, 0])"
   ]
  },
  {
   "cell_type": "markdown",
   "metadata": {},
   "source": [
    "while"
   ]
  },
  {
   "cell_type": "code",
   "execution_count": null,
   "metadata": {},
   "outputs": [],
   "source": [
    "mapper([4.0, 2, 0])"
   ]
  },
  {
   "cell_type": "markdown",
   "metadata": {},
   "source": [
    "the fact that these two different initial conditions got assigned different IDs means\n",
    "that they converged to a different attractor.\n",
    "The attractors are stored in the mapper internally, to obtain them we\n",
    "use the function"
   ]
  },
  {
   "cell_type": "code",
   "execution_count": null,
   "metadata": {},
   "outputs": [],
   "source": [
    "attractors = extract_attractors(mapper)"
   ]
  },
  {
   "cell_type": "markdown",
   "metadata": {},
   "source": [
    "In Attractors.jl, all information regarding attractors is always a standard Julia\n",
    "`Dict`, which maps attractor IDs (positive integers) to the corresponding quantity.\n",
    "Here the quantity are the attractors themselves, represented as `StateSpaceSet`."
   ]
  },
  {
   "cell_type": "markdown",
   "metadata": {},
   "source": [
    "We can visualize them with the convenience plotting function"
   ]
  },
  {
   "cell_type": "code",
   "execution_count": null,
   "metadata": {},
   "outputs": [],
   "source": [
    "using CairoMakie\n",
    "plot_attractors(attractors)"
   ]
  },
  {
   "cell_type": "markdown",
   "metadata": {},
   "source": [
    "(this convenience function is a simple loop over scattering the values of\n",
    "the `attractors` dictionary)"
   ]
  },
  {
   "cell_type": "markdown",
   "metadata": {},
   "source": [
    "In our example system we see that for the chosen parameters there are two coexisting attractors:\n",
    "a limit cycle and a chaotic attractor.\n",
    "There may be more attractors though! We've only checked two initial conditions,\n",
    "so we could have found at most two attractors!\n",
    "However, it can get tedious to manually iterate over initial conditions, which is why\n",
    "this `mapper` is typically given to higher level functions for finding attractors\n",
    "and their basins of attraction. The simplest one\n",
    "is `basins_fractions`. Using the `mapper`,\n",
    "it finds \"all\" attractors of the dynamical system and reports the state space fraction\n",
    "each attractors attracts. The search is probabilistic, so \"all\" attractors means those\n",
    "that at least one initial condition converged to."
   ]
  },
  {
   "cell_type": "markdown",
   "metadata": {},
   "source": [
    "We can provide explicitly initial conditions to `basins_fraction`,\n",
    "however it is typically simpler to provide it with with a state space sampler instead:\n",
    "a function that generates random initial conditions in the region of the\n",
    "state space that we are interested in. Here this region coincides with `grid`,\n",
    "so we can simply do:"
   ]
  },
  {
   "cell_type": "code",
   "execution_count": null,
   "metadata": {},
   "outputs": [],
   "source": [
    "sampler, = statespace_sampler(grid)\n",
    "\n",
    "sampler() # random i.c."
   ]
  },
  {
   "cell_type": "code",
   "execution_count": null,
   "metadata": {},
   "outputs": [],
   "source": [
    "sampler() # another random i.c."
   ]
  },
  {
   "cell_type": "markdown",
   "metadata": {},
   "source": [
    "and finally call"
   ]
  },
  {
   "cell_type": "code",
   "execution_count": null,
   "metadata": {},
   "outputs": [],
   "source": [
    "fs = basins_fractions(mapper, sampler)"
   ]
  },
  {
   "cell_type": "markdown",
   "metadata": {},
   "source": [
    "The returned `fs` is a dictionary mapping each attractor ID to\n",
    "the fraction of the state space the corresponding basin occupies.\n",
    "With this we can confirm that there are (likely) only two attractors\n",
    "and that both attractors are robust as both have sufficiently large basin fractions."
   ]
  },
  {
   "cell_type": "markdown",
   "metadata": {},
   "source": [
    "To obtain the full basins, which is computationally much more expensive,\n",
    "use `basins_of_attraction`."
   ]
  },
  {
   "cell_type": "markdown",
   "metadata": {},
   "source": [
    "You can use alternative algorithms in `basins_fractions`, see\n",
    "the documentation of `AttractorMapper` for possible subtypes.\n",
    "`AttractorMapper` defines an extendable interface and can be enriched\n",
    "with other methods in the future!"
   ]
  },
  {
   "cell_type": "markdown",
   "metadata": {},
   "source": [
    "## Different Attractor Mapper"
   ]
  },
  {
   "cell_type": "markdown",
   "metadata": {},
   "source": [
    "Attractors.jl utilizes composable interfaces throughout its functionality.\n",
    "In the above example we used one particular method to find attractors,\n",
    "via recurrences in the state space. An alternative is `AttractorsViaFeaturizing`."
   ]
  },
  {
   "cell_type": "markdown",
   "metadata": {},
   "source": [
    "For this method, we need to provide a \"featurizing\" function that given an\n",
    "trajectory (which is likely an attractor), it returns some features that will\n",
    "hopefully distinguish different attractors in a subsequent grouping step.\n",
    "Finding good features is typically a trial-and-error process, but for our system\n",
    "we already have some good features:"
   ]
  },
  {
   "cell_type": "code",
   "execution_count": null,
   "metadata": {},
   "outputs": [],
   "source": [
    "using Statistics: mean\n",
    "\n",
    "function featurizer(A, t) # t is the time vector associated with trajectory A\n",
    "    xmin = minimum(A[:, 1])\n",
    "    ycen = mean(A[:, 2])\n",
    "    return SVector(xmin, ycen)\n",
    "end"
   ]
  },
  {
   "cell_type": "markdown",
   "metadata": {},
   "source": [
    "from which we initialize"
   ]
  },
  {
   "cell_type": "code",
   "execution_count": null,
   "metadata": {},
   "outputs": [],
   "source": [
    "mapper2 = AttractorsViaFeaturizing(ds, featurizer; Δt = 0.1)"
   ]
  },
  {
   "cell_type": "markdown",
   "metadata": {},
   "source": [
    "`AttractorsViaFeaturizing` allows for a third input, which is a\n",
    "\"grouping configuration\", that dictates how features will be grouped into\n",
    "attractors, as features are extracted from (randomly) sampled state space trajectories.\n",
    "In this tutorial we leave it at its default value, which is clustering using the DBSCAN\n",
    "algorithm. The keyword arguments are meta parameters which control how long\n",
    "to integrate each initial condition for, and what sampling time, to produce\n",
    "a trajectory `A` given to the `featurizer` function. Because one of the two attractors\n",
    "is chaotic, we need denser sampling time than the default."
   ]
  },
  {
   "cell_type": "markdown",
   "metadata": {},
   "source": [
    "We can use `mapper2` exactly as `mapper`:"
   ]
  },
  {
   "cell_type": "code",
   "execution_count": null,
   "metadata": {},
   "outputs": [],
   "source": [
    "fs2 = basins_fractions(mapper2, sampler)\n",
    "\n",
    "attractors2 = extract_attractors(mapper2)\n",
    "\n",
    "plot_attractors(attractors2)"
   ]
  },
  {
   "cell_type": "markdown",
   "metadata": {},
   "source": [
    "This mapper also found the attractors, but we should warn you: this mapper is less\n",
    "robust than `AttractorsViaRecurrences`. One of the reasons for this is\n",
    "that `AttractorsViaFeaturizing` is not auto-terminating. For example, if we do not\n",
    "have enough transient integration time, the two attractors will get confused into one:"
   ]
  },
  {
   "cell_type": "code",
   "execution_count": null,
   "metadata": {},
   "outputs": [],
   "source": [
    "mapper3 = AttractorsViaFeaturizing(ds, featurizer; Ttr = 10, Δt = 0.1)\n",
    "fs3 = basins_fractions(mapper3, sampler)\n",
    "attractors3 = extract_attractors(mapper3)\n",
    "plot_attractors(attractors3)"
   ]
  },
  {
   "cell_type": "markdown",
   "metadata": {},
   "source": [
    "On the other hand, the downside of `AttractorsViaRecurrences` is that\n",
    "it can take quite a while to converge for chaotic high dimensional systems."
   ]
  },
  {
   "cell_type": "markdown",
   "metadata": {},
   "source": [
    "## Global continuation"
   ]
  },
  {
   "cell_type": "markdown",
   "metadata": {},
   "source": [
    "If you have heard before the word \"continuation\", then you are likely aware of the\n",
    "**traditional continuation-based bifurcation analysis (CBA)** offered by many software,\n",
    "such as AUTO, MatCont, and in Julia [BifurcationKit.jl](https://github.com/bifurcationkit/BifurcationKit.jl).\n",
    "Here we offer a completely different kind of continuation called **global continuation**."
   ]
  },
  {
   "cell_type": "markdown",
   "metadata": {},
   "source": [
    "The traditional continuation analysis continues the curves of individual _fixed\n",
    "points (and under some conditions limit cycles)_ across the joint state-parameter space and\n",
    "tracks their _local (linear) stability_.\n",
    "This approach needs to manually be \"re-run\" for every individual branch of fixed points\n",
    "or limit cycles.\n",
    "The global continuation in Attractors.jl finds _all_ attractors, _including chaotic\n",
    "or quasiperiodic ones_,\n",
    "in the whole of the state space (that it searches in), without manual intervention.\n",
    "It then continues all of these attractors concurrently along a parameter axis.\n",
    "Additionally, the global continuation tracks a _nonlocal_ stability property which by\n",
    "default is the basin fraction."
   ]
  },
  {
   "cell_type": "markdown",
   "metadata": {},
   "source": [
    "This is a fundamental difference. Because all attractors are simultaneously\n",
    "tracked across the parameter axis, the user may arbitrarily estimate _any_\n",
    "property of the attractors and how it varies as the parameter varies.\n",
    "A more detailed comparison between these two approaches can be found in [Datseris2023](@cite).\n",
    "See also the comparison page in our docs\n",
    "that attempts to do the same analysis of our Tutorial with traditional continuation software."
   ]
  },
  {
   "cell_type": "markdown",
   "metadata": {},
   "source": [
    "To perform the continuation is extremely simple. First, we decide what parameter,\n",
    "and what range, to continue over:"
   ]
  },
  {
   "cell_type": "code",
   "execution_count": null,
   "metadata": {},
   "outputs": [],
   "source": [
    "prange = 4.5:0.01:6\n",
    "pidx = 1 # index of the parameter"
   ]
  },
  {
   "cell_type": "markdown",
   "metadata": {},
   "source": [
    "Then, we may call the `global_continuation` function.\n",
    "We have to provide a continuation algorithm, which itself references an `AttractorMapper`.\n",
    "In this example we will re-use the `mapper` to create the \"flagship product\" of Attractors.jl\n",
    "which is the geenral `AttractorSeedContinueMatch`.\n",
    "This algorithm uses the `mapper` to find all attractors at each parameter value\n",
    "and from the found attractors it continues them along a parameter axis\n",
    "using a seeding process (see its documentation string).\n",
    "Then, it performs a \"matching\" step, ensuring a \"continuity\" of the attractor\n",
    "label across the parameter axis. For now we ignore the matching step, leaving it to the\n",
    "default value. We'll use the `mapper` we created above and define"
   ]
  },
  {
   "cell_type": "code",
   "execution_count": null,
   "metadata": {},
   "outputs": [],
   "source": [
    "ascm = AttractorSeedContinueMatch(mapper)"
   ]
  },
  {
   "cell_type": "markdown",
   "metadata": {},
   "source": [
    "and call"
   ]
  },
  {
   "cell_type": "code",
   "execution_count": null,
   "metadata": {},
   "outputs": [],
   "source": [
    "fractions_cont, attractors_cont = global_continuation(\n",
    "\tascm, prange, pidx, sampler; samples_per_parameter = 1_000\n",
    ")"
   ]
  },
  {
   "cell_type": "markdown",
   "metadata": {},
   "source": [
    "the output is given as two vectors. Each vector is a dictionary\n",
    "mapping attractor IDs to their basin fractions, or their state space sets, respectively.\n",
    "Both vectors have the same size as the parameter range.\n",
    "For example, the attractors at the 34-th parameter value are:"
   ]
  },
  {
   "cell_type": "code",
   "execution_count": null,
   "metadata": {},
   "outputs": [],
   "source": [
    "attractors_cont[34]"
   ]
  },
  {
   "cell_type": "markdown",
   "metadata": {},
   "source": [
    "There is a fantastic convenience function for animating\n",
    "the attractors evolution, that utilizes things we have\n",
    "already defined:"
   ]
  },
  {
   "cell_type": "code",
   "execution_count": null,
   "metadata": {},
   "outputs": [],
   "source": [
    "animate_attractors_continuation(\n",
    "    ds, attractors_cont, fractions_cont, prange, pidx;\n",
    ");"
   ]
  },
  {
   "cell_type": "markdown",
   "metadata": {},
   "source": [
    "Hah, how cool is that! The attractors pop in and out of existence like out of nowhere!\n",
    "It would be incredibly difficult to find these attractors in traditional continuation software\n",
    "where a rough estimate of the period is required! (It would also be too hard due to the presence\n",
    "of chaos for most of the parameter values, but that's another issue!)"
   ]
  },
  {
   "cell_type": "markdown",
   "metadata": {},
   "source": [
    "Now typically a continuation is visualized in a 2D plot where the x axis is the\n",
    "parameter axis. We can do this with the convenience function:"
   ]
  },
  {
   "cell_type": "code",
   "execution_count": null,
   "metadata": {},
   "outputs": [],
   "source": [
    "fig = plot_basins_attractors_curves(\n",
    "\tfractions_cont, attractors_cont, A -> minimum(A[:, 1]), prange,\n",
    ")"
   ]
  },
  {
   "cell_type": "markdown",
   "metadata": {},
   "source": [
    "In the top panel are the basin fractions, by default plotted as stacked bars.\n",
    "Bottom panel is a visualization of the tracked attractors.\n",
    "The argument `A -> minimum(A[:, 1])` is simply a function that maps\n",
    "an attractor into a real number for plotting."
   ]
  },
  {
   "cell_type": "markdown",
   "metadata": {},
   "source": [
    "## Different matching procedures"
   ]
  },
  {
   "cell_type": "markdown",
   "metadata": {},
   "source": [
    "By default attractors are matched by their distance in state space.\n",
    "The default matcher is `MatchBySSSetDistance`, and is given implicitly\n",
    "as a default 2nd argument when creating `AttractorSeedContinueMatch`.\n",
    "But like anything else in Attractors.jl, \"matchers\" also follow a well-defined\n",
    "and extendable interface, see `IDMatchers` for that."
   ]
  },
  {
   "cell_type": "markdown",
   "metadata": {},
   "source": [
    "Let's say that the default matching that we chose above isn't desirable.\n",
    "For example, one may argue that the attractor that pops up\n",
    "at the end of the continuation should have been assigned the same ID\n",
    "as attractor 1, because they are both to the left (see the video above).\n",
    "In reality one wouldn't really request that, because looking\n",
    "the video of attractors above shows that the attractors labelled \"1\", \"2\", and \"3\"\n",
    "are all completely different. But we argue here for example that \"3\" should have been\n",
    "the same as \"1\"."
   ]
  },
  {
   "cell_type": "markdown",
   "metadata": {},
   "source": [
    "Thankfully during a global continuation the \"matching\" step is completely\n",
    "separated from the \"finding and continuing\" step. If we don't like the\n",
    "initial matching, we can call `match_sequentially!` with a new\n",
    "instance of a matcher, and match again, without having to recompute\n",
    "the attractors and their basin fractions.\n",
    "For example, using this matcher:"
   ]
  },
  {
   "cell_type": "code",
   "execution_count": null,
   "metadata": {},
   "outputs": [],
   "source": [
    "matcher = MatchBySSSetDistance(use_vanished = true)"
   ]
  },
  {
   "cell_type": "markdown",
   "metadata": {},
   "source": [
    "will compare a new attractor with the latest instance of attractors\n",
    "with a given ID that have ever existed, irrespectively if they exist in the\n",
    "current parameter or not. This means, that the attractor \"3\" would in fact be compared\n",
    "with both attractor \"2\" and \"1\", even if \"1\" doesn't exist in the parameter \"3\"\n",
    "started existing at. And because \"3\" is closer to \"1\" than to \"2\", it will get\n",
    "matched to attractor \"1\" and get the same ID."
   ]
  },
  {
   "cell_type": "markdown",
   "metadata": {},
   "source": [
    "Let's see this in action:"
   ]
  },
  {
   "cell_type": "code",
   "execution_count": null,
   "metadata": {},
   "outputs": [],
   "source": [
    "attractors_cont2 = deepcopy(attractors_cont)\n",
    "\n",
    "match_sequentially!(attractors_cont2, matcher)\n",
    "\n",
    "fig = plot_attractors_curves(\n",
    "\tattractors_cont2, A -> minimum(A[:, 1]), prange,\n",
    ")"
   ]
  },
  {
   "cell_type": "markdown",
   "metadata": {},
   "source": [
    "and as we can see, the new attractor at the end of the parameter range got\n",
    "assigned the same ID as the original attractor \"1\".\n",
    "For more ways of matching attractors see `IDMatcher`."
   ]
  },
  {
   "cell_type": "markdown",
   "metadata": {},
   "source": [
    "## Enhancing the continuation"
   ]
  },
  {
   "cell_type": "markdown",
   "metadata": {},
   "source": [
    "The biggest strength of Attractors.jl is that it is not an isolated software.\n",
    "It is part of **DynamicalSystems.jl**. Here, we will use the full power of\n",
    "**DynamicalSystems.jl** and enrich the above continuation with various other\n",
    "measures of nonlocal stability, in particular Lyapunov exponents and\n",
    "the minimal fatal shock. First, let's plot again the continuation\n",
    "and label some things or clarity"
   ]
  },
  {
   "cell_type": "code",
   "execution_count": null,
   "metadata": {},
   "outputs": [],
   "source": [
    "fig = plot_basins_attractors_curves(\n",
    "\tfractions_cont, attractors_cont, A -> minimum(A[:, 1]), prange; add_legend = false\n",
    ")\n",
    "\n",
    "ax1 = content(fig[2,1])\n",
    "\n",
    "ax1.ylabel = \"min(A₁)\"\n",
    "\n",
    "fig"
   ]
  },
  {
   "cell_type": "markdown",
   "metadata": {},
   "source": [
    "First, let's estimate the maximum Lyapunov exponent (MLE) for all attractors,\n",
    "using the `lyapunov` function that comes from the ChaosTools.jl submodule."
   ]
  },
  {
   "cell_type": "code",
   "execution_count": null,
   "metadata": {},
   "outputs": [],
   "source": [
    "using ChaosTools: lyapunov\n",
    "\n",
    "lis = map(enumerate(prange)) do (i, p) # loop over parameters\n",
    "    set_parameter!(ds, pidx, p) # important! We use the dynamical system!\n",
    "    attractors = attractors_cont[i]\n",
    "    # Return a dictionary mapping attractor IDs to their MLE\n",
    "    Dict(k => lyapunov(ds, 10000.0; u0 = A[1]) for (k, A) in attractors)\n",
    "end"
   ]
  },
  {
   "cell_type": "markdown",
   "metadata": {},
   "source": [
    "The above `map` loop may be intimidating if you are a beginner, but it is\n",
    "really just a shorter way to write a `for` loop for our example.\n",
    "We iterate over all parameters, and for each we first update the dynamical\n",
    "system with the correct parameter, and then extract the MLE\n",
    "for each attractor. `map` just means that we don't have to pre-allocate a\n",
    "new vector before the loop; it creates it for us."
   ]
  },
  {
   "cell_type": "markdown",
   "metadata": {},
   "source": [
    "We can visualize the LE with the other convenience function `plot_continuation_curves!`,"
   ]
  },
  {
   "cell_type": "code",
   "execution_count": null,
   "metadata": {},
   "outputs": [],
   "source": [
    "ax2 = Axis(fig[3, 1]; ylabel = \"MLE\")\n",
    "plot_continuation_curves!(ax2, lis, prange; add_legend = false)\n",
    "\n",
    "fig"
   ]
  },
  {
   "cell_type": "markdown",
   "metadata": {},
   "source": [
    "This reveals crucial information for tha attractors, whether they are chaotic or not, that we would otherwise obtain only by visualizing the system dynamics at every single parameter.\n",
    "The story we can see now is that the dynamics start with a limit cycle (0 Lyapunov exponent), go into bi-stability of chaos and limit cycle, then there is only one limit cycle again, and then a chaotic attractor appears again, for a second bistable regime."
   ]
  },
  {
   "cell_type": "markdown",
   "metadata": {},
   "source": [
    "The last piece of information to add is yet another measure of nonlocal stability: the minimal fatal shock (MFS), which is provided by `minimal_fatal_shock`.\n",
    "The code to estimate this is similar with the `map` block for the MLE.\n",
    "Here however we re-use the created `mapper`, but now we must not forget to reset it inbetween parameter increments:"
   ]
  },
  {
   "cell_type": "code",
   "execution_count": null,
   "metadata": {},
   "outputs": [],
   "source": [
    "using LinearAlgebra: norm\n",
    "search_area = collect(extrema.(grid ./ 2)) # smaller search = faster results\n",
    "search_algorithm = MFSBlackBoxOptim(max_steps = 1000, guess = ones(3))\n",
    "\n",
    "mfss = map(enumerate(prange)) do (i, p)\n",
    "    set_parameter!(ds, pidx, p)\n",
    "    reset_mapper!(mapper) # reset so that we don't have to re-initialize\n",
    "    # We need a special clause here: if there is only 1 attractor,\n",
    "    # then there is no MFS. It is undefined. We set it to `NaN`,\n",
    "    # which conveniently, will result to nothing being plotted by Makie.\n",
    "    attractors = attractors_cont[i]\n",
    "    if length(attractors) == 1\n",
    "        return Dict(k => NaN for (k, A) in attractors)\n",
    "    end\n",
    "    # otherwise, compute the actual MFS from the first point of each attractor\n",
    "    Dict(k =>\n",
    "        norm(minimal_fatal_shock(mapper, A[1], search_area, search_algorithm))\n",
    "        for (k, A) in attractors\n",
    "    )\n",
    "end"
   ]
  },
  {
   "cell_type": "markdown",
   "metadata": {},
   "source": [
    "In a real application we wouldn't use the first point of each attractor,\n",
    "as the first point is completely random on the attractor (at least, for the\n",
    "[`AttractorsViaRecurrences`] mapper we use here).\n",
    "We would do this by examining the whole `A` object in the above block\n",
    "instead of just using `A[1]`. But this is a tutorial so we don't care!"
   ]
  },
  {
   "cell_type": "markdown",
   "metadata": {},
   "source": [
    "Right, so now we can visualize the MFS with the rest of the other quantities:"
   ]
  },
  {
   "cell_type": "code",
   "execution_count": null,
   "metadata": {},
   "outputs": [],
   "source": [
    "ax3 = Axis(fig[4, 1]; ylabel = \"MFS\", xlabel = \"parameter\")\n",
    "plot_continuation_curves!(ax3, mfss, prange; add_legend = false)\n",
    "\n",
    "# make the figure prettier\n",
    "for ax in (ax1, ax2,); hidexdecorations!(ax; grid = false); end\n",
    "resize!(fig, 500, 500)\n",
    "fig"
   ]
  },
  {
   "cell_type": "markdown",
   "metadata": {},
   "source": [
    "## Continuation along arbitrary parameter curves"
   ]
  },
  {
   "cell_type": "markdown",
   "metadata": {},
   "source": [
    "One of the many advantages of the global continuation is that we can choose\n",
    "what parameters to continue over. We can provide any arbitrary curve\n",
    "in parameter space. This is possible because (1) finding and matching attractors\n",
    "are two completely orthogonal steps, and (2) it is completely fine for\n",
    "attractors to dissapear (and perhaps re-appear) during a global continuation."
   ]
  },
  {
   "cell_type": "code",
   "execution_count": null,
   "metadata": {},
   "outputs": [],
   "source": [
    "#For example, we can probe an elipsoid defined as\n",
    "\n",
    "params(θ) = [1 => 5 + 0.5cos(θ), 2 => 0.1 + 0.01sin(θ)]\n",
    "pcurve = params.(range(0, 2π; length = 101))"
   ]
  },
  {
   "cell_type": "markdown",
   "metadata": {},
   "source": [
    "here each component maps the parameter index to its value.\n",
    "We can just give this `pcurve` to the global continuation,\n",
    "using the same mapper and continuation algorithm,\n",
    "but adjusting the matching process so that vanished attractors\n",
    "are kept in \"memory\""
   ]
  },
  {
   "cell_type": "code",
   "execution_count": null,
   "metadata": {},
   "outputs": [],
   "source": [
    "matcher = MatchBySSSetDistance(use_vanished = true)\n",
    "\n",
    "ascm = AttractorSeedContinueMatch(mapper, matcher)\n",
    "\n",
    "fractions_cont, attractors_cont = global_continuation(\n",
    "\tascm, pcurve, sampler; samples_per_parameter = 1_000\n",
    ")"
   ]
  },
  {
   "cell_type": "markdown",
   "metadata": {},
   "source": [
    "and animate the result"
   ]
  },
  {
   "cell_type": "code",
   "execution_count": null,
   "metadata": {},
   "outputs": [],
   "source": [
    "animate_attractors_continuation(\n",
    "    ds, attractors_cont, fractions_cont, pcurve;\n",
    "    savename = \"curvecont.mp4\"\n",
    ");"
   ]
  },
  {
   "cell_type": "markdown",
   "metadata": {},
   "source": [
    "## Conclusion and comparison with traditional local continuation"
   ]
  },
  {
   "cell_type": "markdown",
   "metadata": {},
   "source": [
    "We've reached the end of the tutorial! Some aspects we haven't highlighted is\n",
    "how most of the infrastructure of Attractors.jl is fully extendable.\n",
    "You will see this when reading the documentation strings of key structures\n",
    "like `AttractorMapper`. All documentation strings are in the API page.\n",
    "See the examples page for more varied applications.\n",
    "And lastly, see the comparison page in our docs\n",
    "that attempts to do the same analysis of our Tutorial with traditional local continuation and bifurcation analysis software\n",
    "showing that (at least for this example) using Attractors.jl is clearly beneficial\n",
    "over the alternatives."
   ]
  }
 ],
 "metadata": {
  "kernelspec": {
   "display_name": "Julia 1.10.4",
   "language": "julia",
   "name": "julia-1.10"
  },
  "language_info": {
   "file_extension": ".jl",
   "mimetype": "application/julia",
   "name": "julia",
   "version": "1.10.4"
  }
 },
 "nbformat": 4,
 "nbformat_minor": 3
}
