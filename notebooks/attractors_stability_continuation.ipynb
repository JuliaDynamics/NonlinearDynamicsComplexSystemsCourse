{
 "cells": [
  {
   "attachments": {},
   "cell_type": "markdown",
   "metadata": {},
   "source": [
    "# Attractors, stability, continuation"
   ]
  },
  {
   "attachments": {},
   "cell_type": "markdown",
   "metadata": {},
   "source": [
    "Introductory text: why you want to find attractors and why you want to undesratnd their stability"
   ]
  },
  {
   "cell_type": "markdown",
   "metadata": {},
   "source": [
    "# Traditional continuation (automatic bifurcation analysis)"
   ]
  },
  {
   "cell_type": "markdown",
   "metadata": {},
   "source": [
    "I have not yet decided whether to include this for educational purposes or not. Our Attractors.jl framework is so much more powerful than the traditional continuation stuff, that I feel like as a practicioner 99% of the time I would be using only Attractors.jl. Therefore, is it even worth teaching in this course that has a practice-oriented focus?\n",
    "\n",
    "If yes, then this section would introduce BifurcationKit.jl."
   ]
  },
  {
   "attachments": {},
   "cell_type": "markdown",
   "metadata": {},
   "source": [
    "# Attractors.jl"
   ]
  },
  {
   "attachments": {},
   "cell_type": "markdown",
   "metadata": {},
   "source": [
    "A Julia module for finding attractors of dynamical systems,\n",
    "their basins and their boundaries, fractal properties of the boundaries,\n",
    "as well as continuing attractors and their basins across parameters."
   ]
  },
  {
   "cell_type": "code",
   "execution_count": 3,
   "metadata": {},
   "outputs": [
    {
     "name": "stdout",
     "output_type": "stream",
     "text": [
      "\u001b[32m\u001b[1mStatus\u001b[22m\u001b[39m `C:\\Users\\gd419\\OneDrive - University of Exeter\\Teaching\\NonlinearDynamicsComplexSystemsCourses\\Manifest.toml`\n",
      "  \u001b[90m[f3fd9213] \u001b[39mAttractors v1.9.1\n",
      "  \u001b[90m[13f3f980] \u001b[39mCairoMakie v0.10.8\n",
      "  \u001b[90m[61744808] \u001b[39mDynamicalSystems v3.2.0\n",
      "  \u001b[90m[1dea7af3] \u001b[39mOrdinaryDiffEq v6.55.0\n"
     ]
    },
    {
     "name": "stderr",
     "output_type": "stream",
     "text": [
      "\u001b[32m\u001b[1m  Activating\u001b[22m\u001b[39m project at `c:\\Users\\gd419\\OneDrive - University of Exeter\\Teaching\\NonlinearDynamicsComplexSystemsCourses`\n"
     ]
    }
   ],
   "source": [
    "import Pkg\n",
    "Pkg.activate(dirname(@__DIR__))\n",
    "Pkg.status([\"DynamicalSystems\", \"Attractors\", \"CairoMakie\", \"OrdinaryDiffEq\"]; mode = Pkg.PKGMODE_MANIFEST)"
   ]
  },
  {
   "attachments": {},
   "cell_type": "markdown",
   "metadata": {},
   "source": [
    "## Finding attractors and their basins fractions"
   ]
  },
  {
   "attachments": {},
   "cell_type": "markdown",
   "metadata": {},
   "source": [
    "The bulk of the work in Attractors.jl is done by subtypes of `AttractorMapper`. Each subtype encapsulates an algorithm that allows to map initial conditions into attractors. The concrete subtypes that we'll cover here are:\n",
    "\n",
    "1. `AttractorsViaRecurrences` \n",
    "2. `AttractorsViaFeaturizing`"
   ]
  },
  {
   "attachments": {},
   "cell_type": "markdown",
   "metadata": {},
   "source": [
    "Let's start with the recurrences version. It implements the algorithm described in [Datseris & Wagemakers (2022), _Effortless estimation of basins of attraction_](https://doi.org/10.1063/5.0076568). Understanding of the algorithm is useful for deciding the keyword arguments of `AttractorsViaRecurrences`, however, explaining this algorithm in detail is not a part of this lecture due to time constraints! Worry not however, the exercises have been designed to work well with the default keywords!\n",
    "\n",
    "The very short description is that, for \"simple\" dynamical systems like `CoupledODEs` or `DeterministicIteratedMap`, the Poincare recurrence theorem applies: it says that as the system state evolves on an attractor, it is guaranteed to visit a state space region it has already visited before. This is called a **recurence**. The `AttractorsViaRecurrences` utilizes this fact to find attractors by tesselating a finite region of the state space into finite-sized cells.\n",
    "\n",
    "**FIGURE HERE EXPLAINING!**\n",
    "\n",
    "The only thing you need to know about the algorithm is the following: it uses recurrences in the state space to find the **actual** attractors of a dynamical system. This is done  Therefore, to initialize an `AttractorsViaRecurrences` we need two things:\n",
    "\n",
    "1. A dynamical system instance\n",
    "2. A grid that both decides the state space region of interest as well as defines its tesselation"
   ]
  },
  {
   "attachments": {},
   "cell_type": "markdown",
   "metadata": {},
   "source": [
    "We'll use this mapper to find attractors of the following dynamical system:\n",
    "$$\n",
    "\\begin{aligned}\n",
    "\\dot{x} &= \\sin(y) - bx\\\\\n",
    "\\dot{y} &= \\sin(z) - by\\\\\n",
    "\\dot{z} &= \\sin(x) - bz\n",
    "\\end{aligned}\n",
    "$$\n",
    "which is also called [\"Thomas' cyclical system\"](https://en.wikipedia.org/wiki/Thomas%27_cyclically_symmetric_attractor). Due to the symmetry of the equations of motion, any attractor has three symmetry versions (by cycling over the x, y, z coordinates). So this is a multistable dynamical system! \n",
    "\n",
    "For `b = 0.16` the system has three (symmetric) attracting limit cycles that can be found in the state space box spaning -3 to 3 in each dimension (we know this a-priori for this example)."
   ]
  },
  {
   "attachments": {},
   "cell_type": "markdown",
   "metadata": {},
   "source": [
    "Let's define the dynamical system:"
   ]
  },
  {
   "cell_type": "code",
   "execution_count": 2,
   "metadata": {},
   "outputs": [
    {
     "data": {
      "text/plain": [
       "3-dimensional CoupledODEs\n",
       " deterministic: true\n",
       " discrete time: false\n",
       " in-place:      false\n",
       " dynamic rule:  thomas_rule\n",
       " ODE solver:    Tsit5\n",
       " ODE kwargs:    (abstol = 1.0e-6, reltol = 1.0e-6)\n",
       " parameters:    [0.16]\n",
       " time:          0.0\n",
       " state:         [1.0, 1.0, 1.0]\n"
      ]
     },
     "metadata": {},
     "output_type": "display_data"
    }
   ],
   "source": [
    "using DynamicalSystems\n",
    "\n",
    "function thomas_rule(u, p, t)\n",
    "    x,y,z = u\n",
    "    b = p[1]\n",
    "    xdot = sin(y) - b*x\n",
    "    ydot = sin(z) - b*y\n",
    "    zdot = sin(x) - b*z\n",
    "    return SVector(xdot, ydot, zdot)\n",
    "end\n",
    "\n",
    "thomas = CoupledODEs(thomas_rule, ones(3), [0.16])"
   ]
  },
  {
   "attachments": {},
   "cell_type": "markdown",
   "metadata": {},
   "source": [
    "Next, we need to define the state space grid. This is as easy as defining a range for each of the dimensions and putting them in a tuple:"
   ]
  },
  {
   "cell_type": "code",
   "execution_count": 3,
   "metadata": {},
   "outputs": [
    {
     "data": {
      "text/plain": [
       "(-6.0:0.12:6.0, -6.0:0.12:6.0, -6.0:0.12:6.0)"
      ]
     },
     "metadata": {},
     "output_type": "display_data"
    }
   ],
   "source": [
    "xg = yg = zg = range(-6.0, 6.0; length = 101)\n",
    "\n",
    "grid = (xg, yg, zg)"
   ]
  },
  {
   "attachments": {},
   "cell_type": "markdown",
   "metadata": {},
   "source": [
    "Now we use these two pieces of information to initialize the `AttractorMapper` we want:"
   ]
  },
  {
   "cell_type": "code",
   "execution_count": 4,
   "metadata": {},
   "outputs": [
    {
     "data": {
      "text/plain": [
       "AttractorsViaRecurrences\n",
       " rule f:      AttractorsViaRecurrences\n",
       " system:      CoupledODEs\n",
       " grid:        (-6.0:0.12:6.0, -6.0:0.12:6.0, -6.0:0.12:6.0)\n",
       " attractors:  Dict{Int32, StateSpaceSet{3, Float64}}()\n"
      ]
     },
     "metadata": {},
     "output_type": "display_data"
    }
   ],
   "source": [
    "mapper = AttractorsViaRecurrences(thomas, grid)"
   ]
  },
  {
   "attachments": {},
   "cell_type": "markdown",
   "metadata": {},
   "source": [
    "The main job of a mapper is to tell you to which attractor an initial condition `u0` converges to via the syntax `mapper(u0)`. For example,"
   ]
  },
  {
   "cell_type": "code",
   "execution_count": 11,
   "metadata": {},
   "outputs": [
    {
     "data": {
      "text/plain": [
       "1"
      ]
     },
     "metadata": {},
     "output_type": "display_data"
    }
   ],
   "source": [
    "mapper([0.5, 2.0, 1.0])"
   ]
  },
  {
   "cell_type": "code",
   "execution_count": 12,
   "metadata": {},
   "outputs": [
    {
     "data": {
      "text/plain": [
       "2"
      ]
     },
     "metadata": {},
     "output_type": "display_data"
    }
   ],
   "source": [
    "mapper([0.5, 2.0, -1.0])"
   ]
  },
  {
   "cell_type": "code",
   "execution_count": 13,
   "metadata": {},
   "outputs": [
    {
     "data": {
      "text/plain": [
       "1"
      ]
     },
     "metadata": {},
     "output_type": "display_data"
    }
   ],
   "source": [
    "mapper([0.5, 2.5, -1.0])"
   ]
  },
  {
   "attachments": {},
   "cell_type": "markdown",
   "metadata": {},
   "source": [
    "Attractors are labelled with the positive integers."
   ]
  },
  {
   "attachments": {},
   "cell_type": "markdown",
   "metadata": {},
   "source": [
    "With this mapper we could now compute the **basins of attraction** of `thomas` by evolving an initial condition for each point in the state space and coloring it according to the attractor it converges to.  However, this is computationally tractable only for very low dimensional dynamical systems.\n",
    "\n",
    "Therefore, the main way to use an `AttractorMapper` is with the `basins_fractions` function. You give it the mapper, and some initial conditions, and `basins_fractions` will map these initial conditions to attractors, collect their labels (i.e., which attractor they end up to), and return the fractions of basins of attraction.\n",
    "\n",
    "Let's create a function that generates initial conditions on the fly using the existing `statespace_sampler` library function"
   ]
  },
  {
   "cell_type": "code",
   "execution_count": 15,
   "metadata": {},
   "outputs": [
    {
     "data": {
      "text/plain": [
       "3-element Vector{Float64}:\n",
       " -4.561107565676815\n",
       " -3.1969466653021428\n",
       " -5.040775859519997"
      ]
     },
     "metadata": {},
     "output_type": "display_data"
    }
   ],
   "source": [
    "sampler, = statespace_sampler(\n",
    "    # provide random samples within the minimum and maximum limits\n",
    "    min_bounds = minimum.(grid), max_bounds = maximum.(grid)\n",
    ")\n",
    "sampler()"
   ]
  },
  {
   "cell_type": "code",
   "execution_count": 16,
   "metadata": {},
   "outputs": [
    {
     "data": {
      "text/plain": [
       "3-element Vector{Float64}:\n",
       " -4.814854390621194\n",
       " -2.583508153048487\n",
       "  4.047635252285827"
      ]
     },
     "metadata": {},
     "output_type": "display_data"
    }
   ],
   "source": [
    "sampler()"
   ]
  },
  {
   "attachments": {},
   "cell_type": "markdown",
   "metadata": {},
   "source": [
    "Then we give the mapper and the sampler to `basins_fractions`:"
   ]
  },
  {
   "cell_type": "code",
   "execution_count": 20,
   "metadata": {},
   "outputs": [
    {
     "name": "stdout",
     "output_type": "stream",
     "text": [
      "  4.059647 seconds (1.30 M allocations: 164.719 MiB, 0.96% gc time)\n"
     ]
    },
    {
     "data": {
      "text/plain": [
       "Dict{Int64, Float64} with 3 entries:\n",
       "  2 => 0.33361\n",
       "  3 => 0.33354\n",
       "  1 => 0.33285"
      ]
     },
     "metadata": {},
     "output_type": "display_data"
    }
   ],
   "source": [
    "@time fractions = basins_fractions(\n",
    "    mapper, sampler; \n",
    "    show_progress = false, \n",
    "    N = 100_000, # how many random samples to use\n",
    ")\n",
    "fractions"
   ]
  },
  {
   "attachments": {},
   "cell_type": "markdown",
   "metadata": {},
   "source": [
    "As you can see, the function collected all unique attractor labels and created a dictionary mapping the labels to the fractions of initial conditions that went to the given attractor. This is called the state space fraction of the basins of attraction, or **the basins fractions** for sort.\n",
    "\n",
    "We can extract the attractors as a dictionary mapping the labels to attractors (`StateSpaceSet`s)"
   ]
  },
  {
   "cell_type": "code",
   "execution_count": null,
   "metadata": {},
   "outputs": [
    {
     "data": {
      "text/plain": [
       "Dict{Int32, StateSpaceSet{3, Float64}} with 3 entries:\n",
       "  2 => 3-dimensional StateSpaceSet{Float64} with 240 points\n",
       "  3 => 3-dimensional StateSpaceSet{Float64} with 240 points\n",
       "  1 => 3-dimensional StateSpaceSet{Float64} with 240 points"
      ]
     },
     "metadata": {},
     "output_type": "display_data"
    }
   ],
   "source": [
    "attractors = extract_attractors(mapper)"
   ]
  },
  {
   "attachments": {},
   "cell_type": "markdown",
   "metadata": {},
   "source": [
    "Let's visualize the attractors found!"
   ]
  },
  {
   "cell_type": "code",
   "execution_count": null,
   "metadata": {},
   "outputs": [
    {
     "data": {
      "image/png": "[encoded data removed]"
     },
     "metadata": {},
     "output_type": "display_data"
    }
   ],
   "source": [
    "fig = Figure()\n",
    "ax = Axis3(fig[1,1])\n",
    "for (k, A) in attractors\n",
    "    # Scatter the sample points on the attractor\n",
    "    scatter!(ax, vec(A); markersize = 5)\n",
    "    # Also evolve an i.c. on the attractor and line plot it\n",
    "    X, t = trajectory(thomas, 50.0, A[1])\n",
    "    xt, yt, zt = columns(X)\n",
    "    lines!(ax, xt, yt, zt)\n",
    "end\n",
    "fig"
   ]
  },
  {
   "attachments": {},
   "cell_type": "markdown",
   "metadata": {},
   "source": [
    "## `AttractorsViaFeaturizing`"
   ]
  },
  {
   "attachments": {},
   "cell_type": "markdown",
   "metadata": {},
   "source": [
    "This is an alternative way to find \"attractors\", which works as follows:\n",
    "1. Initial conditions are evolved to generate trajectories\n",
    "2. Trajectories are mapped into \"features\": descriptive numbers of the trajectories that hopefully characterize different attractors differently. E.g., mean and std. of the first two  variables for a four-dimensional feature.\n",
    "3. Features are grouped with one of the three following ways:\n",
    "   1. `GroupViaClustering`\n",
    "   2. `GroupViaNearestFeature`\n",
    "   3. `GroupViaHistogram`\n",
    "4. The generated groups then correspond to unique \"attractors\".\n",
    "\n"
   ]
  },
  {
   "attachments": {},
   "cell_type": "markdown",
   "metadata": {},
   "source": [
    "It is not obvious what features would be good to separate the attractors of the previous example, which is why we recommend the recurrences method as the better method to use in those kinds of systems.\n",
    "\n",
    "In any case, here we have estimated in advance a featurizer that works well:"
   ]
  },
  {
   "cell_type": "code",
   "execution_count": null,
   "metadata": {},
   "outputs": [],
   "source": [
    "using Statistics: mean, std\n",
    "\n",
    "function featurizer(A, t) # take in trajectory and time vector\n",
    "    x, y, z = columns(A)\n",
    "    mx = mean(x)\n",
    "    sx = std(y)\n",
    "    cz = std(y .- z)\n",
    "    return SVector(mx, sx, cz) # return feature, preferably as static vector\n",
    "end\n",
    "\n",
    "grouping_config = GroupViaClustering()"
   ]
  },
  {
   "attachments": {},
   "cell_type": "markdown",
   "metadata": {},
   "source": [
    "We also choose how to group features together. For simplicitly, we will use a black box clustering algorithm"
   ]
  },
  {
   "cell_type": "code",
   "execution_count": null,
   "metadata": {},
   "outputs": [],
   "source": [
    "grouping_config = GroupViaClustering();"
   ]
  },
  {
   "attachments": {},
   "cell_type": "markdown",
   "metadata": {},
   "source": [
    "We now put everything together in `AttractorsViaFeaturizin` and get the fractions of the basins of attraction:"
   ]
  },
  {
   "cell_type": "code",
   "execution_count": null,
   "metadata": {},
   "outputs": [],
   "source": [
    "mapperf = AttractorsViaFeaturizing(\n",
    "    thomas, featurizer, grouping_config; \n",
    "    Ttr = 100.0, T = 50.0, Δt = 0.1\n",
    ")\n",
    "\n",
    "fs = basins_fractions(\n",
    "    mapperf, sampler; \n",
    "    show_progress = false\n",
    ")"
   ]
  },
  {
   "attachments": {},
   "cell_type": "markdown",
   "metadata": {},
   "source": []
  },
  {
   "attachments": {},
   "cell_type": "markdown",
   "metadata": {},
   "source": [
    "# Exercises - Attractors.jl"
   ]
  },
  {
   "attachments": {},
   "cell_type": "markdown",
   "metadata": {},
   "source": [
    "## Basins of attraction of a multistable predator prey model"
   ]
  },
  {
   "cell_type": "markdown",
   "metadata": {},
   "source": [
    "Consider the following (modified) form of the Rozenweig-MacArthur continuous time model for predator-prey dynamics:\n",
    "$$\n",
    "\n",
    "\\begin{align}\n",
    "\\frac{dN}{dt} & = rN\\left(1-\\frac{c}{r}N\\right)\\left(\\frac{N-\\mu}{N+\\nu}\\right) - A \\\\\n",
    "\\frac{dP}{dt} & = \\chi A - \\delta P \\\\\n",
    "A & = \\frac{\\alpha N P}{\\beta + N} \n",
    "\\end{align}\n",
    "$$\n",
    "\n",
    "with initial parameters `p = [1.7, 0.19, 0.03, 0.003, 800, 1.5, 0.004, 2.2] = r, c, μ, ν, α, β, χ, δ`.\n"
   ]
  },
  {
   "attachments": {},
   "cell_type": "markdown",
   "metadata": {},
   "source": [
    "Consider the following two parameter values: `r1 = 1, r2 = 2`. For each parameter value, use the `AttractorViaRecurrences` and `basins_of_attraction` to compute, and plot, the basins of attraction. On top of the basins of attraction also scatterplot the returned attractors. \n",
    "\n",
    "For this exercise, use the following grid:\n",
    "\n",
    "```julia\n",
    "density = 201\n",
    "xg = range(0, 20; length = density)\n",
    "yg = range(0, 0.03; length = density)\n",
    "grid = (xg, yg)\n",
    "```\n",
    "\n",
    "and use the following keywords for the `AttractorsViaRecurrences`:\n",
    "```julia\n",
    "kwargs = (\n",
    "    mx_chk_fnd_att = 2000, mx_chk_loc_att = 4000,\n",
    "    force_non_adaptive = true, Δt = 0.05,\n",
    ")\n",
    "```\n",
    "\n",
    "_Hint: this forces the ODE integrator to use a non-adaptive step control. This is useful in some systems with limit cycles, because there an adaptive solver makes the solver step size commensurate with the limit cycle period, which leads to incorrect assignment of initial conditions to the limit cycle._"
   ]
  },
  {
   "attachments": {},
   "cell_type": "markdown",
   "metadata": {},
   "source": [
    "The exercise solution is a plot that looks like the one below:\n",
    "\n",
    "_Hint: If `A` is a `StateSpaceSet` (i.e., an attractor), then you can do `scatter!(ax, (vec(A))` to immediatelly scatterplot the attractor into an axis!_\n",
    "\n",
    "![makie_ex_fig_1.png](basins_ex_fig_1.png)"
   ]
  },
  {
   "attachments": {},
   "cell_type": "markdown",
   "metadata": {},
   "source": [
    "## Continuation of attractors and their basins fractions"
   ]
  },
  {
   "attachments": {},
   "cell_type": "markdown",
   "metadata": {},
   "source": [
    "_Note: here we are talking about continuation of arbitrary attractors and their basins of attraction. This is NOT the traditional linearized bifurcation analysis and continuation of fixed points. To learn more about the differences, read our [comparison section online](https://juliadynamics.github.io/Attractors.jl/dev/continuation/#A-new-kind-of-continuation)!_"
   ]
  },
  {
   "attachments": {},
   "cell_type": "markdown",
   "metadata": {},
   "source": [
    "Continuation in the context of Attractors.jl is done using the `continuation` function, so let's read its documentation string:"
   ]
  },
  {
   "cell_type": "code",
   "execution_count": null,
   "metadata": {},
   "outputs": [],
   "source": [
    "@doc continuation"
   ]
  },
  {
   "attachments": {},
   "cell_type": "markdown",
   "metadata": {},
   "source": [
    "Alright, let's now focus on one of two continuation methods, the Recurrences Find and Match (RAFM). Applying this method to the cyclical Thomas system we analyzed in the previous section is not interesting, because due to symmetry the basins fractions are constantly 1/3 each. Instead, let's try to find, and continue, the attractors and the basins of attraction of the model from:\n",
    "\n",
    "> Synthetic multistability in mammalian cells, Zhu et al., Science 375 (2022), DOI: 10.1126/science.abg9765\n",
    ">\n",
    "> _An important goal for synthetic biology is to establish control systems that allow the direction of cells into multiple stable states, much like biological signaling systems do during organismal development. Zhu et al. devised a system that allows such control through designed zinc finger transcription factors that interact with one another through homo- and heterodimerization and can be regulated by small molecules that control dimerization and stability of the transcription factors (see the Perspective by Kunze and Khalil). Mathematical modeling allowed computational prediction of the system’s behavior, and introduction of three designed transcription factors in cultured mammalian cells allowed direction of the cells into seven distinct, stable states. Understanding such multistability is useful in synthetic biology and can help to determine its roles in development and disease processes._\n",
    "\n",
    " "
   ]
  },
  {
   "attachments": {},
   "cell_type": "markdown",
   "metadata": {},
   "source": [
    "$$\n",
    "\\dot{A_i} = \\alpha + \\beta \\frac{ B_i^n }{ 1 + B_i^n } - A_i, \\quad i = 1, \\ldots, N, \n",
    "$$\n",
    "\n",
    "with\n",
    "\n",
    "$$\n",
    "B_i = \\frac{2A_i^2}{ K_d + 4\\sum A_i  + \\sqrt{ K_d^2 + 8\\sum A_i + K_d } }\n",
    "$$\n",
    "\n",
    "Here we will use $N=3$, which makes a 3-dimensional continuous time system. The starting parameters will be `α=4, β=20, n=1.5, Kd=80.0`. We are interested in the behavior of the model versions the `Kd` parameter. \n",
    "\n",
    "For the recurrences algorithm we do not need much accuracy for this particular system. The state space tesselation will therefore be from 0 to 100 for each dimension, divided into 100 cells."
   ]
  },
  {
   "cell_type": "code",
   "execution_count": null,
   "metadata": {},
   "outputs": [],
   "source": [
    "# Define dynamical system\n",
    "function cell_differentiation(N = 3, u0 = rand(N); α=4, β=20, n=1.5, Kd=80.0)\n",
    "    p = [Kd, α, β, n]\n",
    "    ds = CoupledODEs(cell_differentiation_rule!, u0, p)\n",
    "    return ds\n",
    "end\n",
    "function cell_differentiation_rule!(du, u, p, t)\n",
    "    Kd, α, β, n = p\n",
    "    sum_u = sum(u)\n",
    "    @inbounds for i ∈ eachindex(du)\n",
    "        C = (2*u[i]^2) / (Kd + 4*sum_u + sqrt( Kd^2 + 8*sum_u*Kd )  )\n",
    "        du[i] = α + (β*C^n)/(1+C^n) - u[i]\n",
    "    end\n",
    "    return nothing\n",
    "end\n",
    "\n",
    "ds = cell_differentiation(3)"
   ]
  },
  {
   "attachments": {},
   "cell_type": "markdown",
   "metadata": {},
   "source": [
    "Let's create an `AttractorsViaRecurrences`, and check how many attractors are there in the default values"
   ]
  },
  {
   "cell_type": "code",
   "execution_count": null,
   "metadata": {},
   "outputs": [],
   "source": [
    "mapper_config = (;mx_chk_safety = Int(1e9))\n",
    "grid = ntuple(i -> range(0, 100, length=101), 3)\n",
    "\n",
    "sampler, = statespace_sampler(\n",
    "    min_bounds = minimum.(grid), max_bounds = maximum.(grid)\n",
    ")\n",
    "\n",
    "mapper = AttractorsViaRecurrences(\n",
    "    ds, grid; mapper_config...\n",
    ")\n",
    "\n",
    "fs = basins_fractions(mapper, sampler)\n",
    "attractors = extract_attractors(mapper)"
   ]
  },
  {
   "attachments": {},
   "cell_type": "markdown",
   "metadata": {},
   "source": [
    "Great! Since we have the attractor mapper already, the only thing we need to do to continue these attractors accross a parameter range is to initialize a `RecurrencesFindAndMatch` instance with the `mapper`, and give it to the `continuation` function!"
   ]
  },
  {
   "cell_type": "code",
   "execution_count": null,
   "metadata": {},
   "outputs": [],
   "source": [
    "rsc = RecurrencesFindAndMatch(mapper; threshold = Inf)\n",
    "\n",
    "pidx = 1 # index of parameter to change (here Kd)\n",
    "prange = range(0, 100; length = 101) # parameter range to scan\n",
    "\n",
    "fractions_curves, attractors_info = continuation(\n",
    "    rsc, prange, pidx, sampler;\n",
    "    show_progress = false, samples_per_parameter = 100\n",
    ")\n",
    "fractions_curves"
   ]
  },
  {
   "attachments": {},
   "cell_type": "markdown",
   "metadata": {},
   "source": [
    "Let's now plot the results we found using one of the provided plotting functions from Attractors.jl:"
   ]
  },
  {
   "cell_type": "code",
   "execution_count": null,
   "metadata": {},
   "outputs": [],
   "source": [
    "# Decide how to plot attractors: go from attractor to real number\n",
    "attractor_to_real = A -> mean((x[1] + x[2])/2 for x in A)\n",
    "\n",
    "plot_basins_attractors_curves(fractions_curves, attractors_info, attractor_to_real, prange)"
   ]
  },
  {
   "attachments": {},
   "cell_type": "markdown",
   "metadata": {},
   "source": [
    "## Exercises - continuation of basins fractions"
   ]
  },
  {
   "attachments": {},
   "cell_type": "markdown",
   "metadata": {},
   "source": [
    "Continue from the previous exercise, and now use the `continuation` function to continue attractors and their fractions across the parameter range `r = 1` to `2`. Use the `statespace_sampler` function to generate random initial conditions in the `grid` you defined above. Plot the fractions of basins of attraction versus the parameter range, and the attractor value, using the following function to map attractors to real numbers:\n",
    "```julia\n",
    "using Statistics: mean\n",
    "attractor_to_real = A -> mean((x[1] + x[2])/2 for x in A)\n",
    "```\n",
    "\n",
    "The solution of the exercise should be that you have only two attractors and the fractions of their basins are approximately 50% all the time.\n",
    "\n",
    "This is weird, right? Focus on `r = 1`. In this case, in the first exercise, you found three attractors, all three being fixed points. Can you give a reasonable explanation of this discrepency, and why the third attractor was not found in the continuation case...?\n",
    "\n",
    "_hint: think of what kind of initial conditions are generated by the random sampling process, or by scanning the grid explicitly_"
   ]
  }
 ],
 "metadata": {
  "kernelspec": {
   "display_name": "Julia 1.9.1",
   "language": "julia",
   "name": "julia-1.9"
  },
  "language_info": {
   "file_extension": ".jl",
   "mimetype": "application/julia",
   "name": "julia",
   "version": "1.9.1"
  },
  "orig_nbformat": 4
 },
 "nbformat": 4,
 "nbformat_minor": 2
}
