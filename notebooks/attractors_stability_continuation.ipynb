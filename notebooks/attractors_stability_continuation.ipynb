{
 "cells": [
  {
   "attachments": {},
   "cell_type": "markdown",
   "metadata": {},
   "source": [
    "# Attractors, stability, continuation\n",
    "\n",
    "This lecture introduces the Attractors.jl library package of DynamicalSystems.jl,\n",
    "which offers functionality for finding attractors of dynamical systems, studying global (non-local) stability, and performing continuation, among other things."
   ]
  },
  {
   "cell_type": "code",
   "execution_count": null,
   "metadata": {},
   "outputs": [],
   "source": [
    "import Pkg\n",
    "Pkg.activate(dirname(@__DIR__))\n",
    "Pkg.status([\"DynamicalSystems\", \"Attractors\", \"CairoMakie\", \"OrdinaryDiffEq\"]; mode = Pkg.PKGMODE_MANIFEST)"
   ]
  },
  {
   "cell_type": "code",
   "execution_count": null,
   "metadata": {},
   "outputs": [],
   "source": [
    "VERSION # the Julia version"
   ]
  },
  {
   "cell_type": "code",
   "execution_count": null,
   "metadata": {},
   "outputs": [],
   "source": [
    "using CairoMakie\n",
    "update_theme!(resolution = (500, 300), fontsize = 16)"
   ]
  },
  {
   "cell_type": "code",
   "execution_count": null,
   "metadata": {},
   "outputs": [],
   "source": [
    "# Let's read the overview of Attractors.jl\n",
    "using DynamicalSystems\n",
    "@doc Attractors"
   ]
  },
  {
   "attachments": {},
   "cell_type": "markdown",
   "metadata": {},
   "source": [
    "# Finding attractors and their basins\n",
    "\n",
    "The bulk of the work in Attractors.jl is done by subtypes of `AttractorMapper`. Each subtype references a `DynamicalSystem`, and encapsulates an algorithm that allows to map initial conditions of the dynamical system into attractors. \n",
    "These `AttractorMapper`s compose an _extendable interface_.\n",
    "\n",
    "The concrete subtypes that we'll cover here are:\n",
    "\n",
    "1. `AttractorsViaRecurrences` \n",
    "2. `AttractorsViaFeaturizing`"
   ]
  },
  {
   "attachments": {},
   "cell_type": "markdown",
   "metadata": {},
   "source": [
    "## `AttractorsViaRecurrences`\n",
    "Let's start with the recurrences algorithm. It implements the algorithm described in [Datseris & Wagemakers (2022), _Effortless estimation of basins of attraction_](https://doi.org/10.1063/5.0076568). Understanding of the algorithm is useful for deciding the keyword arguments of `AttractorsViaRecurrences`, however, explaining this algorithm in detail is not a part of this lecture due to time constraints! Worry not however, the exercises have been designed to work well with the default keywords!\n",
    "\n",
    "The very short description is that, for \"simple\" dynamical systems like `CoupledODEs` or `DeterministicIteratedMap`, the Poincare recurrence theorem applies: it says that as the system state evolves on an attractor, it is guaranteed to visit a state space region it has already visited before. This is called a **recurrence**. The `AttractorsViaRecurrences` utilizes this fact to find attractors by tesselating a finite region of the state space into finite-sized cells, and coungint cells that have re-visited.\n",
    "\n",
    "Here's a visual explanation:"
   ]
  },
  {
   "cell_type": "markdown",
   "metadata": {},
   "source": [
    "<video width=\"50%\" height=\"auto\" controls autoplay loop>\n",
    "<source src=\"https://raw.githubusercontent.com/JuliaDynamics/JuliaDynamics/master/videos/attractors/recurrence_algorithm.mp4?raw=true\" type=\"video/mp4\">\n",
    "</video>"
   ]
  },
  {
   "cell_type": "markdown",
   "metadata": {},
   "source": [
    "The only thing the algorithm needs is:\n",
    "\n",
    "1. A dynamical system instance\n",
    "2. A grid that both decides the state space region of interest as well as defines its tesselation\n",
    "\n",
    "Remaining options are meta-parameters that tune the system behavior. Most cases work fine with default parameters so we won't be spending too much time on that..."
   ]
  },
  {
   "attachments": {},
   "cell_type": "markdown",
   "metadata": {},
   "source": [
    "We'll use `AttractorsViaRecurrences` to find attractors of the following dynamical system:\n",
    "$$\n",
    "\\begin{aligned}\n",
    "\\dot{x} &= \\sin(y) - bx\\\\\n",
    "\\dot{y} &= \\sin(z) - by\\\\\n",
    "\\dot{z} &= \\sin(x) - bz\n",
    "\\end{aligned}\n",
    "$$\n",
    "which is also called [\"Thomas' cyclical system\"](https://en.wikipedia.org/wiki/Thomas%27_cyclically_symmetric_attractor). Due to the symmetry of the equations of motion, any attractor has three symmetric versions (by cycling over the x, y, z coordinates). So this is a multistable dynamical system! \n",
    "\n",
    "For `b = 0.16` the system has three (symmetric) attracting limit cycles that can be found in the state space box spanning -3 to 3 in each dimension (we know this a-priori for this example)."
   ]
  },
  {
   "attachments": {},
   "cell_type": "markdown",
   "metadata": {},
   "source": [
    "Let's define the dynamical system:"
   ]
  },
  {
   "cell_type": "code",
   "execution_count": null,
   "metadata": {},
   "outputs": [],
   "source": [
    "using DynamicalSystems\n",
    "\n",
    "function thomas_rule(u, p, t)\n",
    "    x,y,z = u\n",
    "    b = p[1]\n",
    "    xdot = sin(y) - b*x\n",
    "    ydot = sin(z) - b*y\n",
    "    zdot = sin(x) - b*z\n",
    "    return SVector(xdot, ydot, zdot)\n",
    "end\n",
    "\n",
    "thomas = CoupledODEs(thomas_rule, ones(3), [0.16])"
   ]
  },
  {
   "attachments": {},
   "cell_type": "markdown",
   "metadata": {},
   "source": [
    "Next, we need to define the state space grid. This is as easy as defining a range for each of the dimensions and putting them in a tuple:"
   ]
  },
  {
   "cell_type": "code",
   "execution_count": null,
   "metadata": {},
   "outputs": [],
   "source": [
    "xg = yg = zg = range(-6.0, 6.0; length = 101)\n",
    "\n",
    "grid = (xg, yg, zg)"
   ]
  },
  {
   "attachments": {},
   "cell_type": "markdown",
   "metadata": {},
   "source": [
    "Now we use these two pieces of information to initialize the `AttractorMapper` we want:"
   ]
  },
  {
   "cell_type": "code",
   "execution_count": null,
   "metadata": {},
   "outputs": [],
   "source": [
    "mapper = AttractorsViaRecurrences(thomas, grid)"
   ]
  },
  {
   "attachments": {},
   "cell_type": "markdown",
   "metadata": {},
   "source": [
    "The main job of a mapper is to tell you to which attractor an initial condition `u0` converges to via the syntax `mapper(u0)`. For example,"
   ]
  },
  {
   "cell_type": "code",
   "execution_count": null,
   "metadata": {},
   "outputs": [],
   "source": [
    "mapper([0.5, 2.0, 1.0])"
   ]
  },
  {
   "cell_type": "code",
   "execution_count": null,
   "metadata": {},
   "outputs": [],
   "source": [
    "mapper([0.5, 2.0, -1.0])"
   ]
  },
  {
   "cell_type": "code",
   "execution_count": null,
   "metadata": {},
   "outputs": [],
   "source": [
    "mapper([0.5, 2.5, -1.0])"
   ]
  },
  {
   "attachments": {},
   "cell_type": "markdown",
   "metadata": {},
   "source": [
    "Attractors are labelled with the positive integers."
   ]
  },
  {
   "attachments": {},
   "cell_type": "markdown",
   "metadata": {},
   "source": [
    "With this mapper we could now compute the **basins of attraction** of `thomas` by evolving an initial condition for each point in the state space and coloring it according to the attractor it converges to.  However, this is computationally tractable only for very low dimensional dynamical systems.\n",
    "\n",
    "Therefore, the main way to use an `AttractorMapper` is with the `basins_fractions` function. You give it the mapper, and some initial conditions, and `basins_fractions` will map these initial conditions to attractors, collect their labels (i.e., which attractor they end up to), and return the fractions of basins of attraction.\n",
    "\n",
    "Let's create a function that generates initial conditions on the fly using the existing `statespace_sampler` library function"
   ]
  },
  {
   "cell_type": "code",
   "execution_count": null,
   "metadata": {},
   "outputs": [],
   "source": [
    "sampler, = statespace_sampler(grid)\n",
    "sampler()"
   ]
  },
  {
   "cell_type": "code",
   "execution_count": null,
   "metadata": {},
   "outputs": [],
   "source": [
    "sampler()"
   ]
  },
  {
   "attachments": {},
   "cell_type": "markdown",
   "metadata": {},
   "source": [
    "Then we give the mapper and the sampler to `basins_fractions`:"
   ]
  },
  {
   "cell_type": "code",
   "execution_count": null,
   "metadata": {},
   "outputs": [],
   "source": [
    "@time fractions = basins_fractions(\n",
    "    mapper, sampler;\n",
    "    show_progress = false,\n",
    "    N = 100_000, # how many random samples to use\n",
    ")\n",
    "fractions"
   ]
  },
  {
   "attachments": {},
   "cell_type": "markdown",
   "metadata": {},
   "source": [
    "As you can see, the function collected all unique attractor labels and created a dictionary mapping the labels to the fractions of initial conditions that went to the given attractor. This is called the state space fraction of the basins of attraction, or **the basins fractions** for sort.\n",
    "\n",
    "We can extract the attractors as a dictionary mapping the labels to attractors (`StateSpaceSet`s)"
   ]
  },
  {
   "cell_type": "code",
   "execution_count": null,
   "metadata": {},
   "outputs": [],
   "source": [
    "attractors = extract_attractors(mapper)"
   ]
  },
  {
   "attachments": {},
   "cell_type": "markdown",
   "metadata": {},
   "source": [
    "Let's visualize the attractors found!"
   ]
  },
  {
   "cell_type": "code",
   "execution_count": null,
   "metadata": {},
   "outputs": [],
   "source": [
    "fig = Figure()\n",
    "ax = Axis3(fig[1,1])\n",
    "for (k, A) in attractors\n",
    "    # Scatter the found points on the attractor by the recurrences algorithm\n",
    "    scatter!(ax, vec(A); markersize = 5)\n",
    "    # Also evolve an i.c. on the attractor and line plot it\n",
    "    X, t = trajectory(thomas, 50.0, A[1])\n",
    "    xt, yt, zt = columns(X)\n",
    "    lines!(ax, xt, yt, zt)\n",
    "end\n",
    "fig"
   ]
  },
  {
   "attachments": {},
   "cell_type": "markdown",
   "metadata": {},
   "source": [
    "## `AttractorsViaFeaturizing`"
   ]
  },
  {
   "attachments": {},
   "cell_type": "markdown",
   "metadata": {},
   "source": [
    "This is an alternative way to find \"attractors\", which works as follows:\n",
    "\n",
    "1. Initial conditions are evolved to generate trajectories.\n",
    "2. Trajectories are mapped into \"features\": descriptive numbers of the trajectories that hopefully characterize different attractors differently. E.g., mean and std. of the first two  variables for a four-dimensional system.\n",
    "3. Features are grouped using one of many choices, such as a clustering algorithm.\n",
    "4. The created groups then correspond to unique \"attractors\".\n",
    "\n"
   ]
  },
  {
   "attachments": {},
   "cell_type": "markdown",
   "metadata": {},
   "source": [
    "Often it is not obvious what features would be good to separate the attractors, which is why we recommend the recurrences method when we know very little about the system.\n",
    "\n",
    "In any case, for the Thomas cyclical example we have estimated in advance a featurizer that works well:"
   ]
  },
  {
   "cell_type": "code",
   "execution_count": null,
   "metadata": {},
   "outputs": [],
   "source": [
    "using Statistics: mean, std\n",
    "\n",
    "function featurizer(A, t) # take in trajectory and time vector\n",
    "    x, y, z = columns(A)\n",
    "    mx = mean(x)\n",
    "    sx = std(y)\n",
    "    cz = std(y .- z)\n",
    "    return SVector(mx, sx, cz) # return feature, preferably as static vector\n",
    "end"
   ]
  },
  {
   "attachments": {},
   "cell_type": "markdown",
   "metadata": {},
   "source": [
    "We also choose how to group features together. In this example, we will use a black box clustering algorithm called DBSCAN."
   ]
  },
  {
   "cell_type": "code",
   "execution_count": null,
   "metadata": {},
   "outputs": [],
   "source": [
    "grouping_config = GroupViaClustering();"
   ]
  },
  {
   "attachments": {},
   "cell_type": "markdown",
   "metadata": {},
   "source": [
    "We now put everything together in `AttractorsViaFeaturizing` and get the fractions of the basins of attraction:"
   ]
  },
  {
   "cell_type": "code",
   "execution_count": null,
   "metadata": {},
   "outputs": [],
   "source": [
    "mapperf = AttractorsViaFeaturizing(\n",
    "    thomas, featurizer, grouping_config;\n",
    "    Ttr = 100.0, T = 100.0, Δt = 0.5\n",
    ")\n",
    "\n",
    "fs = basins_fractions(\n",
    "    mapperf, sampler;\n",
    "    show_progress = false\n",
    ")"
   ]
  },
  {
   "cell_type": "markdown",
   "metadata": {},
   "source": [
    "To illustrate what the algorithm did, we'll write some code that is internally used by `AttractorsViaFeaturizing`:"
   ]
  },
  {
   "cell_type": "code",
   "execution_count": null,
   "metadata": {},
   "outputs": [],
   "source": [
    "N = 1000\n",
    "all_features = StateSpaceSet{3, Float64}()\n",
    "for _ in 1:N\n",
    "    u0 = sampler()\n",
    "    A, t = trajectory(thomas, 100.0, u0; Ttr = 100.0, Δt = 0.5)\n",
    "    feature = featurizer(A, t)\n",
    "    push!(all_features, feature)\n",
    "end\n",
    "\n",
    "labels = group_features(all_features, grouping_config)\n",
    "\n",
    "c1, c2 = columns(all_features)\n",
    "scatter(c1, c2; color = labels, axis = (xlabel = \"feature 1\", ylabel = \"feature 2\", title = \"color = group (attractor)\"))"
   ]
  },
  {
   "attachments": {},
   "cell_type": "markdown",
   "metadata": {},
   "source": [
    "# Continuation of attractors and their basins fractions\n",
    "\n",
    "Continuation in the context of Attractors.jl is done using the `continuation` function, so let's read its documentation string:"
   ]
  },
  {
   "cell_type": "code",
   "execution_count": null,
   "metadata": {},
   "outputs": [],
   "source": [
    "@doc continuation"
   ]
  },
  {
   "attachments": {},
   "cell_type": "markdown",
   "metadata": {},
   "source": [
    "`continuation` provides several methods for finding and continuing attractors, and also defines an extendable interface for adding future methods. Here we will focus on the Recurrences Find and Match (RAFM). \n",
    "\n",
    "Applying this method to the cyclical Thomas system we analyzed in the previous section is not interesting, because due to system symmetry the basins fractions are constantly 1/3 each. Instead, let's try to find, and continue, the attractors and the basins of attraction of the model from:\n",
    "\n",
    "> Synthetic multistability in mammalian cells, Zhu et al., Science 375 (2022), DOI: 10.1126/science.abg9765\n",
    "\n",
    "which is a modeing attempt at cells that may differentiate their behavior based on ongoing biological processes."
   ]
  },
  {
   "attachments": {},
   "cell_type": "markdown",
   "metadata": {},
   "source": [
    "$$\n",
    "\\dot{A_i} = \\alpha + \\beta \\frac{ B_i^n }{ 1 + B_i^n } - A_i, \\quad i = 1, \\ldots, N, \n",
    "$$\n",
    "\n",
    "with\n",
    "\n",
    "$$\n",
    "B_i = \\frac{2A_i^2}{ K_d + 4\\sum A_i  + \\sqrt{ K_d^2 + 8\\sum A_i + K_d } }\n",
    "$$\n",
    "\n",
    "Here we will use $N=3$, which makes a 3-dimensional continuous time system. The starting parameters will be `α=4, β=20, n=1.5, Kd=80.0`. We are interested in the behavior of the model versions the `Kd` parameter. \n",
    "\n",
    "For the recurrences algorithm we do not need much accuracy for this particular system. The state space tesselation will therefore be from 0 to 100 for each dimension, divided into 100 cells."
   ]
  },
  {
   "cell_type": "code",
   "execution_count": null,
   "metadata": {},
   "outputs": [],
   "source": [
    "# Define dynamical system\n",
    "using OrdinaryDiffEq: Vern9\n",
    "function cell_differentiation(N = 3, u0 = rand(N); α=4, β=20, n=1.5, Kd=1.0)\n",
    "    p = [Kd, α, β, n]\n",
    "    diffeq = (alg = Vern9(), reltol = 1e-9, abstol = 1e-9)\n",
    "    ds = CoupledODEs(cell_differentiation_rule!, u0, p; diffeq)\n",
    "    return ds\n",
    "end\n",
    "function cell_differentiation_rule!(du, u, p, t)\n",
    "    Kd, α, β, n = p\n",
    "    sum_u = sum(u)\n",
    "    @inbounds for i ∈ eachindex(du)\n",
    "        C = (2*u[i]^2) / (Kd + 4*sum_u + sqrt( Kd^2 + 8*sum_u*Kd )  )\n",
    "        du[i] = α + (β*C^n)/(1+C^n) - u[i]\n",
    "    end\n",
    "    return nothing\n",
    "end\n",
    "\n",
    "ds = cell_differentiation(3)"
   ]
  },
  {
   "attachments": {},
   "cell_type": "markdown",
   "metadata": {},
   "source": [
    "We then create an `AttractorsViaRecurrences` instance"
   ]
  },
  {
   "cell_type": "code",
   "execution_count": null,
   "metadata": {},
   "outputs": [],
   "source": [
    "grid_cell = ntuple(i -> range(0, 100; length=101), 3)\n",
    "\n",
    "mapper = AttractorsViaRecurrences(\n",
    "    ds, grid_cell; maximum_iterations = Int(1e9)\n",
    ")"
   ]
  },
  {
   "attachments": {},
   "cell_type": "markdown",
   "metadata": {},
   "source": [
    "And now the only thing we need to do to continue these attractors across a parameter range is to initialize a `RecurrencesFindAndMatch` instance with the `mapper`, and give it to the `continuation` function!"
   ]
  },
  {
   "cell_type": "code",
   "execution_count": null,
   "metadata": {},
   "outputs": [],
   "source": [
    "sampler, = statespace_sampler(grid_cell)"
   ]
  },
  {
   "cell_type": "code",
   "execution_count": null,
   "metadata": {},
   "outputs": [],
   "source": [
    "rsc = RecurrencesFindAndMatch(mapper; threshold = Inf)\n",
    "\n",
    "pidx = 1 # index of parameter to change (here Kd)\n",
    "prange = range(1e-2, 1e2; length = 101) # parameter range to scan\n",
    "\n",
    "@time fractions_curves, attractors_info = continuation(\n",
    "    rsc, prange, pidx, sampler;\n",
    "    show_progress = false, samples_per_parameter = 1000\n",
    ")\n",
    "fractions_curves"
   ]
  },
  {
   "attachments": {},
   "cell_type": "markdown",
   "metadata": {},
   "source": [
    "Let's now plot the results we found using one of the provided plotting functions from Attractors.jl:"
   ]
  },
  {
   "cell_type": "code",
   "execution_count": null,
   "metadata": {},
   "outputs": [],
   "source": [
    "# Decide how to plot attractors: go from attractor to real number\n",
    "attractor_to_real = A -> maximum(x[1] for x in A)\n",
    "\n",
    "plot_basins_attractors_curves(fractions_curves, attractors_info, attractor_to_real, prange)"
   ]
  },
  {
   "cell_type": "markdown",
   "metadata": {},
   "source": [
    "## Matching attractors\n",
    "\n",
    "Advanced. Do we have time...?"
   ]
  },
  {
   "cell_type": "markdown",
   "metadata": {},
   "source": [
    "## Sidenote: local bifurcation & continuation"
   ]
  },
  {
   "cell_type": "markdown",
   "metadata": {},
   "source": [
    "In our opinion, the approach of Attractors.jl supercedes the decades-old approach  used in nonlinear dynamics that is the local bifurcation & continuation method on the basis of Newton's algorithm (and more advanced variants). That is, we believe that a practitioner is better off using Attractors.jl most of the time, and only turning to the old approach when e.g., interested in unstable sets, or an automated analysis of structural change of the Jacobian eigenvalues (i.e., a local bifurcation). Traditional continuation analysis in Julia can be done with BifurcationKit.jl, which is not taught as part of these lectures."
   ]
  },
  {
   "cell_type": "markdown",
   "metadata": {},
   "source": [
    "# Other measures of global stability\n",
    "\n",
    "By default, `continuation` continues the attractors and their basin fractions. The basin fractions is the most basic measure of **global stability** (also known as **non-local stability** or **resilience**). But there are other ways to quantify global stability, some of which are also available out of the box.\n",
    "\n",
    "Another typical measure of global stability is the **minimal fatal shock** (MFS), that is, the perturbation of least mangitude we need to do on a state to push the state into a basin of another attractor. In Attractors.jl the function `minimal_fatal_shock` computes this quantity for _any_ dynamical system. This is a huge improvement over the paper that originally introduced the concept, as there it was only possible to compute for a very specific class of dynamical systems.\n",
    "\n",
    "The way `minimal_fatal_shock` works is very simple. Give in a dynamical system, a state `u0` and the function will return the MFS. Let's use this at the cell differention model. We first find all its attractors, and then we find the MFS correpsonding to each attractor."
   ]
  },
  {
   "cell_type": "code",
   "execution_count": null,
   "metadata": {},
   "outputs": [],
   "source": [
    "cell = cell_differentiation(3)\n",
    "set_parameter!(ds, 1, 80.0)\n",
    "mapper_cell = AttractorsViaRecurrences(ds, grid_cell)\n",
    "sampler_cell, = statespace_sampler(grid_cell, 12345)\n",
    "fractions = basins_fractions(mapper_cell, sampler_cell; show_progress = false)\n",
    "attractors = extract_attractors(mapper_cell)"
   ]
  },
  {
   "cell_type": "markdown",
   "metadata": {},
   "source": [
    "Obtain the MFS for each attractor"
   ]
  },
  {
   "cell_type": "code",
   "execution_count": null,
   "metadata": {},
   "outputs": [],
   "source": [
    "search_area = (0.0, 100.0)\n",
    "mfs_algo = MFSBruteForce(1000, 2000, 0.995) # B.B. optimization doesn't work here due to NaNs\n",
    "@time shocks = Dict(\n",
    "    i => minimal_fatal_shock(mapper_cell, A[1], search_area, mfs_algo)\n",
    "    for (i, A) in attractors\n",
    ")"
   ]
  },
  {
   "cell_type": "code",
   "execution_count": null,
   "metadata": {},
   "outputs": [],
   "source": [
    "using LinearAlgebra: norm\n",
    "shock_magnitudes = Dict(i => norm(s) for (i, s) in shocks)"
   ]
  },
  {
   "cell_type": "markdown",
   "metadata": {},
   "source": [
    "# Exercises"
   ]
  },
  {
   "cell_type": "markdown",
   "metadata": {},
   "source": [
    "## Basins of attraction of a fast-slow multistable model"
   ]
  },
  {
   "cell_type": "markdown",
   "metadata": {},
   "source": [
    "The goal of this exercise is to demonstrate that `AttractorsViaRecurrences` is not magic, and has its own limitations. \n",
    "\n",
    "Consider the following (modified) form of the Rozenweig-MacArthur continuous time model for predator-prey dynamics:\n",
    "$$\n",
    "\n",
    "\\begin{align}\n",
    "\\frac{dN}{dt} & = rN\\left(1-\\frac{c}{r}N\\right)\\left(\\frac{N-\\mu}{N+\\nu}\\right) - A \\\\\n",
    "\\frac{dP}{dt} & = \\chi A - \\delta P \\\\\n",
    "A & = \\frac{\\alpha N P}{\\beta + N} \n",
    "\\end{align}\n",
    "$$\n",
    "\n",
    "with initial parameters `p = [2.0, 0.19, 0.03, 0.003, 800, 1.5, 0.004, 2.2] = r, c, μ, ν, α, β, χ, δ`. \n",
    "\n",
    "After creating the dynamical system instance, create a `AttractorViaRecurrences` instance, using the following grid. Set your own choice for `consecutive_recurrences`, which is the keyword that decides how many recurrences we should count before declaring convergence to an attractor.\n",
    "\n",
    "```julia\n",
    "density = 101\n",
    "xg = range(-0.1, 20; length = density)\n",
    "yg = range(-0.0001, 0.03; length = density)\n",
    "grid = (xg, yg)\n",
    "\n",
    "mapper = AttractorsViaRecurrences(\n",
    "    ds, grid;\n",
    "    consecutive_recurrences = YOUR_CHOICE, Δt = 0.01,\n",
    ")\n",
    "```\n",
    "\n",
    "Then, use the function `basins_of_attraction` to estimate the basins of attraction.\n",
    "For estimating the basins, avoid initial conditions with ≤ 0 values, i.e., use \n",
    "```julia\n",
    "basinsgrid = (xg[2:end], yg[2:end])\n",
    "basins, attractors = basins_of_attraction(mapper, basinsgrid)\n",
    "```\n",
    "You may visualize these results using \n",
    "```julia\n",
    "fig = heatmap_basins_attractors(basinsgrid, basins, attractors)\n",
    "```\n",
    "\n",
    "Repeat this calculation while varying `consecutive_recurrences`. You will notice that for low values of `consecutive_recurrences` the computation fails with an informative error. Can you understand why? Use the `interactive_evolution` application of DynamicalSystems.jl and evolve some initial conditions to help you comprehend the problem."
   ]
  },
  {
   "attachments": {},
   "cell_type": "markdown",
   "metadata": {},
   "source": [
    "## Continuation of basins fractions and Hopf bifurcation identification"
   ]
  },
  {
   "attachments": {},
   "cell_type": "markdown",
   "metadata": {},
   "source": [
    "Continue from the previous exercise. To ensure accurate attractor identification, use the following keywords for `AttractorsViaRecurrences`\n",
    "```julia\n",
    "consecutive_recurrences = 5000, Δt = 0.1,\n",
    "force_non_adaptive = true, Ttr = 100.0,\n",
    "```\n",
    "Use the `continuation` function to continue attractors and their fractions across the parameter range `r = 1` to `2`. Use the `statespace_sampler` function to generate random initial conditions in the `basinsgrid` you defined above. Plot the fractions of basins of attraction versus the parameter range, and the attractor value, using the following function to map attractors to real numbers:\n",
    "```julia\n",
    "using Statistics: mean\n",
    "attractor_to_real = A -> mean(x[1] for x in A)\n",
    "```\n",
    "\n",
    "The solution of the exercise should be that you have only two attractors and the fractions of their basins are approximately 50% all the time.\n",
    "\n",
    "One of the two attractors is a fixed point that becomes a limit cycle, i.e., it undergoes a Hopf bifurcation. Find the parameter value where this occurs by analyzing the attractors corresponding to the ID of the \"fixed point -> limit cycle\" attractor. Identify the bifurcation point by checking when then `length` of the attractor becomes larger than 1. (this means, the attractor spans more than 1 cells in the tesselated state space)"
   ]
  },
  {
   "cell_type": "markdown",
   "metadata": {},
   "source": [
    "## Minimal fatal shock for generic attractors\n",
    "\n",
    "The minimal fatal shock (MFS) concept was originally defined for fixed point attractors. For limit cycles or chaotic attractors the concept is less useful as there is no specific state on the attractor from which it is the most relevant to obtain the MFS. In such cases one would have to obtain MFSs for many points on the attractor. This exercise is about doing exactly that!\n",
    "\n",
    "Continue from the above definition of the Thomas cyclical system with parameter `b = 0.16`. Obtain any of the three attractors of the system by doing `id = mapper([1, 2, 3.0])`, and then `A = extract_attractors(mapper)[id]`. Calculate the MFS for various states on the attractor `A` and collect all these MFSs in a vector. What is the average shock magnitude? Plot a scatter plot of the shock mangitude on the attractor (i.e., scatterplot the points of `A` while assigning as color the mangitude of the corresponding MFS).\n"
   ]
  }
 ],
 "metadata": {
  "kernelspec": {
   "display_name": "Julia 1.9.1",
   "language": "julia",
   "name": "julia-1.9"
  },
  "language_info": {
   "file_extension": ".jl",
   "mimetype": "application/julia",
   "name": "julia",
   "version": "1.9.1"
  },
  "orig_nbformat": 4
 },
 "nbformat": 4,
 "nbformat_minor": 2
}
