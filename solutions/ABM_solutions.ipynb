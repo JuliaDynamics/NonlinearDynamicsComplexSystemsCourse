{
 "cells": [
  {
   "cell_type": "markdown",
   "id": "0d23892d",
   "metadata": {},
   "source": [
    "# Exercises solutions\n",
    "\n",
    "To set up an ABM simulation in Agents.jl, a user only needs to follow these steps:\n",
    "\n",
    "1. **Choose** the kind of **space** that the agents will live in.\n",
    "\n",
    "2. **Define** the **agent type** (or types, for mixed models) of the ABM.\n",
    "\n",
    "3. **Define** the **model** within an Agents.jl simulation by using its universal structure `AgentBasedModel`.\n",
    "\n",
    "4. Provide the **time evolution functions** of the ABM.\n",
    "\n",
    "5. **Collect data**.\n",
    "\n",
    "6. **Visualise** the model's time evolution.\n",
    "\n",
    "## 1. Wright-Fisher model\n",
    "\n",
    "### Neutral model\n",
    "\n",
    "1. **Choose** the kind of **space** that the agents will live in.\n",
    "\n",
    "There is no spatial structure, so we do not need to define it\n",
    "\n",
    "2. **Define** the **agent type** (or types, for mixed models) of the ABM.\n",
    "\n",
    "The agents are haploid individuals that have a `trait` property, which will represent the fitness of the agent on a range from 0 to 1. Given that there is no spatial structure, the agents will be `NoSpaceAgent`."
   ]
  },
  {
   "cell_type": "code",
   "execution_count": 1,
   "id": "491e7144",
   "metadata": {},
   "outputs": [],
   "source": [
    "using Agents, Random"
   ]
  },
  {
   "cell_type": "code",
   "execution_count": 2,
   "id": "a15d4205",
   "metadata": {},
   "outputs": [],
   "source": [
    "@agent Haploid NoSpaceAgent begin\n",
    "    trait::Float64\n",
    "end"
   ]
  },
  {
   "cell_type": "markdown",
   "id": "f75b4bf2",
   "metadata": {},
   "source": [
    "3. **Define** the **model** within an Agents.jl simulation by using its universal structure `AgentBasedModel`.\n",
    "\n",
    "We define the model with a seeded random number generator to make our simulation reproducible.\n",
    "\n",
    "The agents will be activated randomly."
   ]
  },
  {
   "cell_type": "code",
   "execution_count": 3,
   "id": "cd0c19f7",
   "metadata": {},
   "outputs": [
    {
     "data": {
      "text/plain": [
       "StandardABM with 0 agents of type Haploid\n",
       " space: nothing (no spatial structure)\n",
       " scheduler: randomly"
      ]
     },
     "execution_count": 3,
     "metadata": {},
     "output_type": "execute_result"
    }
   ],
   "source": [
    "seed = 23182\n",
    "rng = MersenneTwister(seed)\n",
    "\n",
    "model = AgentBasedModel(Haploid; rng, scheduler = Schedulers.randomly)"
   ]
  },
  {
   "cell_type": "markdown",
   "id": "b1801055",
   "metadata": {},
   "source": [
    "We have created the model but it is not populated with agents. Therefore, we will create an `initialize_model` function to populate the model.\n",
    "\n",
    "We would like for our model to have the property `population_size` to freely modify the amount of individuals in the population.\n",
    "\n",
    "To add agents to the model we will use `add_agent!([, pos], model, args...)`. It creates and adds a new agent to the model using the constructor of the agent type of the model. This function takes care of setting the agent's `id` and `position`. The extra `args` are propagated to other fields of the agent constructor. If the position of the agent is not given, the agent is added to a random position."
   ]
  },
  {
   "cell_type": "code",
   "execution_count": 4,
   "id": "6d82be0b",
   "metadata": {},
   "outputs": [
    {
     "data": {
      "text/plain": [
       "StandardABM with 100 agents of type Haploid\n",
       " space: nothing (no spatial structure)\n",
       " scheduler: randomly"
      ]
     },
     "execution_count": 4,
     "metadata": {},
     "output_type": "execute_result"
    }
   ],
   "source": [
    "function initialize_model(;\n",
    "    population_size = 100,\n",
    "    #prng\n",
    "    seed = 23182,\n",
    "    )\n",
    "    \n",
    "    rng = MersenneTwister(seed)\n",
    "    \n",
    "    #model\n",
    "    model = AgentBasedModel(Haploid; rng, scheduler = Schedulers.randomly)\n",
    "    \n",
    "    #Add agents to the model with a random value for the trait\n",
    "    for _ in 1:population_size\n",
    "        add_agent!(model, rand(model.rng))\n",
    "    end\n",
    "    \n",
    "    return model\n",
    "end\n",
    "\n",
    "neutralmodel = initialize_model()"
   ]
  },
  {
   "cell_type": "markdown",
   "id": "b1c70325",
   "metadata": {},
   "source": [
    "4. Provide the **time evolution functions** of the ABM.\n",
    "\n",
    "To create a new generation, we can use the `sample!` function. It choose random individuals with replacement from the current individuals and updates the model.\n",
    "\n",
    "`sample!(model::ABM, n [, weight]; kwargs...)`\n",
    "\n",
    "It replaces the agents of the model with a random sample of the current agents with size `n`.\n",
    "* `weight`: Symbol (agent field) or function to weight the sampling. This means that the higher the weight of the agent, the higher the probability that this agent will be chosen in the new sampling.\n",
    "\n",
    "We will also use the function `nagents(model)` to obtain the number of agents in the model.\n",
    "\n",
    "*Note:*\n",
    "To run the model for many generations and to collect the average trait value of the population, we will use a model-step function that utilizes `sample!`. There will not be an specifically defined agent-step function, therefore we will use `dummystep`."
   ]
  },
  {
   "cell_type": "code",
   "execution_count": 5,
   "id": "e296f511",
   "metadata": {},
   "outputs": [
    {
     "data": {
      "text/plain": [
       "modelstep_neutral! (generic function with 1 method)"
      ]
     },
     "execution_count": 5,
     "metadata": {},
     "output_type": "execute_result"
    }
   ],
   "source": [
    "modelstep_neutral!(model::ABM) = sample!(model, nagents(model))"
   ]
  },
  {
   "cell_type": "markdown",
   "id": "0134f48f",
   "metadata": {},
   "source": [
    "We would like to collect the average trait value of the population and then visualise how it evolves over 1000 steps. \n",
    "\n",
    "5. **Collect data**.\n",
    "\n",
    "To calculate the mean we will use the package `Statistics`.\n",
    "\n",
    "\n",
    "To collect data, we should specify the data we want to collect by providing one standard Julia `Vector`of data-to-collect for agents. Running the model and collecting data while the model runs is done with the `run!` function. The agent data names are given as the keyword `adata` and the model as keyword `mdata` to the function `run!`. This function outputs collected data in the form of a `DataFrame`.\n",
    "\n",
    "`run!(model, agent_step!, model_step!, n::Function; kwargs...) → agent_df, model_df`\n",
    "* `adata::Vector{<:Tuple}`: if `adata` is a vector of tuples, data aggregation is done over the agent properties. For each 2-tuple, the first entry is the \"key\" (any entry like the ones mentioned above, e.g. `:weight, `). The second entry is an aggregating function that aggregates the key, e.g. `mean`,`maximum`. So, continuing from the above example, we would have `adata = [(:weight, mean), (f, maximum)]`"
   ]
  },
  {
   "cell_type": "code",
   "execution_count": 6,
   "id": "889b5a4b",
   "metadata": {},
   "outputs": [],
   "source": [
    "using Statistics"
   ]
  },
  {
   "cell_type": "code",
   "execution_count": 7,
   "id": "c011ae27",
   "metadata": {},
   "outputs": [
    {
     "data": {
      "text/plain": [
       "(\u001b[1m1001×2 DataFrame\u001b[0m\n",
       "\u001b[1m  Row \u001b[0m│\u001b[1m step  \u001b[0m\u001b[1m mean_trait \u001b[0m\n",
       "      │\u001b[90m Int64 \u001b[0m\u001b[90m Float64    \u001b[0m\n",
       "──────┼───────────────────\n",
       "    1 │     0    0.448785\n",
       "    2 │     1    0.408471\n",
       "    3 │     2    0.435391\n",
       "    4 │     3    0.47503\n",
       "    5 │     4    0.481061\n",
       "    6 │     5    0.493968\n",
       "    7 │     6    0.508151\n",
       "    8 │     7    0.504515\n",
       "    9 │     8    0.501417\n",
       "   10 │     9    0.546989\n",
       "   11 │    10    0.579801\n",
       "  ⋮   │   ⋮        ⋮\n",
       "  992 │   991    0.50456\n",
       "  993 │   992    0.50456\n",
       "  994 │   993    0.50456\n",
       "  995 │   994    0.50456\n",
       "  996 │   995    0.50456\n",
       "  997 │   996    0.50456\n",
       "  998 │   997    0.50456\n",
       "  999 │   998    0.50456\n",
       " 1000 │   999    0.50456\n",
       " 1001 │  1000    0.50456\n",
       "\u001b[36m          980 rows omitted\u001b[0m, \u001b[1m0×0 DataFrame\u001b[0m)"
      ]
     },
     "execution_count": 7,
     "metadata": {},
     "output_type": "execute_result"
    }
   ],
   "source": [
    "neutralmodel = initialize_model()\n",
    "steps = 1000\n",
    "adata = [(:trait, mean)]\n",
    "adf, _ = run!(neutralmodel, dummystep, modelstep_neutral!, steps; adata)"
   ]
  },
  {
   "cell_type": "markdown",
   "id": "1ecce449",
   "metadata": {},
   "source": [
    "6. **Visualise** the model's time evolution.\n",
    "\n",
    "We will use the package `CairoMakie` to plot the evolution of the average trait."
   ]
  },
  {
   "cell_type": "code",
   "execution_count": 8,
   "id": "cbf1bab9",
   "metadata": {},
   "outputs": [],
   "source": [
    "using CairoMakie"
   ]
  },
  {
   "cell_type": "code",
   "execution_count": 9,
   "id": "77dd2d6f",
   "metadata": {},
   "outputs": [
    {
     "data": {
      "image/png": "[encoded data removed]",
      "text/plain": [
       "Figure()"
      ]
     },
     "execution_count": 9,
     "metadata": {},
     "output_type": "execute_result"
    }
   ],
   "source": [
    "function plot_population_trait_average(adf)\n",
    "    figure = Figure(resolution = (600, 400))\n",
    "    ax = figure[1, 1] = Axis(figure; xlabel = \"Step\", ylabel = \"Average trait\")\n",
    "    avg_trait = lines!(ax, adf.step, adf.mean_trait)\n",
    "    figure[1, 2] = Legend(figure, [avg_trait], [\"Average Trait\"])\n",
    "    figure\n",
    "end\n",
    "\n",
    "plot_population_trait_average(adf)"
   ]
  },
  {
   "cell_type": "markdown",
   "id": "304cf66b",
   "metadata": {},
   "source": [
    "We can observe that the average trait converges to 0.5 for the neutral model. We will now add selection to the model."
   ]
  },
  {
   "cell_type": "markdown",
   "id": "020080e2",
   "metadata": {},
   "source": [
    "## Model with selection\n",
    "\n",
    "To add selection we just need to sample individuals according to their trait values. We assume that their fitness is correlated with their trait values.\n",
    "\n",
    "Therefore, we just need to create a new model-step function."
   ]
  },
  {
   "cell_type": "code",
   "execution_count": 10,
   "id": "277cdb05",
   "metadata": {},
   "outputs": [
    {
     "data": {
      "text/plain": [
       "modelstep_selection! (generic function with 1 method)"
      ]
     },
     "execution_count": 10,
     "metadata": {},
     "output_type": "execute_result"
    }
   ],
   "source": [
    "modelstep_selection!(model::ABM) = sample!(model, nagents(model), :trait)"
   ]
  },
  {
   "cell_type": "code",
   "execution_count": 11,
   "id": "54e52e3e",
   "metadata": {},
   "outputs": [
    {
     "data": {
      "text/plain": [
       "(\u001b[1m1001×2 DataFrame\u001b[0m\n",
       "\u001b[1m  Row \u001b[0m│\u001b[1m step  \u001b[0m\u001b[1m mean_trait \u001b[0m\n",
       "      │\u001b[90m Int64 \u001b[0m\u001b[90m Float64    \u001b[0m\n",
       "──────┼───────────────────\n",
       "    1 │     0    0.448785\n",
       "    2 │     1    0.581041\n",
       "    3 │     2    0.670889\n",
       "    4 │     3    0.7511\n",
       "    5 │     4    0.818912\n",
       "    6 │     5    0.827981\n",
       "    7 │     6    0.874611\n",
       "    8 │     7    0.902536\n",
       "    9 │     8    0.929099\n",
       "   10 │     9    0.932302\n",
       "   11 │    10    0.932494\n",
       "  ⋮   │   ⋮        ⋮\n",
       "  992 │   991    0.985459\n",
       "  993 │   992    0.985459\n",
       "  994 │   993    0.985459\n",
       "  995 │   994    0.985459\n",
       "  996 │   995    0.985459\n",
       "  997 │   996    0.985459\n",
       "  998 │   997    0.985459\n",
       "  999 │   998    0.985459\n",
       " 1000 │   999    0.985459\n",
       " 1001 │  1000    0.985459\n",
       "\u001b[36m          980 rows omitted\u001b[0m, \u001b[1m0×0 DataFrame\u001b[0m)"
      ]
     },
     "execution_count": 11,
     "metadata": {},
     "output_type": "execute_result"
    }
   ],
   "source": [
    "model_with_selection = initialize_model()\n",
    "steps = 1000\n",
    "adata = [(:trait, mean)]\n",
    "adf, _ = run!(model_with_selection, dummystep, modelstep_selection!, steps; adata)"
   ]
  },
  {
   "cell_type": "code",
   "execution_count": 12,
   "id": "a70fcbf5",
   "metadata": {},
   "outputs": [
    {
     "data": {
      "image/png": "[encoded data removed]",
      "text/plain": [
       "Figure()"
      ]
     },
     "execution_count": 12,
     "metadata": {},
     "output_type": "execute_result"
    }
   ],
   "source": [
    "plot_population_trait_average(adf)"
   ]
  },
  {
   "cell_type": "markdown",
   "id": "ceb81bb7",
   "metadata": {},
   "source": [
    "For the model with selection, the trait average converges to 1. This is expected because agents with higher traits have a higher probability of being sample for the next generation."
   ]
  },
  {
   "cell_type": "code",
   "execution_count": null,
   "id": "c6f1d269",
   "metadata": {},
   "outputs": [],
   "source": []
  }
 ],
 "metadata": {
  "kernelspec": {
   "display_name": "Julia 1.8.5",
   "language": "julia",
   "name": "julia-1.8"
  },
  "language_info": {
   "file_extension": ".jl",
   "mimetype": "application/julia",
   "name": "julia",
   "version": "1.8.5"
  }
 },
 "nbformat": 4,
 "nbformat_minor": 5
}
