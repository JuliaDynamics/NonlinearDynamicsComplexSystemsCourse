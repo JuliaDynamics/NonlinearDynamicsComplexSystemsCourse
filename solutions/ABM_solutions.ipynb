{
 "cells": [
  {
   "cell_type": "markdown",
   "id": "0d23892d",
   "metadata": {},
   "source": [
    "# Exercises solutions\n",
    "\n",
    "To set up an ABM simulation in Agents.jl, a user only needs to follow these steps:\n",
    "\n",
    "1. **Choose** the kind of **space** that the agents will live in.\n",
    "\n",
    "2. **Define** the **agent type** (or types, for mixed models) of the ABM.\n",
    "\n",
    "3. **Define** the **model** within an Agents.jl simulation by using its universal structure `AgentBasedModel`.\n",
    "\n",
    "4. Provide the **time evolution functions** of the ABM.\n",
    "\n",
    "5. **Collect data**.\n",
    "\n",
    "6. **Visualise** the model's time evolution.\n",
    "\n",
    "## 1. Wright-Fisher model\n",
    "\n",
    "### Neutral model\n",
    "\n",
    "1. **Choose** the kind of **space** that the agents will live in.\n",
    "\n",
    "There is no spatial structure, so we do not need to define it\n",
    "\n",
    "2. **Define** the **agent type** (or types, for mixed models) of the ABM.\n",
    "\n",
    "The agents are haploid individuals that have a `trait` property, which will represent the fitness of the agent on a range from 0 to 1. Given that there is no spatial structure, the agents will be `NoSpaceAgent`."
   ]
  },
  {
   "cell_type": "code",
   "execution_count": 1,
   "id": "491e7144",
   "metadata": {},
   "outputs": [],
   "source": [
    "using Agents, Random"
   ]
  },
  {
   "cell_type": "code",
   "execution_count": 2,
   "id": "a15d4205",
   "metadata": {},
   "outputs": [],
   "source": [
    "@agent Haploid NoSpaceAgent begin\n",
    "    trait::Float64\n",
    "end"
   ]
  },
  {
   "cell_type": "markdown",
   "id": "f75b4bf2",
   "metadata": {},
   "source": [
    "3. **Define** the **model** within an Agents.jl simulation by using its universal structure `AgentBasedModel`.\n",
    "\n",
    "We define the model with a seeded random number generator to make our simulation reproducible.\n",
    "\n",
    "The agents will be activated randomly."
   ]
  },
  {
   "cell_type": "code",
   "execution_count": 3,
   "id": "cd0c19f7",
   "metadata": {},
   "outputs": [
    {
     "data": {
      "text/plain": [
       "StandardABM with 0 agents of type Haploid\n",
       " space: nothing (no spatial structure)\n",
       " scheduler: randomly"
      ]
     },
     "execution_count": 3,
     "metadata": {},
     "output_type": "execute_result"
    }
   ],
   "source": [
    "seed = 23182\n",
    "rng = MersenneTwister(seed)\n",
    "\n",
    "model = AgentBasedModel(Haploid; rng, scheduler = Schedulers.randomly)"
   ]
  },
  {
   "cell_type": "markdown",
   "id": "b1801055",
   "metadata": {},
   "source": [
    "We have created the model but it is not populated with agents. Therefore, we will create an `initialize_model` function to populate the model.\n",
    "\n",
    "We would like for our model to have the property `population_size` to freely modify the amount of individuals in the population.\n",
    "\n",
    "To add agents to the model we will use `add_agent!([, pos], model, args...)`. It creates and adds a new agent to the model using the constructor of the agent type of the model. This function takes care of setting the agent's `id` and `position`. The extra `args` are propagated to other fields of the agent constructor. If the position of the agent is not given, the agent is added to a random position."
   ]
  },
  {
   "cell_type": "code",
   "execution_count": 4,
   "id": "6d82be0b",
   "metadata": {},
   "outputs": [
    {
     "data": {
      "text/plain": [
       "StandardABM with 100 agents of type Haploid\n",
       " space: nothing (no spatial structure)\n",
       " scheduler: randomly"
      ]
     },
     "execution_count": 4,
     "metadata": {},
     "output_type": "execute_result"
    }
   ],
   "source": [
    "function initialize_model(;\n",
    "    population_size = 100,\n",
    "    #prng\n",
    "    seed = 23182,\n",
    "    )\n",
    "    \n",
    "    rng = MersenneTwister(seed)\n",
    "    \n",
    "    #model\n",
    "    model = AgentBasedModel(Haploid; rng, scheduler = Schedulers.randomly)\n",
    "    \n",
    "    #Add agents to the model with a random value for the trait\n",
    "    for _ in 1:population_size\n",
    "        add_agent!(model, rand(model.rng))\n",
    "    end\n",
    "    \n",
    "    return model\n",
    "end\n",
    "\n",
    "neutralmodel = initialize_model()"
   ]
  },
  {
   "cell_type": "markdown",
   "id": "b1c70325",
   "metadata": {},
   "source": [
    "4. Provide the **time evolution functions** of the ABM.\n",
    "\n",
    "To create a new generation, we can use the `sample!` function. It choose random individuals with replacement from the current individuals and updates the model.\n",
    "\n",
    "`sample!(model::ABM, n [, weight]; kwargs...)`\n",
    "\n",
    "It replaces the agents of the model with a random sample of the current agents with size `n`.\n",
    "* `weight`: Symbol (agent field) or function to weight the sampling. This means that the higher the weight of the agent, the higher the probability that this agent will be chosen in the new sampling.\n",
    "\n",
    "We will also use the function `nagents(model)` to obtain the number of agents in the model.\n",
    "\n",
    "*Note:*\n",
    "To run the model for many generations and to collect the average trait value of the population, we will use a model-step function that utilizes `sample!`. There will not be an specifically defined agent-step function, therefore we will use `dummystep`."
   ]
  },
  {
   "cell_type": "code",
   "execution_count": 5,
   "id": "e296f511",
   "metadata": {},
   "outputs": [
    {
     "data": {
      "text/plain": [
       "modelstep_neutral! (generic function with 1 method)"
      ]
     },
     "execution_count": 5,
     "metadata": {},
     "output_type": "execute_result"
    }
   ],
   "source": [
    "modelstep_neutral!(model::ABM) = sample!(model, nagents(model))"
   ]
  },
  {
   "cell_type": "markdown",
   "id": "93e93633",
   "metadata": {},
   "source": [
    "We would like to collect the average trait value of the population and then visualise how it evolves over 1000 steps. \n",
    "\n",
    "5. **Collect data**.\n",
    "\n",
    "To calculate the mean we will use the package `Statistics`.\n",
    "\n",
    "\n",
    "To collect data, we should specify the data we want to collect by providing one standard Julia `Vector`of data-to-collect for agents. Running the model and collecting data while the model runs is done with the `run!` function. The agent data names are given as the keyword `adata` and the model as keyword `mdata` to the function `run!`. This function outputs collected data in the form of a `DataFrame`.\n",
    "\n",
    "`run!(model, agent_step!, model_step!, n::Function; kwargs...) → agent_df, model_df`\n",
    "* `adata::Vector{<:Tuple}`: if `adata` is a vector of tuples, data aggregation is done over the agent properties. For each 2-tuple, the first entry is the \"key\" (any entry like the ones mentioned above, e.g. `:weight, `). The second entry is an aggregating function that aggregates the key, e.g. `mean`,`maximum`. So, continuing from the above example, we would have `adata = [(:weight, mean), (f, maximum)]`"
   ]
  },
  {
   "cell_type": "code",
   "execution_count": 6,
   "id": "34588ff9",
   "metadata": {},
   "outputs": [],
   "source": [
    "using Statistics"
   ]
  },
  {
   "cell_type": "code",
   "execution_count": 7,
   "id": "fb50cb01",
   "metadata": {},
   "outputs": [
    {
     "data": {
      "text/plain": [
       "(\u001b[1m1001×2 DataFrame\u001b[0m\n",
       "\u001b[1m  Row \u001b[0m│\u001b[1m step  \u001b[0m\u001b[1m mean_trait \u001b[0m\n",
       "      │\u001b[90m Int64 \u001b[0m\u001b[90m Float64    \u001b[0m\n",
       "──────┼───────────────────\n",
       "    1 │     0    0.448785\n",
       "    2 │     1    0.408471\n",
       "    3 │     2    0.435391\n",
       "    4 │     3    0.47503\n",
       "    5 │     4    0.481061\n",
       "    6 │     5    0.493968\n",
       "    7 │     6    0.508151\n",
       "    8 │     7    0.504515\n",
       "    9 │     8    0.501417\n",
       "   10 │     9    0.546989\n",
       "   11 │    10    0.579801\n",
       "  ⋮   │   ⋮        ⋮\n",
       "  992 │   991    0.50456\n",
       "  993 │   992    0.50456\n",
       "  994 │   993    0.50456\n",
       "  995 │   994    0.50456\n",
       "  996 │   995    0.50456\n",
       "  997 │   996    0.50456\n",
       "  998 │   997    0.50456\n",
       "  999 │   998    0.50456\n",
       " 1000 │   999    0.50456\n",
       " 1001 │  1000    0.50456\n",
       "\u001b[36m          980 rows omitted\u001b[0m, \u001b[1m0×0 DataFrame\u001b[0m)"
      ]
     },
     "execution_count": 7,
     "metadata": {},
     "output_type": "execute_result"
    }
   ],
   "source": [
    "neutralmodel = initialize_model()\n",
    "steps = 1000\n",
    "adata = [(:trait, mean)]\n",
    "adf, _ = run!(neutralmodel, dummystep, modelstep_neutral!, steps; adata)"
   ]
  },
  {
   "cell_type": "markdown",
   "id": "951b13f4",
   "metadata": {},
   "source": [
    "6. **Visualise** the model's time evolution.\n",
    "\n",
    "We will use the package `CairoMakie` to plot the evolution of the average trait."
   ]
  },
  {
   "cell_type": "code",
   "execution_count": 8,
   "id": "018a8635",
   "metadata": {},
   "outputs": [],
   "source": [
    "using CairoMakie"
   ]
  },
  {
   "cell_type": "code",
   "execution_count": 9,
   "id": "916e9913",
   "metadata": {},
   "outputs": [
    {
     "data": {
      "image/png": "[encoded data removed]",
      "text/plain": [
       "Figure()"
      ]
     },
     "execution_count": 9,
     "metadata": {},
     "output_type": "execute_result"
    }
   ],
   "source": [
    "function plot_population_trait_average(adf)\n",
    "    figure = Figure(resolution = (600, 400))\n",
    "    ax = figure[1, 1] = Axis(figure; xlabel = \"Step\", ylabel = \"Average trait\")\n",
    "    avg_trait = lines!(ax, adf.step, adf.mean_trait)\n",
    "    figure[1, 2] = Legend(figure, [avg_trait], [\"Average Trait\"])\n",
    "    figure\n",
    "end\n",
    "\n",
    "plot_population_trait_average(adf)"
   ]
  },
  {
   "cell_type": "markdown",
   "id": "2d95c217",
   "metadata": {},
   "source": [
    "We can observe that the average trait converges to 0.5 for the neutral model. We will now add selection to the model."
   ]
  },
  {
   "cell_type": "markdown",
   "id": "3caff0ca",
   "metadata": {},
   "source": [
    "## Model with selection\n",
    "\n",
    "To add selection we just need to sample individuals according to their trait values. We assume that their fitness is correlated with their trait values.\n",
    "\n",
    "Therefore, we just need to create a new model-step function."
   ]
  },
  {
   "cell_type": "code",
   "execution_count": 10,
   "id": "a5f7beb2",
   "metadata": {},
   "outputs": [
    {
     "data": {
      "text/plain": [
       "modelstep_selection! (generic function with 1 method)"
      ]
     },
     "execution_count": 10,
     "metadata": {},
     "output_type": "execute_result"
    }
   ],
   "source": [
    "modelstep_selection!(model::ABM) = sample!(model, nagents(model), :trait)"
   ]
  },
  {
   "cell_type": "code",
   "execution_count": 11,
   "id": "655fd465",
   "metadata": {},
   "outputs": [
    {
     "data": {
      "text/plain": [
       "(\u001b[1m1001×2 DataFrame\u001b[0m\n",
       "\u001b[1m  Row \u001b[0m│\u001b[1m step  \u001b[0m\u001b[1m mean_trait \u001b[0m\n",
       "      │\u001b[90m Int64 \u001b[0m\u001b[90m Float64    \u001b[0m\n",
       "──────┼───────────────────\n",
       "    1 │     0    0.448785\n",
       "    2 │     1    0.581041\n",
       "    3 │     2    0.670889\n",
       "    4 │     3    0.7511\n",
       "    5 │     4    0.818912\n",
       "    6 │     5    0.827981\n",
       "    7 │     6    0.874611\n",
       "    8 │     7    0.902536\n",
       "    9 │     8    0.929099\n",
       "   10 │     9    0.932302\n",
       "   11 │    10    0.932494\n",
       "  ⋮   │   ⋮        ⋮\n",
       "  992 │   991    0.985459\n",
       "  993 │   992    0.985459\n",
       "  994 │   993    0.985459\n",
       "  995 │   994    0.985459\n",
       "  996 │   995    0.985459\n",
       "  997 │   996    0.985459\n",
       "  998 │   997    0.985459\n",
       "  999 │   998    0.985459\n",
       " 1000 │   999    0.985459\n",
       " 1001 │  1000    0.985459\n",
       "\u001b[36m          980 rows omitted\u001b[0m, \u001b[1m0×0 DataFrame\u001b[0m)"
      ]
     },
     "execution_count": 11,
     "metadata": {},
     "output_type": "execute_result"
    }
   ],
   "source": [
    "model_with_selection = initialize_model()\n",
    "steps = 1000\n",
    "adata = [(:trait, mean)]\n",
    "adf, _ = run!(model_with_selection, dummystep, modelstep_selection!, steps; adata)"
   ]
  },
  {
   "cell_type": "code",
   "execution_count": 12,
   "id": "94a3e0d6",
   "metadata": {},
   "outputs": [
    {
     "data": {
      "image/png": "[encoded data removed]",
      "text/plain": [
       "Figure()"
      ]
     },
     "execution_count": 12,
     "metadata": {},
     "output_type": "execute_result"
    }
   ],
   "source": [
    "plot_population_trait_average(adf)"
   ]
  },
  {
   "cell_type": "markdown",
   "id": "c683e2a7",
   "metadata": {},
   "source": [
    "For the model with selection, the trait average converges to 1. This is expected because agents with higher traits have a higher probability of being sample for the next generation."
   ]
  },
  {
   "cell_type": "markdown",
   "id": "e5adf663",
   "metadata": {},
   "source": [
    "## Spatial Rock-Paper-Scissors\n",
    "\n",
    "The code implements the model described in [Reichenbach, T., Mobilia, M. & Frey, E. (2007). Mobility promotes and jeopardizes biodiversity in rock-paper-scissors game.](https://www.nature.com/articles/nature06095)\n",
    "\n",
    "1. **Choose** the kind of **space** that the agents will live in.\n",
    "\n",
    "The 3 subpopulations are arranged in a two-dimensional square lattice with periodic boundary conditions. An agent can only interact with its 4 nearest neighbours, therefore we use `metric = :manhattan`."
   ]
  },
  {
   "cell_type": "code",
   "execution_count": 13,
   "id": "0f1e634b",
   "metadata": {},
   "outputs": [],
   "source": [
    "using Agents, Random"
   ]
  },
  {
   "cell_type": "code",
   "execution_count": 14,
   "id": "ab1a5a8e",
   "metadata": {},
   "outputs": [
    {
     "data": {
      "text/plain": [
       "GridSpace with size (50, 50), metric=manhattan, periodic=true"
      ]
     },
     "execution_count": 14,
     "metadata": {},
     "output_type": "execute_result"
    }
   ],
   "source": [
    "dims = (50, 50)\n",
    "space = GridSpace(dims, periodic = true, metric = :manhattan)"
   ]
  },
  {
   "cell_type": "markdown",
   "id": "c163ccfb",
   "metadata": {},
   "source": [
    "2. **Define** the **agent type** (or types, for mixed models) of the ABM.\n"
   ]
  },
  {
   "cell_type": "code",
   "execution_count": 15,
   "id": "576ddab2",
   "metadata": {},
   "outputs": [
    {
     "data": {
      "text/plain": [
       "Scissors (generic function with 1 method)"
      ]
     },
     "execution_count": 15,
     "metadata": {},
     "output_type": "execute_result"
    }
   ],
   "source": [
    "@agent Strategy GridAgent{2} begin\n",
    "    #:rock, :paper or :scissors\n",
    "    type::Symbol\n",
    "end\n",
    "    \n",
    "Rock(id, pos) = Strategy(id, pos, :rock)\n",
    "Paper(id, pos) = Strategy(id, pos, :paper)\n",
    "Scissors(id, pos) = Strategy(id, pos, :scissors)"
   ]
  },
  {
   "cell_type": "markdown",
   "id": "ad7a548a",
   "metadata": {},
   "source": [
    "3. **Define** the **model** within an Agents.jl simulation by using its universal structure `AgentBasedModel`.\n",
    "\n",
    "The selection, reproduction and exchange rate are model properties.\n",
    "\n",
    "We define the model with a seeded random number generator to make our simulation reproducible.\n",
    "\n",
    "The agents will be activated randomly."
   ]
  },
  {
   "cell_type": "code",
   "execution_count": 16,
   "id": "248fcbd7",
   "metadata": {},
   "outputs": [
    {
     "ename": "LoadError",
     "evalue": "UndefVarError: selection_rate not defined",
     "output_type": "error",
     "traceback": [
      "UndefVarError: selection_rate not defined",
      "",
      "Stacktrace:",
      " [1] top-level scope",
      "   @ In[16]:2"
     ]
    }
   ],
   "source": [
    "#model properties\n",
    "properties = (\n",
    "    selection_rate = selection_rate,\n",
    "    reproduction_rate = reproduction_rate,\n",
    "    exchange_rate = exchange_rate,\n",
    ")\n",
    "\n",
    "seed = 23182\n",
    "rng = MersenneTwister(seed)\n",
    "\n",
    "model = AgentBasedModel(Strategy, space; rng, scheduler = Schedulers.randomly)"
   ]
  },
  {
   "cell_type": "markdown",
   "id": "dead9029",
   "metadata": {},
   "source": [
    "We have created the model but it is not populated with agents. Therefore, we will create an `initialize_model` function to populate the model.\n",
    "\n",
    "The parameters of our model will be the number of agents of each type and the reaction rates.\n",
    "\n",
    "To add agents to the model we will use `add_agent!([, pos], model, args...)`. It creates and adds a new agent to the model using the constructor of the agent type of the model. This function takes care of setting the agent's `id` and `position`. The extra `args` are propagated to other fields of the agent constructor. If the position of the agent is not given, the agent is added to a random position.\n",
    "\n",
    "`nextid(model)`: returns a valid `id` for creating a new agent with it.\n",
    "\n",
    "`random_position(model)`: returns a random position in the model's space."
   ]
  },
  {
   "cell_type": "code",
   "execution_count": 17,
   "id": "edf74f9d",
   "metadata": {},
   "outputs": [
    {
     "data": {
      "text/plain": [
       "StandardABM with 2400 agents of type Strategy\n",
       " space: GridSpace with size (50, 50), metric=manhattan, periodic=true\n",
       " scheduler: randomly\n",
       " properties: selection_rate, reproduction_rate, exchange_rate"
      ]
     },
     "execution_count": 17,
     "metadata": {},
     "output_type": "execute_result"
    }
   ],
   "source": [
    "function initialize_model(;\n",
    "    #agents\n",
    "    n_rock = 800,\n",
    "    n_paper = 800,\n",
    "    n_scissors = 800,\n",
    "    #space\n",
    "    dims = (50, 50),\n",
    "    #reaction rates\n",
    "    selection_rate = 1.0,\n",
    "    reproduction_rate = 1.0,\n",
    "    exchange_rate = 0.7, \n",
    "    #prng\n",
    "    seed = 23182,\n",
    "    )\n",
    "    \n",
    "    rng = MersenneTwister(seed)\n",
    "    \n",
    "    #space\n",
    "    space = GridSpace(dims, periodic = true, metric = :manhattan)\n",
    "    \n",
    "    #model properties\n",
    "    properties = (\n",
    "        selection_rate = selection_rate,\n",
    "        reproduction_rate = reproduction_rate,\n",
    "        exchange_rate = exchange_rate,\n",
    "    )\n",
    "    \n",
    "    #model\n",
    "    model = AgentBasedModel(Strategy, space; properties, rng, scheduler = Schedulers.randomly)\n",
    "    \n",
    "    #Add agents to the model to a random position\n",
    "    for _ in 1:n_rock\n",
    "        add_agent_pos!(Rock(nextid(model), random_position(model)), model)\n",
    "    end\n",
    "    \n",
    "    for _ in 1:n_paper\n",
    "        add_agent_pos!(Paper(nextid(model), random_position(model)), model)\n",
    "    end\n",
    "    \n",
    "    for _ in 1:n_scissors\n",
    "        add_agent_pos!(Scissors(nextid(model), random_position(model)), model)\n",
    "    end\n",
    "    \n",
    "    return model\n",
    "end\n",
    "\n",
    "rockpaperscissors = initialize_model()"
   ]
  },
  {
   "cell_type": "markdown",
   "id": "6ad5b166",
   "metadata": {},
   "source": [
    "4. Provide the **time evolution functions** of the ABM.\n",
    "\n",
    "Agents interact with their nearest 4 neighbours through selection or reproduction, both of which reactions occur as Poisson processes at rates $\\sigma$ and $\\mu$.\n",
    "In addition, the model explores the effect of mobility on the diversity of the population via the exchange rate $\\epsilon$.\n",
    "\n",
    "* Selection reflects cyclic dominance: Rock --> Scissors --> Paper --> Rock\n",
    "* Reproduction of individuals is only allowed on empty neighbouring sites, to mimic a finite carrying capacity of the system.\n",
    "* Mobility is represented via $\\epsilon$, this exchange rate represent the likelihood of agents to swap position with a neighbouring individual or hop onto an empty neighbouring site.\n",
    "\n",
    "Overall, the agent step is defined via the Gillespie algorithm."
   ]
  },
  {
   "cell_type": "code",
   "execution_count": 18,
   "id": "17b0a531",
   "metadata": {},
   "outputs": [
    {
     "data": {
      "text/plain": [
       "strategy_step! (generic function with 1 method)"
      ]
     },
     "execution_count": 18,
     "metadata": {},
     "output_type": "execute_result"
    }
   ],
   "source": [
    "function strategy_step!(strategy, model)\n",
    "    #propensities\n",
    "    a1 = model.selection_rate * nagents(model)\n",
    "    a2 = model.reproduction_rate * nagents(model)\n",
    "    a3 = model.exchange_rate * nagents(model)\n",
    "    \n",
    "    #total propensities\n",
    "    a0 = a1 + a2 + a3\n",
    "    \n",
    "    p = rand(model.rng)\n",
    "    if 0 <= p <= a1/a0\n",
    "        selection_RPS!(strategy, model)\n",
    "    elseif a1/a0<= p <(a1+a2)/a0\n",
    "        reproduce!(strategy, model)\n",
    "    elseif (a1+a2)/a0 <= p < 1\n",
    "        swap!(strategy, model)\n",
    "    end\n",
    "end"
   ]
  },
  {
   "cell_type": "code",
   "execution_count": 19,
   "id": "c64ce2d7",
   "metadata": {},
   "outputs": [
    {
     "data": {
      "text/plain": [
       "selection_RPS! (generic function with 1 method)"
      ]
     },
     "execution_count": 19,
     "metadata": {},
     "output_type": "execute_result"
    }
   ],
   "source": [
    "function selection_RPS!(strategy, model)\n",
    "    contender = random_nearby_agent(strategy, model) \n",
    "    if !isnothing(contender)\n",
    "        pos_contender = contender.pos\n",
    "        if strategy.type == :rock && contender.type == :scissors\n",
    "            kill_agent!(contender, model)\n",
    "        elseif strategy.type == :scissors && contender.type == :paper\n",
    "            kill_agent!(contender, model)\n",
    "        elseif strategy.type == :paper && contender.type == :rock\n",
    "            kill_agent!(contender, model)\n",
    "        end\n",
    "    end \n",
    "    return\n",
    "end"
   ]
  },
  {
   "cell_type": "code",
   "execution_count": 20,
   "id": "cfbce0bc",
   "metadata": {},
   "outputs": [
    {
     "data": {
      "text/plain": [
       "reproduce! (generic function with 1 method)"
      ]
     },
     "execution_count": 20,
     "metadata": {},
     "output_type": "execute_result"
    }
   ],
   "source": [
    "function reproduce!(strategy, model)\n",
    "    pos_offspring = positions_empty_neighbours(strategy.pos, model)\n",
    "    if !isnothing(pos_offspring)\n",
    "        id = nextid(model)\n",
    "        offspring =  Strategy(id, pos_offspring[1], strategy.type)\n",
    "        add_agent_pos!(offspring, model)\n",
    "    end\n",
    "    return\n",
    "end"
   ]
  },
  {
   "cell_type": "code",
   "execution_count": 21,
   "id": "b9d007ac",
   "metadata": {},
   "outputs": [
    {
     "data": {
      "text/plain": [
       "positions_empty_neighbours (generic function with 1 method)"
      ]
     },
     "execution_count": 21,
     "metadata": {},
     "output_type": "execute_result"
    }
   ],
   "source": [
    "function positions_empty_neighbours(pos, model)\n",
    "    array_empty_neighbours = Tuple{Int64, Int64}[]\n",
    "    for i in nearby_positions(pos, model)\n",
    "        if isempty(i, model)\n",
    "            push!(array_empty_neighbours, i)  \n",
    "        end\n",
    "    end\n",
    "    \n",
    "    if isempty(array_empty_neighbours)\n",
    "        return nothing\n",
    "    else\n",
    "        return array_empty_neighbours\n",
    "    end  \n",
    "end"
   ]
  },
  {
   "cell_type": "code",
   "execution_count": 22,
   "id": "cbbcee31",
   "metadata": {},
   "outputs": [
    {
     "data": {
      "text/plain": [
       "swap! (generic function with 1 method)"
      ]
     },
     "execution_count": 22,
     "metadata": {},
     "output_type": "execute_result"
    }
   ],
   "source": [
    "function swap!(strategy, model)\n",
    "    rand_pos = random_nearby_position(strategy.pos, model)\n",
    "    \n",
    "    if isempty(rand_pos, model)\n",
    "        move_agent!(strategy, rand_pos, model)\n",
    "    else\n",
    "        strategy_pos = strategy.pos\n",
    "        id = ids_in_position(rand_pos, model)[1]\n",
    "        other_agent = model[id]\n",
    "        move_agent!(strategy, rand_pos, model)\n",
    "        move_agent!(other_agent, strategy_pos, model)   \n",
    "    end\n",
    "    return\n",
    "end"
   ]
  },
  {
   "cell_type": "code",
   "execution_count": 23,
   "id": "eccb7d58",
   "metadata": {},
   "outputs": [
    {
     "data": {
      "text/plain": [
       "random_nearby_position (generic function with 1 method)"
      ]
     },
     "execution_count": 23,
     "metadata": {},
     "output_type": "execute_result"
    }
   ],
   "source": [
    "function random_nearby_position(pos, model)\n",
    "    array_nearby_positions = collect(nearby_positions(pos, model))\n",
    "    \n",
    "    num_neighbours = length(array_nearby_positions)\n",
    "    rand_num = rand(model.rng, 1:num_neighbours)\n",
    "    \n",
    "    return array_nearby_positions[rand_num]\n",
    "end"
   ]
  },
  {
   "cell_type": "markdown",
   "id": "d7ef57cb",
   "metadata": {},
   "source": [
    "6. **Visualise** the model's time evolution.\n",
    "\n",
    "We will animate the evolution of the model via `abmvideo`."
   ]
  },
  {
   "cell_type": "code",
   "execution_count": 24,
   "id": "35d35901",
   "metadata": {},
   "outputs": [],
   "source": [
    "using InteractiveDynamics, CairoMakie"
   ]
  },
  {
   "cell_type": "code",
   "execution_count": 25,
   "id": "6c72eb54",
   "metadata": {},
   "outputs": [
    {
     "data": {
      "text/plain": [
       "(ac = strategycolor, am = :rect)"
      ]
     },
     "execution_count": 25,
     "metadata": {},
     "output_type": "execute_result"
    }
   ],
   "source": [
    "function strategycolor(a)\n",
    "    if a.type == :rock\n",
    "        :blue\n",
    "    elseif a.type == :paper\n",
    "        :yellow\n",
    "    else\n",
    "        :red\n",
    "    end\n",
    "end\n",
    "\n",
    "plotkwargs = (;\n",
    "    ac = strategycolor,\n",
    "    am = :rect,\n",
    ")"
   ]
  },
  {
   "cell_type": "code",
   "execution_count": 26,
   "id": "b8ca2689",
   "metadata": {},
   "outputs": [
    {
     "data": {
      "image/png": "[encoded data removed]",
      "text/plain": [
       "Scene (800px, 600px):\n",
       "  0 Plots\n",
       "  1 Child Scene:\n",
       "    └ Scene (800px, 600px)"
      ]
     },
     "metadata": {},
     "output_type": "display_data"
    }
   ],
   "source": [
    "fig, _ = abmplot(rockpaperscissors;\n",
    "plotkwargs...)\n",
    "\n",
    "display(fig)"
   ]
  },
  {
   "cell_type": "code",
   "execution_count": 27,
   "id": "2f232b36",
   "metadata": {},
   "outputs": [],
   "source": [
    "abmvideo(\n",
    "    \"Rock_Paper_Scissors.mp4\",\n",
    "    rockpaperscissors,\n",
    "    strategy_step!;\n",
    "    frames = 500,\n",
    "    framerate = 8,\n",
    "    title = \"Spatial Rock-Paper-Scissors game\",\n",
    "    plotkwargs...,\n",
    ")"
   ]
  }
 ],
 "metadata": {
  "kernelspec": {
   "display_name": "Julia 1.8.5",
   "language": "julia",
   "name": "julia-1.8"
  },
  "language_info": {
   "file_extension": ".jl",
   "mimetype": "application/julia",
   "name": "julia",
   "version": "1.8.5"
  }
 },
 "nbformat": 4,
 "nbformat_minor": 5
}
